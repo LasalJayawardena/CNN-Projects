{
 "cells": [
  {
   "cell_type": "markdown",
   "metadata": {
    "papermill": {
     "duration": 0.019312,
     "end_time": "2020-12-13T10:34:23.766371",
     "exception": false,
     "start_time": "2020-12-13T10:34:23.747059",
     "status": "completed"
    },
    "tags": []
   },
   "source": [
    "# NFL 1st and Future - Impact Detection using EfficientDet"
   ]
  },
  {
   "cell_type": "markdown",
   "metadata": {
    "papermill": {
     "duration": 0.016396,
     "end_time": "2021-01-17T11:19:48.529720",
     "exception": false,
     "start_time": "2021-01-17T11:19:48.513324",
     "status": "completed"
    },
    "tags": []
   },
   "source": [
    "## Performance Comparison of Similar Models\n",
    "\n",
    "<figure>\n",
    "<img src=\"https://blog.roboflow.com/content/images/2020/06/yolov5-performance.png\" style=\"width:700px\">\n",
    "</figure>\n",
    "\n",
    "Check out the [EfficientDet Research Paper ](https://arxiv.org/pdf/1911.09070.pdf)  "
   ]
  },
  {
   "cell_type": "markdown",
   "id": "0498656f",
   "metadata": {},
   "source": [
    "## EfficientDet Structure\n",
    "![image](https://aihub-storage.s3.ap-northeast-2.amazonaws.com/file/efficientdet.png)"
   ]
  },
  {
   "cell_type": "markdown",
   "metadata": {},
   "source": [
    "### Import Libraries"
   ]
  },
  {
   "cell_type": "code",
   "execution_count": 1,
   "metadata": {
    "_kg_hide-input": true,
    "_kg_hide-output": true,
    "execution": {
     "iopub.execute_input": "2020-12-13T10:34:23.813249Z",
     "iopub.status.busy": "2020-12-13T10:34:23.812314Z",
     "iopub.status.idle": "2020-12-13T10:34:56.449948Z",
     "shell.execute_reply": "2020-12-13T10:34:56.449245Z"
    },
    "papermill": {
     "duration": 32.665364,
     "end_time": "2020-12-13T10:34:56.450104",
     "exception": false,
     "start_time": "2020-12-13T10:34:23.784740",
     "status": "completed"
    },
    "tags": []
   },
   "outputs": [
    {
     "name": "stdout",
     "output_type": "stream",
     "text": [
      "Processing /kaggle/input/nfl-lib/timm-0.1.26-py3-none-any.whl\r\n",
      "Requirement already satisfied: torch>=1.0 in /opt/conda/lib/python3.7/site-packages (from timm==0.1.26) (1.6.0)\r\n",
      "Requirement already satisfied: torchvision in /opt/conda/lib/python3.7/site-packages (from timm==0.1.26) (0.7.0)\r\n",
      "Requirement already satisfied: future in /opt/conda/lib/python3.7/site-packages (from torch>=1.0->timm==0.1.26) (0.18.2)\r\n",
      "Requirement already satisfied: numpy in /opt/conda/lib/python3.7/site-packages (from torch>=1.0->timm==0.1.26) (1.18.5)\r\n",
      "Requirement already satisfied: pillow>=4.1.1 in /opt/conda/lib/python3.7/site-packages (from torchvision->timm==0.1.26) (8.0.1)\r\n",
      "Installing collected packages: timm\r\n",
      "Successfully installed timm-0.1.26\r\n"
     ]
    }
   ],
   "source": [
    "!pip install ../input/nfl-lib/timm-0.1.26-py3-none-any.whl\n",
    "!tar xfz ../input/nfl-lib/pkgs.tgz\n",
    "# for pytorch1.6\n",
    "cmd = \"sed -i -e 's/ \\/ / \\/\\/ /' timm-efficientdet-pytorch/effdet/bench.py\"\n",
    "!$cmd"
   ]
  },
  {
   "cell_type": "code",
   "execution_count": 2,
   "metadata": {
    "_kg_hide-input": true,
    "_kg_hide-output": true,
    "execution": {
     "iopub.execute_input": "2020-12-13T10:34:56.507919Z",
     "iopub.status.busy": "2020-12-13T10:34:56.506845Z",
     "iopub.status.idle": "2020-12-13T10:35:00.772966Z",
     "shell.execute_reply": "2020-12-13T10:35:00.773787Z"
    },
    "papermill": {
     "duration": 4.302152,
     "end_time": "2020-12-13T10:35:00.774008",
     "exception": false,
     "start_time": "2020-12-13T10:34:56.471856",
     "status": "completed"
    },
    "tags": []
   },
   "outputs": [],
   "source": [
    "import sys\n",
    "sys.path.insert(0, \"timm-efficientdet-pytorch\")\n",
    "sys.path.insert(0, \"omegaconf\")\n",
    "\n",
    "import torch\n",
    "import os\n",
    "from datetime import datetime\n",
    "import time\n",
    "import random\n",
    "import cv2\n",
    "import pandas as pd\n",
    "import numpy as np\n",
    "import albumentations as A\n",
    "import matplotlib.pyplot as plt\n",
    "from albumentations.pytorch.transforms import ToTensorV2\n",
    "from sklearn.model_selection import StratifiedKFold\n",
    "from torch.utils.data import Dataset,DataLoader\n",
    "from torch.utils.data.sampler import SequentialSampler, RandomSampler\n",
    "from glob import glob\n",
    "import pandas as pd\n",
    "from effdet import get_efficientdet_config, EfficientDet, DetBenchTrain\n",
    "from effdet.efficientdet import HeadNet\n",
    "from tqdm import tqdm\n",
    "\n",
    "SEED = 42\n",
    "\n",
    "def seed_everything(seed):\n",
    "    random.seed(seed)\n",
    "    os.environ['PYTHONHASHSEED'] = str(seed)\n",
    "    np.random.seed(seed)\n",
    "    torch.manual_seed(seed)\n",
    "    torch.cuda.manual_seed(seed)\n",
    "    torch.backends.cudnn.deterministic = True\n",
    "    torch.backends.cudnn.benchmark = False\n",
    "\n",
    "seed_everything(SEED)"
   ]
  },
  {
   "cell_type": "markdown",
   "metadata": {
    "papermill": {
     "duration": 0.039954,
     "end_time": "2020-12-13T10:35:00.874027",
     "exception": false,
     "start_time": "2020-12-13T10:35:00.834073",
     "status": "completed"
    },
    "tags": []
   },
   "source": [
    "### Data Preparation"
   ]
  },
  {
   "cell_type": "code",
   "execution_count": 3,
   "metadata": {
    "execution": {
     "iopub.execute_input": "2020-12-13T10:35:01.001404Z",
     "iopub.status.busy": "2020-12-13T10:35:01.000361Z",
     "iopub.status.idle": "2020-12-13T10:49:30.839400Z",
     "shell.execute_reply": "2020-12-13T10:49:30.840011Z"
    },
    "papermill": {
     "duration": 869.885395,
     "end_time": "2020-12-13T10:49:30.840204",
     "exception": false,
     "start_time": "2020-12-13T10:35:00.954809",
     "status": "completed"
    },
    "tags": []
   },
   "outputs": [
    {
     "name": "stderr",
     "output_type": "stream",
     "text": [
      "100%|██████████| 2291/2291 [14:20<00:00,  2.66it/s]\n"
     ]
    },
    {
     "data": {
      "text/html": [
       "<div>\n",
       "<style scoped>\n",
       "    .dataframe tbody tr th:only-of-type {\n",
       "        vertical-align: middle;\n",
       "    }\n",
       "\n",
       "    .dataframe tbody tr th {\n",
       "        vertical-align: top;\n",
       "    }\n",
       "\n",
       "    .dataframe thead th {\n",
       "        text-align: right;\n",
       "    }\n",
       "</style>\n",
       "<table border=\"1\" class=\"dataframe\">\n",
       "  <thead>\n",
       "    <tr style=\"text-align: right;\">\n",
       "      <th></th>\n",
       "      <th>gameKey</th>\n",
       "      <th>playID</th>\n",
       "      <th>view</th>\n",
       "      <th>video</th>\n",
       "      <th>frame</th>\n",
       "      <th>label</th>\n",
       "      <th>left</th>\n",
       "      <th>width</th>\n",
       "      <th>top</th>\n",
       "      <th>height</th>\n",
       "      <th>impact</th>\n",
       "      <th>impactType</th>\n",
       "      <th>confidence</th>\n",
       "      <th>visibility</th>\n",
       "      <th>image_name</th>\n",
       "      <th>x</th>\n",
       "      <th>y</th>\n",
       "      <th>w</th>\n",
       "      <th>h</th>\n",
       "    </tr>\n",
       "  </thead>\n",
       "  <tbody>\n",
       "    <tr>\n",
       "      <th>0</th>\n",
       "      <td>57583</td>\n",
       "      <td>82</td>\n",
       "      <td>Endzone</td>\n",
       "      <td>57583_000082_Endzone.mp4</td>\n",
       "      <td>34</td>\n",
       "      <td>V73</td>\n",
       "      <td>655</td>\n",
       "      <td>21</td>\n",
       "      <td>331</td>\n",
       "      <td>15</td>\n",
       "      <td>1</td>\n",
       "      <td>0</td>\n",
       "      <td>0.0</td>\n",
       "      <td>0.0</td>\n",
       "      <td>57583_000082_Endzone_34.png</td>\n",
       "      <td>655</td>\n",
       "      <td>331</td>\n",
       "      <td>21</td>\n",
       "      <td>15</td>\n",
       "    </tr>\n",
       "    <tr>\n",
       "      <th>1</th>\n",
       "      <td>57583</td>\n",
       "      <td>82</td>\n",
       "      <td>Endzone</td>\n",
       "      <td>57583_000082_Endzone.mp4</td>\n",
       "      <td>34</td>\n",
       "      <td>H99</td>\n",
       "      <td>583</td>\n",
       "      <td>21</td>\n",
       "      <td>312</td>\n",
       "      <td>30</td>\n",
       "      <td>2</td>\n",
       "      <td>0</td>\n",
       "      <td>0.0</td>\n",
       "      <td>0.0</td>\n",
       "      <td>57583_000082_Endzone_34.png</td>\n",
       "      <td>583</td>\n",
       "      <td>312</td>\n",
       "      <td>21</td>\n",
       "      <td>30</td>\n",
       "    </tr>\n",
       "    <tr>\n",
       "      <th>2</th>\n",
       "      <td>57583</td>\n",
       "      <td>82</td>\n",
       "      <td>Endzone</td>\n",
       "      <td>57583_000082_Endzone.mp4</td>\n",
       "      <td>34</td>\n",
       "      <td>V15</td>\n",
       "      <td>1069</td>\n",
       "      <td>22</td>\n",
       "      <td>301</td>\n",
       "      <td>20</td>\n",
       "      <td>1</td>\n",
       "      <td>0</td>\n",
       "      <td>0.0</td>\n",
       "      <td>0.0</td>\n",
       "      <td>57583_000082_Endzone_34.png</td>\n",
       "      <td>1069</td>\n",
       "      <td>301</td>\n",
       "      <td>22</td>\n",
       "      <td>20</td>\n",
       "    </tr>\n",
       "    <tr>\n",
       "      <th>3</th>\n",
       "      <td>57583</td>\n",
       "      <td>82</td>\n",
       "      <td>Endzone</td>\n",
       "      <td>57583_000082_Endzone.mp4</td>\n",
       "      <td>34</td>\n",
       "      <td>H97</td>\n",
       "      <td>402</td>\n",
       "      <td>21</td>\n",
       "      <td>313</td>\n",
       "      <td>29</td>\n",
       "      <td>1</td>\n",
       "      <td>0</td>\n",
       "      <td>0.0</td>\n",
       "      <td>0.0</td>\n",
       "      <td>57583_000082_Endzone_34.png</td>\n",
       "      <td>402</td>\n",
       "      <td>313</td>\n",
       "      <td>21</td>\n",
       "      <td>29</td>\n",
       "    </tr>\n",
       "    <tr>\n",
       "      <th>4</th>\n",
       "      <td>57583</td>\n",
       "      <td>82</td>\n",
       "      <td>Endzone</td>\n",
       "      <td>57583_000082_Endzone.mp4</td>\n",
       "      <td>34</td>\n",
       "      <td>V72</td>\n",
       "      <td>445</td>\n",
       "      <td>21</td>\n",
       "      <td>328</td>\n",
       "      <td>16</td>\n",
       "      <td>1</td>\n",
       "      <td>0</td>\n",
       "      <td>0.0</td>\n",
       "      <td>0.0</td>\n",
       "      <td>57583_000082_Endzone_34.png</td>\n",
       "      <td>445</td>\n",
       "      <td>328</td>\n",
       "      <td>21</td>\n",
       "      <td>16</td>\n",
       "    </tr>\n",
       "  </tbody>\n",
       "</table>\n",
       "</div>"
      ],
      "text/plain": [
       "   gameKey  playID     view                     video  frame label  left  \\\n",
       "0    57583      82  Endzone  57583_000082_Endzone.mp4     34   V73   655   \n",
       "1    57583      82  Endzone  57583_000082_Endzone.mp4     34   H99   583   \n",
       "2    57583      82  Endzone  57583_000082_Endzone.mp4     34   V15  1069   \n",
       "3    57583      82  Endzone  57583_000082_Endzone.mp4     34   H97   402   \n",
       "4    57583      82  Endzone  57583_000082_Endzone.mp4     34   V72   445   \n",
       "\n",
       "   width  top  height  impact impactType  confidence  visibility  \\\n",
       "0     21  331      15       1          0         0.0         0.0   \n",
       "1     21  312      30       2          0         0.0         0.0   \n",
       "2     22  301      20       1          0         0.0         0.0   \n",
       "3     21  313      29       1          0         0.0         0.0   \n",
       "4     21  328      16       1          0         0.0         0.0   \n",
       "\n",
       "                    image_name     x    y   w   h  \n",
       "0  57583_000082_Endzone_34.png   655  331  21  15  \n",
       "1  57583_000082_Endzone_34.png   583  312  21  30  \n",
       "2  57583_000082_Endzone_34.png  1069  301  22  20  \n",
       "3  57583_000082_Endzone_34.png   402  313  21  29  \n",
       "4  57583_000082_Endzone_34.png   445  328  21  16  "
      ]
     },
     "execution_count": 3,
     "metadata": {},
     "output_type": "execute_result"
    }
   ],
   "source": [
    "video_labels = pd.read_csv('/kaggle/input/nfl-impact-detection/train_labels.csv').fillna(0)\n",
    "video_labels_with_impact = video_labels[video_labels['impact'] > 0]\n",
    "for row in tqdm(video_labels_with_impact[['video','frame','label']].values):\n",
    "    frames = np.array([-4,-3,-2,-1,1,2,3,4])+row[1]\n",
    "    video_labels.loc[(video_labels['video'] == row[0]) \n",
    "                                 & (video_labels['frame'].isin(frames))\n",
    "                                 & (video_labels['label'] == row[2]), 'impact'] = 1\n",
    "video_labels['image_name'] = video_labels['video'].str.replace('.mp4', '') + '_' + video_labels['frame'].astype(str) + '.png'\n",
    "video_labels = video_labels[video_labels.groupby('image_name')['impact'].transform(\"sum\") > 0].reset_index(drop=True)\n",
    "video_labels['impact'] = video_labels['impact'].astype(int)+1\n",
    "video_labels['x'] = video_labels['left']\n",
    "video_labels['y'] = video_labels['top']\n",
    "video_labels['w'] = video_labels['width']\n",
    "video_labels['h'] = video_labels['height']\n",
    "video_labels.head()"
   ]
  },
  {
   "cell_type": "markdown",
   "metadata": {
    "papermill": {
     "duration": 0.920407,
     "end_time": "2020-12-13T10:49:32.682717",
     "exception": false,
     "start_time": "2020-12-13T10:49:31.762310",
     "status": "completed"
    },
    "tags": []
   },
   "source": [
    "### Stratified K-Fold"
   ]
  },
  {
   "cell_type": "code",
   "execution_count": 4,
   "metadata": {
    "execution": {
     "iopub.execute_input": "2020-12-13T10:49:34.535974Z",
     "iopub.status.busy": "2020-12-13T10:49:34.534917Z",
     "iopub.status.idle": "2020-12-13T10:49:34.539809Z",
     "shell.execute_reply": "2020-12-13T10:49:34.539250Z"
    },
    "papermill": {
     "duration": 0.938189,
     "end_time": "2020-12-13T10:49:34.539934",
     "exception": false,
     "start_time": "2020-12-13T10:49:33.601745",
     "status": "completed"
    },
    "tags": []
   },
   "outputs": [
    {
     "data": {
      "text/plain": [
       "'\\nnp.random.seed(0)\\nvideo_names = np.random.permutation(video_labels.video.unique())\\nvalid_video_len = int(len(video_names)*0.2)\\nvideo_valid = video_names[:valid_video_len]\\nvideo_train = video_names[valid_video_len:]\\nimages_valid = video_labels[ video_labels.video.isin(video_valid)].image_name.unique()\\nimages_train = video_labels[~video_labels.video.isin(video_valid)].image_name.unique()\\nimages_all = video_labels[ video_labels.video.isin(video_names)].image_name.unique()\\n'"
      ]
     },
     "execution_count": 4,
     "metadata": {},
     "output_type": "execute_result"
    }
   ],
   "source": [
    "'''\n",
    "np.random.seed(0)\n",
    "video_names = np.random.permutation(video_labels.video.unique())\n",
    "valid_video_len = int(len(video_names)*0.2)\n",
    "video_valid = video_names[:valid_video_len]\n",
    "video_train = video_names[valid_video_len:]\n",
    "images_valid = video_labels[ video_labels.video.isin(video_valid)].image_name.unique()\n",
    "images_train = video_labels[~video_labels.video.isin(video_valid)].image_name.unique()\n",
    "images_all = video_labels[ video_labels.video.isin(video_names)].image_name.unique()\n",
    "'''"
   ]
  },
  {
   "cell_type": "code",
   "execution_count": 5,
   "metadata": {
    "execution": {
     "iopub.execute_input": "2020-12-13T10:49:36.398992Z",
     "iopub.status.busy": "2020-12-13T10:49:36.397017Z",
     "iopub.status.idle": "2020-12-13T10:49:38.371395Z",
     "shell.execute_reply": "2020-12-13T10:49:38.372119Z"
    },
    "papermill": {
     "duration": 2.912741,
     "end_time": "2020-12-13T10:49:38.372306",
     "exception": false,
     "start_time": "2020-12-13T10:49:35.459565",
     "status": "completed"
    },
    "tags": []
   },
   "outputs": [
    {
     "name": "stderr",
     "output_type": "stream",
     "text": [
      "/opt/conda/lib/python3.7/site-packages/sklearn/model_selection/_split.py:672: UserWarning: The least populated class in y has only 1 members, which is less than n_splits=5.\n",
      "  % (min_groups, self.n_splits)), UserWarning)\n"
     ]
    }
   ],
   "source": [
    "skf = StratifiedKFold(n_splits=5, shuffle=True, random_state=42)\n",
    "df_folds = video_labels[['image_name']].copy()\n",
    "df_folds.loc[:, 'bbox_count'] = 1\n",
    "df_folds = df_folds.groupby('image_name').count()\n",
    "df_folds.loc[:, 'video'] = video_labels[['image_name', 'video']].groupby('image_name').min()['video']\n",
    "df_folds.loc[:, 'stratify_group'] = np.char.add(\n",
    "    df_folds['video'].values.astype(str),\n",
    "    df_folds['bbox_count'].apply(lambda x: f'_{x // 20}').values.astype(str),\n",
    ")\n",
    "\n",
    "df_folds.loc[:, 'fold'] = 0\n",
    "for fold_number, (train_index, val_index) in enumerate(skf.split(X=df_folds.index, y=df_folds['stratify_group'])):\n",
    "    df_folds.loc[df_folds.iloc[val_index].index, 'fold'] = fold_number"
   ]
  },
  {
   "cell_type": "markdown",
   "metadata": {
    "papermill": {
     "duration": 1.385701,
     "end_time": "2020-12-13T10:49:40.680604",
     "exception": false,
     "start_time": "2020-12-13T10:49:39.294903",
     "status": "completed"
    },
    "tags": []
   },
   "source": [
    "### Create Images from Videos"
   ]
  },
  {
   "cell_type": "code",
   "execution_count": 6,
   "metadata": {
    "execution": {
     "iopub.execute_input": "2020-12-13T10:49:42.594449Z",
     "iopub.status.busy": "2020-12-13T10:49:42.593432Z",
     "iopub.status.idle": "2020-12-13T10:49:42.596852Z",
     "shell.execute_reply": "2020-12-13T10:49:42.596287Z"
    },
    "papermill": {
     "duration": 0.946555,
     "end_time": "2020-12-13T10:49:42.596979",
     "exception": false,
     "start_time": "2020-12-13T10:49:41.650424",
     "status": "completed"
    },
    "tags": []
   },
   "outputs": [],
   "source": [
    "def mk_images(video_name, video_labels, video_dir, out_dir, only_with_impact=True):\n",
    "    video_path=f\"{video_dir}/{video_name}\"\n",
    "    video_name = os.path.basename(video_path)\n",
    "    vidcap = cv2.VideoCapture(video_path)\n",
    "    if only_with_impact:\n",
    "        boxes_all = video_labels.query(\"video == @video_name\")\n",
    "        print(video_path, boxes_all[boxes_all.impact > 1.0].shape[0])\n",
    "    else:\n",
    "        print(video_path)\n",
    "    frame = 0\n",
    "    while True:\n",
    "        it_worked, img = vidcap.read()\n",
    "        if not it_worked:\n",
    "            break\n",
    "        frame += 1\n",
    "        if only_with_impact:\n",
    "            boxes = video_labels.query(\"video == @video_name and frame == @frame\")\n",
    "            boxes_with_impact = boxes[boxes.impact > 1.0]\n",
    "            if boxes_with_impact.shape[0] == 0:\n",
    "                continue\n",
    "        img_name = f\"{video_name}_frame{frame}\"\n",
    "        image_path = f'{out_dir}/{video_name}'.replace('.mp4',f'_{frame}.png')\n",
    "        _ = cv2.imwrite(image_path, img)"
   ]
  },
  {
   "cell_type": "code",
   "execution_count": 7,
   "metadata": {
    "_kg_hide-output": true,
    "execution": {
     "iopub.execute_input": "2020-12-13T10:49:44.483352Z",
     "iopub.status.busy": "2020-12-13T10:49:44.482386Z",
     "iopub.status.idle": "2020-12-13T11:16:48.735015Z",
     "shell.execute_reply": "2020-12-13T11:16:48.735767Z"
    },
    "papermill": {
     "duration": 1625.214378,
     "end_time": "2020-12-13T11:16:48.735989",
     "exception": false,
     "start_time": "2020-12-13T10:49:43.521611",
     "status": "completed"
    },
    "tags": []
   },
   "outputs": [
    {
     "name": "stdout",
     "output_type": "stream",
     "text": [
      "/kaggle/input/nfl-impact-detection/train/57583_000082_Endzone.mp4 169\n",
      "/kaggle/input/nfl-impact-detection/train/57583_000082_Sideline.mp4 156\n",
      "/kaggle/input/nfl-impact-detection/train/57584_000336_Endzone.mp4 142\n",
      "/kaggle/input/nfl-impact-detection/train/57584_000336_Sideline.mp4 144\n",
      "/kaggle/input/nfl-impact-detection/train/57584_002674_Endzone.mp4 170\n",
      "/kaggle/input/nfl-impact-detection/train/57584_002674_Sideline.mp4 193\n",
      "/kaggle/input/nfl-impact-detection/train/57586_000540_Endzone.mp4 165\n",
      "/kaggle/input/nfl-impact-detection/train/57586_000540_Sideline.mp4 182\n",
      "/kaggle/input/nfl-impact-detection/train/57586_001934_Endzone.mp4 235\n",
      "/kaggle/input/nfl-impact-detection/train/57586_001934_Sideline.mp4 226\n",
      "/kaggle/input/nfl-impact-detection/train/57586_004152_Endzone.mp4 90\n",
      "/kaggle/input/nfl-impact-detection/train/57586_004152_Sideline.mp4 99\n",
      "/kaggle/input/nfl-impact-detection/train/58106_002918_Endzone.mp4 168\n",
      "/kaggle/input/nfl-impact-detection/train/58106_002918_Sideline.mp4 165\n",
      "/kaggle/input/nfl-impact-detection/train/57594_000923_Endzone.mp4 180\n",
      "/kaggle/input/nfl-impact-detection/train/57594_000923_Sideline.mp4 162\n",
      "/kaggle/input/nfl-impact-detection/train/57596_002686_Endzone.mp4 222\n",
      "/kaggle/input/nfl-impact-detection/train/57596_002686_Sideline.mp4 200\n",
      "/kaggle/input/nfl-impact-detection/train/57597_000658_Endzone.mp4 179\n",
      "/kaggle/input/nfl-impact-detection/train/57597_000658_Sideline.mp4 177\n",
      "/kaggle/input/nfl-impact-detection/train/57597_001242_Endzone.mp4 229\n",
      "/kaggle/input/nfl-impact-detection/train/57597_001242_Sideline.mp4 179\n",
      "/kaggle/input/nfl-impact-detection/train/57676_003572_Endzone.mp4 129\n",
      "/kaggle/input/nfl-impact-detection/train/57676_003572_Sideline.mp4 126\n",
      "/kaggle/input/nfl-impact-detection/train/57679_003316_Endzone.mp4 170\n",
      "/kaggle/input/nfl-impact-detection/train/57679_003316_Sideline.mp4 166\n",
      "/kaggle/input/nfl-impact-detection/train/57680_002206_Endzone.mp4 184\n",
      "/kaggle/input/nfl-impact-detection/train/57680_002206_Sideline.mp4 184\n",
      "/kaggle/input/nfl-impact-detection/train/57680_003470_Endzone.mp4 124\n",
      "/kaggle/input/nfl-impact-detection/train/57680_003470_Sideline.mp4 147\n",
      "/kaggle/input/nfl-impact-detection/train/57682_002630_Endzone.mp4 130\n",
      "/kaggle/input/nfl-impact-detection/train/57682_002630_Sideline.mp4 120\n",
      "/kaggle/input/nfl-impact-detection/train/57684_001985_Endzone.mp4 174\n",
      "/kaggle/input/nfl-impact-detection/train/57684_001985_Sideline.mp4 121\n",
      "/kaggle/input/nfl-impact-detection/train/57686_002546_Endzone.mp4 183\n",
      "/kaggle/input/nfl-impact-detection/train/57686_002546_Sideline.mp4 150\n",
      "/kaggle/input/nfl-impact-detection/train/57700_001264_Endzone.mp4 139\n",
      "/kaggle/input/nfl-impact-detection/train/57700_001264_Sideline.mp4 149\n",
      "/kaggle/input/nfl-impact-detection/train/57775_000933_Endzone.mp4 144\n",
      "/kaggle/input/nfl-impact-detection/train/57775_000933_Sideline.mp4 144\n",
      "/kaggle/input/nfl-impact-detection/train/57778_004244_Endzone.mp4 180\n",
      "/kaggle/input/nfl-impact-detection/train/57778_004244_Sideline.mp4 194\n",
      "/kaggle/input/nfl-impact-detection/train/57781_000252_Endzone.mp4 164\n",
      "/kaggle/input/nfl-impact-detection/train/57781_000252_Sideline.mp4 119\n",
      "/kaggle/input/nfl-impact-detection/train/57782_000600_Endzone.mp4 199\n",
      "/kaggle/input/nfl-impact-detection/train/57782_000600_Sideline.mp4 167\n",
      "/kaggle/input/nfl-impact-detection/train/57783_003374_Endzone.mp4 146\n",
      "/kaggle/input/nfl-impact-detection/train/57783_003374_Sideline.mp4 164\n",
      "/kaggle/input/nfl-impact-detection/train/57784_001741_Endzone.mp4 109\n",
      "/kaggle/input/nfl-impact-detection/train/57784_001741_Sideline.mp4 117\n",
      "/kaggle/input/nfl-impact-detection/train/57785_002026_Endzone.mp4 142\n",
      "/kaggle/input/nfl-impact-detection/train/57785_002026_Sideline.mp4 127\n",
      "/kaggle/input/nfl-impact-detection/train/57786_003085_Endzone.mp4 171\n",
      "/kaggle/input/nfl-impact-detection/train/57786_003085_Sideline.mp4 156\n",
      "/kaggle/input/nfl-impact-detection/train/57787_003413_Endzone.mp4 161\n",
      "/kaggle/input/nfl-impact-detection/train/57787_003413_Sideline.mp4 144\n",
      "/kaggle/input/nfl-impact-detection/train/57788_000781_Endzone.mp4 119\n",
      "/kaggle/input/nfl-impact-detection/train/57788_000781_Sideline.mp4 147\n",
      "/kaggle/input/nfl-impact-detection/train/57790_002792_Endzone.mp4 182\n",
      "/kaggle/input/nfl-impact-detection/train/57790_002792_Sideline.mp4 177\n",
      "/kaggle/input/nfl-impact-detection/train/57790_002839_Endzone.mp4 160\n",
      "/kaggle/input/nfl-impact-detection/train/57790_002839_Sideline.mp4 173\n",
      "/kaggle/input/nfl-impact-detection/train/57904_001367_Endzone.mp4 198\n",
      "/kaggle/input/nfl-impact-detection/train/57904_001367_Sideline.mp4 161\n",
      "/kaggle/input/nfl-impact-detection/train/57905_002404_Endzone.mp4 136\n",
      "/kaggle/input/nfl-impact-detection/train/57905_002404_Sideline.mp4 115\n",
      "/kaggle/input/nfl-impact-detection/train/57906_000718_Endzone.mp4 171\n",
      "/kaggle/input/nfl-impact-detection/train/57906_000718_Sideline.mp4 159\n",
      "/kaggle/input/nfl-impact-detection/train/57907_003615_Endzone.mp4 135\n",
      "/kaggle/input/nfl-impact-detection/train/57907_003615_Sideline.mp4 138\n",
      "/kaggle/input/nfl-impact-detection/train/57910_001164_Endzone.mp4 139\n",
      "/kaggle/input/nfl-impact-detection/train/57910_001164_Sideline.mp4 154\n",
      "/kaggle/input/nfl-impact-detection/train/57911_000147_Endzone.mp4 213\n",
      "/kaggle/input/nfl-impact-detection/train/57911_000147_Sideline.mp4 156\n",
      "/kaggle/input/nfl-impact-detection/train/57911_002492_Endzone.mp4 100\n",
      "/kaggle/input/nfl-impact-detection/train/57911_002492_Sideline.mp4 108\n",
      "/kaggle/input/nfl-impact-detection/train/57912_001325_Endzone.mp4 199\n",
      "/kaggle/input/nfl-impact-detection/train/57912_001325_Sideline.mp4 170\n",
      "/kaggle/input/nfl-impact-detection/train/57913_000218_Endzone.mp4 132\n",
      "/kaggle/input/nfl-impact-detection/train/57913_000218_Sideline.mp4 133\n",
      "/kaggle/input/nfl-impact-detection/train/57915_003093_Endzone.mp4 194\n",
      "/kaggle/input/nfl-impact-detection/train/57915_003093_Sideline.mp4 189\n",
      "/kaggle/input/nfl-impact-detection/train/57992_000301_Endzone.mp4 244\n",
      "/kaggle/input/nfl-impact-detection/train/57992_000301_Sideline.mp4 255\n",
      "/kaggle/input/nfl-impact-detection/train/57992_000350_Endzone.mp4 174\n",
      "/kaggle/input/nfl-impact-detection/train/57992_000350_Sideline.mp4 116\n",
      "/kaggle/input/nfl-impact-detection/train/57993_000475_Endzone.mp4 136\n",
      "/kaggle/input/nfl-impact-detection/train/57993_000475_Sideline.mp4 145\n",
      "/kaggle/input/nfl-impact-detection/train/57995_000109_Endzone.mp4 155\n",
      "/kaggle/input/nfl-impact-detection/train/57995_000109_Sideline.mp4 129\n",
      "/kaggle/input/nfl-impact-detection/train/57997_003691_Endzone.mp4 240\n",
      "/kaggle/input/nfl-impact-detection/train/57997_003691_Sideline.mp4 225\n",
      "/kaggle/input/nfl-impact-detection/train/57998_002181_Endzone.mp4 169\n",
      "/kaggle/input/nfl-impact-detection/train/57998_002181_Sideline.mp4 167\n",
      "/kaggle/input/nfl-impact-detection/train/58000_001306_Endzone.mp4 108\n",
      "/kaggle/input/nfl-impact-detection/train/58000_001306_Sideline.mp4 108\n",
      "/kaggle/input/nfl-impact-detection/train/58005_001254_Endzone.mp4 72\n",
      "/kaggle/input/nfl-impact-detection/train/58005_001254_Sideline.mp4 54\n",
      "/kaggle/input/nfl-impact-detection/train/58005_001612_Endzone.mp4 189\n",
      "/kaggle/input/nfl-impact-detection/train/58005_001612_Sideline.mp4 171\n",
      "/kaggle/input/nfl-impact-detection/train/58048_000086_Endzone.mp4 160\n",
      "/kaggle/input/nfl-impact-detection/train/58048_000086_Sideline.mp4 157\n",
      "/kaggle/input/nfl-impact-detection/train/58093_001923_Endzone.mp4 166\n",
      "/kaggle/input/nfl-impact-detection/train/58093_001923_Sideline.mp4 156\n",
      "/kaggle/input/nfl-impact-detection/train/58094_000423_Endzone.mp4 204\n",
      "/kaggle/input/nfl-impact-detection/train/58094_000423_Sideline.mp4 176\n",
      "/kaggle/input/nfl-impact-detection/train/58094_002819_Endzone.mp4 175\n",
      "/kaggle/input/nfl-impact-detection/train/58094_002819_Sideline.mp4 171\n",
      "/kaggle/input/nfl-impact-detection/train/58095_004022_Endzone.mp4 162\n",
      "/kaggle/input/nfl-impact-detection/train/58095_004022_Sideline.mp4 150\n",
      "/kaggle/input/nfl-impact-detection/train/58098_001193_Endzone.mp4 185\n",
      "/kaggle/input/nfl-impact-detection/train/58098_001193_Sideline.mp4 152\n",
      "/kaggle/input/nfl-impact-detection/train/58102_002798_Endzone.mp4 145\n",
      "/kaggle/input/nfl-impact-detection/train/58102_002798_Sideline.mp4 136\n",
      "/kaggle/input/nfl-impact-detection/train/58103_003494_Endzone.mp4 188\n",
      "/kaggle/input/nfl-impact-detection/train/58103_003494_Sideline.mp4 134\n",
      "/kaggle/input/nfl-impact-detection/train/58104_000352_Endzone.mp4 136\n",
      "/kaggle/input/nfl-impact-detection/train/58104_000352_Sideline.mp4 142\n",
      "/kaggle/input/nfl-impact-detection/train/58107_004362_Endzone.mp4 244\n",
      "/kaggle/input/nfl-impact-detection/train/58107_004362_Sideline.mp4 209\n"
     ]
    }
   ],
   "source": [
    "uniq_video = video_labels.video.unique()\n",
    "video_dir = '/kaggle/input/nfl-impact-detection/train'\n",
    "out_dir = 'train_images'\n",
    "!mkdir -p $out_dir\n",
    "for video_name in uniq_video:\n",
    "    mk_images(video_name, video_labels, video_dir, out_dir)"
   ]
  },
  {
   "cell_type": "markdown",
   "metadata": {
    "papermill": {
     "duration": 1.388887,
     "end_time": "2020-12-13T11:16:51.253081",
     "exception": false,
     "start_time": "2020-12-13T11:16:49.864194",
     "status": "completed"
    },
    "tags": []
   },
   "source": [
    "### Augmentation with Albumentations"
   ]
  },
  {
   "cell_type": "code",
   "execution_count": 8,
   "metadata": {
    "execution": {
     "iopub.execute_input": "2020-12-13T11:16:53.297736Z",
     "iopub.status.busy": "2020-12-13T11:16:53.295600Z",
     "iopub.status.idle": "2020-12-13T11:16:53.298507Z",
     "shell.execute_reply": "2020-12-13T11:16:53.299062Z"
    },
    "papermill": {
     "duration": 1.030007,
     "end_time": "2020-12-13T11:16:53.299230",
     "exception": false,
     "start_time": "2020-12-13T11:16:52.269223",
     "status": "completed"
    },
    "tags": []
   },
   "outputs": [],
   "source": [
    "def get_train_transforms():\n",
    "    return A.Compose(\n",
    "        [\n",
    "            A.RandomSizedCrop(min_max_height=(500, 720), height=720, width=720, p=0.5),\n",
    "            A.OneOf([\n",
    "                A.HueSaturationValue(hue_shift_limit=0.2, sat_shift_limit= 0.2, \n",
    "                                     val_shift_limit=0.2, p=0.9),\n",
    "                A.RandomBrightnessContrast(brightness_limit=0.2, \n",
    "                                           contrast_limit=0.2, p=0.9),\n",
    "            ], p=0.9),\n",
    "            A.ToGray(p=0.01),\n",
    "            A.HorizontalFlip(p=0.5),\n",
    "            A.VerticalFlip(p=0.5),\n",
    "            A.RandomRotate90(p=0.5),\n",
    "            A.Transpose(p=0.5),\n",
    "            A.JpegCompression(quality_lower=85, quality_upper=95, p=0.2),\n",
    "            A.OneOf([\n",
    "                A.Blur(blur_limit=3, p=1.0),\n",
    "                A.MedianBlur(blur_limit=3, p=1.0)\n",
    "            ],p=0.1),\n",
    "            A.Resize(height=512, width=512, p=1),\n",
    "            A.Cutout(num_holes=8, max_h_size=64, max_w_size=64, fill_value=0, p=0.5),\n",
    "            ToTensorV2(p=1.0),\n",
    "        ], \n",
    "        p=1.0, \n",
    "        bbox_params=A.BboxParams(\n",
    "            format='pascal_voc',\n",
    "            min_area=0, \n",
    "            min_visibility=0,\n",
    "            label_fields=['labels']\n",
    "        )\n",
    "    )\n",
    "\n",
    "def get_valid_transforms():\n",
    "    return A.Compose(\n",
    "        [\n",
    "            A.Resize(height=512, width=512, p=1.0),\n",
    "            ToTensorV2(p=1.0),\n",
    "        ], \n",
    "        p=1.0, \n",
    "        bbox_params=A.BboxParams(\n",
    "            format='pascal_voc',\n",
    "            min_area=0, \n",
    "            min_visibility=0,\n",
    "            label_fields=['labels']\n",
    "        )\n",
    "    )"
   ]
  },
  {
   "cell_type": "markdown",
   "metadata": {
    "papermill": {
     "duration": 1.234869,
     "end_time": "2020-12-13T11:16:55.952012",
     "exception": false,
     "start_time": "2020-12-13T11:16:54.717143",
     "status": "completed"
    },
    "tags": []
   },
   "source": [
    "### Dataset"
   ]
  },
  {
   "cell_type": "code",
   "execution_count": 9,
   "metadata": {
    "execution": {
     "iopub.execute_input": "2020-12-13T11:16:57.995286Z",
     "iopub.status.busy": "2020-12-13T11:16:57.984438Z",
     "iopub.status.idle": "2020-12-13T11:16:58.021342Z",
     "shell.execute_reply": "2020-12-13T11:16:58.020724Z"
    },
    "papermill": {
     "duration": 1.03848,
     "end_time": "2020-12-13T11:16:58.021475",
     "exception": false,
     "start_time": "2020-12-13T11:16:56.982995",
     "status": "completed"
    },
    "tags": []
   },
   "outputs": [],
   "source": [
    "TRAIN_ROOT_PATH = 'train_images'\n",
    "\n",
    "class DatasetRetriever(Dataset):\n",
    "\n",
    "    def __init__(self, marking, image_ids, transforms=None, test=False):\n",
    "        super().__init__()\n",
    "\n",
    "        self.image_ids = image_ids\n",
    "        self.marking = marking\n",
    "        self.transforms = transforms\n",
    "        self.test = test\n",
    "\n",
    "    def __getitem__(self, index: int):\n",
    "        image_id = self.image_ids[index]\n",
    "        \n",
    "        if self.test or random.random() > 0.33:\n",
    "            image, boxes, labels = self.load_image_and_boxes(index)\n",
    "        elif random.random() > 0.5:\n",
    "            image, boxes, labels = self.load_cutmix_image_and_boxes(index)\n",
    "        else:\n",
    "            image, boxes, labels = self.load_mixup_image_and_boxes(index)\n",
    "        \n",
    "        target = {}\n",
    "        target['boxes'] = boxes\n",
    "        target['labels'] = torch.tensor(labels)\n",
    "        target['image_id'] = torch.tensor([index])\n",
    "\n",
    "        if self.transforms:\n",
    "            for i in range(10):\n",
    "                sample = self.transforms(**{\n",
    "                    'image': image,\n",
    "                    'bboxes': target['boxes'],\n",
    "                    'labels': labels\n",
    "                })\n",
    "                if len(sample['bboxes']) > 0:\n",
    "                    image = sample['image']\n",
    "                    target['boxes'] = torch.stack(tuple(map(torch.tensor, zip(*sample['bboxes'])))).permute(1, 0)\n",
    "                    target['boxes'][:,[0,1,2,3]] = target['boxes'][:,[1,0,3,2]]  #yxyx: be warning\n",
    "                    break\n",
    "        return image, target, image_id\n",
    "\n",
    "    def __len__(self) -> int:\n",
    "        return self.image_ids.shape[0]\n",
    "\n",
    "    def load_image_and_boxes(self, index):\n",
    "        image_id = self.image_ids[index]\n",
    "        #print(f'{TRAIN_ROOT_PATH}/{image_id}')\n",
    "        image = cv2.imread(f'{TRAIN_ROOT_PATH}/{image_id}', cv2.IMREAD_COLOR).copy().astype(np.float32)\n",
    "        image = cv2.cvtColor(image, cv2.COLOR_BGR2RGB).astype(np.float32)\n",
    "        image /= 255.0\n",
    "        records = self.marking[self.marking['image_name'] == image_id]\n",
    "        boxes = records[['x', 'y', 'w', 'h']].values\n",
    "        boxes[:, 2] = boxes[:, 0] + boxes[:, 2]\n",
    "        boxes[:, 3] = boxes[:, 1] + boxes[:, 3]\n",
    "        labels = records['impact'].values\n",
    "        return image, boxes, labels\n",
    "    \n",
    "    def load_mixup_image_and_boxes(self, index):\n",
    "        image, boxes, labels = self.load_image_and_boxes(index)\n",
    "        r_image, r_boxes, r_labels = self.load_image_and_boxes(random.randint(0, self.image_ids.shape[0] - 1))\n",
    "        return (image+r_image)/2, np.vstack((boxes, r_boxes)).astype(np.int32), np.concatenate((labels, r_labels))\n",
    "    \n",
    "\n",
    "    def load_cutmix_image_and_boxes(self, index, imsize=720):\n",
    "        \"\"\" \n",
    "        This implementation of cutmix author:  https://www.kaggle.com/nvnnghia \n",
    "        Refactoring and adaptation: https://www.kaggle.com/shonenkov\n",
    "        \"\"\"\n",
    "        w, h = imsize, imsize\n",
    "        s = imsize // 2\n",
    "    \n",
    "        xc, yc = [int(random.uniform(imsize * 0.25, imsize * 0.75)) for _ in range(2)]  # center x, y\n",
    "        indexes = [index] + [random.randint(0, self.image_ids.shape[0] - 1) for _ in range(3)]\n",
    "\n",
    "        result_image = np.full((imsize, imsize, 3), 1, dtype=np.float32)\n",
    "        result_boxes = []\n",
    "        result_labels = np.array([], dtype=np.int)\n",
    "\n",
    "        for i, index in enumerate(indexes):\n",
    "            image, boxes, labels = self.load_image_and_boxes(index)\n",
    "            if i == 0:\n",
    "                x1a, y1a, x2a, y2a = max(xc - w, 0), max(yc - h, 0), xc, yc  # xmin, ymin, xmax, ymax (large image)\n",
    "                x1b, y1b, x2b, y2b = w - (x2a - x1a), h - (y2a - y1a), w, h  # xmin, ymin, xmax, ymax (small image)\n",
    "            elif i == 1:  # top right\n",
    "                x1a, y1a, x2a, y2a = xc, max(yc - h, 0), min(xc + w, s * 2), yc\n",
    "                x1b, y1b, x2b, y2b = 0, h - (y2a - y1a), min(w, x2a - x1a), h\n",
    "            elif i == 2:  # bottom left\n",
    "                x1a, y1a, x2a, y2a = max(xc - w, 0), yc, xc, min(s * 2, yc + h)\n",
    "                x1b, y1b, x2b, y2b = w - (x2a - x1a), 0, max(xc, w), min(y2a - y1a, h)\n",
    "            elif i == 3:  # bottom right\n",
    "                x1a, y1a, x2a, y2a = xc, yc, min(xc + w, s * 2), min(s * 2, yc + h)\n",
    "                x1b, y1b, x2b, y2b = 0, 0, min(w, x2a - x1a), min(y2a - y1a, h)\n",
    "            result_image[y1a:y2a, x1a:x2a] = image[y1b:y2b, x1b:x2b]\n",
    "            padw = x1a - x1b\n",
    "            padh = y1a - y1b\n",
    "\n",
    "            boxes[:, 0] += padw\n",
    "            boxes[:, 1] += padh\n",
    "            boxes[:, 2] += padw\n",
    "            boxes[:, 3] += padh\n",
    "\n",
    "            result_boxes.append(boxes)\n",
    "            result_labels = np.concatenate((result_labels, labels))\n",
    "\n",
    "        result_boxes = np.concatenate(result_boxes, 0)\n",
    "        np.clip(result_boxes[:, 0:], 0, 2 * s, out=result_boxes[:, 0:])\n",
    "        result_boxes = result_boxes.astype(np.int32)\n",
    "        index_to_use = np.where((result_boxes[:,2]-result_boxes[:,0])*(result_boxes[:,3]-result_boxes[:,1]) > 0)\n",
    "        result_boxes = result_boxes[index_to_use]\n",
    "        result_labels = result_labels[index_to_use]\n",
    "        \n",
    "        return result_image, result_boxes, result_labels\n",
    "    "
   ]
  },
  {
   "cell_type": "code",
   "execution_count": 10,
   "metadata": {
    "execution": {
     "iopub.execute_input": "2020-12-13T11:17:00.617794Z",
     "iopub.status.busy": "2020-12-13T11:17:00.616067Z",
     "iopub.status.idle": "2020-12-13T11:17:00.620644Z",
     "shell.execute_reply": "2020-12-13T11:17:00.621244Z"
    },
    "papermill": {
     "duration": 1.3997,
     "end_time": "2020-12-13T11:17:00.621397",
     "exception": false,
     "start_time": "2020-12-13T11:16:59.221697",
     "status": "completed"
    },
    "tags": []
   },
   "outputs": [],
   "source": [
    "fold_number = 0\n",
    "\n",
    "train_dataset = DatasetRetriever(\n",
    "    image_ids=df_folds[df_folds['fold'] != fold_number].index.values,\n",
    "    marking=video_labels,\n",
    "    transforms=get_train_transforms(),\n",
    "    test=False,\n",
    ")\n",
    "\n",
    "validation_dataset = DatasetRetriever(\n",
    "    image_ids=df_folds[df_folds['fold'] == fold_number].index.values,\n",
    "    marking=video_labels,\n",
    "    transforms=get_valid_transforms(),\n",
    "    test=True,\n",
    ")"
   ]
  },
  {
   "cell_type": "markdown",
   "metadata": {
    "papermill": {
     "duration": 1.018751,
     "end_time": "2020-12-13T11:17:02.686365",
     "exception": false,
     "start_time": "2020-12-13T11:17:01.667614",
     "status": "completed"
    },
    "tags": []
   },
   "source": [
    "### Fitter"
   ]
  },
  {
   "cell_type": "code",
   "execution_count": 11,
   "metadata": {
    "execution": {
     "iopub.execute_input": "2020-12-13T11:17:04.732925Z",
     "iopub.status.busy": "2020-12-13T11:17:04.732021Z",
     "iopub.status.idle": "2020-12-13T11:17:04.736328Z",
     "shell.execute_reply": "2020-12-13T11:17:04.735756Z"
    },
    "papermill": {
     "duration": 1.059908,
     "end_time": "2020-12-13T11:17:04.736450",
     "exception": false,
     "start_time": "2020-12-13T11:17:03.676542",
     "status": "completed"
    },
    "tags": []
   },
   "outputs": [],
   "source": [
    "class AverageMeter(object):\n",
    "    \"\"\"Computes and stores the average and current value\"\"\"\n",
    "    def __init__(self):\n",
    "        self.reset()\n",
    "\n",
    "    def reset(self):\n",
    "        self.val = 0\n",
    "        self.avg = 0\n",
    "        self.sum = 0\n",
    "        self.count = 0\n",
    "\n",
    "    def update(self, val, n=1):\n",
    "        self.val = val\n",
    "        self.sum += val * n\n",
    "        self.count += n\n",
    "        self.avg = self.sum / self.count"
   ]
  },
  {
   "cell_type": "code",
   "execution_count": 12,
   "metadata": {
    "execution": {
     "iopub.execute_input": "2020-12-13T11:17:06.724259Z",
     "iopub.status.busy": "2020-12-13T11:17:06.697464Z",
     "iopub.status.idle": "2020-12-13T11:17:06.727177Z",
     "shell.execute_reply": "2020-12-13T11:17:06.726593Z"
    },
    "papermill": {
     "duration": 1.021817,
     "end_time": "2020-12-13T11:17:06.727305",
     "exception": false,
     "start_time": "2020-12-13T11:17:05.705488",
     "status": "completed"
    },
    "tags": []
   },
   "outputs": [],
   "source": [
    "import warnings\n",
    "\n",
    "warnings.filterwarnings(\"ignore\")\n",
    "\n",
    "class Fitter:\n",
    "    \n",
    "    def __init__(self, model, device, config):\n",
    "        self.config = config\n",
    "        self.epoch = 0\n",
    "\n",
    "        self.base_dir = f'./{config.folder}'\n",
    "        if not os.path.exists(self.base_dir):\n",
    "            os.makedirs(self.base_dir)\n",
    "        \n",
    "        self.log_path = f'{self.base_dir}/log.txt'\n",
    "        self.best_summary_loss = 10**5\n",
    "\n",
    "        self.model = model\n",
    "        self.device = device\n",
    "\n",
    "        param_optimizer = list(self.model.named_parameters())\n",
    "        no_decay = ['bias', 'LayerNorm.bias', 'LayerNorm.weight']\n",
    "        optimizer_grouped_parameters = [\n",
    "            {'params': [p for n, p in param_optimizer if not any(nd in n for nd in no_decay)], 'weight_decay': 0.001},\n",
    "            {'params': [p for n, p in param_optimizer if any(nd in n for nd in no_decay)], 'weight_decay': 0.0}\n",
    "        ] \n",
    "\n",
    "        self.optimizer = torch.optim.AdamW(self.model.parameters(), lr=config.lr)\n",
    "        self.scheduler = config.SchedulerClass(self.optimizer, **config.scheduler_params)\n",
    "        self.log(f'Fitter prepared. Device is {self.device}')\n",
    "\n",
    "    def fit(self, train_loader, validation_loader, fold):\n",
    "        for e in range(self.config.n_epochs):\n",
    "            if self.config.verbose:\n",
    "                lr = self.optimizer.param_groups[0]['lr']\n",
    "                timestamp = datetime.utcnow().isoformat()\n",
    "                self.log(f'\\n{timestamp}\\nLR: {lr}')\n",
    "\n",
    "            t = time.time()\n",
    "            summary_loss = self.train_one_epoch(train_loader)\n",
    "\n",
    "            self.log(f'[RESULT]: Train. Epoch: {self.epoch}, summary_loss: {summary_loss.avg:.5f}, time: {(time.time() - t):.5f}')\n",
    "            self.save(f'{self.base_dir}/last-checkpoint.bin')\n",
    "\n",
    "            t = time.time()\n",
    "            summary_loss = self.validation(validation_loader)\n",
    "\n",
    "            self.log(f'[RESULT]: Val. Epoch: {self.epoch}, summary_loss: {summary_loss.avg:.5f}, time: {(time.time() - t):.5f}')\n",
    "            if summary_loss.avg < self.best_summary_loss:\n",
    "                self.best_summary_loss = summary_loss.avg\n",
    "                self.model.eval()\n",
    "                print('Save the model')\n",
    "                self.save(f'{self.base_dir}/best-checkpoint-{str(self.epoch).zfill(3)}epoch-fold{str(fold)}.bin')\n",
    "                #for path in sorted(glob(f'{self.base_dir}/best-checkpoint-*epoch.bin'))[:-3]:\n",
    "                #    os.remove(path)\n",
    "\n",
    "            if self.config.validation_scheduler:\n",
    "                self.scheduler.step(metrics=summary_loss.avg)\n",
    "\n",
    "            self.epoch += 1\n",
    "\n",
    "    def validation(self, val_loader):\n",
    "        self.model.eval()\n",
    "        summary_loss = AverageMeter()\n",
    "        t = time.time()\n",
    "        for step, (images, targets, image_ids) in enumerate(val_loader):\n",
    "            if self.config.verbose:\n",
    "                if step % self.config.verbose_step == 0:\n",
    "                    print(\n",
    "                        f'Val Step {step}/{len(val_loader)}, ' + \\\n",
    "                        f'summary_loss: {summary_loss.avg:.5f}, ' + \\\n",
    "                        f'time: {(time.time() - t):.5f}', end='\\r'\n",
    "                    )\n",
    "            with torch.no_grad():\n",
    "                images = torch.stack(images)\n",
    "                batch_size = images.shape[0]\n",
    "                images = images.to(self.device).float()\n",
    "                boxes = [target['boxes'].to(self.device).float() for target in targets]\n",
    "                labels = [target['labels'].to(self.device).float() for target in targets]\n",
    "\n",
    "                loss, _, _ = self.model(images, boxes, labels)\n",
    "                summary_loss.update(loss.detach().item(), batch_size)\n",
    "\n",
    "        return summary_loss\n",
    "\n",
    "    def train_one_epoch(self, train_loader):\n",
    "        self.model.train()\n",
    "        summary_loss = AverageMeter()\n",
    "        t = time.time()\n",
    "        for step, (images, targets, image_ids) in enumerate(train_loader):\n",
    "            if self.config.verbose:\n",
    "                if step % self.config.verbose_step == 0:\n",
    "                    print(\n",
    "                        f'Train Step {step}/{len(train_loader)}, ' + \\\n",
    "                        f'summary_loss: {summary_loss.avg:.5f}, ' + \\\n",
    "                        f'time: {(time.time() - t):.5f}', end='\\r'\n",
    "                    )\n",
    "            \n",
    "            images = torch.stack(images)\n",
    "            images = images.to(self.device).float()\n",
    "            batch_size = images.shape[0]\n",
    "            boxes = [target['boxes'].to(self.device).float() for target in targets]\n",
    "            labels = [target['labels'].to(self.device).float() for target in targets]\n",
    "\n",
    "            self.optimizer.zero_grad()\n",
    "            \n",
    "            loss, _, _ = self.model(images, boxes, labels)\n",
    "            \n",
    "            loss.backward()\n",
    "\n",
    "            summary_loss.update(loss.detach().item(), batch_size)\n",
    "\n",
    "            self.optimizer.step()\n",
    "\n",
    "            if self.config.step_scheduler:\n",
    "                self.scheduler.step()\n",
    "\n",
    "        return summary_loss\n",
    "    \n",
    "    def save(self, path):\n",
    "        self.model.eval()\n",
    "        torch.save({\n",
    "            'model_state_dict': self.model.model.state_dict(),\n",
    "            'optimizer_state_dict': self.optimizer.state_dict(),\n",
    "            'scheduler_state_dict': self.scheduler.state_dict(),\n",
    "            'best_summary_loss': self.best_summary_loss,\n",
    "            'epoch': self.epoch,\n",
    "        }, path)\n",
    "\n",
    "    def load(self, path):\n",
    "        checkpoint = torch.load(path)\n",
    "        self.model.model.load_state_dict(checkpoint['model_state_dict'])\n",
    "        self.optimizer.load_state_dict(checkpoint['optimizer_state_dict'])\n",
    "        self.scheduler.load_state_dict(checkpoint['scheduler_state_dict'])\n",
    "        self.best_summary_loss = checkpoint['best_summary_loss']\n",
    "        self.epoch = checkpoint['epoch'] + 1\n",
    "        \n",
    "    def log(self, message):\n",
    "        if self.config.verbose:\n",
    "            print(message)\n",
    "        with open(self.log_path, 'a+') as logger:\n",
    "            logger.write(f'{message}\\n')"
   ]
  },
  {
   "cell_type": "markdown",
   "metadata": {},
   "source": [
    "### Training the Model"
   ]
  },
  {
   "cell_type": "code",
   "execution_count": 13,
   "metadata": {
    "execution": {
     "iopub.execute_input": "2020-12-13T11:17:08.724959Z",
     "iopub.status.busy": "2020-12-13T11:17:08.722848Z",
     "iopub.status.idle": "2020-12-13T11:17:08.725800Z",
     "shell.execute_reply": "2020-12-13T11:17:08.726406Z"
    },
    "papermill": {
     "duration": 1.030665,
     "end_time": "2020-12-13T11:17:08.726569",
     "exception": false,
     "start_time": "2020-12-13T11:17:07.695904",
     "status": "completed"
    },
    "tags": []
   },
   "outputs": [],
   "source": [
    "class TrainGlobalConfig:\n",
    "    num_workers = 2\n",
    "    batch_size = 4 \n",
    "    n_epochs = 1\n",
    "    lr = 0.0002\n",
    "    folder = 'effdet5-models'\n",
    "    verbose = True\n",
    "    verbose_step = 1\n",
    "    step_scheduler = False\n",
    "    validation_scheduler = True\n",
    "    SchedulerClass = torch.optim.lr_scheduler.ReduceLROnPlateau\n",
    "    scheduler_params = dict(\n",
    "        mode='min',\n",
    "        factor=0.5,\n",
    "        patience=1,\n",
    "        verbose=False, \n",
    "        threshold=0.0001,\n",
    "        threshold_mode='abs',\n",
    "        cooldown=0, \n",
    "        min_lr=1e-8,\n",
    "        eps=1e-08\n",
    "    )"
   ]
  },
  {
   "cell_type": "code",
   "execution_count": 14,
   "metadata": {
    "execution": {
     "iopub.execute_input": "2020-12-13T11:17:11.158280Z",
     "iopub.status.busy": "2020-12-13T11:17:11.157145Z",
     "iopub.status.idle": "2020-12-13T11:17:11.159835Z",
     "shell.execute_reply": "2020-12-13T11:17:11.160358Z"
    },
    "papermill": {
     "duration": 1.261442,
     "end_time": "2020-12-13T11:17:11.160506",
     "exception": false,
     "start_time": "2020-12-13T11:17:09.899064",
     "status": "completed"
    },
    "tags": []
   },
   "outputs": [],
   "source": [
    "def get_net():\n",
    "    config = get_efficientdet_config('tf_efficientdet_d5')\n",
    "    net = EfficientDet(config, pretrained_backbone=False)\n",
    "    checkpoint = torch.load('../input/nfl-models/efficientdet_d5-ef44aea8.pth')\n",
    "    net.load_state_dict(checkpoint)\n",
    "    config.num_classes = 2\n",
    "    config.image_size = 512\n",
    "    net.class_net = HeadNet(config, num_outputs=config.num_classes, norm_kwargs=dict(eps=.001, momentum=.01))\n",
    "    return DetBenchTrain(net, config)\n",
    "\n"
   ]
  },
  {
   "cell_type": "code",
   "execution_count": 15,
   "metadata": {
    "execution": {
     "iopub.execute_input": "2020-12-13T11:17:13.127597Z",
     "iopub.status.busy": "2020-12-13T11:17:13.126497Z",
     "iopub.status.idle": "2020-12-13T11:17:13.129718Z",
     "shell.execute_reply": "2020-12-13T11:17:13.129119Z"
    },
    "papermill": {
     "duration": 0.994245,
     "end_time": "2020-12-13T11:17:13.129838",
     "exception": false,
     "start_time": "2020-12-13T11:17:12.135593",
     "status": "completed"
    },
    "tags": []
   },
   "outputs": [],
   "source": [
    "def seed_everything(seed):\n",
    "    random.seed(seed)\n",
    "    os.environ['PYTHONHASHSEED'] = str(seed)\n",
    "    np.random.seed(seed)\n",
    "    torch.manual_seed(seed)\n",
    "    torch.cuda.manual_seed(seed)\n",
    "    torch.backends.cudnn.deterministic = True\n",
    "    torch.backends.cudnn.benchmark = True\n",
    "\n",
    "def collate_fn(batch):\n",
    "    return tuple(zip(*batch))\n",
    "\n",
    "def run_training(num_fold):\n",
    "    seed_everything(2003)\n",
    "    device = torch.device(\"cuda:0\" if torch.cuda.is_available() else \"cpu\")\n",
    "    #device = torch.device('cuda:0')\n",
    "    \n",
    "    \n",
    "    for fold_number in range(num_fold):\n",
    "        if fold_number != 0:\n",
    "            continue\n",
    "        print('Fold: {}'.format(fold_number + 1))\n",
    "\n",
    "        train_dataset = DatasetRetriever(\n",
    "            image_ids=df_folds[df_folds['fold'] != fold_number].index.values,\n",
    "            marking=video_labels,\n",
    "            transforms=get_train_transforms(),\n",
    "            test=False,\n",
    "        )\n",
    "\n",
    "        validation_dataset = DatasetRetriever(\n",
    "            image_ids=df_folds[df_folds['fold'] == fold_number].index.values,\n",
    "            marking=video_labels,\n",
    "            transforms=get_valid_transforms(),\n",
    "            test=True,\n",
    "        )\n",
    "\n",
    "        train_loader = torch.utils.data.DataLoader(\n",
    "            train_dataset,\n",
    "            batch_size=TrainGlobalConfig.batch_size,\n",
    "            sampler=RandomSampler(train_dataset),\n",
    "            pin_memory=False,\n",
    "            drop_last=True,\n",
    "            num_workers=TrainGlobalConfig.num_workers,\n",
    "            collate_fn=collate_fn,\n",
    "        )\n",
    "        val_loader = torch.utils.data.DataLoader(\n",
    "            validation_dataset, \n",
    "            batch_size=TrainGlobalConfig.batch_size,\n",
    "            num_workers=TrainGlobalConfig.num_workers,\n",
    "            shuffle=False,\n",
    "            sampler=SequentialSampler(validation_dataset),\n",
    "            pin_memory=False,\n",
    "            collate_fn=collate_fn,\n",
    "        )\n",
    "        \n",
    "        net = get_net()\n",
    "        net.to(device)\n",
    "\n",
    "        fitter = Fitter(model=net, device=device, config=TrainGlobalConfig)\n",
    "        fitter.fit(train_loader, val_loader, fold_number)"
   ]
  },
  {
   "cell_type": "code",
   "execution_count": 16,
   "metadata": {
    "execution": {
     "iopub.execute_input": "2020-12-13T11:17:15.180880Z",
     "iopub.status.busy": "2020-12-13T11:17:15.179859Z",
     "iopub.status.idle": "2020-12-13T11:55:55.435855Z",
     "shell.execute_reply": "2020-12-13T11:55:55.436732Z"
    },
    "papermill": {
     "duration": 2321.329933,
     "end_time": "2020-12-13T11:55:55.436983",
     "exception": false,
     "start_time": "2020-12-13T11:17:14.107050",
     "status": "completed"
    },
    "scrolled": true,
    "tags": []
   },
   "outputs": [
    {
     "name": "stdout",
     "output_type": "stream",
     "text": [
      "Fold: 1\n",
      "Fitter prepared. Device is cuda:0\n",
      "\n",
      "2020-12-13T11:17:25.701224\n",
      "LR: 0.0002\n",
      "[RESULT]: Train. Epoch: 0, summary_loss: 30.15131, time: 2101.80121\n",
      "[RESULT]: Val. Epoch: 0, summary_loss: 1.08757, time: 205.62198\n",
      "Save the model\n"
     ]
    }
   ],
   "source": [
    "run_training(num_fold=5)"
   ]
  }
 ],
 "metadata": {
  "kernelspec": {
   "display_name": "Python 3.10.4 64-bit",
   "language": "python",
   "name": "python3"
  },
  "language_info": {
   "codemirror_mode": {
    "name": "ipython",
    "version": 3
   },
   "file_extension": ".py",
   "mimetype": "text/x-python",
   "name": "python",
   "nbconvert_exporter": "python",
   "pygments_lexer": "ipython3",
   "version": "3.10.4"
  },
  "papermill": {
   "duration": 4905.105724,
   "end_time": "2020-12-13T11:56:04.059910",
   "environment_variables": {},
   "exception": null,
   "input_path": "__notebook__.ipynb",
   "output_path": "__notebook__.ipynb",
   "parameters": {},
   "start_time": "2020-12-13T10:34:18.954186",
   "version": "2.1.0"
  },
  "vscode": {
   "interpreter": {
    "hash": "afb734500600fd355917ca529030176ea0ca205570884b88f2f6f7d791fd3fbe"
   }
  }
 },
 "nbformat": 4,
 "nbformat_minor": 4
}
