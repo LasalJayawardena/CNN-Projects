{
 "cells": [
  {
   "cell_type": "markdown",
   "id": "funny-toolbox",
   "metadata": {},
   "source": [
    "# OCR with PyTorch"
   ]
  },
  {
   "cell_type": "markdown",
   "id": "threaded-color",
   "metadata": {},
   "source": [
    "### Importing Libraries"
   ]
  },
  {
   "cell_type": "code",
   "execution_count": 47,
   "id": "domestic-discount",
   "metadata": {},
   "outputs": [],
   "source": [
    "import torch\n",
    "import torchvision\n",
    "import torch.nn as nn\n",
    "import torch.nn.functional as F\n",
    "import torch.optim as optim\n",
    "import torchvision.transforms as transforms\n",
    "\n",
    "import numpy as np\n",
    "import math\n",
    "import matplotlib.pyplot as plt\n",
    "from tqdm import tqdm"
   ]
  },
  {
   "cell_type": "code",
   "execution_count": 49,
   "id": "important-mailman",
   "metadata": {},
   "outputs": [
    {
     "data": {
      "text/plain": [
       "<torch.autograd.grad_mode.set_grad_enabled at 0x13050694bb0>"
      ]
     },
     "execution_count": 49,
     "metadata": {},
     "output_type": "execute_result"
    }
   ],
   "source": [
    "import warnings\n",
    "warnings.filterwarnings('ignore')\n",
    "\n",
    "torch.set_printoptions(linewidth=120)\n",
    "torch.set_grad_enabled(True)"
   ]
  },
  {
   "cell_type": "markdown",
   "id": "spoken-upgrade",
   "metadata": {},
   "source": [
    "### Loading Data"
   ]
  },
  {
   "cell_type": "code",
   "execution_count": 6,
   "id": "bored-japan",
   "metadata": {},
   "outputs": [],
   "source": [
    "data = torchvision.datasets.ImageFolder(\n",
    "    root = \"./English/Fnt\",\n",
    "    transform = transforms.Compose([\n",
    "        transforms.Resize((48, 48)),\n",
    "        transforms.RandomHorizontalFlip(),\n",
    "        transforms.ToTensor(),\n",
    "        transforms.Normalize((0.5, ), (0.5,))\n",
    "    ])\n",
    ")"
   ]
  },
  {
   "cell_type": "code",
   "execution_count": 9,
   "id": "ordinary-manufacturer",
   "metadata": {},
   "outputs": [],
   "source": [
    "\"\"\"\n",
    "Data Pipeline to Prepare Train, Test and Validation Data\n",
    "\"\"\"\n",
    "\n",
    "def load_split(dataset, batch_size, test_split=0.3):\n",
    "    \n",
    "    shuffle_dataset = True\n",
    "    random_seed = 42\n",
    "    dataset_size = len(dataset)\n",
    "    indices = list(range(dataset_size))\n",
    "    split = int(np.floor(test_split * dataset_size))\n",
    "    \n",
    "    if shuffle_dataset:\n",
    "        np.random.seed(random_seed)\n",
    "        np.random.shuffle(indices)\n",
    "    \n",
    "    train_indices, test_indices = indices[split:], indices[:split]\n",
    "    \n",
    "    testset_size = len(test_indices)\n",
    "    indices = list(range(testset_size))\n",
    "    split = int(np.floor(0.5 * testset_size))\n",
    "    \n",
    "    if shuffle_dataset:\n",
    "        np.random.seed(random_seed)\n",
    "        np.random.shuffle(indices)\n",
    "    \n",
    "    val_indices, test_indices = indices[split:], indices[:split]\n",
    "    \n",
    "    # Create Data Smplers and Loaders    \n",
    "    train_sampler = torch.utils.data.SubsetRandomSampler(train_indices)\n",
    "    val_sampler = torch.utils.data.SubsetRandomSampler(val_indices)\n",
    "    test_sampler = torch.utils.data.SubsetRandomSampler(test_indices)\n",
    "    \n",
    "    train_loader = torch.utils.data.DataLoader(dataset, batch_size, sampler=train_sampler)\n",
    "    test_loader = torch.utils.data.DataLoader(dataset, batch_size, sampler=test_sampler)\n",
    "    val_loader = torch.utils.data.DataLoader(dataset, batch_size, sampler=val_sampler)\n",
    "    \n",
    "    return train_loader, test_loader, val_loader"
   ]
  },
  {
   "cell_type": "code",
   "execution_count": 10,
   "id": "electric-spirit",
   "metadata": {},
   "outputs": [],
   "source": [
    "batch_size = 36\n",
    "\n",
    "train_loader, test_loader, val_loader = load_split(data, batch_size, test_split=0.3)"
   ]
  },
  {
   "cell_type": "markdown",
   "id": "treated-angel",
   "metadata": {},
   "source": [
    "### Building Model"
   ]
  },
  {
   "cell_type": "code",
   "execution_count": 32,
   "id": "undefined-sunrise",
   "metadata": {},
   "outputs": [],
   "source": [
    "class Network(nn.Module):\n",
    "    def __init__(self):\n",
    "        super(Network, self).__init__()\n",
    "        \n",
    "        self.conv1 = nn.Conv2d(3, 16, 3)\n",
    "        self.conv2 = nn.Conv2d(16, 32, 3)\n",
    "        self.conv3 = nn.Conv2d(32, 64, 3)\n",
    "        self.fc1 = nn.Linear(64*9*9, 62)\n",
    "        \n",
    "        self.max_pool = nn.MaxPool2d(2, 2,ceil_mode=True)\n",
    "        self.dropout = nn.Dropout(0.2)\n",
    "        \n",
    "        self.conv_bn1 = nn.BatchNorm2d(48, 3)\n",
    "        self.conv_bn2 = nn.BatchNorm2d(16)\n",
    "        self.conv_bn3 = nn.BatchNorm2d(32)\n",
    "        self.conv_bn4 = nn.BatchNorm2d(64)\n",
    "        \n",
    "    def forward(self, x):\n",
    "        \n",
    "        x = F.relu(self.conv1(x))\n",
    "        x = self.max_pool(x)\n",
    "        x = self.conv_bn2(x)\n",
    "        \n",
    "        x = F.relu(self.conv2(x))\n",
    "        x = self.max_pool(x)\n",
    "        x = self.conv_bn3(x)\n",
    "        \n",
    "        x = F.relu(self.conv3(x))\n",
    "#         x = self.max_pool(x)\n",
    "        x = self.conv_bn4(x)\n",
    "    \n",
    "        x = x.view(-1,64 * 9 * 9)\n",
    "        \n",
    "        x = self.dropout(x)\n",
    "        x = self.fc1(x)\n",
    "        return x"
   ]
  },
  {
   "cell_type": "code",
   "execution_count": 33,
   "id": "finite-secret",
   "metadata": {},
   "outputs": [],
   "source": [
    "def one_hot(lables, pred_size):\n",
    "    one_hot_encoded = torch.zeros(len(labels), pred_size)\n",
    "    \n",
    "    y = 0\n",
    "    for x in lables:\n",
    "        one_hot_encoded[y][x] = 1\n",
    "        y += 1\n",
    "    return one_hot_encoded"
   ]
  },
  {
   "cell_type": "code",
   "execution_count": 34,
   "id": "together-happiness",
   "metadata": {},
   "outputs": [],
   "source": [
    "class MyLoss(torch.autograd.Function):\n",
    "    @staticmethod\n",
    "    def forward(ctx, pred, lables):\n",
    "        y = one_hot(lables, len(pred[0]))\n",
    "        if torch.cuda.is_available():\n",
    "            y = y.cuda()\n",
    "        ctx.save_for_backward(y, pred)\n",
    "        loss = - y * torch.log(pred)\n",
    "        loss = loss.sum()/len(lables)\n",
    "        return loss\n",
    "    \n",
    "    @staticmethod\n",
    "    def backward(ctx, grad_output):\n",
    "        y, pred = ctx.saved_tensors\n",
    "        grad_input = (-y / pred) - y\n",
    "        grad_input = grad_input/len(pred)\n",
    "        return grad_input, grad_output"
   ]
  },
  {
   "cell_type": "code",
   "execution_count": 41,
   "id": "comparative-hopkins",
   "metadata": {},
   "outputs": [],
   "source": [
    "class MyCEL(nn.Module):\n",
    "    \n",
    "    def __init__(self):\n",
    "        super(MyCEL, self).__init__()\n",
    "        \n",
    "    def forward(self, pred, labels):\n",
    "        y = one_hot(labels, len(pred[0]))\n",
    "        if torch.cuda.is_available():\n",
    "            y = y.cuda()\n",
    "        loss = - y * torch.log(pred)\n",
    "        loss = loss.sum()/len(labels)\n",
    "        return loss"
   ]
  },
  {
   "cell_type": "code",
   "execution_count": 42,
   "id": "equipped-fiction",
   "metadata": {},
   "outputs": [],
   "source": [
    "network = Network()\n",
    "use_cuda = True\n",
    "if use_cuda and torch.cuda.is_available():\n",
    "    network.cuda()\n",
    "    print(\"cuda utilized\")"
   ]
  },
  {
   "cell_type": "code",
   "execution_count": 51,
   "id": "reliable-graduation",
   "metadata": {},
   "outputs": [
    {
     "name": "stderr",
     "output_type": "stream",
     "text": [
      "100%|██████████████████████████████████████████████████████████████████████████████| 1225/1225 [01:45<00:00, 11.62it/s]\n"
     ]
    },
    {
     "name": "stdout",
     "output_type": "stream",
     "text": [
      "epoch : 1 Training Accuracy :  "
     ]
    },
    {
     "name": "stderr",
     "output_type": "stream",
     "text": [
      "\r",
      "  0%|                                                                                          | 0/263 [00:00<?, ?it/s]"
     ]
    },
    {
     "name": "stdout",
     "output_type": "stream",
     "text": [
      "tensor(0.8459) Train Loss 0.49068624040301967\n",
      "epoch :  1 Val Accuracy : "
     ]
    },
    {
     "name": "stderr",
     "output_type": "stream",
     "text": [
      "  1%|▉                                                                                 | 3/263 [00:00<00:28,  9.12it/s]"
     ]
    },
    {
     "name": "stdout",
     "output_type": "stream",
     "text": [
      "tensor(0.9722) Val Loss :  0.000598199693875621\n",
      "epoch :  1 Val Accuracy : tensor(0.9583) Val Loss :  0.001350741705966993\n",
      "epoch :  1 Val Accuracy : tensor(0.9537) Val Loss :  0.0018704436124504292\n"
     ]
    },
    {
     "name": "stderr",
     "output_type": "stream",
     "text": [
      "  2%|█▊                                                                                | 6/263 [00:00<00:23, 11.12it/s]"
     ]
    },
    {
     "name": "stdout",
     "output_type": "stream",
     "text": [
      "epoch :  1 Val Accuracy : tensor(0.9375) Val Loss :  0.004343289839450851\n",
      "epoch :  1 Val Accuracy : tensor(0.9444) Val Loss :  0.005379460270413881\n",
      "epoch :  1 Val Accuracy : tensor(0.9537) Val Loss :  0.005729839630679939\n"
     ]
    },
    {
     "name": "stderr",
     "output_type": "stream",
     "text": [
      "\r",
      "  3%|██▍                                                                               | 8/263 [00:00<00:24, 10.38it/s]"
     ]
    },
    {
     "name": "stdout",
     "output_type": "stream",
     "text": [
      "epoch :  1 Val Accuracy : tensor(0.9563) Val Loss :  0.006189924484196725\n",
      "epoch :  1 Val Accuracy : tensor(0.9479) Val Loss :  0.007927078966178822\n",
      "epoch :  1 Val Accuracy : "
     ]
    },
    {
     "name": "stderr",
     "output_type": "stream",
     "text": [
      "\r",
      "  4%|███                                                                              | 10/263 [00:01<00:24, 10.13it/s]"
     ]
    },
    {
     "name": "stdout",
     "output_type": "stream",
     "text": [
      "tensor(0.9506) Val Loss :  0.0088211943611446\n",
      "epoch :  1 Val Accuracy : tensor(0.9444) Val Loss :  0.01029429970018764\n"
     ]
    },
    {
     "name": "stderr",
     "output_type": "stream",
     "text": [
      "\r",
      "  5%|███▋                                                                             | 12/263 [00:01<00:24, 10.28it/s]"
     ]
    },
    {
     "name": "stdout",
     "output_type": "stream",
     "text": [
      "epoch :  1 Val Accuracy : tensor(0.9444) Val Loss :  0.01113317654726623\n",
      "epoch :  1 Val Accuracy : tensor(0.9491) Val Loss :  0.011624206013325956\n",
      "epoch :  1 Val Accuracy : "
     ]
    },
    {
     "name": "stderr",
     "output_type": "stream",
     "text": [
      "\r",
      "  5%|████▎                                                                            | 14/263 [00:01<00:24, 10.03it/s]"
     ]
    },
    {
     "name": "stdout",
     "output_type": "stream",
     "text": [
      "tensor(0.9509) Val Loss :  0.011985282877552192\n",
      "epoch :  1 Val Accuracy : tensor(0.9524) Val Loss :  0.012366159305599705\n",
      "epoch :  1 Val Accuracy : "
     ]
    },
    {
     "name": "stderr",
     "output_type": "stream",
     "text": [
      "\r",
      "  6%|████▉                                                                            | 16/263 [00:01<00:24, 10.11it/s]"
     ]
    },
    {
     "name": "stdout",
     "output_type": "stream",
     "text": [
      "tensor(0.9537) Val Loss :  0.01321584363060759\n",
      "epoch :  1 Val Accuracy : tensor(0.9566) Val Loss :  0.013579604913526614\n",
      "epoch :  1 Val Accuracy : "
     ]
    },
    {
     "name": "stderr",
     "output_type": "stream",
     "text": [
      "\r",
      "  7%|█████▌                                                                           | 18/263 [00:01<00:23, 10.42it/s]"
     ]
    },
    {
     "name": "stdout",
     "output_type": "stream",
     "text": [
      "tensor(0.9559) Val Loss :  0.014457330787589795\n",
      "epoch :  1 Val Accuracy : tensor(0.9522) Val Loss :  0.01606790959381785\n",
      "epoch :  1 Val Accuracy : tensor(0.9532) Val Loss :  0.016530930401027884\n"
     ]
    },
    {
     "name": "stderr",
     "output_type": "stream",
     "text": [
      "  8%|██████▊                                                                          | 22/263 [00:02<00:22, 10.65it/s]"
     ]
    },
    {
     "name": "stdout",
     "output_type": "stream",
     "text": [
      "epoch :  1 Val Accuracy : tensor(0.9500) Val Loss :  0.01769202752145071\n",
      "epoch :  1 Val Accuracy : tensor(0.9511) Val Loss :  0.01818004151374215\n",
      "epoch :  1 Val Accuracy : tensor(0.9495) Val Loss :  0.01905035658141053\n"
     ]
    },
    {
     "name": "stderr",
     "output_type": "stream",
     "text": [
      "\r",
      "  9%|███████▍                                                                         | 24/263 [00:02<00:22, 10.49it/s]"
     ]
    },
    {
     "name": "stdout",
     "output_type": "stream",
     "text": [
      "epoch :  1 Val Accuracy : tensor(0.9505) Val Loss :  0.01956721746536262\n",
      "epoch :  1 Val Accuracy : tensor(0.9502) Val Loss :  0.02031802799651831\n",
      "epoch :  1 Val Accuracy : tensor(0.9500) Val Loss :  0.020848639875990355\n"
     ]
    },
    {
     "name": "stderr",
     "output_type": "stream",
     "text": [
      "\r",
      " 10%|████████                                                                         | 26/263 [00:02<00:21, 10.81it/s]"
     ]
    },
    {
     "name": "stdout",
     "output_type": "stream",
     "text": [
      "epoch :  1 Val Accuracy : tensor(0.9509) Val Loss :  0.021724801978004298\n",
      "epoch :  1 Val Accuracy : tensor(0.9486) Val Loss :  0.022533382498039493\n",
      "epoch :  1 Val Accuracy : "
     ]
    },
    {
     "name": "stderr",
     "output_type": "stream",
     "text": [
      "\r",
      " 11%|████████▌                                                                        | 28/263 [00:02<00:22, 10.52it/s]"
     ]
    },
    {
     "name": "stdout",
     "output_type": "stream",
     "text": [
      "tensor(0.9504) Val Loss :  0.022811349892117676\n",
      "epoch :  1 Val Accuracy : tensor(0.9473) Val Loss :  0.02428235717032799\n",
      "epoch :  1 Val Accuracy : "
     ]
    },
    {
     "name": "stderr",
     "output_type": "stream",
     "text": [
      "\r",
      " 11%|█████████▏                                                                       | 30/263 [00:02<00:21, 10.61it/s]"
     ]
    },
    {
     "name": "stdout",
     "output_type": "stream",
     "text": [
      "tensor(0.9444) Val Loss :  0.025552340758390753\n",
      "epoch :  1 Val Accuracy : tensor(0.9444) Val Loss :  0.02642507321367699\n",
      "epoch :  1 Val Accuracy : "
     ]
    },
    {
     "name": "stderr",
     "output_type": "stream",
     "text": [
      "\r",
      " 12%|█████████▊                                                                       | 32/263 [00:03<00:22, 10.32it/s]"
     ]
    },
    {
     "name": "stdout",
     "output_type": "stream",
     "text": [
      "tensor(0.9436) Val Loss :  0.027306970959607185\n",
      "epoch :  1 Val Accuracy : tensor(0.9436) Val Loss :  0.02798974771803323\n",
      "epoch :  1 Val Accuracy : "
     ]
    },
    {
     "name": "stderr",
     "output_type": "stream",
     "text": [
      "\r",
      " 13%|██████████▍                                                                      | 34/263 [00:03<00:21, 10.50it/s]"
     ]
    },
    {
     "name": "stdout",
     "output_type": "stream",
     "text": [
      "tensor(0.9420) Val Loss :  0.029392469490209006\n",
      "epoch :  1 Val Accuracy : tensor(0.9413) Val Loss :  0.030291492863073095\n",
      "epoch :  1 Val Accuracy : "
     ]
    },
    {
     "name": "stderr",
     "output_type": "stream",
     "text": [
      " 14%|███████████▋                                                                     | 38/263 [00:03<00:20, 10.97it/s]"
     ]
    },
    {
     "name": "stdout",
     "output_type": "stream",
     "text": [
      "tensor(0.9406) Val Loss :  0.03138000195130649\n",
      "epoch :  1 Val Accuracy : tensor(0.9407) Val Loss :  0.0322402166946306\n",
      "epoch :  1 Val Accuracy : tensor(0.9415) Val Loss :  0.032707194128417244\n"
     ]
    },
    {
     "name": "stderr",
     "output_type": "stream",
     "text": [
      "\r",
      " 15%|████████████▎                                                                    | 40/263 [00:03<00:20, 11.10it/s]"
     ]
    },
    {
     "name": "stdout",
     "output_type": "stream",
     "text": [
      "epoch :  1 Val Accuracy : tensor(0.9423) Val Loss :  0.03321610056855379\n",
      "epoch :  1 Val Accuracy : tensor(0.9431) Val Loss :  0.03371111136425584\n",
      "epoch :  1 Val Accuracy : tensor(0.9417) Val Loss :  0.0351539010557385\n"
     ]
    },
    {
     "name": "stderr",
     "output_type": "stream",
     "text": [
      "\r",
      " 16%|████████████▉                                                                    | 42/263 [00:04<00:20, 10.90it/s]"
     ]
    },
    {
     "name": "stdout",
     "output_type": "stream",
     "text": [
      "epoch :  1 Val Accuracy : tensor(0.9418) Val Loss :  0.03593344805131847\n",
      "epoch :  1 Val Accuracy : tensor(0.9419) Val Loss :  0.03660626193869703\n",
      "epoch :  1"
     ]
    },
    {
     "name": "stderr",
     "output_type": "stream",
     "text": [
      "\r",
      " 17%|█████████████▌                                                                   | 44/263 [00:04<00:20, 10.87it/s]"
     ]
    },
    {
     "name": "stdout",
     "output_type": "stream",
     "text": [
      " Val Accuracy : tensor(0.9413) Val Loss :  0.03816538301257579\n",
      "epoch :  1 Val Accuracy : tensor(0.9420) Val Loss :  0.03898357189200224\n",
      "epoch :  1 Val Accuracy : "
     ]
    },
    {
     "name": "stderr",
     "output_type": "stream",
     "text": [
      "\r",
      " 17%|██████████████▏                                                                  | 46/263 [00:04<00:20, 10.80it/s]"
     ]
    },
    {
     "name": "stdout",
     "output_type": "stream",
     "text": [
      "tensor(0.9420) Val Loss :  0.03982725960446855\n",
      "epoch :  1 Val Accuracy : tensor(0.9421) Val Loss :  0.04060946812874464\n",
      "epoch :  1 Val Accuracy : "
     ]
    },
    {
     "name": "stderr",
     "output_type": "stream",
     "text": [
      " 19%|███████████████▍                                                                 | 50/263 [00:04<00:19, 11.20it/s]"
     ]
    },
    {
     "name": "stdout",
     "output_type": "stream",
     "text": [
      "tensor(0.9427) Val Loss :  0.04145801412968581\n",
      "epoch :  1 Val Accuracy : tensor(0.9427) Val Loss :  0.04246796644912473\n",
      "epoch :  1 Val Accuracy : tensor(0.9417) Val Loss :  0.043611190561559265\n"
     ]
    },
    {
     "name": "stderr",
     "output_type": "stream",
     "text": [
      "\r",
      " 20%|████████████████                                                                 | 52/263 [00:04<00:18, 11.15it/s]"
     ]
    },
    {
     "name": "stdout",
     "output_type": "stream",
     "text": [
      "epoch :  1 Val Accuracy : tensor(0.9423) Val Loss :  0.04440909261485923\n",
      "epoch :  1 Val Accuracy : tensor(0.9428) Val Loss :  0.045031372188615255\n",
      "epoch :  1 Val Accuracy : tensor(0.9413) Val Loss :  0.046361018666296404\n"
     ]
    },
    {
     "name": "stderr",
     "output_type": "stream",
     "text": [
      " 21%|█████████████████▏                                                               | 56/263 [00:05<00:18, 11.12it/s]"
     ]
    },
    {
     "name": "stdout",
     "output_type": "stream",
     "text": [
      "epoch :  1 Val Accuracy : tensor(0.9408) Val Loss :  0.04715624338320453\n",
      "epoch :  1 Val Accuracy : tensor(0.9409) Val Loss :  0.048081688214617536\n",
      "epoch :  1 Val Accuracy : tensor(0.9410) Val Loss :  0.04871151757784216\n"
     ]
    },
    {
     "name": "stderr",
     "output_type": "stream",
     "text": [
      "\r",
      " 22%|█████████████████▊                                                               | 58/263 [00:05<00:18, 11.06it/s]"
     ]
    },
    {
     "name": "stdout",
     "output_type": "stream",
     "text": [
      "epoch :  1 Val Accuracy : tensor(0.9415) Val Loss :  0.04925831551787518\n",
      "epoch :  1 Val Accuracy : tensor(0.9420) Val Loss :  0.04960174240993456\n",
      "epoch :  1 Val Accuracy : tensor(0.9421) Val Loss :  0.05023963840062174\n"
     ]
    },
    {
     "name": "stderr",
     "output_type": "stream",
     "text": [
      "\r",
      " 23%|██████████████████▍                                                              | 60/263 [00:05<00:18, 10.90it/s]"
     ]
    },
    {
     "name": "stdout",
     "output_type": "stream",
     "text": [
      "epoch :  1 Val Accuracy : tensor(0.9421) Val Loss :  0.05075591638287664\n",
      "epoch :  1 Val Accuracy : tensor(0.9431) Val Loss :  0.051356882990086485\n",
      "epoch :  1 Val Accuracy : "
     ]
    },
    {
     "name": "stderr",
     "output_type": "stream",
     "text": [
      "\r",
      " 24%|███████████████████                                                              | 62/263 [00:05<00:18, 10.81it/s]"
     ]
    },
    {
     "name": "stdout",
     "output_type": "stream",
     "text": [
      "tensor(0.9435) Val Loss :  0.052396712987595184\n",
      "epoch :  1 Val Accuracy : tensor(0.9440) Val Loss :  0.05334609514633512\n",
      "epoch :  1 Val Accuracy : "
     ]
    },
    {
     "name": "stderr",
     "output_type": "stream",
     "text": [
      "\r",
      " 24%|███████████████████▋                                                             | 64/263 [00:06<00:18, 10.66it/s]"
     ]
    },
    {
     "name": "stdout",
     "output_type": "stream",
     "text": [
      "tensor(0.9449) Val Loss :  0.05371948195614289\n",
      "epoch :  1 Val Accuracy : tensor(0.9449) Val Loss :  0.054628194879896286\n"
     ]
    },
    {
     "name": "stderr",
     "output_type": "stream",
     "text": [
      "\r",
      " 25%|████████████████████▎                                                            | 66/263 [00:06<00:19, 10.23it/s]"
     ]
    },
    {
     "name": "stdout",
     "output_type": "stream",
     "text": [
      "epoch :  1 Val Accuracy : tensor(0.9440) Val Loss :  0.0557452605987683\n",
      "epoch :  1 Val Accuracy : tensor(0.9440) Val Loss :  0.05648815436394949\n",
      "epoch :  "
     ]
    },
    {
     "name": "stderr",
     "output_type": "stream",
     "text": [
      "\r",
      " 26%|████████████████████▉                                                            | 68/263 [00:06<00:19, 10.22it/s]"
     ]
    },
    {
     "name": "stdout",
     "output_type": "stream",
     "text": [
      "1 Val Accuracy : tensor(0.9424) Val Loss :  0.05805066213748301\n",
      "epoch :  1 Val Accuracy : tensor(0.9420) Val Loss :  0.058985051631700855\n"
     ]
    },
    {
     "name": "stderr",
     "output_type": "stream",
     "text": [
      " 27%|██████████████████████▏                                                          | 72/263 [00:06<00:18, 10.32it/s]"
     ]
    },
    {
     "name": "stdout",
     "output_type": "stream",
     "text": [
      "epoch :  1 Val Accuracy : tensor(0.9405) Val Loss :  0.060188365611513306\n",
      "epoch :  1 Val Accuracy : tensor(0.9405) Val Loss :  0.06103812489559442\n",
      "epoch :  1 Val Accuracy : tensor(0.9414) Val Loss :  0.061627330407216976\n"
     ]
    },
    {
     "name": "stderr",
     "output_type": "stream",
     "text": [
      "\r",
      " 28%|██████████████████████▊                                                          | 74/263 [00:07<00:18, 10.33it/s]"
     ]
    },
    {
     "name": "stdout",
     "output_type": "stream",
     "text": [
      "epoch :  1 Val Accuracy : tensor(0.9422) Val Loss :  0.06228192855989979\n",
      "epoch :  1 Val Accuracy : tensor(0.9426) Val Loss :  0.0626595010095676\n",
      "epoch :  1 Val Accuracy : "
     ]
    },
    {
     "name": "stderr",
     "output_type": "stream",
     "text": [
      "\r",
      " 29%|███████████████████████▍                                                         | 76/263 [00:07<00:17, 10.99it/s]"
     ]
    },
    {
     "name": "stdout",
     "output_type": "stream",
     "text": [
      "tensor(0.9422) Val Loss :  0.0638415365844625\n",
      "epoch :  1 Val Accuracy : tensor(0.9419) Val Loss :  0.06448327123892171\n",
      "epoch :  1 Val Accuracy : tensor(0.9423) Val Loss :  0.06487055544957462\n"
     ]
    },
    {
     "name": "stderr",
     "output_type": "stream",
     "text": [
      "\r",
      " 30%|████████████████████████                                                         | 78/263 [00:07<00:16, 11.43it/s]"
     ]
    },
    {
     "name": "stdout",
     "output_type": "stream",
     "text": [
      "epoch :  1 Val Accuracy : tensor(0.9423) Val Loss :  0.06561555611430012\n",
      "epoch :  1 Val Accuracy : tensor(0.9416) Val Loss :  0.06666274241281553\n",
      "epoch :  1 Val Accuracy : "
     ]
    },
    {
     "name": "stderr",
     "output_type": "stream",
     "text": [
      "\r",
      " 30%|████████████████████████▋                                                        | 80/263 [00:07<00:16, 11.23it/s]"
     ]
    },
    {
     "name": "stdout",
     "output_type": "stream",
     "text": [
      "tensor(0.9406) Val Loss :  0.06842260649109068\n",
      "epoch :  1 Val Accuracy : tensor(0.9407) Val Loss :  0.0689719507166188\n",
      "epoch :  1 Val Accuracy : "
     ]
    },
    {
     "name": "stderr",
     "output_type": "stream",
     "text": [
      "\r",
      " 31%|█████████████████████████▎                                                       | 82/263 [00:07<00:16, 10.78it/s]"
     ]
    },
    {
     "name": "stdout",
     "output_type": "stream",
     "text": [
      "tensor(0.9414) Val Loss :  0.06934618649600577\n",
      "epoch :  1 Val Accuracy : tensor(0.9408) Val Loss :  0.07067513392225418\n",
      "epoch :  1 Val Accuracy : "
     ]
    },
    {
     "name": "stderr",
     "output_type": "stream",
     "text": [
      " 33%|██████████████████████████▍                                                      | 86/263 [00:08<00:15, 11.10it/s]"
     ]
    },
    {
     "name": "stdout",
     "output_type": "stream",
     "text": [
      "tensor(0.9405) Val Loss :  0.07152835435513762\n",
      "epoch :  1 Val Accuracy : tensor(0.9405) Val Loss :  0.07278689373808668\n",
      "epoch :  1 Val Accuracy : tensor(0.9412) Val Loss :  0.0732070489754695\n"
     ]
    },
    {
     "name": "stderr",
     "output_type": "stream",
     "text": [
      "\r",
      " 33%|███████████████████████████                                                      | 88/263 [00:08<00:16, 10.58it/s]"
     ]
    },
    {
     "name": "stdout",
     "output_type": "stream",
     "text": [
      "epoch :  1 Val Accuracy : tensor(0.9409) Val Loss :  0.07386172146398305\n",
      "epoch :  1 Val Accuracy : tensor(0.9410) Val Loss :  0.0746555345933247\n",
      "epoch :  1 Val Accuracy : "
     ]
    },
    {
     "name": "stderr",
     "output_type": "stream",
     "text": [
      "\r",
      " 34%|███████████████████████████▋                                                     | 90/263 [00:08<00:16, 10.74it/s]"
     ]
    },
    {
     "name": "stdout",
     "output_type": "stream",
     "text": [
      "tensor(0.9413) Val Loss :  0.07509949477566512\n",
      "epoch :  1 Val Accuracy : tensor(0.9410) Val Loss :  0.07642379326625469\n",
      "epoch :  1 Val Accuracy : tensor(0.9408) Val Loss :  0.07695454809488905\n"
     ]
    },
    {
     "name": "stderr",
     "output_type": "stream",
     "text": [
      " 36%|████████████████████████████▉                                                    | 94/263 [00:08<00:15, 11.13it/s]"
     ]
    },
    {
     "name": "stdout",
     "output_type": "stream",
     "text": [
      "epoch :  1 Val Accuracy : tensor(0.9408) Val Loss :  0.07772251836134\n",
      "epoch :  1 Val Accuracy : tensor(0.9409) Val Loss :  0.07879215680034442\n",
      "epoch :  1 Val Accuracy : tensor(0.9397) Val Loss :  0.08082001197360768\n"
     ]
    },
    {
     "name": "stderr",
     "output_type": "stream",
     "text": [
      "\r",
      " 37%|█████████████████████████████▌                                                   | 96/263 [00:09<00:15, 11.08it/s]"
     ]
    },
    {
     "name": "stdout",
     "output_type": "stream",
     "text": [
      "epoch :  1 Val Accuracy : tensor(0.9398) Val Loss :  0.08147753709962613\n",
      "epoch :  1 Val Accuracy : tensor(0.9401) Val Loss :  0.08197727229998593\n",
      "epoch :  1 Val Accuracy : tensor(0.9404) Val Loss :  0.08250775630143206\n"
     ]
    },
    {
     "name": "stderr",
     "output_type": "stream",
     "text": [
      "\r",
      " 37%|██████████████████████████████▏                                                  | 98/263 [00:09<00:14, 11.25it/s]"
     ]
    },
    {
     "name": "stdout",
     "output_type": "stream",
     "text": [
      "epoch :  1 Val Accuracy : tensor(0.9396) Val Loss :  0.08389167303481483\n",
      "epoch :  1 Val Accuracy : tensor(0.9388) Val Loss :  0.08565853544627759\n",
      "epoch :  1 Val Accuracy : "
     ]
    },
    {
     "name": "stderr",
     "output_type": "stream",
     "text": [
      "\r",
      " 38%|██████████████████████████████▍                                                 | 100/263 [00:09<00:14, 11.09it/s]"
     ]
    },
    {
     "name": "stdout",
     "output_type": "stream",
     "text": [
      "tensor(0.9389) Val Loss :  0.08664465463320112\n",
      "epoch :  1 Val Accuracy : tensor(0.9387) Val Loss :  0.08757215548490843\n"
     ]
    },
    {
     "name": "stderr",
     "output_type": "stream",
     "text": [
      " 40%|███████████████████████████████▋                                                | 104/263 [00:09<00:14, 10.79it/s]"
     ]
    },
    {
     "name": "stdout",
     "output_type": "stream",
     "text": [
      "epoch :  1 Val Accuracy : tensor(0.9385) Val Loss :  0.08858630392601281\n",
      "epoch :  1 Val Accuracy : tensor(0.9382) Val Loss :  0.08965224234436854\n",
      "epoch :  1 Val Accuracy : tensor(0.9383) Val Loss :  0.09083286134575709\n"
     ]
    },
    {
     "name": "stderr",
     "output_type": "stream",
     "text": [
      "\r",
      " 40%|████████████████████████████████▏                                               | 106/263 [00:09<00:14, 10.81it/s]"
     ]
    },
    {
     "name": "stdout",
     "output_type": "stream",
     "text": [
      "epoch :  1 Val Accuracy : tensor(0.9386) Val Loss :  0.0918996200645378\n",
      "epoch :  1 Val Accuracy : tensor(0.9382) Val Loss :  0.09349648764944801\n",
      "epoch :  1 Val Accuracy : "
     ]
    },
    {
     "name": "stderr",
     "output_type": "stream",
     "text": [
      "\r",
      " 41%|████████████████████████████████▊                                               | 108/263 [00:10<00:14, 10.87it/s]"
     ]
    },
    {
     "name": "stdout",
     "output_type": "stream",
     "text": [
      "tensor(0.9385) Val Loss :  0.09403513074487788\n",
      "epoch :  1 Val Accuracy : tensor(0.9390) Val Loss :  0.09450407365882352\n",
      "epoch :  1 Val Accuracy : tensor(0.9388) Val Loss :  0.0955613019801818\n"
     ]
    },
    {
     "name": "stderr",
     "output_type": "stream",
     "text": [
      "\r",
      " 42%|█████████████████████████████████▍                                              | 110/263 [00:10<00:13, 11.32it/s]"
     ]
    },
    {
     "name": "stdout",
     "output_type": "stream",
     "text": [
      "epoch :  1 Val Accuracy : tensor(0.9386) Val Loss :  0.09655812530009919\n",
      "epoch :  1 Val Accuracy : tensor(0.9384) Val Loss :  0.09788638647971498\n",
      "epoch :  1 "
     ]
    },
    {
     "name": "stderr",
     "output_type": "stream",
     "text": [
      " 43%|██████████████████████████████████▋                                             | 114/263 [00:10<00:13, 11.08it/s]"
     ]
    },
    {
     "name": "stdout",
     "output_type": "stream",
     "text": [
      "Val Accuracy : tensor(0.9380) Val Loss :  0.09960448379299033\n",
      "epoch :  1 Val Accuracy : tensor(0.9378) Val Loss :  0.10090910164575613\n",
      "epoch :  1 Val Accuracy : tensor(0.9379) Val Loss :  0.1014638048501069\n"
     ]
    },
    {
     "name": "stderr",
     "output_type": "stream",
     "text": [
      "\r",
      " 44%|███████████████████████████████████▎                                            | 116/263 [00:10<00:13, 11.07it/s]"
     ]
    },
    {
     "name": "stdout",
     "output_type": "stream",
     "text": [
      "epoch :  1 Val Accuracy : tensor(0.9382) Val Loss :  0.10185820408193784\n",
      "epoch :  1 Val Accuracy : tensor(0.9385) Val Loss :  0.10257583958567776\n"
     ]
    },
    {
     "name": "stderr",
     "output_type": "stream",
     "text": [
      "\r",
      " 45%|███████████████████████████████████▉                                            | 118/263 [00:11<00:13, 10.66it/s]"
     ]
    },
    {
     "name": "stdout",
     "output_type": "stream",
     "text": [
      "epoch :  1 Val Accuracy : tensor(0.9380) Val Loss :  0.10388071070152544\n",
      "epoch :  1 Val Accuracy : tensor(0.9379) Val Loss :  0.10509918579130571\n",
      "epoch :  1 Val Accuracy : "
     ]
    },
    {
     "name": "stderr",
     "output_type": "stream",
     "text": [
      "\r",
      " 46%|████████████████████████████████████▌                                           | 120/263 [00:11<00:13, 10.72it/s]"
     ]
    },
    {
     "name": "stdout",
     "output_type": "stream",
     "text": [
      "tensor(0.9379) Val Loss :  0.10584700203893756\n",
      "epoch :  1 Val Accuracy : tensor(0.9380) Val Loss :  0.10696519254051687\n",
      "epoch :  1 Val Accuracy : tensor(0.9380) Val Loss :  0.1081249818715759\n"
     ]
    },
    {
     "name": "stderr",
     "output_type": "stream",
     "text": [
      "\r",
      " 46%|█████████████████████████████████████                                           | 122/263 [00:11<00:13, 10.42it/s]"
     ]
    },
    {
     "name": "stdout",
     "output_type": "stream",
     "text": [
      "epoch :  1 Val Accuracy : tensor(0.9383) Val Loss :  0.10872787871741524\n",
      "epoch :  1 Val Accuracy : tensor(0.9379) Val Loss :  0.10986984693958732\n"
     ]
    },
    {
     "name": "stderr",
     "output_type": "stream",
     "text": [
      "\r",
      " 47%|█████████████████████████████████████▋                                          | 124/263 [00:11<00:14,  9.93it/s]"
     ]
    },
    {
     "name": "stdout",
     "output_type": "stream",
     "text": [
      "epoch :  1 Val Accuracy : tensor(0.9371) Val Loss :  0.11180355827618008\n",
      "epoch :  1 Val Accuracy : tensor(0.9371) Val Loss :  0.11272582729053135\n"
     ]
    },
    {
     "name": "stderr",
     "output_type": "stream",
     "text": [
      " 49%|██████████████████████████████████████▉                                         | 128/263 [00:12<00:13, 10.08it/s]"
     ]
    },
    {
     "name": "stdout",
     "output_type": "stream",
     "text": [
      "epoch :  1 Val Accuracy : tensor(0.9372) Val Loss :  0.11375140463897937\n",
      "epoch :  1 Val Accuracy : tensor(0.9372) Val Loss :  0.11463429560679447\n",
      "epoch :  1 Val Accuracy : tensor(0.9377) Val Loss :  0.11494118468163131\n"
     ]
    },
    {
     "name": "stderr",
     "output_type": "stream",
     "text": [
      "\r",
      " 49%|███████████████████████████████████████▌                                        | 130/263 [00:12<00:12, 10.42it/s]"
     ]
    },
    {
     "name": "stdout",
     "output_type": "stream",
     "text": [
      "epoch :  1 Val Accuracy : tensor(0.9380) Val Loss :  0.11581421550009187\n",
      "epoch :  1 Val Accuracy : tensor(0.9372) Val Loss :  0.11765269413873723\n"
     ]
    },
    {
     "name": "stderr",
     "output_type": "stream",
     "text": [
      "\r",
      " 50%|████████████████████████████████████████▏                                       | 132/263 [00:12<00:13, 10.03it/s]"
     ]
    },
    {
     "name": "stdout",
     "output_type": "stream",
     "text": [
      "epoch :  1 Val Accuracy : tensor(0.9372) Val Loss :  0.11880603358999405\n",
      "epoch :  1 Val Accuracy : tensor(0.9373) Val Loss :  0.11943216995821253\n",
      "epoch :  1 Val Accuracy : "
     ]
    },
    {
     "name": "stderr",
     "output_type": "stream",
     "text": [
      "\r",
      " 51%|████████████████████████████████████████▊                                       | 134/263 [00:12<00:12, 10.29it/s]"
     ]
    },
    {
     "name": "stdout",
     "output_type": "stream",
     "text": [
      "tensor(0.9373) Val Loss :  0.12062083909946703\n",
      "epoch :  1 Val Accuracy : tensor(0.9370) Val Loss :  0.12167778095591658\n",
      "epoch :  1 Val Accuracy : tensor(0.9372) Val Loss :  0.12220257849294423\n"
     ]
    },
    {
     "name": "stderr",
     "output_type": "stream",
     "text": [
      "\r",
      " 52%|█████████████████████████████████████████▎                                      | 136/263 [00:12<00:12, 10.39it/s]"
     ]
    },
    {
     "name": "stdout",
     "output_type": "stream",
     "text": [
      "epoch :  1 Val Accuracy : tensor(0.9373) Val Loss :  0.12330098149894309\n",
      "epoch :  1 Val Accuracy : tensor(0.9373) Val Loss :  0.12383310967071881\n",
      "epoch :  1 Val Accuracy : "
     ]
    },
    {
     "name": "stderr",
     "output_type": "stream",
     "text": [
      "\r",
      " 52%|█████████████████████████████████████████▉                                      | 138/263 [00:13<00:12, 10.25it/s]"
     ]
    },
    {
     "name": "stdout",
     "output_type": "stream",
     "text": [
      "tensor(0.9368) Val Loss :  0.1250876911239479\n",
      "epoch :  1 Val Accuracy : tensor(0.9371) Val Loss :  0.1257411944095626\n",
      "epoch :  "
     ]
    },
    {
     "name": "stderr",
     "output_type": "stream",
     "text": [
      "\r",
      " 53%|██████████████████████████████████████████▌                                     | 140/263 [00:13<00:11, 10.28it/s]"
     ]
    },
    {
     "name": "stdout",
     "output_type": "stream",
     "text": [
      "1 Val Accuracy : tensor(0.9367) Val Loss :  0.1268923065055006\n",
      "epoch :  1 Val Accuracy : tensor(0.9370) Val Loss :  0.12753307978009995\n",
      "epoch :  1 Val Accuracy : "
     ]
    },
    {
     "name": "stderr",
     "output_type": "stream",
     "text": [
      " 55%|███████████████████████████████████████████▊                                    | 144/263 [00:13<00:11, 10.79it/s]"
     ]
    },
    {
     "name": "stdout",
     "output_type": "stream",
     "text": [
      "tensor(0.9368) Val Loss :  0.12876550802259845\n",
      "epoch :  1 Val Accuracy : tensor(0.9365) Val Loss :  0.13033778971139015\n",
      "epoch :  1 Val Accuracy : tensor(0.9360) Val Loss :  0.13221702546221223\n"
     ]
    },
    {
     "name": "stderr",
     "output_type": "stream",
     "text": [
      "\r",
      " 56%|████████████████████████████████████████████▍                                   | 146/263 [00:13<00:10, 10.73it/s]"
     ]
    },
    {
     "name": "stdout",
     "output_type": "stream",
     "text": [
      "epoch :  1 Val Accuracy : tensor(0.9358) Val Loss :  0.13320282860853827\n",
      "epoch :  1 Val Accuracy : tensor(0.9357) Val Loss :  0.13411948883714786\n"
     ]
    },
    {
     "name": "stderr",
     "output_type": "stream",
     "text": [
      "\r",
      " 56%|█████████████████████████████████████████████                                   | 148/263 [00:13<00:11, 10.19it/s]"
     ]
    },
    {
     "name": "stdout",
     "output_type": "stream",
     "text": [
      "epoch :  1 Val Accuracy : tensor(0.9361) Val Loss :  0.13466602665843166\n",
      "epoch :  1 Val Accuracy : tensor(0.9354) Val Loss :  0.13641404301041432\n",
      "epoch :  1 Val Accuracy : "
     ]
    },
    {
     "name": "stderr",
     "output_type": "stream",
     "text": [
      "\r",
      " 57%|█████████████████████████████████████████████▋                                  | 150/263 [00:14<00:10, 10.72it/s]"
     ]
    },
    {
     "name": "stdout",
     "output_type": "stream",
     "text": [
      "tensor(0.9348) Val Loss :  0.13787820595298883\n",
      "epoch :  1 Val Accuracy : tensor(0.9348) Val Loss :  0.139115941048575\n",
      "epoch :  1 Val Accuracy : tensor(0.9351) Val Loss :  0.13966235739423294\n"
     ]
    },
    {
     "name": "stderr",
     "output_type": "stream",
     "text": [
      " 59%|██████████████████████████████████████████████▊                                 | 154/263 [00:14<00:09, 11.19it/s]"
     ]
    },
    {
     "name": "stdout",
     "output_type": "stream",
     "text": [
      "epoch :  1 Val Accuracy : tensor(0.9351) Val Loss :  0.14108594407826774\n",
      "epoch :  1 Val Accuracy : tensor(0.9354) Val Loss :  0.141601550545076\n",
      "epoch :  1 Val Accuracy : tensor(0.9351) Val Loss :  0.1425110759503941\n"
     ]
    },
    {
     "name": "stderr",
     "output_type": "stream",
     "text": [
      "\r",
      " 59%|███████████████████████████████████████████████▍                                | 156/263 [00:14<00:09, 11.34it/s]"
     ]
    },
    {
     "name": "stdout",
     "output_type": "stream",
     "text": [
      "epoch :  1 Val Accuracy : tensor(0.9355) Val Loss :  0.14290032059860774\n",
      "epoch :  1 Val Accuracy : tensor(0.9355) Val Loss :  0.143626971871454\n",
      "epoch :  1 Val Accuracy : tensor(0.9354) Val Loss :  0.14501061279170865\n"
     ]
    },
    {
     "name": "stderr",
     "output_type": "stream",
     "text": [
      "\r",
      " 60%|████████████████████████████████████████████████                                | 158/263 [00:14<00:09, 11.53it/s]"
     ]
    },
    {
     "name": "stdout",
     "output_type": "stream",
     "text": [
      "epoch :  1 Val Accuracy : tensor(0.9353) Val Loss :  0.14575715955106025\n",
      "epoch :  1 Val Accuracy : tensor(0.9350) Val Loss :  0.14687580524628607\n",
      "epoch :  1 Val Accuracy : "
     ]
    },
    {
     "name": "stderr",
     "output_type": "stream",
     "text": [
      "\r",
      " 61%|████████████████████████████████████████████████▋                               | 160/263 [00:15<00:08, 11.45it/s]"
     ]
    },
    {
     "name": "stdout",
     "output_type": "stream",
     "text": [
      "tensor(0.9352) Val Loss :  0.1476807142448516\n",
      "epoch :  1 Val Accuracy : tensor(0.9350) Val Loss :  0.14902733784778036\n",
      "epoch :  1 Val Accuracy : "
     ]
    },
    {
     "name": "stderr",
     "output_type": "stream",
     "text": [
      " 62%|█████████████████████████████████████████████████▉                              | 164/263 [00:15<00:08, 11.19it/s]"
     ]
    },
    {
     "name": "stdout",
     "output_type": "stream",
     "text": [
      "tensor(0.9348) Val Loss :  0.1503544894291421\n",
      "epoch :  1 Val Accuracy : tensor(0.9347) Val Loss :  0.15133184899961993\n",
      "epoch :  1 Val Accuracy : tensor(0.9348) Val Loss :  0.15197962247713437\n"
     ]
    },
    {
     "name": "stderr",
     "output_type": "stream",
     "text": [
      "\r",
      " 63%|██████████████████████████████████████████████████▍                             | 166/263 [00:15<00:08, 11.27it/s]"
     ]
    },
    {
     "name": "stdout",
     "output_type": "stream",
     "text": [
      "epoch :  1 Val Accuracy : tensor(0.9348) Val Loss :  0.15290076149620485\n",
      "epoch :  1 Val Accuracy : tensor(0.9347) Val Loss :  0.153666395566536\n",
      "epoch :  1 Val Accuracy : tensor(0.9350) Val Loss :  0.1540196390942929\n"
     ]
    },
    {
     "name": "stderr",
     "output_type": "stream",
     "text": [
      "\r",
      " 64%|███████████████████████████████████████████████████                             | 168/263 [00:15<00:08, 11.43it/s]"
     ]
    },
    {
     "name": "stdout",
     "output_type": "stream",
     "text": [
      "epoch :  1 Val Accuracy : tensor(0.9349) Val Loss :  0.15484685620767535\n",
      "epoch :  1 Val Accuracy : tensor(0.9346) Val Loss :  0.15595916069392468\n",
      "epoch :  1 Val Accuracy :"
     ]
    },
    {
     "name": "stderr",
     "output_type": "stream",
     "text": [
      "\r",
      " 65%|███████████████████████████████████████████████████▋                            | 170/263 [00:15<00:08, 11.29it/s]"
     ]
    },
    {
     "name": "stdout",
     "output_type": "stream",
     "text": [
      " tensor(0.9348) Val Loss :  0.15661406242235532\n",
      "epoch :  1 Val Accuracy : tensor(0.9349) Val Loss :  0.15738649221540857\n",
      "epoch :  1 Val Accuracy : "
     ]
    },
    {
     "name": "stderr",
     "output_type": "stream",
     "text": [
      " 66%|████████████████████████████████████████████████████▉                           | 174/263 [00:16<00:07, 11.60it/s]"
     ]
    },
    {
     "name": "stdout",
     "output_type": "stream",
     "text": [
      "tensor(0.9344) Val Loss :  0.15895025202643281\n",
      "epoch :  1 Val Accuracy : tensor(0.9345) Val Loss :  0.15954760818993638\n",
      "epoch :  1 Val Accuracy : tensor(0.9339) Val Loss :  0.16131160855859858\n"
     ]
    },
    {
     "name": "stderr",
     "output_type": "stream",
     "text": [
      "\r",
      " 67%|█████████████████████████████████████████████████████▌                          | 176/263 [00:16<00:07, 11.10it/s]"
     ]
    },
    {
     "name": "stdout",
     "output_type": "stream",
     "text": [
      "epoch :  1 Val Accuracy : tensor(0.9341) Val Loss :  0.1622523870248305\n",
      "epoch :  1 Val Accuracy : tensor(0.9342) Val Loss :  0.16291794115712888\n",
      "epoch :  1 Val Accuracy : tensor(0.9341) Val Loss :  0.16394448067865444\n"
     ]
    },
    {
     "name": "stderr",
     "output_type": "stream",
     "text": [
      "\r",
      " 68%|██████████████████████████████████████████████████████▏                         | 178/263 [00:16<00:07, 11.61it/s]"
     ]
    },
    {
     "name": "stdout",
     "output_type": "stream",
     "text": [
      "epoch :  1 Val Accuracy : tensor(0.9345) Val Loss :  0.16426054246638663\n",
      "epoch :  1 Val Accuracy : tensor(0.9347) Val Loss :  0.16479178727692978\n",
      "epoch :  1 Val Accuracy : "
     ]
    },
    {
     "name": "stderr",
     "output_type": "stream",
     "text": [
      "\r",
      " 68%|██████████████████████████████████████████████████████▊                         | 180/263 [00:16<00:07, 11.36it/s]"
     ]
    },
    {
     "name": "stdout",
     "output_type": "stream",
     "text": [
      "tensor(0.9349) Val Loss :  0.1655732927270262\n",
      "epoch :  1 Val Accuracy : tensor(0.9349) Val Loss :  0.1661177244419834\n",
      "epoch :  1 Val Accuracy : "
     ]
    },
    {
     "name": "stderr",
     "output_type": "stream",
     "text": [
      " 70%|███████████████████████████████████████████████████████▉                        | 184/263 [00:17<00:06, 11.36it/s]"
     ]
    },
    {
     "name": "stdout",
     "output_type": "stream",
     "text": [
      "tensor(0.9348) Val Loss :  0.16730478131159177\n",
      "epoch :  1 Val Accuracy : tensor(0.9349) Val Loss :  0.16784549691491255\n",
      "epoch :  1 Val Accuracy : tensor(0.9349) Val Loss :  0.16862923991884116\n"
     ]
    },
    {
     "name": "stderr",
     "output_type": "stream",
     "text": [
      "\r",
      " 71%|████████████████████████████████████████████████████████▌                       | 186/263 [00:17<00:06, 11.21it/s]"
     ]
    },
    {
     "name": "stdout",
     "output_type": "stream",
     "text": [
      "epoch :  1 Val Accuracy : tensor(0.9348) Val Loss :  0.16984724893656067\n",
      "epoch :  1 Val Accuracy : tensor(0.9350) Val Loss :  0.17066222732397993\n",
      "epoch :  1 Val Accuracy : tensor(0.9349) Val Loss :  0.1718463128000611\n"
     ]
    },
    {
     "name": "stderr",
     "output_type": "stream",
     "text": [
      "\r",
      " 71%|█████████████████████████████████████████████████████████▏                      | 188/263 [00:17<00:06, 11.44it/s]"
     ]
    },
    {
     "name": "stdout",
     "output_type": "stream",
     "text": [
      "epoch :  1 Val Accuracy : tensor(0.9345) Val Loss :  0.1735150175799435\n",
      "epoch :  1 Val Accuracy : tensor(0.9343) Val Loss :  0.17474134552501452\n",
      "epoch :  1 Val Accuracy : "
     ]
    },
    {
     "name": "stderr",
     "output_type": "stream",
     "text": [
      " 73%|██████████████████████████████████████████████████████████▍                     | 192/263 [00:17<00:06, 11.36it/s]"
     ]
    },
    {
     "name": "stdout",
     "output_type": "stream",
     "text": [
      "tensor(0.9345) Val Loss :  0.17522182411907292\n",
      "epoch :  1 Val Accuracy : tensor(0.9344) Val Loss :  0.17601968169552293\n",
      "epoch :  1 Val Accuracy : tensor(0.9346) Val Loss :  0.17651848208881604\n"
     ]
    },
    {
     "name": "stderr",
     "output_type": "stream",
     "text": [
      "\r",
      " 74%|███████████████████████████████████████████████████████████                     | 194/263 [00:18<00:05, 11.55it/s]"
     ]
    },
    {
     "name": "stdout",
     "output_type": "stream",
     "text": [
      "epoch :  1 Val Accuracy : tensor(0.9347) Val Loss :  0.1776533323152437\n",
      "epoch :  1 Val Accuracy : tensor(0.9347) Val Loss :  0.17858469630715512\n",
      "epoch :  1 Val Accuracy : tensor(0.9348) Val Loss :  0.17962337953849436\n"
     ]
    },
    {
     "name": "stderr",
     "output_type": "stream",
     "text": [
      " 75%|████████████████████████████████████████████████████████████▏                   | 198/263 [00:18<00:05, 12.19it/s]"
     ]
    },
    {
     "name": "stdout",
     "output_type": "stream",
     "text": [
      "epoch :  1 Val Accuracy : tensor(0.9347) Val Loss :  0.18082531785217074\n",
      "epoch :  1 Val Accuracy : tensor(0.9349) Val Loss :  0.18142843192634472\n",
      "epoch :  1 Val Accuracy : tensor(0.9346) Val Loss :  0.18256646862161477\n"
     ]
    },
    {
     "name": "stderr",
     "output_type": "stream",
     "text": [
      "\r",
      " 76%|████████████████████████████████████████████████████████████▊                   | 200/263 [00:18<00:05, 11.96it/s]"
     ]
    },
    {
     "name": "stdout",
     "output_type": "stream",
     "text": [
      "epoch :  1 Val Accuracy : tensor(0.9347) Val Loss :  0.18326132801209113\n",
      "epoch :  1 Val Accuracy : tensor(0.9347) Val Loss :  0.1846264232757427\n",
      "epoch :  1 Val Accuracy : tensor(0.9344) Val Loss :  0.18636775665523433\n"
     ]
    },
    {
     "name": "stderr",
     "output_type": "stream",
     "text": [
      " 78%|██████████████████████████████████████████████████████████████                  | 204/263 [00:18<00:05, 11.59it/s]"
     ]
    },
    {
     "name": "stdout",
     "output_type": "stream",
     "text": [
      "epoch :  1 Val Accuracy : tensor(0.9341) Val Loss :  0.1877209680445294\n",
      "epoch :  1 Val Accuracy : tensor(0.9340) Val Loss :  0.18867837411029256\n",
      "epoch :  1 Val Accuracy : tensor(0.9342) Val Loss :  0.18915445102598277\n"
     ]
    },
    {
     "name": "stderr",
     "output_type": "stream",
     "text": [
      "\r",
      " 78%|██████████████████████████████████████████████████████████████▋                 | 206/263 [00:19<00:04, 11.83it/s]"
     ]
    },
    {
     "name": "stdout",
     "output_type": "stream",
     "text": [
      "epoch :  1 Val Accuracy : tensor(0.9344) Val Loss :  0.1900131092495338\n",
      "epoch :  1 Val Accuracy : tensor(0.9346) Val Loss :  0.19066910289879535\n",
      "epoch :  1 Val Accuracy : tensor(0.9344) Val Loss :  0.1917993173343147\n"
     ]
    },
    {
     "name": "stderr",
     "output_type": "stream",
     "text": [
      " 80%|███████████████████████████████████████████████████████████████▉                | 210/263 [00:19<00:04, 11.80it/s]"
     ]
    },
    {
     "name": "stdout",
     "output_type": "stream",
     "text": [
      "epoch :  1 Val Accuracy : tensor(0.9346) Val Loss :  0.19246841216381966\n",
      "epoch :  1 Val Accuracy : tensor(0.9343) Val Loss :  0.19364290027224065\n",
      "epoch :  1 Val Accuracy : tensor(0.9343) Val Loss :  0.19488892800567723\n"
     ]
    },
    {
     "name": "stderr",
     "output_type": "stream",
     "text": [
      "\r",
      " 81%|████████████████████████████████████████████████████████████████▍               | 212/263 [00:19<00:04, 11.59it/s]"
     ]
    },
    {
     "name": "stdout",
     "output_type": "stream",
     "text": [
      "epoch :  1 Val Accuracy : tensor(0.9344) Val Loss :  0.195365975026622\n",
      "epoch :  1 Val Accuracy : tensor(0.9345) Val Loss :  0.1961449264856799\n",
      "epoch :  1 Val Accuracy : "
     ]
    },
    {
     "name": "stderr",
     "output_type": "stream",
     "text": [
      "\r",
      " 81%|█████████████████████████████████████████████████████████████████               | 214/263 [00:19<00:04, 11.67it/s]"
     ]
    },
    {
     "name": "stdout",
     "output_type": "stream",
     "text": [
      "tensor(0.9341) Val Loss :  0.1977877016586496\n",
      "epoch :  1 Val Accuracy : tensor(0.9342) Val Loss :  0.1988294451238991\n",
      "epoch :  1 Val Accuracy : tensor(0.9342) Val Loss :  0.19969941888132023\n"
     ]
    },
    {
     "name": "stderr",
     "output_type": "stream",
     "text": [
      " 83%|██████████████████████████████████████████████████████████████████▎             | 218/263 [00:20<00:03, 11.77it/s]"
     ]
    },
    {
     "name": "stdout",
     "output_type": "stream",
     "text": [
      "epoch :  1 Val Accuracy : tensor(0.9344) Val Loss :  0.20048387323155603\n",
      "epoch :  1 Val Accuracy : tensor(0.9346) Val Loss :  0.20140037396674826\n",
      "epoch :  1 Val Accuracy : tensor(0.9349) Val Loss :  0.20175971847183352\n"
     ]
    },
    {
     "name": "stderr",
     "output_type": "stream",
     "text": [
      "\r",
      " 84%|██████████████████████████████████████████████████████████████████▉             | 220/263 [00:20<00:03, 11.77it/s]"
     ]
    },
    {
     "name": "stdout",
     "output_type": "stream",
     "text": [
      "epoch :  1 Val Accuracy : tensor(0.9347) Val Loss :  0.20310351855967887\n",
      "epoch :  1 Val Accuracy : tensor(0.9346) Val Loss :  0.20422991319867595\n",
      "epoch :  1 Val Accuracy : "
     ]
    },
    {
     "name": "stderr",
     "output_type": "stream",
     "text": [
      "\r",
      " 84%|███████████████████████████████████████████████████████████████████▌            | 222/263 [00:20<00:03, 11.43it/s]"
     ]
    },
    {
     "name": "stdout",
     "output_type": "stream",
     "text": [
      "tensor(0.9345) Val Loss :  0.20564594425742616\n",
      "epoch :  1 Val Accuracy : tensor(0.9342) Val Loss :  0.2076985516758926\n",
      "epoch :  1 Val Accuracy : tensor(0.9336) Val Loss :  0.20989180135296326\n"
     ]
    },
    {
     "name": "stderr",
     "output_type": "stream",
     "text": [
      " 86%|████████████████████████████████████████████████████████████████████▋           | 226/263 [00:20<00:03, 11.61it/s]"
     ]
    },
    {
     "name": "stdout",
     "output_type": "stream",
     "text": [
      "epoch :  1 Val Accuracy : tensor(0.9338) Val Loss :  0.21046432934899748\n",
      "epoch :  1 Val Accuracy : tensor(0.9337) Val Loss :  0.21151092945962804\n",
      "epoch :  1 Val Accuracy : tensor(0.9336) Val Loss :  0.212666426802996\n"
     ]
    },
    {
     "name": "stderr",
     "output_type": "stream",
     "text": [
      "\r",
      " 87%|█████████████████████████████████████████████████████████████████████▎          | 228/263 [00:20<00:03, 11.15it/s]"
     ]
    },
    {
     "name": "stdout",
     "output_type": "stream",
     "text": [
      "epoch :  1 Val Accuracy : tensor(0.9339) Val Loss :  0.21298453829361005\n",
      "epoch :  1 Val Accuracy : tensor(0.9338) Val Loss :  0.2144716812063986\n",
      "epoch :  1 Val Accuracy : tensor(0.9339) Val Loss :  0.21529924285955757\n"
     ]
    },
    {
     "name": "stderr",
     "output_type": "stream",
     "text": [
      " 88%|██████████████████████████████████████████████████████████████████████▌         | 232/263 [00:21<00:02, 11.39it/s]"
     ]
    },
    {
     "name": "stdout",
     "output_type": "stream",
     "text": [
      "epoch :  1 Val Accuracy : tensor(0.9341) Val Loss :  0.21573367097305254\n",
      "epoch :  1 Val Accuracy : tensor(0.9340) Val Loss :  0.21675551974501447\n",
      "epoch :  1 Val Accuracy : tensor(0.9338) Val Loss :  0.21869203068684262\n"
     ]
    },
    {
     "name": "stderr",
     "output_type": "stream",
     "text": [
      "\r",
      " 89%|███████████████████████████████████████████████████████████████████████▏        | 234/263 [00:21<00:02, 11.79it/s]"
     ]
    },
    {
     "name": "stdout",
     "output_type": "stream",
     "text": [
      "epoch :  1 Val Accuracy : tensor(0.9337) Val Loss :  0.2194137076347953\n",
      "epoch :  1 Val Accuracy : tensor(0.9336) Val Loss :  0.22044450344921518\n",
      "epoch :  1 Val Accuracy : "
     ]
    },
    {
     "name": "stderr",
     "output_type": "stream",
     "text": [
      "\r",
      " 90%|███████████████████████████████████████████████████████████████████████▊        | 236/263 [00:21<00:02, 11.29it/s]"
     ]
    },
    {
     "name": "stdout",
     "output_type": "stream",
     "text": [
      "tensor(0.9336) Val Loss :  0.2216978959824196\n",
      "epoch :  1 Val Accuracy : tensor(0.9335) Val Loss :  0.2233893767622487\n",
      "epoch :  1 Val Accuracy : tensor(0.9335) Val Loss :  0.22437181734540163\n"
     ]
    },
    {
     "name": "stderr",
     "output_type": "stream",
     "text": [
      "\r",
      " 90%|████████████████████████████████████████████████████████████████████████▍       | 238/263 [00:21<00:02, 11.52it/s]"
     ]
    },
    {
     "name": "stdout",
     "output_type": "stream",
     "text": [
      "epoch :  1 Val Accuracy : tensor(0.9336) Val Loss :  0.22534245428250316\n",
      "epoch :  1 Val Accuracy : tensor(0.9339) Val Loss :  0.22565612661521245\n",
      "epoch :  1 Val Accuracy : "
     ]
    },
    {
     "name": "stderr",
     "output_type": "stream",
     "text": [
      "\r",
      " 91%|█████████████████████████████████████████████████████████████████████████       | 240/263 [00:21<00:02, 11.26it/s]"
     ]
    },
    {
     "name": "stdout",
     "output_type": "stream",
     "text": [
      "tensor(0.9340) Val Loss :  0.22629566921254074\n",
      "epoch :  1 Val Accuracy : tensor(0.9342) Val Loss :  0.22697459699536457\n",
      "epoch :  1 Val Accuracy : "
     ]
    },
    {
     "name": "stderr",
     "output_type": "stream",
     "text": [
      "\r",
      " 92%|█████████████████████████████████████████████████████████████████████████▌      | 242/263 [00:22<00:01, 10.99it/s]"
     ]
    },
    {
     "name": "stdout",
     "output_type": "stream",
     "text": [
      "tensor(0.9345) Val Loss :  0.22710867856448594\n",
      "epoch :  1 Val Accuracy : tensor(0.9347) Val Loss :  0.22772935725493576\n",
      "epoch :  1 Val Accuracy : "
     ]
    },
    {
     "name": "stderr",
     "output_type": "stream",
     "text": [
      " 94%|██████████████████████████████████████████████████████████████████████████▊     | 246/263 [00:22<00:01, 10.99it/s]"
     ]
    },
    {
     "name": "stdout",
     "output_type": "stream",
     "text": [
      "tensor(0.9348) Val Loss :  0.2286410762471618\n",
      "epoch :  1 Val Accuracy : tensor(0.9349) Val Loss :  0.22933099349472005\n",
      "epoch :  1 Val Accuracy : tensor(0.9351) Val Loss :  0.2300695754984259\n"
     ]
    },
    {
     "name": "stderr",
     "output_type": "stream",
     "text": [
      "\r",
      " 94%|███████████████████████████████████████████████████████████████████████████▍    | 248/263 [00:22<00:01, 10.80it/s]"
     ]
    },
    {
     "name": "stdout",
     "output_type": "stream",
     "text": [
      "epoch :  1 Val Accuracy : tensor(0.9351) Val Loss :  0.23105719035399278\n",
      "epoch :  1 Val Accuracy : tensor(0.9353) Val Loss :  0.23155670362337008\n",
      "epoch :  1 Val Accuracy : "
     ]
    },
    {
     "name": "stderr",
     "output_type": "stream",
     "text": [
      "\r",
      " 95%|████████████████████████████████████████████████████████████████████████████    | 250/263 [00:22<00:01, 10.87it/s]"
     ]
    },
    {
     "name": "stdout",
     "output_type": "stream",
     "text": [
      "tensor(0.9351) Val Loss :  0.23278859837030277\n",
      "epoch :  1 Val Accuracy : tensor(0.9351) Val Loss :  0.23365749890416748\n",
      "epoch :  1 Val Accuracy : "
     ]
    },
    {
     "name": "stderr",
     "output_type": "stream",
     "text": [
      "\r",
      " 96%|████████████████████████████████████████████████████████████████████████████▋   | 252/263 [00:23<00:00, 11.19it/s]"
     ]
    },
    {
     "name": "stdout",
     "output_type": "stream",
     "text": [
      "tensor(0.9350) Val Loss :  0.23463251485627415\n",
      "epoch :  1 Val Accuracy : tensor(0.9352) Val Loss :  0.23511455438946136\n",
      "epoch :  1 Val Accuracy : tensor(0.9352) Val Loss :  0.23567722178287379\n"
     ]
    },
    {
     "name": "stderr",
     "output_type": "stream",
     "text": [
      " 97%|█████████████████████████████████████████████████████████████████████████████▊  | 256/263 [00:23<00:00, 11.48it/s]"
     ]
    },
    {
     "name": "stdout",
     "output_type": "stream",
     "text": [
      "epoch :  1 Val Accuracy : tensor(0.9349) Val Loss :  0.2375631938784068\n",
      "epoch :  1 Val Accuracy : tensor(0.9351) Val Loss :  0.2379140406705354\n",
      "epoch :  1 Val Accuracy : tensor(0.9350) Val Loss :  0.23894083470162783\n"
     ]
    },
    {
     "name": "stderr",
     "output_type": "stream",
     "text": [
      "\r",
      " 98%|██████████████████████████████████████████████████████████████████████████████▍ | 258/263 [00:23<00:00, 11.28it/s]"
     ]
    },
    {
     "name": "stdout",
     "output_type": "stream",
     "text": [
      "epoch :  1 Val Accuracy : tensor(0.9349) Val Loss :  0.2400788387616551\n",
      "epoch :  1 Val Accuracy : tensor(0.9350) Val Loss :  0.24084729113449616\n",
      "epoch :  1 Val Accuracy : tensor(0.9347) Val Loss :  0.2428588336723159\n"
     ]
    },
    {
     "name": "stderr",
     "output_type": "stream",
     "text": [
      "100%|███████████████████████████████████████████████████████████████████████████████▋| 262/263 [00:23<00:00, 11.58it/s]"
     ]
    },
    {
     "name": "stdout",
     "output_type": "stream",
     "text": [
      "epoch :  1 Val Accuracy : tensor(0.9345) Val Loss :  0.2443920014560676\n",
      "epoch :  1 Val Accuracy : tensor(0.9345) Val Loss :  0.24533129218583324\n",
      "epoch :  1 Val Accuracy : tensor(0.9344) Val Loss :  0.24676440564115237\n"
     ]
    },
    {
     "name": "stderr",
     "output_type": "stream",
     "text": [
      "100%|████████████████████████████████████████████████████████████████████████████████| 263/263 [00:24<00:00, 10.95it/s]\n",
      "  0%|                                                                                 | 1/1225 [00:00<03:06,  6.57it/s]"
     ]
    },
    {
     "name": "stdout",
     "output_type": "stream",
     "text": [
      "epoch :  1 Val Accuracy : tensor(0.9345) Val Loss :  0.24702187577977833\n"
     ]
    },
    {
     "name": "stderr",
     "output_type": "stream",
     "text": [
      "100%|██████████████████████████████████████████████████████████████████████████████| 1225/1225 [01:46<00:00, 11.54it/s]\n",
      "  1%|▌                                                                                 | 2/263 [00:00<00:18, 14.18it/s]"
     ]
    },
    {
     "name": "stdout",
     "output_type": "stream",
     "text": [
      "epoch : 2 Training Accuracy :  tensor(0.8604) Train Loss 0.4297783863362001\n",
      "epoch :  2 Val Accuracy : tensor(0.9167) Val Loss :  0.0007922572328110611\n",
      "epoch :  2 Val Accuracy : tensor(0.9583) Val Loss :  0.0009126473543988434\n",
      "epoch :  2 Val Accuracy :"
     ]
    },
    {
     "name": "stderr",
     "output_type": "stream",
     "text": [
      "  2%|█▊                                                                                | 6/263 [00:00<00:15, 16.63it/s]"
     ]
    },
    {
     "name": "stdout",
     "output_type": "stream",
     "text": [
      " tensor(0.9167) Val Loss :  0.0024724252125382876\n",
      "epoch :  2 Val Accuracy : tensor(0.9167) Val Loss :  0.0035372755628348303\n",
      "epoch :  2 Val Accuracy : tensor(0.9278) Val Loss :  0.004089437580947187\n",
      "epoch :  2 Val Accuracy : tensor(0.9306) Val Loss :  0.005032216258941948\n"
     ]
    },
    {
     "name": "stderr",
     "output_type": "stream",
     "text": [
      "  4%|███                                                                              | 10/263 [00:00<00:14, 17.85it/s]"
     ]
    },
    {
     "name": "stdout",
     "output_type": "stream",
     "text": [
      "epoch :  2 Val Accuracy : tensor(0.9325) Val Loss :  0.005849596962842651\n",
      "epoch :  2 Val Accuracy : tensor(0.9340) Val Loss :  0.006925315528881414\n",
      "epoch :  2 Val Accuracy : tensor(0.9383) Val Loss :  0.007302619219392878\n",
      "epoch :  2 Val Accuracy : tensor(0.9389) Val Loss :  0.007934153547418435\n"
     ]
    },
    {
     "name": "stderr",
     "output_type": "stream",
     "text": [
      "\r",
      "  5%|███▋                                                                             | 12/263 [00:00<00:15, 16.23it/s]"
     ]
    },
    {
     "name": "stdout",
     "output_type": "stream",
     "text": [
      "epoch :  2 Val Accuracy : tensor(0.9394) Val Loss :  0.008442772729428548\n",
      "epoch :  2 Val Accuracy : tensor(0.9352) Val Loss :  0.009346843799824044\n",
      "epoch :  2 Val Accuracy : tensor(0.9338) Val Loss :  0.010673446021265857\n"
     ]
    },
    {
     "name": "stderr",
     "output_type": "stream",
     "text": [
      "  6%|████▉                                                                            | 16/263 [00:00<00:15, 16.23it/s]"
     ]
    },
    {
     "name": "stdout",
     "output_type": "stream",
     "text": [
      "epoch :  2 Val Accuracy : tensor(0.9325) Val Loss :  0.011359038362598238\n",
      "epoch :  2 Val Accuracy : tensor(0.9352) Val Loss :  0.0121761459729744\n",
      "epoch :  2 Val Accuracy : tensor(0.9340) Val Loss :  0.012967962346716072\n",
      "epoch :  2 Val Accuracy : tensor(0.9314) Val Loss :  0.014480493551991285\n"
     ]
    },
    {
     "name": "stderr",
     "output_type": "stream",
     "text": [
      "  8%|██████▍                                                                          | 21/263 [00:01<00:13, 17.65it/s]"
     ]
    },
    {
     "name": "stdout",
     "output_type": "stream",
     "text": [
      "epoch :  2 Val Accuracy : tensor(0.9290) Val Loss :  0.01593703457894434\n",
      "epoch :  2 Val Accuracy : tensor(0.9298) Val Loss :  0.016642885927125074\n",
      "epoch :  2 Val Accuracy : tensor(0.9278) Val Loss :  0.0177475366557279\n",
      "epoch :  2 Val Accuracy : tensor(0.9259) Val Loss :  0.01935884692199783\n",
      "epoch :  2 Val Accuracy : "
     ]
    },
    {
     "name": "stderr",
     "output_type": "stream",
     "text": [
      " 10%|███████▋                                                                         | 25/263 [00:01<00:13, 17.86it/s]"
     ]
    },
    {
     "name": "stdout",
     "output_type": "stream",
     "text": [
      "tensor(0.9268) Val Loss :  0.01992877543029223\n",
      "epoch :  2 Val Accuracy : tensor(0.9275) Val Loss :  0.02123332438643441\n",
      "epoch :  2 Val Accuracy : tensor(0.9271) Val Loss :  0.022633847245811963\n",
      "epoch :  2 Val Accuracy : tensor(0.9278) Val Loss :  0.02318696990722486\n"
     ]
    },
    {
     "name": "stderr",
     "output_type": "stream",
     "text": [
      " 11%|████████▉                                                                        | 29/263 [00:01<00:13, 17.80it/s]"
     ]
    },
    {
     "name": "stdout",
     "output_type": "stream",
     "text": [
      "epoch :  2 Val Accuracy : tensor(0.9295) Val Loss :  0.02381790801882744\n",
      "epoch :  2 Val Accuracy : tensor(0.9290) Val Loss :  0.02462206340391373\n",
      "epoch :  2 Val Accuracy : tensor(0.9296) Val Loss :  0.02517509864140373\n",
      "epoch :  2 Val Accuracy : tensor(0.9291) Val Loss :  0.026454992124902883\n"
     ]
    },
    {
     "name": "stderr",
     "output_type": "stream",
     "text": [
      "\r",
      " 12%|█████████▌                                                                       | 31/263 [00:01<00:13, 17.31it/s]"
     ]
    },
    {
     "name": "stdout",
     "output_type": "stream",
     "text": [
      "epoch :  2 Val Accuracy : tensor(0.9278) Val Loss :  0.028634083092552626\n",
      "epoch :  2 Val Accuracy : tensor(0.9283) Val Loss :  0.029322234977447487\n",
      "epoch :  2 Val Accuracy : tensor(0.9280) Val Loss :  0.030218265596564733\n",
      "epoch :  "
     ]
    },
    {
     "name": "stderr",
     "output_type": "stream",
     "text": [
      " 13%|██████████▊                                                                      | 35/263 [00:02<00:13, 17.22it/s]"
     ]
    },
    {
     "name": "stdout",
     "output_type": "stream",
     "text": [
      "2 Val Accuracy : tensor(0.9285) Val Loss :  0.031016684714492284\n",
      "epoch :  2 Val Accuracy : tensor(0.9273) Val Loss :  0.031764096137801956\n",
      "epoch :  2 Val Accuracy : tensor(0.9254) Val Loss :  0.033300857537712884\n",
      "epoch :  2 Val Accuracy : tensor(0.9244) Val Loss :  0.03435294671486992\n"
     ]
    },
    {
     "name": "stderr",
     "output_type": "stream",
     "text": [
      " 15%|████████████                                                                     | 39/263 [00:02<00:12, 17.33it/s]"
     ]
    },
    {
     "name": "stdout",
     "output_type": "stream",
     "text": [
      "epoch :  2 Val Accuracy : tensor(0.9249) Val Loss :  0.035062661883155655\n",
      "epoch :  2 Val Accuracy : tensor(0.9262) Val Loss :  0.035368797939426544\n",
      "epoch :  2 Val Accuracy : tensor(0.9245) Val Loss :  0.03754686044366187\n",
      "epoch :  2 Val Accuracy : tensor(0.9257) Val Loss :  0.03818777491101294\n"
     ]
    },
    {
     "name": "stderr",
     "output_type": "stream",
     "text": [
      " 16%|█████████████▏                                                                   | 43/263 [00:02<00:13, 16.30it/s]"
     ]
    },
    {
     "name": "stdout",
     "output_type": "stream",
     "text": [
      "epoch :  2 Val Accuracy : tensor(0.9248) Val Loss :  0.039282795410079195\n",
      "epoch :  2 Val Accuracy : tensor(0.9239) Val Loss :  0.04081184820700508\n",
      "epoch :  2 Val Accuracy : tensor(0.9257) Val Loss :  0.041052625248980616\n"
     ]
    },
    {
     "name": "stderr",
     "output_type": "stream",
     "text": [
      " 18%|██████████████▍                                                                  | 47/263 [00:02<00:12, 16.90it/s]"
     ]
    },
    {
     "name": "stdout",
     "output_type": "stream",
     "text": [
      "epoch :  2 Val Accuracy : tensor(0.9268) Val Loss :  0.041927996059674275\n",
      "epoch :  2 Val Accuracy : tensor(0.9259) Val Loss :  0.04280568969510354\n",
      "epoch :  2 Val Accuracy : tensor(0.9275) Val Loss :  0.04302694540853283\n",
      "epoch :  2 Val Accuracy : tensor(0.9273) Val Loss :  0.043808324340405116\n"
     ]
    },
    {
     "name": "stderr",
     "output_type": "stream",
     "text": [
      " 19%|███████████████▋                                                                 | 51/263 [00:02<00:11, 18.03it/s]"
     ]
    },
    {
     "name": "stdout",
     "output_type": "stream",
     "text": [
      "epoch :  2 Val Accuracy : tensor(0.9282) Val Loss :  0.044244353393864726\n",
      "epoch :  2 Val Accuracy : tensor(0.9280) Val Loss :  0.04511185367184447\n",
      "epoch :  2 Val Accuracy : tensor(0.9294) Val Loss :  0.04545263297317599\n",
      "epoch :  2 Val Accuracy : tensor(0.9292) Val Loss :  0.046205715959742946\n",
      "epoch :  2 Val Accuracy : "
     ]
    },
    {
     "name": "stderr",
     "output_type": "stream",
     "text": [
      " 21%|████████████████▉                                                                | 55/263 [00:03<00:11, 18.90it/s]"
     ]
    },
    {
     "name": "stdout",
     "output_type": "stream",
     "text": [
      "tensor(0.9290) Val Loss :  0.04765993093243116\n",
      "epoch :  2 Val Accuracy : tensor(0.9287) Val Loss :  0.04891780752532836\n",
      "epoch :  2 Val Accuracy : tensor(0.9285) Val Loss :  0.050115300533662734\n",
      "epoch :  2 Val Accuracy : tensor(0.9273) Val Loss :  0.05198786441704166\n",
      "epoch :  2 Val Accuracy : "
     ]
    },
    {
     "name": "stderr",
     "output_type": "stream",
     "text": [
      " 22%|██████████████████▏                                                              | 59/263 [00:03<00:10, 18.64it/s]"
     ]
    },
    {
     "name": "stdout",
     "output_type": "stream",
     "text": [
      "tensor(0.9281) Val Loss :  0.05250010979379538\n",
      "epoch :  2 Val Accuracy : tensor(0.9293) Val Loss :  0.05293263203177615\n",
      "epoch :  2 Val Accuracy : tensor(0.9291) Val Loss :  0.05405558206622591\n",
      "epoch :  2 Val Accuracy : tensor(0.9294) Val Loss :  0.05452240306614923\n"
     ]
    },
    {
     "name": "stderr",
     "output_type": "stream",
     "text": [
      " 24%|███████████████████▍                                                             | 63/263 [00:03<00:10, 18.74it/s]"
     ]
    },
    {
     "name": "stdout",
     "output_type": "stream",
     "text": [
      "epoch :  2 Val Accuracy : tensor(0.9287) Val Loss :  0.05627991038130263\n",
      "epoch :  2 Val Accuracy : tensor(0.9285) Val Loss :  0.05788991206499107\n",
      "epoch :  2 Val Accuracy : tensor(0.9283) Val Loss :  0.05888941702733928\n",
      "epoch :  2 Val Accuracy : tensor(0.9295) Val Loss :  0.059192814017883275\n",
      "epoch :  2 Val Accuracy : "
     ]
    },
    {
     "name": "stderr",
     "output_type": "stream",
     "text": [
      " 25%|████████████████████▋                                                            | 67/263 [00:03<00:10, 18.56it/s]"
     ]
    },
    {
     "name": "stdout",
     "output_type": "stream",
     "text": [
      "tensor(0.9297) Val Loss :  0.05974705630608838\n",
      "epoch :  2 Val Accuracy : tensor(0.9295) Val Loss :  0.06086131210789481\n",
      "epoch :  2 Val Accuracy : tensor(0.9289) Val Loss :  0.062099608914933734\n",
      "epoch :  2 Val Accuracy : tensor(0.9287) Val Loss :  0.06289495080142873\n"
     ]
    },
    {
     "name": "stderr",
     "output_type": "stream",
     "text": [
      " 27%|█████████████████████▊                                                           | 71/263 [00:04<00:10, 18.18it/s]"
     ]
    },
    {
     "name": "stdout",
     "output_type": "stream",
     "text": [
      "epoch :  2 Val Accuracy : tensor(0.9273) Val Loss :  0.06446707180697656\n",
      "epoch :  2 Val Accuracy : tensor(0.9267) Val Loss :  0.06560967845608526\n",
      "epoch :  2 Val Accuracy : tensor(0.9270) Val Loss :  0.06646138735597125\n",
      "epoch :  2 Val Accuracy : tensor(0.9268) Val Loss :  0.0674614262671525\n"
     ]
    },
    {
     "name": "stderr",
     "output_type": "stream",
     "text": [
      " 29%|███████████████████████                                                          | 75/263 [00:04<00:10, 17.63it/s]"
     ]
    },
    {
     "name": "stdout",
     "output_type": "stream",
     "text": [
      "epoch :  2 Val Accuracy : tensor(0.9263) Val Loss :  0.06845066585921517\n",
      "epoch :  2 Val Accuracy : tensor(0.9262) Val Loss :  0.0696200079111092\n",
      "epoch :  2 Val Accuracy : tensor(0.9264) Val Loss :  0.07025241477861151\n",
      "epoch :  2 Val Accuracy : tensor(0.9263) Val Loss :  0.07111417516329442\n"
     ]
    },
    {
     "name": "stderr",
     "output_type": "stream",
     "text": [
      "\r",
      " 30%|████████████████████████                                                         | 78/263 [00:04<00:10, 18.13it/s]"
     ]
    },
    {
     "name": "stdout",
     "output_type": "stream",
     "text": [
      "epoch :  2 Val Accuracy : tensor(0.9258) Val Loss :  0.07294343003981921\n",
      "epoch :  2 Val Accuracy : tensor(0.9264) Val Loss :  0.07338567222592496\n",
      "epoch :  2 Val Accuracy : tensor(0.9270) Val Loss :  0.07404325129074742\n",
      "epoch :  2 Val Accuracy : tensor(0.9269) Val Loss :  0.07501294951135215\n",
      "epoch :  2 Val Accuracy : "
     ]
    },
    {
     "name": "stderr",
     "output_type": "stream",
     "text": [
      " 32%|█████████████████████████▌                                                       | 83/263 [00:04<00:09, 18.26it/s]"
     ]
    },
    {
     "name": "stdout",
     "output_type": "stream",
     "text": [
      "tensor(0.9271) Val Loss :  0.07569664549578278\n",
      "epoch :  2 Val Accuracy : tensor(0.9276) Val Loss :  0.07622769069875601\n",
      "epoch :  2 Val Accuracy : tensor(0.9275) Val Loss :  0.07745981661199164\n",
      "epoch :  2 Val Accuracy : tensor(0.9277) Val Loss :  0.0784794213710629\n"
     ]
    },
    {
     "name": "stderr",
     "output_type": "stream",
     "text": [
      "\r",
      " 32%|██████████████████████████▏                                                      | 85/263 [00:04<00:10, 17.29it/s]"
     ]
    },
    {
     "name": "stdout",
     "output_type": "stream",
     "text": [
      "epoch :  2 Val Accuracy : tensor(0.9282) Val Loss :  0.07896783899784994\n",
      "epoch :  2 Val Accuracy : tensor(0.9284) Val Loss :  0.0795906942776854\n",
      "epoch :  2 Val Accuracy : tensor(0.9286) Val Loss :  0.08011328377991121\n",
      "epoch :  2 Val Accuracy : "
     ]
    },
    {
     "name": "stderr",
     "output_type": "stream",
     "text": [
      " 34%|███████████████████████████▍                                                     | 89/263 [00:05<00:10, 16.48it/s]"
     ]
    },
    {
     "name": "stdout",
     "output_type": "stream",
     "text": [
      "tensor(0.9285) Val Loss :  0.08113362124550932\n",
      "epoch :  2 Val Accuracy : tensor(0.9274) Val Loss :  0.08315036842464947\n",
      "epoch :  2 Val Accuracy : tensor(0.9279) Val Loss :  0.08393293825959071\n",
      "epoch :  2 Val Accuracy : "
     ]
    },
    {
     "name": "stderr",
     "output_type": "stream",
     "text": [
      " 35%|████████████████████████████▋                                                    | 93/263 [00:05<00:10, 16.91it/s]"
     ]
    },
    {
     "name": "stdout",
     "output_type": "stream",
     "text": [
      "tensor(0.9275) Val Loss :  0.08487713305782456\n",
      "epoch :  2 Val Accuracy : tensor(0.9274) Val Loss :  0.08572097930051528\n",
      "epoch :  2 Val Accuracy : tensor(0.9272) Val Loss :  0.08655079482512783\n",
      "epoch :  2 Val Accuracy : tensor(0.9274) Val Loss :  0.08709984816639142\n"
     ]
    },
    {
     "name": "stderr",
     "output_type": "stream",
     "text": [
      " 37%|█████████████████████████████▊                                                   | 97/263 [00:05<00:09, 17.09it/s]"
     ]
    },
    {
     "name": "stdout",
     "output_type": "stream",
     "text": [
      "epoch :  2 Val Accuracy : tensor(0.9270) Val Loss :  0.08842896137514042\n",
      "epoch :  2 Val Accuracy : tensor(0.9263) Val Loss :  0.09009310968588513\n",
      "epoch :  2 Val Accuracy : tensor(0.9268) Val Loss :  0.09087634214090304\n",
      "epoch :  2 Val Accuracy : tensor(0.9270) Val Loss :  0.09151462544846443\n"
     ]
    },
    {
     "name": "stderr",
     "output_type": "stream",
     "text": [
      " 38%|██████████████████████████████▋                                                 | 101/263 [00:05<00:09, 17.31it/s]"
     ]
    },
    {
     "name": "stdout",
     "output_type": "stream",
     "text": [
      "epoch :  2 Val Accuracy : tensor(0.9263) Val Loss :  0.09314200403912438\n",
      "epoch :  2 Val Accuracy : tensor(0.9262) Val Loss :  0.09415043927304191\n",
      "epoch :  2 Val Accuracy : tensor(0.9269) Val Loss :  0.09462030271613553\n",
      "epoch :  2 Val Accuracy : tensor(0.9268) Val Loss :  0.09550379380980371\n"
     ]
    },
    {
     "name": "stderr",
     "output_type": "stream",
     "text": [
      " 40%|███████████████████████████████▉                                                | 105/263 [00:05<00:08, 17.56it/s]"
     ]
    },
    {
     "name": "stdout",
     "output_type": "stream",
     "text": [
      "epoch :  2 Val Accuracy : tensor(0.9267) Val Loss :  0.09626849307306819\n",
      "epoch :  2 Val Accuracy : tensor(0.9266) Val Loss :  0.09728545211113904\n",
      "epoch :  2 Val Accuracy : tensor(0.9268) Val Loss :  0.09837863121195892\n",
      "epoch :  2 Val Accuracy : tensor(0.9265) Val Loss :  0.0996776610726186\n"
     ]
    },
    {
     "name": "stderr",
     "output_type": "stream",
     "text": [
      "\r",
      " 41%|████████████████████████████████▌                                               | 107/263 [00:06<00:09, 16.93it/s]"
     ]
    },
    {
     "name": "stdout",
     "output_type": "stream",
     "text": [
      "epoch :  2 Val Accuracy : tensor(0.9266) Val Loss :  0.10027978810067413\n",
      "epoch :  2 Val Accuracy : tensor(0.9271) Val Loss :  0.10082770260794534\n",
      "epoch :  2 Val Accuracy : tensor(0.9264) Val Loss :  0.1020388773752256\n",
      "epoch :  2 Val Accuracy : "
     ]
    },
    {
     "name": "stderr",
     "output_type": "stream",
     "text": [
      " 42%|█████████████████████████████████▊                                              | 111/263 [00:06<00:09, 16.34it/s]"
     ]
    },
    {
     "name": "stdout",
     "output_type": "stream",
     "text": [
      "tensor(0.9271) Val Loss :  0.10245669239374168\n",
      "epoch :  2 Val Accuracy : tensor(0.9278) Val Loss :  0.10264083366316988\n",
      "epoch :  2 Val Accuracy : tensor(0.9279) Val Loss :  0.10345386164156656\n",
      "epoch :  2 Val Accuracy : "
     ]
    },
    {
     "name": "stderr",
     "output_type": "stream",
     "text": [
      "\r",
      " 43%|██████████████████████████████████▎                                             | 113/263 [00:06<00:09, 16.24it/s]"
     ]
    },
    {
     "name": "stdout",
     "output_type": "stream",
     "text": [
      "tensor(0.9283) Val Loss :  0.10419335992503982\n",
      "epoch :  2 Val Accuracy : tensor(0.9290) Val Loss :  0.10441359707611142\n",
      "epoch :  2 Val Accuracy : tensor(0.9288) Val Loss :  0.10545970369201196\n",
      "epoch :  2 Val Accuracy : "
     ]
    },
    {
     "name": "stderr",
     "output_type": "stream",
     "text": [
      " 44%|███████████████████████████████████▌                                            | 117/263 [00:06<00:09, 15.83it/s]"
     ]
    },
    {
     "name": "stdout",
     "output_type": "stream",
     "text": [
      "tensor(0.9285) Val Loss :  0.10709251877019614\n",
      "epoch :  2 Val Accuracy : tensor(0.9284) Val Loss :  0.1083317336700715\n",
      "epoch :  2 Val Accuracy : tensor(0.9285) Val Loss :  0.10917569810220044\n",
      "epoch :  2 Val Accuracy : "
     ]
    },
    {
     "name": "stderr",
     "output_type": "stream",
     "text": [
      " 46%|████████████████████████████████████▊                                           | 121/263 [00:06<00:08, 16.50it/s]"
     ]
    },
    {
     "name": "stdout",
     "output_type": "stream",
     "text": [
      "tensor(0.9289) Val Loss :  0.10945710106380992\n",
      "epoch :  2 Val Accuracy : tensor(0.9290) Val Loss :  0.11028943907738638\n",
      "epoch :  2 Val Accuracy : tensor(0.9294) Val Loss :  0.1108294189146263\n",
      "epoch :  2 Val Accuracy : tensor(0.9295) Val Loss :  0.11157892426270496\n"
     ]
    },
    {
     "name": "stderr",
     "output_type": "stream",
     "text": [
      " 48%|██████████████████████████████████████                                          | 125/263 [00:07<00:08, 17.21it/s]"
     ]
    },
    {
     "name": "stdout",
     "output_type": "stream",
     "text": [
      "epoch :  2 Val Accuracy : tensor(0.9290) Val Loss :  0.11275103192478984\n",
      "epoch :  2 Val Accuracy : tensor(0.9291) Val Loss :  0.11341009459001483\n",
      "epoch :  2 Val Accuracy : tensor(0.9283) Val Loss :  0.11515969250478672\n",
      "epoch :  2 Val Accuracy : tensor(0.9284) Val Loss :  0.11574676148451779\n"
     ]
    },
    {
     "name": "stderr",
     "output_type": "stream",
     "text": [
      "\r",
      " 48%|██████████████████████████████████████▋                                         | 127/263 [00:07<00:07, 17.04it/s]"
     ]
    },
    {
     "name": "stdout",
     "output_type": "stream",
     "text": [
      "epoch :  2 Val Accuracy : tensor(0.9288) Val Loss :  0.11612082244438816\n",
      "epoch :  2 Val Accuracy : tensor(0.9289) Val Loss :  0.11687393897273242\n",
      "epoch :  2 Val Accuracy : tensor(0.9290) Val Loss :  0.11751846937965531\n",
      "epoch :  2 Val Accuracy : "
     ]
    },
    {
     "name": "stderr",
     "output_type": "stream",
     "text": [
      " 50%|███████████████████████████████████████▊                                        | 131/263 [00:07<00:07, 16.85it/s]"
     ]
    },
    {
     "name": "stdout",
     "output_type": "stream",
     "text": [
      "tensor(0.9294) Val Loss :  0.11839581467919477\n",
      "epoch :  2 Val Accuracy : tensor(0.9299) Val Loss :  0.1186440242560644\n",
      "epoch :  2 Val Accuracy : tensor(0.9304) Val Loss :  0.11899872566130679\n",
      "epoch :  2 Val Accuracy : tensor(0.9299) Val Loss :  0.12026708575935871\n"
     ]
    },
    {
     "name": "stderr",
     "output_type": "stream",
     "text": [
      " 51%|█████████████████████████████████████████                                       | 135/263 [00:07<00:07, 16.95it/s]"
     ]
    },
    {
     "name": "stdout",
     "output_type": "stream",
     "text": [
      "epoch :  2 Val Accuracy : tensor(0.9300) Val Loss :  0.12122338619295635\n",
      "epoch :  2 Val Accuracy : tensor(0.9303) Val Loss :  0.12186319525477551\n",
      "epoch :  2 Val Accuracy : tensor(0.9307) Val Loss :  0.12227636394391948\n",
      "epoch :  2 Val Accuracy : tensor(0.9306) Val Loss :  0.12322420771357678\n"
     ]
    },
    {
     "name": "stderr",
     "output_type": "stream",
     "text": [
      " 53%|██████████████████████████████████████████▎                                     | 139/263 [00:08<00:07, 16.73it/s]"
     ]
    },
    {
     "name": "stdout",
     "output_type": "stream",
     "text": [
      "epoch :  2 Val Accuracy : tensor(0.9307) Val Loss :  0.12412594020819936\n",
      "epoch :  2 Val Accuracy : tensor(0.9306) Val Loss :  0.12549640861527547\n",
      "epoch :  2 Val Accuracy : tensor(0.9303) Val Loss :  0.12628126920629362\n",
      "epoch :  2 Val Accuracy : "
     ]
    },
    {
     "name": "stderr",
     "output_type": "stream",
     "text": [
      " 54%|███████████████████████████████████████████▍                                    | 143/263 [00:08<00:06, 17.42it/s]"
     ]
    },
    {
     "name": "stdout",
     "output_type": "stream",
     "text": [
      "tensor(0.9304) Val Loss :  0.12702323485010023\n",
      "epoch :  2 Val Accuracy : tensor(0.9303) Val Loss :  0.12796498121190886\n",
      "epoch :  2 Val Accuracy : tensor(0.9304) Val Loss :  0.128718853110143\n",
      "epoch :  2 Val Accuracy : tensor(0.9305) Val Loss :  0.12961517200723802\n"
     ]
    },
    {
     "name": "stderr",
     "output_type": "stream",
     "text": [
      " 56%|████████████████████████████████████████████▋                                   | 147/263 [00:08<00:06, 17.27it/s]"
     ]
    },
    {
     "name": "stdout",
     "output_type": "stream",
     "text": [
      "epoch :  2 Val Accuracy : tensor(0.9307) Val Loss :  0.13062459763012005\n",
      "epoch :  2 Val Accuracy : tensor(0.9312) Val Loss :  0.13099518579788536\n",
      "epoch :  2 Val Accuracy : tensor(0.9309) Val Loss :  0.13213424597062992\n",
      "epoch :  2 Val Accuracy : tensor(0.9305) Val Loss :  0.13407820794632228\n"
     ]
    },
    {
     "name": "stderr",
     "output_type": "stream",
     "text": [
      " 57%|█████████████████████████████████████████████▉                                  | 151/263 [00:08<00:06, 16.49it/s]"
     ]
    },
    {
     "name": "stdout",
     "output_type": "stream",
     "text": [
      "epoch :  2 Val Accuracy : tensor(0.9306) Val Loss :  0.1352078420864312\n",
      "epoch :  2 Val Accuracy : tensor(0.9303) Val Loss :  0.13662818722965145\n",
      "epoch :  2 Val Accuracy : tensor(0.9304) Val Loss :  0.13711352972136703\n",
      "epoch :  2 Val Accuracy : tensor(0.9305) Val Loss :  0.1379391713344099\n"
     ]
    },
    {
     "name": "stderr",
     "output_type": "stream",
     "text": [
      "\r",
      " 58%|██████████████████████████████████████████████▌                                 | 153/263 [00:08<00:06, 16.12it/s]"
     ]
    },
    {
     "name": "stdout",
     "output_type": "stream",
     "text": [
      "epoch :  2 Val Accuracy : tensor(0.9300) Val Loss :  0.1393137128010902\n",
      "epoch :  2 Val Accuracy : tensor(0.9299) Val Loss :  0.14055261517318937\n",
      "epoch :  2 Val Accuracy : tensor(0.9295) Val Loss :  0.1417149635378852\n",
      "epoch :  2 Val Accuracy : "
     ]
    },
    {
     "name": "stderr",
     "output_type": "stream",
     "text": [
      " 60%|███████████████████████████████████████████████▊                                | 157/263 [00:09<00:06, 16.01it/s]"
     ]
    },
    {
     "name": "stdout",
     "output_type": "stream",
     "text": [
      "tensor(0.9297) Val Loss :  0.14211277454071625\n",
      "epoch :  2 Val Accuracy : tensor(0.9298) Val Loss :  0.14261611786178763\n",
      "epoch :  2 Val Accuracy : tensor(0.9303) Val Loss :  0.14315659317680185\n",
      "epoch :  2 Val Accuracy : tensor(0.9300) Val Loss :  0.14402726587233888\n"
     ]
    },
    {
     "name": "stderr",
     "output_type": "stream",
     "text": [
      " 61%|████████████████████████████████████████████████▉                               | 161/263 [00:09<00:06, 16.45it/s]"
     ]
    },
    {
     "name": "stdout",
     "output_type": "stream",
     "text": [
      "epoch :  2 Val Accuracy : tensor(0.9299) Val Loss :  0.14524516553933176\n",
      "epoch :  2 Val Accuracy : tensor(0.9300) Val Loss :  0.14662357201594364\n",
      "epoch :  2 Val Accuracy : tensor(0.9303) Val Loss :  0.14691611302896143\n",
      "epoch :  2 Val Accuracy : "
     ]
    },
    {
     "name": "stderr",
     "output_type": "stream",
     "text": [
      "\r",
      " 62%|█████████████████████████████████████████████████▌                              | 163/263 [00:09<00:06, 16.15it/s]"
     ]
    },
    {
     "name": "stdout",
     "output_type": "stream",
     "text": [
      "tensor(0.9304) Val Loss :  0.14783879734944028\n",
      "epoch :  2 Val Accuracy : tensor(0.9305) Val Loss :  0.14842905506435003\n",
      "epoch :  2 Val Accuracy : tensor(0.9304) Val Loss :  0.14921794095193477\n",
      "epoch :  2 Val Accuracy : "
     ]
    },
    {
     "name": "stderr",
     "output_type": "stream",
     "text": [
      " 63%|██████████████████████████████████████████████████▊                             | 167/263 [00:09<00:06, 15.60it/s]"
     ]
    },
    {
     "name": "stdout",
     "output_type": "stream",
     "text": [
      "tensor(0.9303) Val Loss :  0.1504214774859722\n",
      "epoch :  2 Val Accuracy : tensor(0.9306) Val Loss :  0.15096932643946587\n",
      "epoch :  2 Val Accuracy : tensor(0.9308) Val Loss :  0.1514521230989536\n",
      "epoch :  2 Val Accuracy : "
     ]
    },
    {
     "name": "stderr",
     "output_type": "stream",
     "text": [
      " 65%|████████████████████████████████████████████████████                            | 171/263 [00:10<00:05, 16.49it/s]"
     ]
    },
    {
     "name": "stdout",
     "output_type": "stream",
     "text": [
      "tensor(0.9312) Val Loss :  0.15172140968843104\n",
      "epoch :  2 Val Accuracy : tensor(0.9308) Val Loss :  0.15300883636048537\n",
      "epoch :  2 Val Accuracy : tensor(0.9307) Val Loss :  0.15404228378838006\n",
      "epoch :  2 Val Accuracy : tensor(0.9311) Val Loss :  0.15454346009533668\n"
     ]
    },
    {
     "name": "stderr",
     "output_type": "stream",
     "text": [
      " 67%|█████████████████████████████████████████████████████▏                          | 175/263 [00:10<00:05, 16.37it/s]"
     ]
    },
    {
     "name": "stdout",
     "output_type": "stream",
     "text": [
      "epoch :  2 Val Accuracy : tensor(0.9314) Val Loss :  0.15516970978037034\n",
      "epoch :  2 Val Accuracy : tensor(0.9316) Val Loss :  0.15569423433719026\n",
      "epoch :  2 Val Accuracy : tensor(0.9314) Val Loss :  0.15666817196648383\n",
      "epoch :  2 Val Accuracy : tensor(0.9314) Val Loss :  0.1576043127154216\n"
     ]
    },
    {
     "name": "stderr",
     "output_type": "stream",
     "text": [
      "\r",
      " 67%|█████████████████████████████████████████████████████▊                          | 177/263 [00:10<00:05, 16.75it/s]"
     ]
    },
    {
     "name": "stdout",
     "output_type": "stream",
     "text": [
      "epoch :  2 Val Accuracy : tensor(0.9317) Val Loss :  0.1581473981699563\n",
      "epoch :  2 Val Accuracy : tensor(0.9317) Val Loss :  0.15907732700440366\n",
      "epoch :  2 Val Accuracy : tensor(0.9315) Val Loss :  0.16004961576071983\n",
      "epoch :  2 Val Accuracy : "
     ]
    },
    {
     "name": "stderr",
     "output_type": "stream",
     "text": [
      " 69%|███████████████████████████████████████████████████████                         | 181/263 [00:10<00:05, 16.09it/s]"
     ]
    },
    {
     "name": "stdout",
     "output_type": "stream",
     "text": [
      "tensor(0.9313) Val Loss :  0.1623340358412311\n",
      "epoch :  2 Val Accuracy : tensor(0.9312) Val Loss :  0.16377430185392328\n",
      "epoch :  2 Val Accuracy : tensor(0.9311) Val Loss :  0.16489335900250496\n",
      "epoch :  2 Val Accuracy : "
     ]
    },
    {
     "name": "stderr",
     "output_type": "stream",
     "text": [
      "\r",
      " 70%|███████████████████████████████████████████████████████▋                        | 183/263 [00:10<00:05, 15.83it/s]"
     ]
    },
    {
     "name": "stdout",
     "output_type": "stream",
     "text": [
      "tensor(0.9310) Val Loss :  0.16577783855875183\n",
      "epoch :  2 Val Accuracy : tensor(0.9308) Val Loss :  0.1674252045358542\n",
      "epoch :  2 Val Accuracy : tensor(0.9310) Val Loss :  0.1680538679823676\n",
      "epoch :  2 Val Accuracy : "
     ]
    },
    {
     "name": "stderr",
     "output_type": "stream",
     "text": [
      " 71%|████████████████████████████████████████████████████████▉                       | 187/263 [00:11<00:04, 16.06it/s]"
     ]
    },
    {
     "name": "stdout",
     "output_type": "stream",
     "text": [
      "tensor(0.9309) Val Loss :  0.16898951013731867\n",
      "epoch :  2 Val Accuracy : tensor(0.9310) Val Loss :  0.169626946854954\n",
      "epoch :  2 Val Accuracy : tensor(0.9311) Val Loss :  0.17102785589803762\n",
      "epoch :  2 Val Accuracy : tensor(0.9314) Val Loss :  0.17140835008013838\n"
     ]
    },
    {
     "name": "stderr",
     "output_type": "stream",
     "text": [
      " 73%|██████████████████████████████████████████████████████████                      | 191/263 [00:11<00:04, 16.57it/s]"
     ]
    },
    {
     "name": "stdout",
     "output_type": "stream",
     "text": [
      "epoch :  2 Val Accuracy : tensor(0.9314) Val Loss :  0.1721203311314601\n",
      "epoch :  2 Val Accuracy : tensor(0.9311) Val Loss :  0.17317160578734975\n",
      "epoch :  2 Val Accuracy : tensor(0.9308) Val Loss :  0.1750831018155972\n",
      "epoch :  2 Val Accuracy : tensor(0.9306) Val Loss :  0.1764224644169608\n"
     ]
    },
    {
     "name": "stderr",
     "output_type": "stream",
     "text": [
      " 74%|███████████████████████████████████████████████████████████▎                    | 195/263 [00:11<00:03, 17.35it/s]"
     ]
    },
    {
     "name": "stdout",
     "output_type": "stream",
     "text": [
      "epoch :  2 Val Accuracy : tensor(0.9306) Val Loss :  0.17704832383888303\n",
      "epoch :  2 Val Accuracy : tensor(0.9306) Val Loss :  0.17798966446983497\n",
      "epoch :  2 Val Accuracy : tensor(0.9305) Val Loss :  0.17920167778154744\n",
      "epoch :  2 Val Accuracy : tensor(0.9306) Val Loss :  0.18026618999446753\n",
      "epoch :  2 Val Accuracy : "
     ]
    },
    {
     "name": "stderr",
     "output_type": "stream",
     "text": [
      " 76%|████████████████████████████████████████████████████████████▌                   | 199/263 [00:11<00:03, 18.07it/s]"
     ]
    },
    {
     "name": "stdout",
     "output_type": "stream",
     "text": [
      "tensor(0.9305) Val Loss :  0.181129556871639\n",
      "epoch :  2 Val Accuracy : tensor(0.9304) Val Loss :  0.18189050313864372\n",
      "epoch :  2 Val Accuracy : tensor(0.9303) Val Loss :  0.18323270772573158\n",
      "epoch :  2 Val Accuracy : tensor(0.9300) Val Loss :  0.18518091930862615\n"
     ]
    },
    {
     "name": "stderr",
     "output_type": "stream",
     "text": [
      " 77%|█████████████████████████████████████████████████████████████▋                  | 203/263 [00:11<00:03, 18.17it/s]"
     ]
    },
    {
     "name": "stdout",
     "output_type": "stream",
     "text": [
      "epoch :  2 Val Accuracy : tensor(0.9299) Val Loss :  0.18680423027888904\n",
      "epoch :  2 Val Accuracy : tensor(0.9303) Val Loss :  0.18716241668612332\n",
      "epoch :  2 Val Accuracy : tensor(0.9302) Val Loss :  0.1881773670703286\n",
      "epoch :  2 Val Accuracy : tensor(0.9303) Val Loss :  0.18944745830936577\n"
     ]
    },
    {
     "name": "stderr",
     "output_type": "stream",
     "text": [
      " 79%|██████████████████████████████████████████████████████████████▉                 | 207/263 [00:12<00:03, 18.04it/s]"
     ]
    },
    {
     "name": "stdout",
     "output_type": "stream",
     "text": [
      "epoch :  2 Val Accuracy : tensor(0.9304) Val Loss :  0.190542913491735\n",
      "epoch :  2 Val Accuracy : tensor(0.9302) Val Loss :  0.19137686292708148\n",
      "epoch :  2 Val Accuracy : tensor(0.9304) Val Loss :  0.19220025049869552\n",
      "epoch :  2 Val Accuracy : tensor(0.9300) Val Loss :  0.19366309703982829\n"
     ]
    },
    {
     "name": "stderr",
     "output_type": "stream",
     "text": [
      " 81%|████████████████████████████████████████████████████████████████▍               | 212/263 [00:12<00:02, 19.57it/s]"
     ]
    },
    {
     "name": "stdout",
     "output_type": "stream",
     "text": [
      "epoch :  2 Val Accuracy : tensor(0.9300) Val Loss :  0.19488684374116672\n",
      "epoch :  2 Val Accuracy : tensor(0.9300) Val Loss :  0.19549447088413818\n",
      "epoch :  2 Val Accuracy : tensor(0.9304) Val Loss :  0.19586034195618032\n",
      "epoch :  2 Val Accuracy : tensor(0.9306) Val Loss :  0.19643335642130202\n",
      "epoch :  2 Val Accuracy :"
     ]
    },
    {
     "name": "stderr",
     "output_type": "stream",
     "text": [
      " 82%|█████████████████████████████████████████████████████████████████▋              | 216/263 [00:12<00:02, 19.37it/s]"
     ]
    },
    {
     "name": "stdout",
     "output_type": "stream",
     "text": [
      " tensor(0.9305) Val Loss :  0.1974688815130027\n",
      "epoch :  2 Val Accuracy : tensor(0.9307) Val Loss :  0.1979434143737695\n",
      "epoch :  2 Val Accuracy : tensor(0.9307) Val Loss :  0.19846218498600754\n",
      "epoch :  2 Val Accuracy : tensor(0.9304) Val Loss :  0.20091690233565102\n",
      "epoch :  2 Val Accuracy : "
     ]
    },
    {
     "name": "stderr",
     "output_type": "stream",
     "text": [
      "\r",
      " 83%|██████████████████████████████████████████████████████████████████▎             | 218/263 [00:12<00:02, 19.02it/s]"
     ]
    },
    {
     "name": "stdout",
     "output_type": "stream",
     "text": [
      "tensor(0.9304) Val Loss :  0.2018374652520332\n",
      "epoch :  2 Val Accuracy : tensor(0.9307) Val Loss :  0.2020935507158363\n",
      "epoch :  2 Val Accuracy : tensor(0.9310) Val Loss :  0.20240835672662286\n",
      "epoch :  2 Val Accuracy : "
     ]
    },
    {
     "name": "stderr",
     "output_type": "stream",
     "text": [
      " 84%|███████████████████████████████████████████████████████████████████▌            | 222/263 [00:12<00:02, 16.68it/s]"
     ]
    },
    {
     "name": "stdout",
     "output_type": "stream",
     "text": [
      "tensor(0.9311) Val Loss :  0.2032376648185371\n",
      "epoch :  2 Val Accuracy : tensor(0.9310) Val Loss :  0.2046977979885308\n",
      "epoch :  2 Val Accuracy : tensor(0.9308) Val Loss :  0.2060141426585473\n"
     ]
    },
    {
     "name": "stderr",
     "output_type": "stream",
     "text": [
      "\r",
      " 85%|████████████████████████████████████████████████████████████████████▏           | 224/263 [00:13<00:02, 16.26it/s]"
     ]
    },
    {
     "name": "stdout",
     "output_type": "stream",
     "text": [
      "epoch :  2 Val Accuracy : tensor(0.9310) Val Loss :  0.20628949824168202\n",
      "epoch :  2 Val Accuracy : tensor(0.9311) Val Loss :  0.20690252776381635\n",
      "epoch :  2 Val Accuracy : tensor(0.9309) Val Loss :  0.20811338898346904\n",
      "epoch :  2 Val Accuracy : tensor(0.9309) Val Loss :  0.209134380060457\n"
     ]
    },
    {
     "name": "stderr",
     "output_type": "stream",
     "text": [
      " 87%|█████████████████████████████████████████████████████████████████████▋          | 229/263 [00:13<00:01, 17.45it/s]"
     ]
    },
    {
     "name": "stdout",
     "output_type": "stream",
     "text": [
      "epoch :  2 Val Accuracy : tensor(0.9309) Val Loss :  0.21006491043721767\n",
      "epoch :  2 Val Accuracy : tensor(0.9310) Val Loss :  0.21046682297050273\n",
      "epoch :  2 Val Accuracy : tensor(0.9312) Val Loss :  0.2111579673825108\n",
      "epoch :  2 Val Accuracy : tensor(0.9313) Val Loss :  0.21172760398668936\n"
     ]
    },
    {
     "name": "stderr",
     "output_type": "stream",
     "text": [
      " 89%|██████████████████████████████████████████████████████████████████████▊         | 233/263 [00:13<00:01, 17.97it/s]"
     ]
    },
    {
     "name": "stdout",
     "output_type": "stream",
     "text": [
      "epoch :  2 Val Accuracy : tensor(0.9313) Val Loss :  0.21254514078450293\n",
      "epoch :  2 Val Accuracy : tensor(0.9313) Val Loss :  0.21378069838416894\n",
      "epoch :  2 Val Accuracy : tensor(0.9313) Val Loss :  0.21486611664295197\n",
      "epoch :  2 Val Accuracy : tensor(0.9314) Val Loss :  0.21620384963519673\n",
      "epoch :  2 Val Accuracy : "
     ]
    },
    {
     "name": "stderr",
     "output_type": "stream",
     "text": [
      " 90%|████████████████████████████████████████████████████████████████████████        | 237/263 [00:13<00:01, 18.27it/s]"
     ]
    },
    {
     "name": "stdout",
     "output_type": "stream",
     "text": [
      "tensor(0.9316) Val Loss :  0.21684509391113832\n",
      "epoch :  2 Val Accuracy : tensor(0.9317) Val Loss :  0.21739969156087577\n",
      "epoch :  2 Val Accuracy : tensor(0.9319) Val Loss :  0.2181054478362486\n",
      "epoch :  2 Val Accuracy : tensor(0.9320) Val Loss :  0.2188884986444118\n"
     ]
    },
    {
     "name": "stderr",
     "output_type": "stream",
     "text": [
      " 92%|█████████████████████████████████████████████████████████████████████████▎      | 241/263 [00:13<00:01, 18.60it/s]"
     ]
    },
    {
     "name": "stdout",
     "output_type": "stream",
     "text": [
      "epoch :  2 Val Accuracy : tensor(0.9320) Val Loss :  0.21949367446137924\n",
      "epoch :  2 Val Accuracy : tensor(0.9321) Val Loss :  0.2200011049499983\n",
      "epoch :  2 Val Accuracy : tensor(0.9322) Val Loss :  0.220591982507887\n",
      "epoch :  2 Val Accuracy : tensor(0.9318) Val Loss :  0.2219675411063002\n"
     ]
    },
    {
     "name": "stderr",
     "output_type": "stream",
     "text": [
      " 93%|██████████████████████████████████████████████████████████████████████████▌     | 245/263 [00:14<00:00, 18.34it/s]"
     ]
    },
    {
     "name": "stdout",
     "output_type": "stream",
     "text": [
      "epoch :  2 Val Accuracy : tensor(0.9318) Val Loss :  0.22319906020799063\n",
      "epoch :  2 Val Accuracy : tensor(0.9315) Val Loss :  0.22451150451322927\n",
      "epoch :  2 Val Accuracy : tensor(0.9313) Val Loss :  0.22605787744540226\n",
      "epoch :  2 Val Accuracy : tensor(0.9311) Val Loss :  0.22709857193689384\n"
     ]
    },
    {
     "name": "stderr",
     "output_type": "stream",
     "text": [
      " 95%|███████████████████████████████████████████████████████████████████████████▋    | 249/263 [00:14<00:00, 18.15it/s]"
     ]
    },
    {
     "name": "stdout",
     "output_type": "stream",
     "text": [
      "epoch :  2 Val Accuracy : tensor(0.9314) Val Loss :  0.2274589831498186\n",
      "epoch :  2 Val Accuracy : tensor(0.9315) Val Loss :  0.22826664217751289\n",
      "epoch :  2 Val Accuracy : tensor(0.9315) Val Loss :  0.2291622867828993\n",
      "epoch :  2 Val Accuracy : tensor(0.9317) Val Loss :  0.2298690961114354\n"
     ]
    },
    {
     "name": "stderr",
     "output_type": "stream",
     "text": [
      " 96%|████████████████████████████████████████████████████████████████████████████▉   | 253/263 [00:14<00:00, 18.34it/s]"
     ]
    },
    {
     "name": "stdout",
     "output_type": "stream",
     "text": [
      "epoch :  2 Val Accuracy : tensor(0.9317) Val Loss :  0.2307244590820015\n",
      "epoch :  2 Val Accuracy : tensor(0.9318) Val Loss :  0.23147743198128254\n",
      "epoch :  2 Val Accuracy : tensor(0.9318) Val Loss :  0.23211947349767723\n",
      "epoch :  2 Val Accuracy : tensor(0.9315) Val Loss :  0.23436388503689276\n"
     ]
    },
    {
     "name": "stderr",
     "output_type": "stream",
     "text": [
      " 98%|██████████████████████████████████████████████████████████████████████████████▏ | 257/263 [00:14<00:00, 16.48it/s]"
     ]
    },
    {
     "name": "stdout",
     "output_type": "stream",
     "text": [
      "epoch :  2 Val Accuracy : tensor(0.9317) Val Loss :  0.23478380228063453\n",
      "epoch :  2 Val Accuracy : tensor(0.9316) Val Loss :  0.23557041463629827\n",
      "epoch :  2 Val Accuracy : tensor(0.9317) Val Loss :  0.2367370488695772\n",
      "epoch :  2 Val Accuracy : "
     ]
    },
    {
     "name": "stderr",
     "output_type": "stream",
     "text": [
      "\r",
      " 98%|██████████████████████████████████████████████████████████████████████████████▊ | 259/263 [00:15<00:00, 16.05it/s]"
     ]
    },
    {
     "name": "stdout",
     "output_type": "stream",
     "text": [
      "tensor(0.9316) Val Loss :  0.2378990322408114\n",
      "epoch :  2 Val Accuracy : tensor(0.9316) Val Loss :  0.23853044413001817\n",
      "epoch :  2 Val Accuracy : tensor(0.9315) Val Loss :  0.23951459772346592\n",
      "epoch :  2 Val Accuracy : "
     ]
    },
    {
     "name": "stderr",
     "output_type": "stream",
     "text": [
      "100%|████████████████████████████████████████████████████████████████████████████████| 263/263 [00:15<00:00, 17.24it/s]\n",
      "  0%|                                                                                         | 0/1225 [00:00<?, ?it/s]"
     ]
    },
    {
     "name": "stdout",
     "output_type": "stream",
     "text": [
      "tensor(0.9317) Val Loss :  0.24024960050224806\n",
      "epoch :  2 Val Accuracy : tensor(0.9317) Val Loss :  0.24092145000687118\n",
      "epoch :  2 Val Accuracy : tensor(0.9315) Val Loss :  0.24235831084926773\n"
     ]
    },
    {
     "name": "stderr",
     "output_type": "stream",
     "text": [
      "100%|██████████████████████████████████████████████████████████████████████████████| 1225/1225 [01:45<00:00, 11.59it/s]\n",
      "  1%|▌                                                                                 | 2/263 [00:00<00:18, 13.79it/s]"
     ]
    },
    {
     "name": "stdout",
     "output_type": "stream",
     "text": [
      "epoch : 3 Training Accuracy :  tensor(0.8708) Train Loss 0.39000963451302784\n",
      "epoch :  3 Val Accuracy : tensor(0.9167) Val Loss :  0.0010088953001870856\n",
      "epoch :  3 Val Accuracy : tensor(0.9306) Val Loss :  0.0017635261377907524\n"
     ]
    },
    {
     "name": "stderr",
     "output_type": "stream",
     "text": [
      "\r",
      "  2%|█▏                                                                                | 4/263 [00:00<00:17, 15.06it/s]"
     ]
    },
    {
     "name": "stdout",
     "output_type": "stream",
     "text": [
      "epoch :  3 Val Accuracy : tensor(0.9537) Val Loss :  0.002259393155348165\n",
      "epoch :  3 Val Accuracy : tensor(0.9653) Val Loss :  0.0025287308223800515\n",
      "epoch :  3 Val Accuracy : tensor(0.9667) Val Loss :  0.003880005853937606\n",
      "epoch :  3 Val Accuracy : "
     ]
    },
    {
     "name": "stderr",
     "output_type": "stream",
     "text": [
      "  3%|██▍                                                                               | 8/263 [00:00<00:15, 16.60it/s]"
     ]
    },
    {
     "name": "stdout",
     "output_type": "stream",
     "text": [
      "tensor(0.9630) Val Loss :  0.004496782423198903\n",
      "epoch :  3 Val Accuracy : tensor(0.9563) Val Loss :  0.00534406199541382\n",
      "epoch :  3 Val Accuracy : tensor(0.9549) Val Loss :  0.0062116121894506444\n",
      "epoch :  3 Val Accuracy : tensor(0.9568) Val Loss :  0.006546291476646757\n"
     ]
    },
    {
     "name": "stderr",
     "output_type": "stream",
     "text": [
      "  5%|███▋                                                                             | 12/263 [00:00<00:15, 16.12it/s]"
     ]
    },
    {
     "name": "stdout",
     "output_type": "stream",
     "text": [
      "epoch :  3 Val Accuracy : tensor(0.9500) Val Loss :  0.007674552103639102\n",
      "epoch :  3 Val Accuracy : tensor(0.9520) Val Loss :  0.008418943293874255\n",
      "epoch :  3 Val Accuracy : tensor(0.9537) Val Loss :  0.00884404302549906\n",
      "epoch :  3 Val Accuracy : "
     ]
    },
    {
     "name": "stderr",
     "output_type": "stream",
     "text": [
      "\r",
      "  5%|████▎                                                                            | 14/263 [00:00<00:15, 16.15it/s]"
     ]
    },
    {
     "name": "stdout",
     "output_type": "stream",
     "text": [
      "tensor(0.9466) Val Loss :  0.009887042381011034\n",
      "epoch :  3 Val Accuracy : tensor(0.9444) Val Loss :  0.010667719485188618\n",
      "epoch :  3 Val Accuracy : tensor(0.9444) Val Loss :  0.011249194070413538\n",
      "epoch :  3 Val Accuracy : tensor(0.9444)"
     ]
    },
    {
     "name": "stderr",
     "output_type": "stream",
     "text": [
      "  7%|█████▌                                                                           | 18/263 [00:01<00:15, 15.46it/s]"
     ]
    },
    {
     "name": "stdout",
     "output_type": "stream",
     "text": [
      " Val Loss :  0.01193498176993526\n",
      "epoch :  3 Val Accuracy : tensor(0.9444) Val Loss :  0.01256803409001673\n",
      "epoch :  3 Val Accuracy : tensor(0.9460) Val Loss :  0.012940389603489706\n",
      "epoch :  3 Val Accuracy : "
     ]
    },
    {
     "name": "stderr",
     "output_type": "stream",
     "text": [
      "  8%|██████▊                                                                          | 22/263 [00:01<00:15, 15.95it/s]"
     ]
    },
    {
     "name": "stdout",
     "output_type": "stream",
     "text": [
      "tensor(0.9444) Val Loss :  0.013620621152930387\n",
      "epoch :  3 Val Accuracy : tensor(0.9472) Val Loss :  0.01401064882033678\n",
      "epoch :  3 Val Accuracy : tensor(0.9484) Val Loss :  0.014322910557001715\n",
      "epoch :  3 Val Accuracy : tensor(0.9482) Val Loss :  0.014989767096115155\n"
     ]
    },
    {
     "name": "stderr",
     "output_type": "stream",
     "text": [
      "\r",
      "  9%|███████▍                                                                         | 24/263 [00:01<00:14, 16.34it/s]"
     ]
    },
    {
     "name": "stdout",
     "output_type": "stream",
     "text": [
      "epoch :  3 Val Accuracy : tensor(0.9493) Val Loss :  0.015458934462342425\n",
      "epoch :  3 Val Accuracy : tensor(0.9502) Val Loss :  0.015924912810098987\n",
      "epoch :  3 Val Accuracy : tensor(0.9489) Val Loss :  0.01683297019607667\n"
     ]
    },
    {
     "name": "stderr",
     "output_type": "stream",
     "text": [
      "\r",
      " 10%|████████                                                                         | 26/263 [00:01<00:17, 13.79it/s]"
     ]
    },
    {
     "name": "stdout",
     "output_type": "stream",
     "text": [
      "epoch :  3 Val Accuracy : tensor(0.9476) Val Loss :  0.017979929004105326\n",
      "epoch :  3 Val Accuracy : tensor(0.9486) Val Loss :  0.018245048452692793\n",
      "epoch :  3 Val Accuracy : "
     ]
    },
    {
     "name": "stderr",
     "output_type": "stream",
     "text": [
      " 11%|█████████▏                                                                       | 30/263 [00:02<00:17, 13.13it/s]"
     ]
    },
    {
     "name": "stdout",
     "output_type": "stream",
     "text": [
      "tensor(0.9464) Val Loss :  0.019347597947592065\n",
      "epoch :  3 Val Accuracy : tensor(0.9483) Val Loss :  0.01951322883027588\n",
      "epoch :  3 Val Accuracy : tensor(0.9481) Val Loss :  0.019984828825232646\n"
     ]
    },
    {
     "name": "stderr",
     "output_type": "stream",
     "text": [
      "\r",
      " 12%|█████████▊                                                                       | 32/263 [00:02<00:16, 13.71it/s]"
     ]
    },
    {
     "name": "stdout",
     "output_type": "stream",
     "text": [
      "epoch :  3 Val Accuracy : tensor(0.9498) Val Loss :  0.02026870430309056\n",
      "epoch :  3 Val Accuracy : tensor(0.9505) Val Loss :  0.020876177731802253\n",
      "epoch :  3 Val Accuracy : tensor(0.9503) Val Loss :  0.021969624713573166\n",
      "epoch :  3 Val Accuracy : "
     ]
    },
    {
     "name": "stderr",
     "output_type": "stream",
     "text": [
      " 14%|███████████                                                                      | 36/263 [00:02<00:14, 15.26it/s]"
     ]
    },
    {
     "name": "stdout",
     "output_type": "stream",
     "text": [
      "tensor(0.9502) Val Loss :  0.022598281077785637\n",
      "epoch :  3 Val Accuracy : tensor(0.9508) Val Loss :  0.02300264760001984\n",
      "epoch :  3 Val Accuracy : tensor(0.9522) Val Loss :  0.02331688697007219\n",
      "epoch :  3 Val Accuracy : "
     ]
    },
    {
     "name": "stderr",
     "output_type": "stream",
     "text": [
      "\r",
      " 14%|███████████▋                                                                     | 38/263 [00:02<00:14, 15.05it/s]"
     ]
    },
    {
     "name": "stdout",
     "output_type": "stream",
     "text": [
      "tensor(0.9535) Val Loss :  0.023544972897029195\n",
      "epoch :  3 Val Accuracy : tensor(0.9532) Val Loss :  0.024239133802656892\n",
      "epoch :  3 Val Accuracy : tensor(0.9537) Val Loss :  0.02483750596472519\n",
      "epoch :  3 Val Accuracy : "
     ]
    },
    {
     "name": "stderr",
     "output_type": "stream",
     "text": [
      " 16%|████████████▉                                                                    | 42/263 [00:02<00:14, 15.61it/s]"
     ]
    },
    {
     "name": "stdout",
     "output_type": "stream",
     "text": [
      "tensor(0.9528) Val Loss :  0.026065450940748584\n",
      "epoch :  3 Val Accuracy : tensor(0.9526) Val Loss :  0.026872981807124934\n",
      "epoch :  3 Val Accuracy : tensor(0.9517) Val Loss :  0.02762883555979783\n",
      "epoch :  3 Val Accuracy : "
     ]
    },
    {
     "name": "stderr",
     "output_type": "stream",
     "text": [
      " 17%|██████████████▏                                                                  | 46/263 [00:03<00:13, 16.50it/s]"
     ]
    },
    {
     "name": "stdout",
     "output_type": "stream",
     "text": [
      "tensor(0.9528) Val Loss :  0.027804630110925595\n",
      "epoch :  3 Val Accuracy : tensor(0.9539) Val Loss :  0.028157183850899395\n",
      "epoch :  3 Val Accuracy : tensor(0.9549) Val Loss :  0.02834488739022284\n",
      "epoch :  3 Val Accuracy : tensor(0.9559) Val Loss :  0.028741714463147827\n"
     ]
    },
    {
     "name": "stderr",
     "output_type": "stream",
     "text": [
      "\r",
      " 18%|██████████████▊                                                                  | 48/263 [00:03<00:13, 16.03it/s]"
     ]
    },
    {
     "name": "stdout",
     "output_type": "stream",
     "text": [
      "epoch :  3 Val Accuracy : tensor(0.9563) Val Loss :  0.029375731562593592\n",
      "epoch :  3 Val Accuracy : tensor(0.9554) Val Loss :  0.030209913694020006\n",
      "epoch :  3 Val Accuracy : tensor(0.9552) Val Loss :  0.030662099968911123\n",
      "epoch :  3 Val Accuracy : "
     ]
    },
    {
     "name": "stderr",
     "output_type": "stream",
     "text": [
      " 20%|████████████████                                                                 | 52/263 [00:03<00:14, 15.02it/s]"
     ]
    },
    {
     "name": "stdout",
     "output_type": "stream",
     "text": [
      "tensor(0.9550) Val Loss :  0.031034839569729092\n",
      "epoch :  3 Val Accuracy : tensor(0.9542) Val Loss :  0.031852419144640404\n",
      "epoch :  3 Val Accuracy : tensor(0.9530) Val Loss :  0.03324398816255109\n",
      "epoch :  3 Val Accuracy : "
     ]
    },
    {
     "name": "stderr",
     "output_type": "stream",
     "text": [
      "\r",
      " 21%|████████████████▋                                                                | 54/263 [00:03<00:14, 14.38it/s]"
     ]
    },
    {
     "name": "stdout",
     "output_type": "stream",
     "text": [
      "tensor(0.9528) Val Loss :  0.03382779095506033\n",
      "epoch :  3 Val Accuracy : tensor(0.9516) Val Loss :  0.03511513796539361\n",
      "epoch :  3 Val Accuracy : tensor(0.9515) Val Loss :  0.03635707949447541\n"
     ]
    },
    {
     "name": "stderr",
     "output_type": "stream",
     "text": [
      " 22%|█████████████████▊                                                               | 58/263 [00:03<00:15, 13.67it/s]"
     ]
    },
    {
     "name": "stdout",
     "output_type": "stream",
     "text": [
      "epoch :  3 Val Accuracy : tensor(0.9514) Val Loss :  0.037181540742913126\n",
      "epoch :  3 Val Accuracy : tensor(0.9508) Val Loss :  0.0380141008007889\n",
      "epoch :  3 Val Accuracy : tensor(0.9488) Val Loss :  0.03960650030367728\n"
     ]
    },
    {
     "name": "stderr",
     "output_type": "stream",
     "text": [
      "\r",
      " 23%|██████████████████▍                                                              | 60/263 [00:04<00:14, 13.93it/s]"
     ]
    },
    {
     "name": "stdout",
     "output_type": "stream",
     "text": [
      "epoch :  3 Val Accuracy : tensor(0.9492) Val Loss :  0.039962102860892225\n",
      "epoch :  3 Val Accuracy : tensor(0.9500) Val Loss :  0.04025066928661821\n",
      "epoch :  3 Val Accuracy : tensor(0.9504) Val Loss :  0.040784523330147274\n"
     ]
    },
    {
     "name": "stderr",
     "output_type": "stream",
     "text": [
      " 24%|███████████████████▋                                                             | 64/263 [00:04<00:14, 14.05it/s]"
     ]
    },
    {
     "name": "stdout",
     "output_type": "stream",
     "text": [
      "epoch :  3 Val Accuracy : tensor(0.9503) Val Loss :  0.04142157822677391\n",
      "epoch :  3 Val Accuracy : tensor(0.9506) Val Loss :  0.04222316454968525\n",
      "epoch :  3 Val Accuracy : tensor(0.9514) Val Loss :  0.04254076526475497\n"
     ]
    },
    {
     "name": "stderr",
     "output_type": "stream",
     "text": [
      "\r",
      " 25%|████████████████████▎                                                            | 66/263 [00:04<00:13, 14.62it/s]"
     ]
    },
    {
     "name": "stdout",
     "output_type": "stream",
     "text": [
      "epoch :  3 Val Accuracy : tensor(0.9517) Val Loss :  0.04323093390566768\n",
      "epoch :  3 Val Accuracy : tensor(0.9520) Val Loss :  0.04387526640477289\n",
      "epoch :  3 Val Accuracy : tensor(0.9519) Val Loss :  0.044821542889559675\n",
      "epoch :  3 Val Accuracy : "
     ]
    },
    {
     "name": "stderr",
     "output_type": "stream",
     "text": [
      " 27%|█████████████████████▌                                                           | 70/263 [00:04<00:12, 14.89it/s]"
     ]
    },
    {
     "name": "stdout",
     "output_type": "stream",
     "text": [
      "tensor(0.9514) Val Loss :  0.04590464370615582\n",
      "epoch :  3 Val Accuracy : tensor(0.9517) Val Loss :  0.04646738991141319\n",
      "epoch :  3 Val Accuracy : tensor(0.9520) Val Loss :  0.047008517761307524\n",
      "epoch :  3 Val Accuracy : "
     ]
    },
    {
     "name": "stderr",
     "output_type": "stream",
     "text": [
      "\r",
      " 27%|██████████████████████▏                                                          | 72/263 [00:04<00:12, 15.00it/s]"
     ]
    },
    {
     "name": "stdout",
     "output_type": "stream",
     "text": [
      "tensor(0.9519) Val Loss :  0.04766719594257866\n",
      "epoch :  3 Val Accuracy : tensor(0.9514) Val Loss :  0.04905748946641788\n",
      "epoch :  3 Val Accuracy : tensor(0.9517) Val Loss :  0.049449816926917196\n",
      "epoch :  3"
     ]
    },
    {
     "name": "stderr",
     "output_type": "stream",
     "text": [
      " 29%|███████████████████████▍                                                         | 76/263 [00:05<00:12, 14.61it/s]"
     ]
    },
    {
     "name": "stdout",
     "output_type": "stream",
     "text": [
      " Val Accuracy : tensor(0.9516) Val Loss :  0.04987483093437133\n",
      "epoch :  3 Val Accuracy : tensor(0.9511) Val Loss :  0.05058945985971295\n",
      "epoch :  3 Val Accuracy : tensor(0.9510) Val Loss :  0.05189249490320456\n",
      "epoch :  3 Val Accuracy : "
     ]
    },
    {
     "name": "stderr",
     "output_type": "stream",
     "text": [
      "\r",
      " 30%|████████████████████████                                                         | 78/263 [00:05<00:12, 15.00it/s]"
     ]
    },
    {
     "name": "stdout",
     "output_type": "stream",
     "text": [
      "tensor(0.9509) Val Loss :  0.052695213317757776\n",
      "epoch :  3 Val Accuracy : tensor(0.9512) Val Loss :  0.053161419885580076\n",
      "epoch :  3 Val Accuracy : tensor(0.9511) Val Loss :  0.05394394116426602\n",
      "epoch :  3 Val Accuracy : "
     ]
    },
    {
     "name": "stderr",
     "output_type": "stream",
     "text": [
      " 31%|█████████████████████████▎                                                       | 82/263 [00:05<00:11, 15.34it/s]"
     ]
    },
    {
     "name": "stdout",
     "output_type": "stream",
     "text": [
      "tensor(0.9507) Val Loss :  0.05465132313932756\n",
      "epoch :  3 Val Accuracy : tensor(0.9503) Val Loss :  0.055977104153809895\n",
      "epoch :  3 Val Accuracy : tensor(0.9499) Val Loss :  0.05668628639311392\n",
      "epoch :  3 Val Accuracy : "
     ]
    },
    {
     "name": "stderr",
     "output_type": "stream",
     "text": [
      "\r",
      " 32%|█████████████████████████▊                                                       | 84/263 [00:05<00:11, 15.53it/s]"
     ]
    },
    {
     "name": "stdout",
     "output_type": "stream",
     "text": [
      "tensor(0.9481) Val Loss :  0.05813797598725943\n",
      "epoch :  3 Val Accuracy : tensor(0.9487) Val Loss :  0.058332625365755855\n",
      "epoch :  3 Val Accuracy : tensor(0.9484) Val Loss :  0.05927541322241264\n",
      "epoch :  3 Val Accuracy : "
     ]
    },
    {
     "name": "stderr",
     "output_type": "stream",
     "text": [
      " 33%|███████████████████████████                                                      | 88/263 [00:05<00:11, 15.87it/s]"
     ]
    },
    {
     "name": "stdout",
     "output_type": "stream",
     "text": [
      "tensor(0.9486) Val Loss :  0.05996146551669777\n",
      "epoch :  3 Val Accuracy : tensor(0.9483) Val Loss :  0.06103169252324014\n",
      "epoch :  3 Val Accuracy : tensor(0.9479) Val Loss :  0.06155534153768771\n",
      "epoch :  3 Val Accuracy : "
     ]
    },
    {
     "name": "stderr",
     "output_type": "stream",
     "text": [
      " 35%|████████████████████████████▎                                                    | 92/263 [00:06<00:10, 16.04it/s]"
     ]
    },
    {
     "name": "stdout",
     "output_type": "stream",
     "text": [
      "tensor(0.9482) Val Loss :  0.062129222253202936\n",
      "epoch :  3 Val Accuracy : tensor(0.9481) Val Loss :  0.0628985692056413\n",
      "epoch :  3 Val Accuracy : tensor(0.9481) Val Loss :  0.06375205706620851\n",
      "epoch :  3 Val Accuracy : tensor(0.9478) Val Loss :  0.06545066264079098\n"
     ]
    },
    {
     "name": "stderr",
     "output_type": "stream",
     "text": [
      "\r",
      " 36%|████████████████████████████▉                                                    | 94/263 [00:06<00:12, 13.43it/s]"
     ]
    },
    {
     "name": "stdout",
     "output_type": "stream",
     "text": [
      "epoch :  3 Val Accuracy : tensor(0.9483) Val Loss :  0.06587181685088705\n",
      "epoch :  3 Val Accuracy : tensor(0.9483) Val Loss :  0.06687667455963309\n",
      "epoch :  3 Val Accuracy : "
     ]
    },
    {
     "name": "stderr",
     "output_type": "stream",
     "text": [
      "\r",
      " 37%|█████████████████████████████▌                                                   | 96/263 [00:06<00:12, 13.45it/s]"
     ]
    },
    {
     "name": "stdout",
     "output_type": "stream",
     "text": [
      "tensor(0.9482) Val Loss :  0.067354154337495\n",
      "epoch :  3 Val Accuracy : tensor(0.9479) Val Loss :  0.06877616047859192\n",
      "epoch :  3 Val Accuracy : tensor(0.9482) Val Loss :  0.06935168462787744\n"
     ]
    },
    {
     "name": "stderr",
     "output_type": "stream",
     "text": [
      " 38%|██████████████████████████████▍                                                 | 100/263 [00:06<00:12, 13.33it/s]"
     ]
    },
    {
     "name": "stdout",
     "output_type": "stream",
     "text": [
      "epoch :  3 Val Accuracy : tensor(0.9473) Val Loss :  0.07048711277006244\n",
      "epoch :  3 Val Accuracy : tensor(0.9473) Val Loss :  0.07120532358327293\n",
      "epoch :  3 Val Accuracy : tensor(0.9475) Val Loss :  0.07155089595925218\n"
     ]
    },
    {
     "name": "stderr",
     "output_type": "stream",
     "text": [
      "\r",
      " 39%|███████████████████████████████                                                 | 102/263 [00:06<00:11, 13.59it/s]"
     ]
    },
    {
     "name": "stdout",
     "output_type": "stream",
     "text": [
      "epoch :  3 Val Accuracy : tensor(0.9477) Val Loss :  0.07198202105756042\n",
      "epoch :  3 Val Accuracy : tensor(0.9472) Val Loss :  0.07352850232060872\n",
      "epoch :  3 Val Accuracy : tensor(0.9471) Val Loss :  0.07417020479309241\n"
     ]
    },
    {
     "name": "stderr",
     "output_type": "stream",
     "text": [
      " 40%|████████████████████████████████▏                                               | 106/263 [00:07<00:11, 13.23it/s]"
     ]
    },
    {
     "name": "stdout",
     "output_type": "stream",
     "text": [
      "epoch :  3 Val Accuracy : tensor(0.9474) Val Loss :  0.07451969509795592\n",
      "epoch :  3 Val Accuracy : tensor(0.9466) Val Loss :  0.07571462465329769\n",
      "epoch :  3 Val Accuracy : tensor(0.9471) Val Loss :  0.07606274031187645\n"
     ]
    },
    {
     "name": "stderr",
     "output_type": "stream",
     "text": [
      "\r",
      " 41%|████████████████████████████████▊                                               | 108/263 [00:07<00:11, 13.64it/s]"
     ]
    },
    {
     "name": "stdout",
     "output_type": "stream",
     "text": [
      "epoch :  3 Val Accuracy : tensor(0.9473) Val Loss :  0.07640425257469764\n",
      "epoch :  3 Val Accuracy : tensor(0.9473) Val Loss :  0.07689028748881227\n",
      "epoch :  3 Val Accuracy : tensor(0.9478) Val Loss :  0.07718162196104064\n",
      "epoch :  3 Val Accuracy : "
     ]
    },
    {
     "name": "stderr",
     "output_type": "stream",
     "text": [
      " 43%|██████████████████████████████████                                              | 112/263 [00:07<00:10, 14.35it/s]"
     ]
    },
    {
     "name": "stdout",
     "output_type": "stream",
     "text": [
      "tensor(0.9475) Val Loss :  0.07796685910383558\n",
      "epoch :  3 Val Accuracy : tensor(0.9474) Val Loss :  0.07868207404708681\n",
      "epoch :  3 Val Accuracy : tensor(0.9474) Val Loss :  0.07938650961497891\n",
      "epoch :  3 Val Accuracy : "
     ]
    },
    {
     "name": "stderr",
     "output_type": "stream",
     "text": [
      "\r",
      " 43%|██████████████████████████████████▋                                             | 114/263 [00:07<00:11, 13.25it/s]"
     ]
    },
    {
     "name": "stdout",
     "output_type": "stream",
     "text": [
      "tensor(0.9471) Val Loss :  0.08029886136830079\n",
      "epoch :  3 Val Accuracy : tensor(0.9469) Val Loss :  0.08181875295398806\n",
      "epoch :  3 Val Accuracy : "
     ]
    },
    {
     "name": "stderr",
     "output_type": "stream",
     "text": [
      "\r",
      " 44%|███████████████████████████████████▎                                            | 116/263 [00:07<00:11, 12.87it/s]"
     ]
    },
    {
     "name": "stdout",
     "output_type": "stream",
     "text": [
      "tensor(0.9466) Val Loss :  0.08270811198895421\n",
      "epoch :  3 Val Accuracy : tensor(0.9468) Val Loss :  0.08318890719019414\n",
      "epoch :  3 Val Accuracy : tensor(0.9471) Val Loss :  "
     ]
    },
    {
     "name": "stderr",
     "output_type": "stream",
     "text": [
      "\r",
      " 45%|███████████████████████████████████▉                                            | 118/263 [00:08<00:12, 12.03it/s]"
     ]
    },
    {
     "name": "stdout",
     "output_type": "stream",
     "text": [
      "0.08355585191073073\n",
      "epoch :  3 Val Accuracy : tensor(0.9473) Val Loss :  0.08387531405279391\n",
      "epoch :  3 Val Accuracy : tensor(0.9475) Val Loss :  0.08440855085963078\n"
     ]
    },
    {
     "name": "stderr",
     "output_type": "stream",
     "text": [
      "\r",
      " 46%|████████████████████████████████████▌                                           | 120/263 [00:08<00:11, 11.99it/s]"
     ]
    },
    {
     "name": "stdout",
     "output_type": "stream",
     "text": [
      "epoch :  3 Val Accuracy : tensor(0.9472) Val Loss :  0.08531783099070248\n",
      "epoch :  3 Val Accuracy : tensor(0.9474) Val Loss :  0.08576340338803062\n"
     ]
    },
    {
     "name": "stderr",
     "output_type": "stream",
     "text": [
      " 47%|█████████████████████████████████████▋                                          | 124/263 [00:08<00:12, 11.30it/s]"
     ]
    },
    {
     "name": "stdout",
     "output_type": "stream",
     "text": [
      "epoch :  3 Val Accuracy : tensor(0.9476) Val Loss :  0.08622777377018004\n",
      "epoch :  3 Val Accuracy : tensor(0.9474) Val Loss :  0.08707021193812556\n",
      "epoch :  3 Val Accuracy : tensor(0.9474) Val Loss :  0.08811632274674826\n",
      "epoch :  3 Val Accuracy : "
     ]
    },
    {
     "name": "stderr",
     "output_type": "stream",
     "text": [
      "\r",
      " 48%|██████████████████████████████████████▎                                         | 126/263 [00:08<00:11, 12.21it/s]"
     ]
    },
    {
     "name": "stdout",
     "output_type": "stream",
     "text": [
      "tensor(0.9478) Val Loss :  0.08839273503751356\n",
      "epoch :  3 Val Accuracy : tensor(0.9478) Val Loss :  0.08964194368726854\n",
      "epoch :  3 Val Accuracy : tensor(0.9473) Val Loss :  0.0914689848064923\n",
      "epoch :  3 Val Accuracy : "
     ]
    },
    {
     "name": "stderr",
     "output_type": "stream",
     "text": [
      " 49%|███████████████████████████████████████▌                                        | 130/263 [00:09<00:09, 13.89it/s]"
     ]
    },
    {
     "name": "stdout",
     "output_type": "stream",
     "text": [
      "tensor(0.9470) Val Loss :  0.09254239499568939\n",
      "epoch :  3 Val Accuracy : tensor(0.9468) Val Loss :  0.09370203440860198\n",
      "epoch :  3 Val Accuracy : tensor(0.9466) Val Loss :  0.09459660709357534\n",
      "epoch :  3 Val Accuracy : "
     ]
    },
    {
     "name": "stderr",
     "output_type": "stream",
     "text": [
      "\r",
      " 50%|████████████████████████████████████████▏                                       | 132/263 [00:09<00:08, 14.59it/s]"
     ]
    },
    {
     "name": "stdout",
     "output_type": "stream",
     "text": [
      "tensor(0.9466) Val Loss :  0.0954737125580755\n",
      "epoch :  3 Val Accuracy : tensor(0.9468) Val Loss :  0.09579833744256669\n",
      "epoch :  3 Val Accuracy : tensor(0.9470) Val Loss :  0.09619751000359031\n",
      "epoch :  3 Val Accuracy : "
     ]
    },
    {
     "name": "stderr",
     "output_type": "stream",
     "text": [
      " 52%|█████████████████████████████████████████▎                                      | 136/263 [00:09<00:08, 14.91it/s]"
     ]
    },
    {
     "name": "stdout",
     "output_type": "stream",
     "text": [
      "tensor(0.9471) Val Loss :  0.09676308635296477\n",
      "epoch :  3 Val Accuracy : tensor(0.9471) Val Loss :  0.09740443799658874\n",
      "epoch :  3 Val Accuracy : tensor(0.9465) Val Loss :  0.09854034456236734\n"
     ]
    },
    {
     "name": "stderr",
     "output_type": "stream",
     "text": [
      "\r",
      " 52%|█████████████████████████████████████████▉                                      | 138/263 [00:09<00:08, 14.75it/s]"
     ]
    },
    {
     "name": "stdout",
     "output_type": "stream",
     "text": [
      "epoch :  3 Val Accuracy : tensor(0.9463) Val Loss :  0.0993950957921068\n",
      "epoch :  3 Val Accuracy : tensor(0.9465) Val Loss :  0.09984703039035145\n",
      "epoch :  3 Val Accuracy : tensor(0.9462) Val Loss :  0.10098611152670682\n",
      "epoch :  3 Val Accuracy : "
     ]
    },
    {
     "name": "stderr",
     "output_type": "stream",
     "text": [
      " 54%|███████████████████████████████████████████▏                                    | 142/263 [00:09<00:07, 15.75it/s]"
     ]
    },
    {
     "name": "stdout",
     "output_type": "stream",
     "text": [
      "tensor(0.9464) Val Loss :  0.10157603286065076\n",
      "epoch :  3 Val Accuracy : tensor(0.9458) Val Loss :  0.10312201473649464\n",
      "epoch :  3 Val Accuracy : tensor(0.9460) Val Loss :  0.10360597379987231\n",
      "epoch :  3 Val Accuracy : tensor(0.9460) Val Loss :  0.10428955091496384\n"
     ]
    },
    {
     "name": "stderr",
     "output_type": "stream",
     "text": [
      " 56%|████████████████████████████████████████████▍                                   | 146/263 [00:10<00:07, 14.88it/s]"
     ]
    },
    {
     "name": "stdout",
     "output_type": "stream",
     "text": [
      "epoch :  3 Val Accuracy : tensor(0.9458) Val Loss :  0.10539004540942014\n",
      "epoch :  3 Val Accuracy : tensor(0.9458) Val Loss :  0.10618255839828303\n",
      "epoch :  3 Val Accuracy : tensor(0.9460) Val Loss :  0.10672171000292092\n"
     ]
    },
    {
     "name": "stderr",
     "output_type": "stream",
     "text": [
      "\r",
      " 56%|█████████████████████████████████████████████                                   | 148/263 [00:10<00:07, 14.39it/s]"
     ]
    },
    {
     "name": "stdout",
     "output_type": "stream",
     "text": [
      "epoch :  3 Val Accuracy : tensor(0.9452) Val Loss :  0.10832331207768546\n",
      "epoch :  3 Val Accuracy : tensor(0.9452) Val Loss :  0.10865947757157082\n",
      "epoch :  3 Val Accuracy : tensor(0.9452) Val Loss :  0.10993555239171583\n"
     ]
    },
    {
     "name": "stderr",
     "output_type": "stream",
     "text": [
      " 58%|██████████████████████████████████████████████▏                                 | 152/263 [00:10<00:08, 13.31it/s]"
     ]
    },
    {
     "name": "stdout",
     "output_type": "stream",
     "text": [
      "epoch :  3 Val Accuracy : tensor(0.9456) Val Loss :  0.11032621245193844\n",
      "epoch :  3 Val Accuracy : tensor(0.9454) Val Loss :  0.11102161412003375\n",
      "epoch :  3 Val Accuracy : tensor(0.9455) Val Loss :  0.11148870996989224\n"
     ]
    },
    {
     "name": "stderr",
     "output_type": "stream",
     "text": [
      "\r",
      " 59%|██████████████████████████████████████████████▊                                 | 154/263 [00:10<00:08, 13.48it/s]"
     ]
    },
    {
     "name": "stdout",
     "output_type": "stream",
     "text": [
      "epoch :  3 Val Accuracy : tensor(0.9454) Val Loss :  0.11218318312000412\n",
      "epoch :  3 Val Accuracy : tensor(0.9455) Val Loss :  0.11242972807285903\n",
      "epoch :  3 Val Accuracy : tensor(0.9455) Val Loss :  0.11330555345395672\n"
     ]
    },
    {
     "name": "stderr",
     "output_type": "stream",
     "text": [
      " 60%|████████████████████████████████████████████████                                | 158/263 [00:11<00:07, 14.19it/s]"
     ]
    },
    {
     "name": "stdout",
     "output_type": "stream",
     "text": [
      "epoch :  3 Val Accuracy : tensor(0.9455) Val Loss :  0.11381187774382617\n",
      "epoch :  3 Val Accuracy : tensor(0.9453) Val Loss :  0.11450393333634497\n",
      "epoch :  3 Val Accuracy : tensor(0.9455) Val Loss :  0.11523616608558046\n"
     ]
    },
    {
     "name": "stderr",
     "output_type": "stream",
     "text": [
      "\r",
      " 61%|████████████████████████████████████████████████▋                               | 160/263 [00:11<00:07, 14.19it/s]"
     ]
    },
    {
     "name": "stdout",
     "output_type": "stream",
     "text": [
      "epoch :  3 Val Accuracy : tensor(0.9453) Val Loss :  0.11624596497405165\n",
      "epoch :  3 Val Accuracy : tensor(0.9453) Val Loss :  0.11694019086687284\n",
      "epoch :  3 Val Accuracy : tensor(0.9457) Val Loss :  0.11736868676010646\n",
      "epoch :  3 Val Accuracy : "
     ]
    },
    {
     "name": "stderr",
     "output_type": "stream",
     "text": [
      " 62%|█████████████████████████████████████████████████▉                              | 164/263 [00:11<00:06, 14.50it/s]"
     ]
    },
    {
     "name": "stdout",
     "output_type": "stream",
     "text": [
      "tensor(0.9455) Val Loss :  0.11839186802449789\n",
      "epoch :  3 Val Accuracy : tensor(0.9450) Val Loss :  0.11978209265171348\n",
      "epoch :  3 Val Accuracy : tensor(0.9444) Val Loss :  0.12182193991689175\n",
      "epoch :  3 Val Accuracy : "
     ]
    },
    {
     "name": "stderr",
     "output_type": "stream",
     "text": [
      "\r",
      " 63%|██████████████████████████████████████████████████▍                             | 166/263 [00:11<00:06, 14.93it/s]"
     ]
    },
    {
     "name": "stdout",
     "output_type": "stream",
     "text": [
      "tensor(0.9444) Val Loss :  0.12273409211930213\n",
      "epoch :  3 Val Accuracy : tensor(0.9444) Val Loss :  0.12340048881877964\n",
      "epoch :  3 Val Accuracy : tensor(0.9446) Val Loss :  0.12405366597860032\n",
      "epoch :  3 Val Accuracy : "
     ]
    },
    {
     "name": "stderr",
     "output_type": "stream",
     "text": [
      " 65%|███████████████████████████████████████████████████▋                            | 170/263 [00:11<00:06, 14.89it/s]"
     ]
    },
    {
     "name": "stdout",
     "output_type": "stream",
     "text": [
      "tensor(0.9448) Val Loss :  0.12433955943063185\n",
      "epoch :  3 Val Accuracy : tensor(0.9451) Val Loss :  0.1246255083512444\n",
      "epoch :  3 Val Accuracy : tensor(0.9451) Val Loss :  0.12523556353361434\n",
      "epoch :  3 Val Accuracy : "
     ]
    },
    {
     "name": "stderr",
     "output_type": "stream",
     "text": [
      "\r",
      " 65%|████████████████████████████████████████████████████▎                           | 172/263 [00:11<00:06, 14.87it/s]"
     ]
    },
    {
     "name": "stdout",
     "output_type": "stream",
     "text": [
      "tensor(0.9454) Val Loss :  0.12573152012811414\n",
      "epoch :  3 Val Accuracy : tensor(0.9454) Val Loss :  0.1263765928693144\n",
      "epoch :  3 Val Accuracy : tensor(0.9456) Val Loss :  0.12682382428147493\n"
     ]
    },
    {
     "name": "stderr",
     "output_type": "stream",
     "text": [
      " 67%|█████████████████████████████████████████████████████▌                          | 176/263 [00:12<00:05, 15.03it/s]"
     ]
    },
    {
     "name": "stdout",
     "output_type": "stream",
     "text": [
      "epoch :  3 Val Accuracy : tensor(0.9452) Val Loss :  0.12813248335181987\n",
      "epoch :  3 Val Accuracy : tensor(0.9456) Val Loss :  0.12867967937382455\n",
      "epoch :  3 Val Accuracy : tensor(0.9451) Val Loss :  0.1300062712834362\n"
     ]
    },
    {
     "name": "stderr",
     "output_type": "stream",
     "text": [
      "\r",
      " 68%|██████████████████████████████████████████████████████▏                         | 178/263 [00:12<00:05, 14.32it/s]"
     ]
    },
    {
     "name": "stdout",
     "output_type": "stream",
     "text": [
      "epoch :  3 Val Accuracy : tensor(0.9451) Val Loss :  0.13071005930238805\n",
      "epoch :  3 Val Accuracy : tensor(0.9452) Val Loss :  0.1312560490102369\n",
      "epoch :  3 Val Accuracy : tensor(0.9452) Val Loss :  0.13188008403143503\n",
      "epoch :  3 Val Accuracy : "
     ]
    },
    {
     "name": "stderr",
     "output_type": "stream",
     "text": [
      "\r",
      " 68%|██████████████████████████████████████████████████████▊                         | 180/263 [00:12<00:05, 14.40it/s]"
     ]
    },
    {
     "name": "stdout",
     "output_type": "stream",
     "text": [
      "tensor(0.9449) Val Loss :  0.13287498980420623\n",
      "epoch :  3 Val Accuracy : tensor(0.9451) Val Loss :  0.1332211592748138\n"
     ]
    },
    {
     "name": "stderr",
     "output_type": "stream",
     "text": [
      " 70%|███████████████████████████████████████████████████████▉                        | 184/263 [00:12<00:06, 11.55it/s]"
     ]
    },
    {
     "name": "stdout",
     "output_type": "stream",
     "text": [
      "epoch :  3 Val Accuracy : tensor(0.9452) Val Loss :  0.13353648849766517\n",
      "epoch :  3 Val Accuracy : tensor(0.9454) Val Loss :  0.13413786457518662\n",
      "epoch :  3 Val Accuracy : tensor(0.9455) Val Loss :  0.13480247993432976\n"
     ]
    },
    {
     "name": "stderr",
     "output_type": "stream",
     "text": [
      "\r",
      " 71%|████████████████████████████████████████████████████████▌                       | 186/263 [00:13<00:06, 11.67it/s]"
     ]
    },
    {
     "name": "stdout",
     "output_type": "stream",
     "text": [
      "epoch :  3 Val Accuracy : tensor(0.9455) Val Loss :  0.13543801338273762\n",
      "epoch :  3 Val Accuracy : tensor(0.9452) Val Loss :  0.13662739404027452\n"
     ]
    },
    {
     "name": "stderr",
     "output_type": "stream",
     "text": [
      "\r",
      " 71%|█████████████████████████████████████████████████████████▏                      | 188/263 [00:13<00:08,  8.48it/s]"
     ]
    },
    {
     "name": "stdout",
     "output_type": "stream",
     "text": [
      "epoch :  3 Val Accuracy : tensor(0.9453) Val Loss :  0.13723357792362967\n",
      "epoch :  3 Val Accuracy : tensor(0.9452) Val Loss :  0.13837787605283833\n"
     ]
    },
    {
     "name": "stderr",
     "output_type": "stream",
     "text": [
      "\r",
      " 72%|█████████████████████████████████████████████████████████▊                      | 190/263 [00:13<00:08,  8.34it/s]"
     ]
    },
    {
     "name": "stdout",
     "output_type": "stream",
     "text": [
      "epoch :  3 Val Accuracy : tensor(0.9453) Val Loss :  0.13913908425166127\n",
      "epoch :  3 Val Accuracy : tensor(0.9449) Val Loss :  0.14042509672986236\n"
     ]
    },
    {
     "name": "stderr",
     "output_type": "stream",
     "text": [
      " 73%|██████████████████████████████████████████████████████████▍                     | 192/263 [00:13<00:08,  8.52it/s]"
     ]
    },
    {
     "name": "stdout",
     "output_type": "stream",
     "text": [
      "epoch :  3 Val Accuracy : tensor(0.9452) Val Loss :  0.14066248973512832\n",
      "epoch :  3 Val Accuracy : tensor(0.9452) Val Loss :  0.14135611317910168\n"
     ]
    },
    {
     "name": "stderr",
     "output_type": "stream",
     "text": [
      " 74%|███████████████████████████████████████████████████████████▎                    | 195/263 [00:14<00:08,  8.50it/s]"
     ]
    },
    {
     "name": "stdout",
     "output_type": "stream",
     "text": [
      "epoch :  3 Val Accuracy : tensor(0.9449) Val Loss :  0.14251224271698143\n",
      "epoch :  3 Val Accuracy : tensor(0.9452) Val Loss :  0.1430784752840325\n",
      "epoch :  3 Val Accuracy : tensor(0.9449) Val Loss :  0.14422902974792307\n"
     ]
    },
    {
     "name": "stderr",
     "output_type": "stream",
     "text": [
      "\r",
      " 75%|███████████████████████████████████████████████████████████▉                    | 197/263 [00:14<00:07,  9.02it/s]"
     ]
    },
    {
     "name": "stdout",
     "output_type": "stream",
     "text": [
      "epoch :  3 Val Accuracy : tensor(0.9449) Val Loss :  0.14511990037254507\n",
      "epoch :  3 Val Accuracy : tensor(0.9449) Val Loss :  0.1455659090679408\n"
     ]
    },
    {
     "name": "stderr",
     "output_type": "stream",
     "text": [
      " 76%|████████████████████████████████████████████████████████████▌                   | 199/263 [00:14<00:07,  8.79it/s]"
     ]
    },
    {
     "name": "stdout",
     "output_type": "stream",
     "text": [
      "epoch :  3 Val Accuracy : tensor(0.9449) Val Loss :  0.14640592214272502\n",
      "epoch :  3 Val Accuracy : tensor(0.9451) Val Loss :  0.14652135012805914\n"
     ]
    },
    {
     "name": "stderr",
     "output_type": "stream",
     "text": [
      " 76%|█████████████████████████████████████████████████████████████▏                  | 201/263 [00:15<00:07,  7.86it/s]"
     ]
    },
    {
     "name": "stdout",
     "output_type": "stream",
     "text": [
      "epoch :  3 Val Accuracy : tensor(0.9450) Val Loss :  0.1470512475450116\n",
      "epoch :  3 Val Accuracy : tensor(0.9451) Val Loss :  0.14725713259735262\n"
     ]
    },
    {
     "name": "stderr",
     "output_type": "stream",
     "text": [
      "\r",
      " 77%|█████████████████████████████████████████████████████████████▍                  | 202/263 [00:15<00:07,  8.30it/s]"
     ]
    },
    {
     "name": "stdout",
     "output_type": "stream",
     "text": [
      "epoch :  3 Val Accuracy : tensor(0.9451) Val Loss :  0.14822753746161668\n",
      "epoch :  3 Val Accuracy : "
     ]
    },
    {
     "name": "stderr",
     "output_type": "stream",
     "text": [
      "\r",
      " 77%|█████████████████████████████████████████████████████████████▋                  | 203/263 [00:15<00:08,  7.12it/s]"
     ]
    },
    {
     "name": "stdout",
     "output_type": "stream",
     "text": [
      "tensor(0.9450) Val Loss :  0.14912752113783087\n",
      "epoch :  3 Val Accuracy : tensor(0.9450) Val Loss :  0.14998898689879436\n"
     ]
    },
    {
     "name": "stderr",
     "output_type": "stream",
     "text": [
      " 78%|██████████████████████████████████████████████████████████████▋                 | 206/263 [00:15<00:07,  7.52it/s]"
     ]
    },
    {
     "name": "stdout",
     "output_type": "stream",
     "text": [
      "epoch :  3 Val Accuracy : tensor(0.9449) Val Loss :  0.151223511729007\n",
      "epoch :  3 Val Accuracy : tensor(0.9450) Val Loss :  0.1515667930089589\n"
     ]
    },
    {
     "name": "stderr",
     "output_type": "stream",
     "text": [
      "\r",
      " 79%|███████████████████████████████████████████████████████████████▎                | 208/263 [00:15<00:06,  8.65it/s]"
     ]
    },
    {
     "name": "stdout",
     "output_type": "stream",
     "text": [
      "epoch :  3 Val Accuracy : tensor(0.9451) Val Loss :  0.15185191259213046\n",
      "epoch :  3 Val Accuracy : tensor(0.9452) Val Loss :  0.15224030923395782\n",
      "epoch :  3 Val Accuracy : tensor(0.9450) Val Loss :  0.15372672623922842\n"
     ]
    },
    {
     "name": "stderr",
     "output_type": "stream",
     "text": [
      " 81%|████████████████████████████████████████████████████████████████▍               | 212/263 [00:16<00:04, 10.63it/s]"
     ]
    },
    {
     "name": "stdout",
     "output_type": "stream",
     "text": [
      "epoch :  3 Val Accuracy : tensor(0.9448) Val Loss :  0.15452852338807438\n",
      "epoch :  3 Val Accuracy : tensor(0.9450) Val Loss :  0.15500583862992068\n",
      "epoch :  3 Val Accuracy : tensor(0.9450) Val Loss :  0.1556755170410237\n"
     ]
    },
    {
     "name": "stderr",
     "output_type": "stream",
     "text": [
      "\r",
      " 81%|█████████████████████████████████████████████████████████████████               | 214/263 [00:16<00:04, 11.23it/s]"
     ]
    },
    {
     "name": "stdout",
     "output_type": "stream",
     "text": [
      "epoch :  3 Val Accuracy : tensor(0.9451) Val Loss :  0.1562497355539649\n",
      "epoch :  3 Val Accuracy : tensor(0.9454) Val Loss :  0.15666719277463712\n",
      "epoch :  3 Val Accuracy : tensor(0.9453) Val Loss :  0.15729505348483191\n"
     ]
    },
    {
     "name": "stderr",
     "output_type": "stream",
     "text": [
      "\r",
      " 82%|█████████████████████████████████████████████████████████████████▋              | 216/263 [00:16<00:04, 11.23it/s]"
     ]
    },
    {
     "name": "stdout",
     "output_type": "stream",
     "text": [
      "epoch :  3 Val Accuracy : tensor(0.9456) Val Loss :  0.15749663214408172\n",
      "epoch :  3 Val Accuracy : tensor(0.9457) Val Loss :  0.15779958782228906\n",
      "epoch :  3 Val Accuracy : "
     ]
    },
    {
     "name": "stderr",
     "output_type": "stream",
     "text": [
      "\r",
      " 83%|██████████████████████████████████████████████████████████████████▎             | 218/263 [00:16<00:04, 10.75it/s]"
     ]
    },
    {
     "name": "stdout",
     "output_type": "stream",
     "text": [
      "tensor(0.9456) Val Loss :  0.1585584378981885\n",
      "epoch :  3 Val Accuracy : tensor(0.9453) Val Loss :  0.159464959048103\n",
      "epoch :  3 Val Accuracy : "
     ]
    },
    {
     "name": "stderr",
     "output_type": "stream",
     "text": [
      " 84%|███████████████████████████████████████████████████████████████████▌            | 222/263 [00:17<00:03, 11.01it/s]"
     ]
    },
    {
     "name": "stdout",
     "output_type": "stream",
     "text": [
      "tensor(0.9455) Val Loss :  0.1599422569524766\n",
      "epoch :  3 Val Accuracy : tensor(0.9457) Val Loss :  0.16029303377147183\n",
      "epoch :  3 Val Accuracy : tensor(0.9459) Val Loss :  0.160532008481173\n"
     ]
    },
    {
     "name": "stderr",
     "output_type": "stream",
     "text": [
      "\r",
      " 85%|████████████████████████████████████████████████████████████████████▏           | 224/263 [00:17<00:03, 10.93it/s]"
     ]
    },
    {
     "name": "stdout",
     "output_type": "stream",
     "text": [
      "epoch :  3 Val Accuracy : tensor(0.9461) Val Loss :  0.1611948513386934\n",
      "epoch :  3 Val Accuracy : tensor(0.9462) Val Loss :  0.16142897776012866\n",
      "epoch :  3 Val Accuracy : "
     ]
    },
    {
     "name": "stderr",
     "output_type": "stream",
     "text": [
      "\r",
      " 86%|████████████████████████████████████████████████████████████████████▋           | 226/263 [00:17<00:03, 11.30it/s]"
     ]
    },
    {
     "name": "stdout",
     "output_type": "stream",
     "text": [
      "tensor(0.9460) Val Loss :  0.16228843826673103\n",
      "epoch :  3 Val Accuracy : tensor(0.9462) Val Loss :  0.16290948823972573\n",
      "epoch :  3 Val Accuracy : tensor(0.9464) Val Loss :  0.16327827588828572\n"
     ]
    },
    {
     "name": "stderr",
     "output_type": "stream",
     "text": [
      " 87%|█████████████████████████████████████████████████████████████████████▉          | 230/263 [00:17<00:02, 12.55it/s]"
     ]
    },
    {
     "name": "stdout",
     "output_type": "stream",
     "text": [
      "epoch :  3 Val Accuracy : tensor(0.9465) Val Loss :  0.16378078610413202\n",
      "epoch :  3 Val Accuracy : tensor(0.9465) Val Loss :  0.16440907509522973\n",
      "epoch :  3 Val Accuracy : tensor(0.9466) Val Loss :  0.1647238990384023\n",
      "epoch :  3 Val Accuracy : "
     ]
    },
    {
     "name": "stderr",
     "output_type": "stream",
     "text": [
      "\r",
      " 88%|██████████████████████████████████████████████████████████████████████▌         | 232/263 [00:17<00:02, 12.89it/s]"
     ]
    },
    {
     "name": "stdout",
     "output_type": "stream",
     "text": [
      "tensor(0.9467) Val Loss :  0.16507469322319945\n",
      "epoch :  3 Val Accuracy : tensor(0.9467) Val Loss :  0.16582795213412196\n",
      "epoch :  3 Val Accuracy : tensor(0.9465) Val Loss :  0.16690666725002087\n"
     ]
    },
    {
     "name": "stderr",
     "output_type": "stream",
     "text": [
      " 90%|███████████████████████████████████████████████████████████████████████▊        | 236/263 [00:18<00:01, 13.95it/s]"
     ]
    },
    {
     "name": "stdout",
     "output_type": "stream",
     "text": [
      "epoch :  3 Val Accuracy : tensor(0.9467) Val Loss :  0.1670629913518524\n",
      "epoch :  3 Val Accuracy : tensor(0.9466) Val Loss :  0.1680961048350928\n",
      "epoch :  3 Val Accuracy : tensor(0.9467) Val Loss :  0.16871909564183918\n",
      "epoch :  3 Val Accuracy : "
     ]
    },
    {
     "name": "stderr",
     "output_type": "stream",
     "text": [
      "\r",
      " 90%|████████████████████████████████████████████████████████████████████████▍       | 238/263 [00:18<00:01, 13.62it/s]"
     ]
    },
    {
     "name": "stdout",
     "output_type": "stream",
     "text": [
      "tensor(0.9469) Val Loss :  0.16900554021020125\n",
      "epoch :  3 Val Accuracy : tensor(0.9470) Val Loss :  0.16959973982050164\n",
      "epoch :  3 Val Accuracy : tensor(0.9469) Val Loss :  0.17043457488341704\n",
      "epoch :  3 Val Accuracy : "
     ]
    },
    {
     "name": "stderr",
     "output_type": "stream",
     "text": [
      " 92%|█████████████████████████████████████████████████████████████████████████▌      | 242/263 [00:18<00:01, 14.44it/s]"
     ]
    },
    {
     "name": "stdout",
     "output_type": "stream",
     "text": [
      "tensor(0.9466) Val Loss :  0.17145419788649555\n",
      "epoch :  3 Val Accuracy : tensor(0.9467) Val Loss :  0.17211072083860068\n",
      "epoch :  3 Val Accuracy : tensor(0.9467) Val Loss :  0.17258694144001252\n"
     ]
    },
    {
     "name": "stderr",
     "output_type": "stream",
     "text": [
      "\r",
      " 93%|██████████████████████████████████████████████████████████████████████████▏     | 244/263 [00:18<00:01, 14.18it/s]"
     ]
    },
    {
     "name": "stdout",
     "output_type": "stream",
     "text": [
      "epoch :  3 Val Accuracy : tensor(0.9464) Val Loss :  0.1740237015437604\n",
      "epoch :  3 Val Accuracy : tensor(0.9464) Val Loss :  0.17475988927647867\n",
      "epoch :  3 Val Accuracy : tensor(0.9461) Val Loss :  0.17609031322082866\n"
     ]
    },
    {
     "name": "stderr",
     "output_type": "stream",
     "text": [
      "\r",
      " 94%|██████████████████████████████████████████████████████████████████████████▊     | 246/263 [00:18<00:01, 13.28it/s]"
     ]
    },
    {
     "name": "stdout",
     "output_type": "stream",
     "text": [
      "epoch :  3 Val Accuracy : tensor(0.9464) Val Loss :  0.17633060656997868\n",
      "epoch :  3 Val Accuracy : tensor(0.9464) Val Loss :  0.1784752256559215\n",
      "epoch :  3 Val Accuracy : "
     ]
    },
    {
     "name": "stderr",
     "output_type": "stream",
     "text": [
      " 95%|████████████████████████████████████████████████████████████████████████████    | 250/263 [00:19<00:01, 12.32it/s]"
     ]
    },
    {
     "name": "stdout",
     "output_type": "stream",
     "text": [
      "tensor(0.9462) Val Loss :  0.1792692079672682\n",
      "epoch :  3 Val Accuracy : tensor(0.9462) Val Loss :  0.17966810715147524\n",
      "epoch :  3 Val Accuracy : tensor(0.9461) Val Loss :  0.18084069221730242\n"
     ]
    },
    {
     "name": "stderr",
     "output_type": "stream",
     "text": [
      "\r",
      " 96%|████████████████████████████████████████████████████████████████████████████▋   | 252/263 [00:19<00:00, 12.58it/s]"
     ]
    },
    {
     "name": "stdout",
     "output_type": "stream",
     "text": [
      "epoch :  3 Val Accuracy : tensor(0.9461) Val Loss :  0.18132249916772653\n",
      "epoch :  3 Val Accuracy : tensor(0.9460) Val Loss :  0.18269699814060114\n",
      "epoch :  3 Val Accuracy : tensor(0.9460) Val Loss :  0.1833193794728572\n",
      "epoch :  3 Val Accuracy : "
     ]
    },
    {
     "name": "stderr",
     "output_type": "stream",
     "text": [
      " 97%|█████████████████████████████████████████████████████████████████████████████▊  | 256/263 [00:19<00:00, 12.91it/s]"
     ]
    },
    {
     "name": "stdout",
     "output_type": "stream",
     "text": [
      "tensor(0.9462) Val Loss :  0.183645980630934\n",
      "epoch :  3 Val Accuracy : tensor(0.9461) Val Loss :  0.18475067600636202\n",
      "epoch :  3 Val Accuracy : tensor(0.9461) Val Loss :  0.1860414438247114\n"
     ]
    },
    {
     "name": "stderr",
     "output_type": "stream",
     "text": [
      "\r",
      " 98%|██████████████████████████████████████████████████████████████████████████████▍ | 258/263 [00:19<00:00, 12.92it/s]"
     ]
    },
    {
     "name": "stdout",
     "output_type": "stream",
     "text": [
      "epoch :  3 Val Accuracy : tensor(0.9460) Val Loss :  0.18726322289287137\n",
      "epoch :  3 Val Accuracy : tensor(0.9461) Val Loss :  0.18791299006643178\n",
      "epoch :  3 Val Accuracy : tensor(0.9458) Val Loss :  0.1890527807926837\n"
     ]
    },
    {
     "name": "stderr",
     "output_type": "stream",
     "text": [
      "\r",
      " 99%|███████████████████████████████████████████████████████████████████████████████ | 260/263 [00:20<00:00, 13.25it/s]"
     ]
    },
    {
     "name": "stdout",
     "output_type": "stream",
     "text": [
      "epoch :  3 Val Accuracy : tensor(0.9456) Val Loss :  0.190716855787449\n",
      "epoch :  3 Val Accuracy : tensor(0.9456) Val Loss :  0.19127691060502947\n",
      "epoch :  3 Val Accuracy : "
     ]
    },
    {
     "name": "stderr",
     "output_type": "stream",
     "text": [
      "100%|████████████████████████████████████████████████████████████████████████████████| 263/263 [00:20<00:00, 12.99it/s]\n",
      "  0%|                                                                                         | 0/1225 [00:00<?, ?it/s]"
     ]
    },
    {
     "name": "stdout",
     "output_type": "stream",
     "text": [
      "tensor(0.9456) Val Loss :  0.191897618587876\n",
      "epoch :  3 Val Accuracy : tensor(0.9456) Val Loss :  0.19258314050280775\n"
     ]
    },
    {
     "name": "stderr",
     "output_type": "stream",
     "text": [
      "100%|██████████████████████████████████████████████████████████████████████████████| 1225/1225 [01:44<00:00, 11.78it/s]\n",
      "  1%|▌                                                                                 | 2/263 [00:00<00:16, 15.64it/s]"
     ]
    },
    {
     "name": "stdout",
     "output_type": "stream",
     "text": [
      "epoch : 4 Training Accuracy :  tensor(0.8808) Train Loss 0.34968109325182684\n",
      "epoch :  4 Val Accuracy : tensor(0.9444) Val Loss :  0.00043867749406357684\n",
      "epoch :  4 Val Accuracy : tensor(0.9306) Val Loss :  0.001371315280294237\n",
      "epoch :  "
     ]
    },
    {
     "name": "stderr",
     "output_type": "stream",
     "text": [
      "  2%|█▊                                                                                | 6/263 [00:00<00:14, 17.92it/s]"
     ]
    },
    {
     "name": "stdout",
     "output_type": "stream",
     "text": [
      "4 Val Accuracy : tensor(0.9259) Val Loss :  0.0023028107197112456\n",
      "epoch :  4 Val Accuracy : tensor(0.9236) Val Loss :  0.0029095692326360782\n",
      "epoch :  4 Val Accuracy : tensor(0.9278) Val Loss :  0.0034650004408658683\n",
      "epoch :  4 Val Accuracy : tensor(0.9306) Val Loss :  0.004764665782224996\n"
     ]
    },
    {
     "name": "stderr",
     "output_type": "stream",
     "text": [
      "\r",
      "  3%|██▍                                                                               | 8/263 [00:00<00:15, 17.00it/s]"
     ]
    },
    {
     "name": "stdout",
     "output_type": "stream",
     "text": [
      "epoch :  4 Val Accuracy : tensor(0.9405) Val Loss :  0.0050032779631052635\n",
      "epoch :  4 Val Accuracy : tensor(0.9306) Val Loss :  0.006429306171239556\n",
      "epoch :  4 Val Accuracy : tensor(0.9290) Val Loss :  0.0071959930114419745\n",
      "epoch :  4 Val Accuracy : "
     ]
    },
    {
     "name": "stderr",
     "output_type": "stream",
     "text": [
      "  5%|███▋                                                                             | 12/263 [00:00<00:16, 15.63it/s]"
     ]
    },
    {
     "name": "stdout",
     "output_type": "stream",
     "text": [
      "tensor(0.9278) Val Loss :  0.00839982915513869\n",
      "epoch :  4 Val Accuracy : tensor(0.9268) Val Loss :  0.009183105577080875\n",
      "epoch :  4 Val Accuracy : tensor(0.9259) Val Loss :  0.009903174162817545\n",
      "epoch :  4 Val Accuracy : "
     ]
    },
    {
     "name": "stderr",
     "output_type": "stream",
     "text": [
      "  6%|████▉                                                                            | 16/263 [00:00<00:14, 16.85it/s]"
     ]
    },
    {
     "name": "stdout",
     "output_type": "stream",
     "text": [
      "tensor(0.9274) Val Loss :  0.010570137049762016\n",
      "epoch :  4 Val Accuracy : tensor(0.9325) Val Loss :  0.010971224013390197\n",
      "epoch :  4 Val Accuracy : tensor(0.9315) Val Loss :  0.011791129302615902\n",
      "epoch :  4 Val Accuracy : tensor(0.9288) Val Loss :  0.013193953966459847\n"
     ]
    },
    {
     "name": "stderr",
     "output_type": "stream",
     "text": [
      "\r",
      "  7%|█████▌                                                                           | 18/263 [00:01<00:14, 16.90it/s]"
     ]
    },
    {
     "name": "stdout",
     "output_type": "stream",
     "text": [
      "epoch :  4 Val Accuracy : tensor(0.9265) Val Loss :  0.014437813949222347\n",
      "epoch :  4 Val Accuracy : tensor(0.9259) Val Loss :  0.015170190497496282\n",
      "epoch :  4 Val Accuracy : tensor(0.9269) Val Loss :  0.016158542932213034\n",
      "epoch :  4 Val Accuracy : tensor(0.9292) Val Loss :  0.016746458331894965\n"
     ]
    },
    {
     "name": "stderr",
     "output_type": "stream",
     "text": [
      "  9%|███████                                                                          | 23/263 [00:01<00:13, 17.98it/s]"
     ]
    },
    {
     "name": "stdout",
     "output_type": "stream",
     "text": [
      "epoch :  4 Val Accuracy : tensor(0.9299) Val Loss :  0.017796228027162443\n",
      "epoch :  4 Val Accuracy : tensor(0.9306) Val Loss :  0.018471078557659917\n",
      "epoch :  4 Val Accuracy : tensor(0.9287) Val Loss :  0.019447451138677706\n",
      "epoch :  4 Val Accuracy : tensor(0.9306) Val Loss :  0.019697453925818093\n",
      "epoch :  4 Val Accuracy : "
     ]
    },
    {
     "name": "stderr",
     "output_type": "stream",
     "text": [
      " 10%|████████▎                                                                        | 27/263 [00:01<00:13, 17.55it/s]"
     ]
    },
    {
     "name": "stdout",
     "output_type": "stream",
     "text": [
      "tensor(0.9322) Val Loss :  0.02031210926095796\n",
      "epoch :  4 Val Accuracy : tensor(0.9306) Val Loss :  0.021685828727461085\n",
      "epoch :  4 Val Accuracy : tensor(0.9321) Val Loss :  0.022263733493057946\n",
      "epoch :  4 Val Accuracy : tensor(0.9325) Val Loss :  0.022992563394992525\n"
     ]
    },
    {
     "name": "stderr",
     "output_type": "stream",
     "text": [
      " 12%|█████████▌                                                                       | 31/263 [00:01<00:12, 18.27it/s]"
     ]
    },
    {
     "name": "stdout",
     "output_type": "stream",
     "text": [
      "epoch :  4 Val Accuracy : tensor(0.9349) Val Loss :  0.02333781692578312\n",
      "epoch :  4 Val Accuracy : tensor(0.9370) Val Loss :  0.023548237880259865\n",
      "epoch :  4 Val Accuracy : tensor(0.9382) Val Loss :  0.0241023555766267\n",
      "epoch :  4 Val Accuracy : tensor(0.9384) Val Loss :  0.024678148400080976\n"
     ]
    },
    {
     "name": "stderr",
     "output_type": "stream",
     "text": [
      " 13%|██████████▊                                                                      | 35/263 [00:02<00:12, 17.63it/s]"
     ]
    },
    {
     "name": "stdout",
     "output_type": "stream",
     "text": [
      "epoch :  4 Val Accuracy : tensor(0.9377) Val Loss :  0.026200254649603776\n",
      "epoch :  4 Val Accuracy : tensor(0.9379) Val Loss :  0.027266664352593766\n",
      "epoch :  4 Val Accuracy : tensor(0.9397) Val Loss :  0.027532535629920633\n",
      "epoch :  4 Val Accuracy : tensor(0.9375) Val Loss :  0.029484377883572995\n"
     ]
    },
    {
     "name": "stderr",
     "output_type": "stream",
     "text": [
      " 15%|████████████                                                                     | 39/263 [00:02<00:12, 17.72it/s]"
     ]
    },
    {
     "name": "stdout",
     "output_type": "stream",
     "text": [
      "epoch :  4 Val Accuracy : tensor(0.9377) Val Loss :  0.030285685503777443\n",
      "epoch :  4 Val Accuracy : tensor(0.9379) Val Loss :  0.03105282748096796\n",
      "epoch :  4 Val Accuracy : tensor(0.9395) Val Loss :  0.03142421897996515\n",
      "epoch :  4 Val Accuracy : tensor(0.9403) Val Loss :  0.03193134555288594\n"
     ]
    },
    {
     "name": "stderr",
     "output_type": "stream",
     "text": [
      " 16%|█████████████▏                                                                   | 43/263 [00:02<00:12, 17.46it/s]"
     ]
    },
    {
     "name": "stdout",
     "output_type": "stream",
     "text": [
      "epoch :  4 Val Accuracy : tensor(0.9397) Val Loss :  0.03266519165027731\n",
      "epoch :  4 Val Accuracy : tensor(0.9398) Val Loss :  0.033275240826856047\n",
      "epoch :  4 Val Accuracy : tensor(0.9393) Val Loss :  0.035035100485775406\n",
      "epoch :  4 Val Accuracy : "
     ]
    },
    {
     "name": "stderr",
     "output_type": "stream",
     "text": [
      " 18%|██████████████▍                                                                  | 47/263 [00:02<00:12, 17.85it/s]"
     ]
    },
    {
     "name": "stdout",
     "output_type": "stream",
     "text": [
      "tensor(0.9400) Val Loss :  0.035514996518087025\n",
      "epoch :  4 Val Accuracy : tensor(0.9401) Val Loss :  0.03688183504762305\n",
      "epoch :  4 Val Accuracy : tensor(0.9402) Val Loss :  0.03775691786363097\n",
      "epoch :  4 Val Accuracy : tensor(0.9403) Val Loss :  0.03850805644696656\n"
     ]
    },
    {
     "name": "stderr",
     "output_type": "stream",
     "text": [
      " 19%|███████████████▋                                                                 | 51/263 [00:02<00:11, 18.03it/s]"
     ]
    },
    {
     "name": "stdout",
     "output_type": "stream",
     "text": [
      "epoch :  4 Val Accuracy : tensor(0.9410) Val Loss :  0.03882892983664578\n",
      "epoch :  4 Val Accuracy : tensor(0.9410) Val Loss :  0.0396171465317786\n",
      "epoch :  4 Val Accuracy : tensor(0.9411) Val Loss :  0.04028894934987387\n",
      "epoch :  4 Val Accuracy : tensor(0.9412) Val Loss :  0.04121728653633549\n"
     ]
    },
    {
     "name": "stderr",
     "output_type": "stream",
     "text": [
      " 21%|████████████████▉                                                                | 55/263 [00:03<00:11, 18.24it/s]"
     ]
    },
    {
     "name": "stdout",
     "output_type": "stream",
     "text": [
      "epoch :  4 Val Accuracy : tensor(0.9407) Val Loss :  0.04217678103100211\n",
      "epoch :  4 Val Accuracy : tensor(0.9403) Val Loss :  0.042783936322755234\n",
      "epoch :  4 Val Accuracy : tensor(0.9403) Val Loss :  0.0439338869213378\n",
      "epoch :  4 Val Accuracy : tensor(0.9409) Val Loss :  0.04485721561788606\n"
     ]
    },
    {
     "name": "stderr",
     "output_type": "stream",
     "text": [
      " 22%|██████████████████▏                                                              | 59/263 [00:03<00:11, 17.92it/s]"
     ]
    },
    {
     "name": "stdout",
     "output_type": "stream",
     "text": [
      "epoch :  4 Val Accuracy : tensor(0.9380) Val Loss :  0.04649859121487168\n",
      "epoch :  4 Val Accuracy : tensor(0.9381) Val Loss :  0.04703596810820891\n",
      "epoch :  4 Val Accuracy : tensor(0.9377) Val Loss :  0.04825922800050942\n",
      "epoch :  4 Val Accuracy : tensor(0.9383) Val Loss :  0.049679334838467405\n"
     ]
    },
    {
     "name": "stderr",
     "output_type": "stream",
     "text": [
      " 24%|███████████████████▍                                                             | 63/263 [00:03<00:11, 17.96it/s]"
     ]
    },
    {
     "name": "stdout",
     "output_type": "stream",
     "text": [
      "epoch :  4 Val Accuracy : tensor(0.9375) Val Loss :  0.05066730981487285\n",
      "epoch :  4 Val Accuracy : tensor(0.9376) Val Loss :  0.05156818705083299\n",
      "epoch :  4 Val Accuracy : tensor(0.9382) Val Loss :  0.05203821670136524\n",
      "epoch :  4 Val Accuracy : tensor(0.9387) Val Loss :  0.052552839861509916\n"
     ]
    },
    {
     "name": "stderr",
     "output_type": "stream",
     "text": [
      "\r",
      " 25%|████████████████████                                                             | 65/263 [00:03<00:11, 17.37it/s]"
     ]
    },
    {
     "name": "stdout",
     "output_type": "stream",
     "text": [
      "epoch :  4 Val Accuracy : tensor(0.9384) Val Loss :  0.05320605277278578\n",
      "epoch :  4 Val Accuracy : tensor(0.9372) Val Loss :  0.05425099993103357\n",
      "epoch :  4 Val Accuracy : tensor(0.9381) Val Loss :  0.05459984634142412\n",
      "epoch :  4 Val Accuracy : "
     ]
    },
    {
     "name": "stderr",
     "output_type": "stream",
     "text": [
      " 26%|█████████████████████▎                                                           | 69/263 [00:03<00:11, 17.41it/s]"
     ]
    },
    {
     "name": "stdout",
     "output_type": "stream",
     "text": [
      "tensor(0.9382) Val Loss :  0.05506556802659433\n",
      "epoch :  4 Val Accuracy : tensor(0.9387) Val Loss :  0.0556699329484325\n",
      "epoch :  4 Val Accuracy : tensor(0.9396) Val Loss :  0.056024668886974285\n",
      "epoch :  4 Val Accuracy : "
     ]
    },
    {
     "name": "stderr",
     "output_type": "stream",
     "text": [
      " 28%|██████████████████████▍                                                          | 73/263 [00:04<00:11, 17.10it/s]"
     ]
    },
    {
     "name": "stdout",
     "output_type": "stream",
     "text": [
      "tensor(0.9397) Val Loss :  0.05662409024943417\n",
      "epoch :  4 Val Accuracy : tensor(0.9397) Val Loss :  0.0571168297228931\n",
      "epoch :  4 Val Accuracy : tensor(0.9394) Val Loss :  0.05776391140125097\n",
      "epoch :  4 Val Accuracy : tensor(0.9391) Val Loss :  0.058478240773591705\n"
     ]
    },
    {
     "name": "stderr",
     "output_type": "stream",
     "text": [
      " 29%|███████████████████████▋                                                         | 77/263 [00:04<00:10, 17.60it/s]"
     ]
    },
    {
     "name": "stdout",
     "output_type": "stream",
     "text": [
      "epoch :  4 Val Accuracy : tensor(0.9392) Val Loss :  0.05903346211907982\n",
      "epoch :  4 Val Accuracy : tensor(0.9393) Val Loss :  0.05956649739196092\n",
      "epoch :  4 Val Accuracy : tensor(0.9382) Val Loss :  0.060553028145557124\n",
      "epoch :  4 Val Accuracy : tensor(0.9376) Val Loss :  0.061671683132761786\n"
     ]
    },
    {
     "name": "stderr",
     "output_type": "stream",
     "text": [
      " 31%|████████████████████████▉                                                        | 81/263 [00:04<00:10, 17.58it/s]"
     ]
    },
    {
     "name": "stdout",
     "output_type": "stream",
     "text": [
      "epoch :  4 Val Accuracy : tensor(0.9377) Val Loss :  0.06228310094983405\n",
      "epoch :  4 Val Accuracy : tensor(0.9381) Val Loss :  0.06291446348956782\n",
      "epoch :  4 Val Accuracy : tensor(0.9382) Val Loss :  0.06370025231527739\n",
      "epoch :  4 Val Accuracy : tensor(0.9376) Val Loss :  0.06443422770715485\n"
     ]
    },
    {
     "name": "stderr",
     "output_type": "stream",
     "text": [
      " 32%|██████████████████████████▏                                                      | 85/263 [00:04<00:09, 18.26it/s]"
     ]
    },
    {
     "name": "stdout",
     "output_type": "stream",
     "text": [
      "epoch :  4 Val Accuracy : tensor(0.9377) Val Loss :  0.06521559785697396\n",
      "epoch :  4 Val Accuracy : tensor(0.9374) Val Loss :  0.06596066741832309\n",
      "epoch :  4 Val Accuracy : tensor(0.9378) Val Loss :  0.0668296957735553\n",
      "epoch :  4 Val Accuracy : tensor(0.9386) Val Loss :  0.06736162326125138\n",
      "epoch :  4 Val Accuracy : "
     ]
    },
    {
     "name": "stderr",
     "output_type": "stream",
     "text": [
      "\r",
      " 33%|██████████████████████████▊                                                      | 87/263 [00:04<00:09, 18.50it/s]"
     ]
    },
    {
     "name": "stdout",
     "output_type": "stream",
     "text": [
      "tensor(0.9383) Val Loss :  0.06808479202507567\n",
      "epoch :  4 Val Accuracy : tensor(0.9374) Val Loss :  0.06979738100796598\n",
      "epoch :  4 Val Accuracy : tensor(0.9381) Val Loss :  0.0703367307470552\n",
      "epoch :  4 Val Accuracy : tensor(0.9385) Val Loss :  0.07105247187693763\n",
      "epoch :  4 Val Accuracy : "
     ]
    },
    {
     "name": "stderr",
     "output_type": "stream",
     "text": [
      " 35%|████████████████████████████▎                                                    | 92/263 [00:05<00:09, 18.47it/s]"
     ]
    },
    {
     "name": "stdout",
     "output_type": "stream",
     "text": [
      "tensor(0.9389) Val Loss :  0.07150496138762612\n",
      "epoch :  4 Val Accuracy : tensor(0.9380) Val Loss :  0.07318324313814197\n",
      "epoch :  4 Val Accuracy : tensor(0.9384) Val Loss :  0.07362421487277451\n",
      "epoch :  4 Val Accuracy : tensor(0.9379) Val Loss :  0.07451228753525495\n"
     ]
    },
    {
     "name": "stderr",
     "output_type": "stream",
     "text": [
      " 37%|█████████████████████████████▌                                                   | 96/263 [00:05<00:09, 17.20it/s]"
     ]
    },
    {
     "name": "stdout",
     "output_type": "stream",
     "text": [
      "epoch :  4 Val Accuracy : tensor(0.9374) Val Loss :  0.07612769885038241\n",
      "epoch :  4 Val Accuracy : tensor(0.9368) Val Loss :  0.07710255060642392\n",
      "epoch :  4 Val Accuracy : tensor(0.9372) Val Loss :  0.0776230824452616\n",
      "epoch :  4 Val Accuracy : "
     ]
    },
    {
     "name": "stderr",
     "output_type": "stream",
     "text": [
      " 38%|██████████████████████████████▍                                                 | 100/263 [00:05<00:09, 17.23it/s]"
     ]
    },
    {
     "name": "stdout",
     "output_type": "stream",
     "text": [
      "tensor(0.9364) Val Loss :  0.07876459751348985\n",
      "epoch :  4 Val Accuracy : tensor(0.9354) Val Loss :  0.08040974168779733\n",
      "epoch :  4 Val Accuracy : tensor(0.9357) Val Loss :  0.0806808684290362\n",
      "epoch :  4 Val Accuracy : tensor(0.9353) Val Loss :  0.08189819369309302\n"
     ]
    },
    {
     "name": "stderr",
     "output_type": "stream",
     "text": [
      " 40%|███████████████████████████████▋                                                | 104/263 [00:05<00:09, 17.30it/s]"
     ]
    },
    {
     "name": "stdout",
     "output_type": "stream",
     "text": [
      "epoch :  4 Val Accuracy : tensor(0.9359) Val Loss :  0.08219841013559824\n",
      "epoch :  4 Val Accuracy : tensor(0.9363) Val Loss :  0.08278332161982703\n",
      "epoch :  4 Val Accuracy : tensor(0.9369) Val Loss :  0.08332455355121608\n",
      "epoch :  4 Val Accuracy : tensor(0.9367) Val Loss :  0.0847768611752715\n"
     ]
    },
    {
     "name": "stderr",
     "output_type": "stream",
     "text": [
      " 41%|████████████████████████████████▊                                               | 108/263 [00:06<00:08, 18.14it/s]"
     ]
    },
    {
     "name": "stdout",
     "output_type": "stream",
     "text": [
      "epoch :  4 Val Accuracy : tensor(0.9365) Val Loss :  0.08565720024840913\n",
      "epoch :  4 Val Accuracy : tensor(0.9368) Val Loss :  0.0863372201786975\n",
      "epoch :  4 Val Accuracy : tensor(0.9369) Val Loss :  0.08706252133834952\n",
      "epoch :  4 Val Accuracy : tensor(0.9367) Val Loss :  0.0879276640033314\n"
     ]
    },
    {
     "name": "stderr",
     "output_type": "stream",
     "text": [
      " 43%|██████████████████████████████████                                              | 112/263 [00:06<00:08, 17.27it/s]"
     ]
    },
    {
     "name": "stdout",
     "output_type": "stream",
     "text": [
      "epoch :  4 Val Accuracy : tensor(0.9365) Val Loss :  0.08899082661298291\n",
      "epoch :  4 Val Accuracy : tensor(0.9364) Val Loss :  0.08970191399124186\n",
      "epoch :  4 Val Accuracy : tensor(0.9359) Val Loss :  0.09100718942148604\n",
      "epoch :  4 Val Accuracy : tensor(0.9355) Val Loss :  0.09192077615811797\n"
     ]
    },
    {
     "name": "stderr",
     "output_type": "stream",
     "text": [
      "\r",
      " 43%|██████████████████████████████████▋                                             | 114/263 [00:06<00:08, 16.62it/s]"
     ]
    },
    {
     "name": "stdout",
     "output_type": "stream",
     "text": [
      "epoch :  4 Val Accuracy : tensor(0.9356) Val Loss :  0.09280149880867494\n",
      "epoch :  4 Val Accuracy : tensor(0.9357) Val Loss :  0.09344830161435069\n",
      "epoch :  4 Val Accuracy : tensor(0.9355) Val Loss :  0.09459191134390722\n",
      "epoch :  4 Val Accuracy : "
     ]
    },
    {
     "name": "stderr",
     "output_type": "stream",
     "text": [
      " 45%|███████████████████████████████████▉                                            | 118/263 [00:06<00:08, 16.51it/s]"
     ]
    },
    {
     "name": "stdout",
     "output_type": "stream",
     "text": [
      "tensor(0.9349) Val Loss :  0.09631513680965274\n",
      "epoch :  4 Val Accuracy : tensor(0.9349) Val Loss :  0.09683084560154509\n",
      "epoch :  4 Val Accuracy : tensor(0.9353) Val Loss :  0.09751626445483345\n",
      "epoch :  4 Val Accuracy : tensor(0.9356) Val Loss :  0.0979276377240288\n"
     ]
    },
    {
     "name": "stderr",
     "output_type": "stream",
     "text": [
      " 46%|█████████████████████████████████████                                           | 122/263 [00:06<00:08, 16.98it/s]"
     ]
    },
    {
     "name": "stdout",
     "output_type": "stream",
     "text": [
      "epoch :  4 Val Accuracy : tensor(0.9356) Val Loss :  0.09883312672773241\n",
      "epoch :  4 Val Accuracy : tensor(0.9350) Val Loss :  0.10033721220413995\n",
      "epoch :  4 Val Accuracy : tensor(0.9349) Val Loss :  0.10110565403851719\n",
      "epoch :  4 Val Accuracy : tensor(0.9345) Val Loss :  0.10248340758364011\n"
     ]
    },
    {
     "name": "stderr",
     "output_type": "stream",
     "text": [
      " 48%|██████████████████████████████████████▎                                         | 126/263 [00:07<00:08, 17.10it/s]"
     ]
    },
    {
     "name": "stdout",
     "output_type": "stream",
     "text": [
      "epoch :  4 Val Accuracy : tensor(0.9341) Val Loss :  0.1032974214749871\n",
      "epoch :  4 Val Accuracy : tensor(0.9342) Val Loss :  0.10399756873798462\n",
      "epoch :  4 Val Accuracy : tensor(0.9341) Val Loss :  0.10486774227295086\n",
      "epoch :  4 Val Accuracy : tensor(0.9339) Val Loss :  0.10626993009629358\n"
     ]
    },
    {
     "name": "stderr",
     "output_type": "stream",
     "text": [
      " 49%|███████████████████████████████████████▌                                        | 130/263 [00:07<00:07, 17.45it/s]"
     ]
    },
    {
     "name": "stdout",
     "output_type": "stream",
     "text": [
      "epoch :  4 Val Accuracy : tensor(0.9342) Val Loss :  0.10723290647673969\n",
      "epoch :  4 Val Accuracy : tensor(0.9341) Val Loss :  0.10798696387460023\n",
      "epoch :  4 Val Accuracy : tensor(0.9342) Val Loss :  0.10847454703636042\n",
      "epoch :  4 Val Accuracy : tensor(0.9338) Val Loss :  0.10956796376254169\n"
     ]
    },
    {
     "name": "stderr",
     "output_type": "stream",
     "text": [
      " 51%|████████████████████████████████████████▊                                       | 134/263 [00:07<00:07, 17.68it/s]"
     ]
    },
    {
     "name": "stdout",
     "output_type": "stream",
     "text": [
      "epoch :  4 Val Accuracy : tensor(0.9337) Val Loss :  0.11040347119077984\n",
      "epoch :  4 Val Accuracy : tensor(0.9330) Val Loss :  0.11180721100122303\n",
      "epoch :  4 Val Accuracy : tensor(0.9328) Val Loss :  0.11250186585484802\n",
      "epoch :  4 Val Accuracy : tensor(0.9325) Val Loss :  0.1136890469196858\n"
     ]
    },
    {
     "name": "stderr",
     "output_type": "stream",
     "text": [
      " 52%|█████████████████████████████████████████▉                                      | 138/263 [00:07<00:07, 17.39it/s]"
     ]
    },
    {
     "name": "stdout",
     "output_type": "stream",
     "text": [
      "epoch :  4 Val Accuracy : tensor(0.9328) Val Loss :  0.11452522801639009\n",
      "epoch :  4 Val Accuracy : tensor(0.9329) Val Loss :  0.11531856912453818\n",
      "epoch :  4 Val Accuracy : tensor(0.9328) Val Loss :  0.11588630274278129\n",
      "epoch :  4 Val Accuracy : tensor(0.9327) "
     ]
    },
    {
     "name": "stderr",
     "output_type": "stream",
     "text": [
      " 54%|███████████████████████████████████████████▏                                    | 142/263 [00:08<00:06, 17.76it/s]"
     ]
    },
    {
     "name": "stdout",
     "output_type": "stream",
     "text": [
      "Val Loss :  0.11740792909559188\n",
      "epoch :  4 Val Accuracy : tensor(0.9321) Val Loss :  0.11904891102996162\n",
      "epoch :  4 Val Accuracy : tensor(0.9320) Val Loss :  0.12001912098930363\n",
      "epoch :  4 Val Accuracy : tensor(0.9317) Val Loss :  0.121310653922789\n",
      "epoch :  4 Val Accuracy : "
     ]
    },
    {
     "name": "stderr",
     "output_type": "stream",
     "text": [
      "\r",
      " 55%|███████████████████████████████████████████▊                                    | 144/263 [00:08<00:06, 18.08it/s]"
     ]
    },
    {
     "name": "stdout",
     "output_type": "stream",
     "text": [
      "tensor(0.9318) Val Loss :  0.1218640568733442\n",
      "epoch :  4 Val Accuracy : tensor(0.9323) Val Loss :  0.12222468715600188\n",
      "epoch :  4 Val Accuracy : tensor(0.9326) Val Loss :  0.1225626496562713\n",
      "epoch :  4 Val Accuracy : "
     ]
    },
    {
     "name": "stderr",
     "output_type": "stream",
     "text": [
      " 56%|█████████████████████████████████████████████                                   | 148/263 [00:08<00:07, 16.42it/s]"
     ]
    },
    {
     "name": "stdout",
     "output_type": "stream",
     "text": [
      "tensor(0.9328) Val Loss :  0.12283313423111865\n",
      "epoch :  4 Val Accuracy : tensor(0.9333) Val Loss :  0.12304918840527534\n",
      "epoch :  4 Val Accuracy : tensor(0.9336) Val Loss :  0.12357755581858947\n",
      "epoch :  4 Val Accuracy : "
     ]
    },
    {
     "name": "stderr",
     "output_type": "stream",
     "text": [
      " 58%|██████████████████████████████████████████████▏                                 | 152/263 [00:08<00:06, 17.21it/s]"
     ]
    },
    {
     "name": "stdout",
     "output_type": "stream",
     "text": [
      "tensor(0.9336) Val Loss :  0.1241479337413728\n",
      "epoch :  4 Val Accuracy : tensor(0.9328) Val Loss :  0.12581044995002874\n",
      "epoch :  4 Val Accuracy : tensor(0.9330) Val Loss :  0.12647496332403824\n",
      "epoch :  4 Val Accuracy : tensor(0.9335) Val Loss :  0.1266620489750978\n"
     ]
    },
    {
     "name": "stderr",
     "output_type": "stream",
     "text": [
      " 59%|███████████████████████████████████████████████▍                                | 156/263 [00:08<00:05, 18.18it/s]"
     ]
    },
    {
     "name": "stdout",
     "output_type": "stream",
     "text": [
      "epoch :  4 Val Accuracy : tensor(0.9337) Val Loss :  0.12744821967847447\n",
      "epoch :  4 Val Accuracy : tensor(0.9342) Val Loss :  0.12762859484938613\n",
      "epoch :  4 Val Accuracy : tensor(0.9341) Val Loss :  0.12842884681014052\n",
      "epoch :  4 Val Accuracy : tensor(0.9341) Val Loss :  0.1295411485767863\n"
     ]
    },
    {
     "name": "stderr",
     "output_type": "stream",
     "text": [
      "\r",
      " 60%|████████████████████████████████████████████████                                | 158/263 [00:09<00:05, 18.27it/s]"
     ]
    },
    {
     "name": "stdout",
     "output_type": "stream",
     "text": [
      "epoch :  4 Val Accuracy : tensor(0.9340) Val Loss :  0.13017135222545143\n",
      "epoch :  4 Val Accuracy : tensor(0.9342) Val Loss :  0.13075740141050443\n",
      "epoch :  4 Val Accuracy : tensor(0.9340) Val Loss :  0.13232291706557964\n",
      "epoch :  4 Val Accuracy : tensor(0.9339) Val Loss :  0.13379784521891136\n"
     ]
    },
    {
     "name": "stderr",
     "output_type": "stream",
     "text": [
      " 62%|█████████████████████████████████████████████████▉                              | 164/263 [00:09<00:05, 16.58it/s]"
     ]
    },
    {
     "name": "stdout",
     "output_type": "stream",
     "text": [
      "epoch :  4 Val Accuracy : tensor(0.9336) Val Loss :  0.13502294118356795\n",
      "epoch :  4 Val Accuracy : tensor(0.9340) Val Loss :  0.13529438223732287\n",
      "epoch :  4 Val Accuracy : tensor(0.9337) Val Loss :  0.13666435873610439\n",
      "epoch :  4 Val Accuracy : tensor(0.9338) Val Loss :  0.137559616364567\n"
     ]
    },
    {
     "name": "stderr",
     "output_type": "stream",
     "text": [
      " 64%|███████████████████████████████████████████████████                             | 168/263 [00:09<00:05, 16.70it/s]"
     ]
    },
    {
     "name": "stdout",
     "output_type": "stream",
     "text": [
      "epoch :  4 Val Accuracy : tensor(0.9338) Val Loss :  0.13821974216815183\n",
      "epoch :  4 Val Accuracy : tensor(0.9339) Val Loss :  0.13896804488487116\n",
      "epoch :  4 Val Accuracy : tensor(0.9341) Val Loss :  0.13969577612362433\n",
      "epoch :  4 Val Accuracy : tensor(0.9340) Val Loss :  0.14037370320565348\n"
     ]
    },
    {
     "name": "stderr",
     "output_type": "stream",
     "text": [
      " 65%|████████████████████████████████████████████████████▎                           | 172/263 [00:09<00:05, 17.65it/s]"
     ]
    },
    {
     "name": "stdout",
     "output_type": "stream",
     "text": [
      "epoch :  4 Val Accuracy : tensor(0.9341) Val Loss :  0.14103213945552423\n",
      "epoch :  4 Val Accuracy : tensor(0.9343) Val Loss :  0.1415064913493372\n",
      "epoch :  4 Val Accuracy : tensor(0.9337) Val Loss :  0.14299709835716526\n",
      "epoch :  4 Val Accuracy : tensor(0.9339) Val Loss :  0.1435063491104447\n"
     ]
    },
    {
     "name": "stderr",
     "output_type": "stream",
     "text": [
      " 67%|█████████████████████████████████████████████████████▌                          | 176/263 [00:10<00:05, 17.32it/s]"
     ]
    },
    {
     "name": "stdout",
     "output_type": "stream",
     "text": [
      "epoch :  4 Val Accuracy : tensor(0.9340) Val Loss :  0.14408056218417878\n",
      "epoch :  4 Val Accuracy : tensor(0.9339) Val Loss :  0.145327735323983\n",
      "epoch :  4 Val Accuracy : tensor(0.9343) Val Loss :  0.14572512393838552\n",
      "epoch :  4 Val Accuracy : tensor(0.9340) Val Loss :  0.1465393282586404\n"
     ]
    },
    {
     "name": "stderr",
     "output_type": "stream",
     "text": [
      " 68%|██████████████████████████████████████████████████████▊                         | 180/263 [00:10<00:04, 18.26it/s]"
     ]
    },
    {
     "name": "stdout",
     "output_type": "stream",
     "text": [
      "epoch :  4 Val Accuracy : tensor(0.9342) Val Loss :  0.14733823945483782\n",
      "epoch :  4 Val Accuracy : tensor(0.9345) Val Loss :  0.14786623263936985\n",
      "epoch :  4 Val Accuracy : tensor(0.9347) Val Loss :  0.14820149344013217\n",
      "epoch :  4 Val Accuracy : tensor(0.9347) Val Loss :  0.14918533790530814\n"
     ]
    },
    {
     "name": "stderr",
     "output_type": "stream",
     "text": [
      "\r",
      " 69%|███████████████████████████████████████████████████████▎                        | 182/263 [00:10<00:04, 17.88it/s]"
     ]
    },
    {
     "name": "stdout",
     "output_type": "stream",
     "text": [
      "epoch :  4 Val Accuracy : tensor(0.9351) Val Loss :  0.1493987469533777\n",
      "epoch :  4 Val Accuracy : tensor(0.9347) Val Loss :  0.15099214670379352\n",
      "epoch :  4 Val Accuracy : tensor(0.9346) Val Loss :  0.15178016685091045\n",
      "epoch :  4 Val Accuracy : "
     ]
    },
    {
     "name": "stderr",
     "output_type": "stream",
     "text": [
      " 71%|████████████████████████████████████████████████████████▌                       | 186/263 [00:10<00:04, 17.58it/s]"
     ]
    },
    {
     "name": "stdout",
     "output_type": "stream",
     "text": [
      "tensor(0.9343) Val Loss :  0.15302499387937354\n",
      "epoch :  4 Val Accuracy : tensor(0.9339) Val Loss :  0.15395722916427673\n",
      "epoch :  4 Val Accuracy : tensor(0.9338) Val Loss :  0.1547956462283778\n",
      "epoch :  4 Val Accuracy : tensor(0.9335) Val Loss :  0.156651100632469\n"
     ]
    },
    {
     "name": "stderr",
     "output_type": "stream",
     "text": [
      " 73%|██████████████████████████████████████████████████████████                      | 191/263 [00:10<00:03, 18.94it/s]"
     ]
    },
    {
     "name": "stdout",
     "output_type": "stream",
     "text": [
      "epoch :  4 Val Accuracy : tensor(0.9332) Val Loss :  0.1579546869622664\n",
      "epoch :  4 Val Accuracy : tensor(0.9334) Val Loss :  0.15831246517400324\n",
      "epoch :  4 Val Accuracy : tensor(0.9333) Val Loss :  0.15894571970794139\n",
      "epoch :  4 Val Accuracy : tensor(0.9335) Val Loss :  0.15949630429932826\n",
      "epoch :  4 Val Accuracy : "
     ]
    },
    {
     "name": "stderr",
     "output_type": "stream",
     "text": [
      " 74%|███████████████████████████████████████████████████████████▎                    | 195/263 [00:11<00:03, 18.32it/s]"
     ]
    },
    {
     "name": "stdout",
     "output_type": "stream",
     "text": [
      "tensor(0.9334) Val Loss :  0.1624736786880194\n",
      "epoch :  4 Val Accuracy : tensor(0.9332) Val Loss :  0.16327404668519252\n",
      "epoch :  4 Val Accuracy : tensor(0.9334) Val Loss :  0.1637666781110682\n",
      "epoch :  4 Val Accuracy : tensor(0.9335) Val Loss :  0.1641952873777754\n"
     ]
    },
    {
     "name": "stderr",
     "output_type": "stream",
     "text": [
      " 76%|████████████████████████████████████████████████████████████▌                   | 199/263 [00:11<00:03, 18.03it/s]"
     ]
    },
    {
     "name": "stdout",
     "output_type": "stream",
     "text": [
      "epoch :  4 Val Accuracy : tensor(0.9330) Val Loss :  0.16570789971789027\n",
      "epoch :  4 Val Accuracy : tensor(0.9332) Val Loss :  0.16669517473632844\n",
      "epoch :  4 Val Accuracy : tensor(0.9331) Val Loss :  0.16834957020874258\n",
      "epoch :  4 Val Accuracy : tensor(0.9334) Val Loss :  0.1688385294332477\n"
     ]
    },
    {
     "name": "stderr",
     "output_type": "stream",
     "text": [
      "\r",
      " 76%|█████████████████████████████████████████████████████████████▏                  | 201/263 [00:11<00:03, 17.36it/s]"
     ]
    },
    {
     "name": "stdout",
     "output_type": "stream",
     "text": [
      "epoch :  4 Val Accuracy : tensor(0.9336) Val Loss :  0.16955147764358683\n",
      "epoch :  4 Val Accuracy : tensor(0.9338) Val Loss :  0.17024196090863686\n",
      "epoch :  4 Val Accuracy : tensor(0.9339) Val Loss :  0.17085805831356646\n",
      "epoch :  4 Val Accuracy : tensor(0.9338) Val Loss :  0.17187028898089105\n"
     ]
    },
    {
     "name": "stderr",
     "output_type": "stream",
     "text": [
      " 79%|██████████████████████████████████████████████████████████████▉                 | 207/263 [00:11<00:03, 18.13it/s]"
     ]
    },
    {
     "name": "stdout",
     "output_type": "stream",
     "text": [
      "epoch :  4 Val Accuracy : tensor(0.9336) Val Loss :  0.17282419083746214\n",
      "epoch :  4 Val Accuracy : tensor(0.9333) Val Loss :  0.17366772109621378\n",
      "epoch :  4 Val Accuracy : tensor(0.9334) Val Loss :  0.17434285956473858\n",
      "epoch :  4 Val Accuracy : tensor(0.9334) Val Loss :  0.17488234233776878\n",
      "epoch :  4 Val Accuracy : "
     ]
    },
    {
     "name": "stderr",
     "output_type": "stream",
     "text": [
      " 80%|████████████████████████████████████████████████████████████████▏               | 211/263 [00:12<00:02, 17.85it/s]"
     ]
    },
    {
     "name": "stdout",
     "output_type": "stream",
     "text": [
      "tensor(0.9331) Val Loss :  0.17569291632721631\n",
      "epoch :  4 Val Accuracy : tensor(0.9331) Val Loss :  0.17670731939120438\n",
      "epoch :  4 Val Accuracy : tensor(0.9328) Val Loss :  0.17846985740636692\n",
      "epoch :  4 Val Accuracy : tensor(0.9327) Val Loss :  0.1794737760586657\n"
     ]
    },
    {
     "name": "stderr",
     "output_type": "stream",
     "text": [
      " 82%|█████████████████████████████████████████████████████████████████▍              | 215/263 [00:12<00:02, 18.21it/s]"
     ]
    },
    {
     "name": "stdout",
     "output_type": "stream",
     "text": [
      "epoch :  4 Val Accuracy : tensor(0.9328) Val Loss :  0.1802760856261498\n",
      "epoch :  4 Val Accuracy : tensor(0.9328) Val Loss :  0.18117728893124557\n",
      "epoch :  4 Val Accuracy : tensor(0.9329) Val Loss :  0.1817057960075344\n",
      "epoch :  4 Val Accuracy : tensor(0.9328) Val Loss :  0.18240618735495176\n"
     ]
    },
    {
     "name": "stderr",
     "output_type": "stream",
     "text": [
      " 83%|██████████████████████████████████████████████████████████████████▌             | 219/263 [00:12<00:02, 18.08it/s]"
     ]
    },
    {
     "name": "stdout",
     "output_type": "stream",
     "text": [
      "epoch :  4 Val Accuracy : tensor(0.9329) Val Loss :  0.1828477560425666\n",
      "epoch :  4 Val Accuracy : tensor(0.9328) Val Loss :  0.18392407110832037\n",
      "epoch :  4 Val Accuracy : tensor(0.9328) Val Loss :  0.18489557095296935\n",
      "epoch :  4 Val Accuracy : tensor(0.9329) Val Loss :  0.18588625250150495\n"
     ]
    },
    {
     "name": "stderr",
     "output_type": "stream",
     "text": [
      " 85%|███████████████████████████████████████████████████████████████████▊            | 223/263 [00:12<00:02, 18.40it/s]"
     ]
    },
    {
     "name": "stdout",
     "output_type": "stream",
     "text": [
      "epoch :  4 Val Accuracy : tensor(0.9328) Val Loss :  0.18709859239227872\n",
      "epoch :  4 Val Accuracy : tensor(0.9328) Val Loss :  0.18783226936432346\n",
      "epoch :  4 Val Accuracy : tensor(0.9326) Val Loss :  0.18905629323859177\n",
      "epoch :  4 Val Accuracy : tensor(0.9324) Val Loss :  0.19002486996267684\n",
      "epoch :  4 Val Accuracy : "
     ]
    },
    {
     "name": "stderr",
     "output_type": "stream",
     "text": [
      " 86%|█████████████████████████████████████████████████████████████████████           | 227/263 [00:12<00:01, 18.08it/s]"
     ]
    },
    {
     "name": "stdout",
     "output_type": "stream",
     "text": [
      "tensor(0.9320) Val Loss :  0.19162977374948476\n",
      "epoch :  4 Val Accuracy : tensor(0.9321) Val Loss :  0.19212432765178808\n",
      "epoch :  4 Val Accuracy : tensor(0.9322) Val Loss :  0.19304664998170087\n",
      "epoch :  4 Val Accuracy : tensor(0.9323) Val Loss :  0.1936400284417002\n"
     ]
    },
    {
     "name": "stderr",
     "output_type": "stream",
     "text": [
      " 88%|██████████████████████████████████████████████████████████████████████▎         | 231/263 [00:13<00:01, 18.22it/s]"
     ]
    },
    {
     "name": "stdout",
     "output_type": "stream",
     "text": [
      "epoch :  4 Val Accuracy : tensor(0.9325) Val Loss :  0.19424871407704208\n",
      "epoch :  4 Val Accuracy : tensor(0.9327) Val Loss :  0.19487140482086193\n",
      "epoch :  4 Val Accuracy : tensor(0.9326) Val Loss :  0.19566972654298684\n",
      "epoch :  4 Val Accuracy : tensor(0.9328) Val Loss :  0.19620206763705828\n",
      "epoch :  4 Val Accuracy : "
     ]
    },
    {
     "name": "stderr",
     "output_type": "stream",
     "text": [
      " 89%|███████████████████████████████████████████████████████████████████████▍        | 235/263 [00:13<00:01, 18.42it/s]"
     ]
    },
    {
     "name": "stdout",
     "output_type": "stream",
     "text": [
      "tensor(0.9326) Val Loss :  0.19735047882670687\n",
      "epoch :  4 Val Accuracy : tensor(0.9328) Val Loss :  0.19795688078827278\n",
      "epoch :  4 Val Accuracy : tensor(0.9330) Val Loss :  0.19825464933260764\n",
      "epoch :  4 Val Accuracy : tensor(0.9330) Val Loss :  0.19959160055214462\n"
     ]
    },
    {
     "name": "stderr",
     "output_type": "stream",
     "text": [
      " 91%|████████████████████████████████████████████████████████████████████████▋       | 239/263 [00:13<00:01, 18.42it/s]"
     ]
    },
    {
     "name": "stdout",
     "output_type": "stream",
     "text": [
      "epoch :  4 Val Accuracy : tensor(0.9327) Val Loss :  0.2008844047869793\n",
      "epoch :  4 Val Accuracy : tensor(0.9328) Val Loss :  0.20141476215688447\n",
      "epoch :  4 Val Accuracy : tensor(0.9329) Val Loss :  0.20224307340077574\n",
      "epoch :  4 Val Accuracy : tensor(0.9328) Val Loss :  0.2031004456484499\n"
     ]
    },
    {
     "name": "stderr",
     "output_type": "stream",
     "text": [
      "\r",
      " 92%|█████████████████████████████████████████████████████████████████████████▎      | 241/263 [00:13<00:01, 18.20it/s]"
     ]
    },
    {
     "name": "stdout",
     "output_type": "stream",
     "text": [
      "epoch :  4 Val Accuracy : tensor(0.9330) Val Loss :  0.2035907983864895\n",
      "epoch :  4 Val Accuracy : tensor(0.9326) Val Loss :  0.20494672224038907\n",
      "epoch :  4 Val Accuracy : tensor(0.9327) Val Loss :  0.2053846631751541\n",
      "epoch :  4 Val Accuracy : tensor(0.9327) Val Loss :  0.20645610459800456\n",
      "epoch :  4 Val Accuracy : "
     ]
    },
    {
     "name": "stderr",
     "output_type": "stream",
     "text": [
      " 94%|██████████████████████████████████████████████████████████████████████████▊     | 246/263 [00:13<00:00, 18.88it/s]"
     ]
    },
    {
     "name": "stdout",
     "output_type": "stream",
     "text": [
      "tensor(0.9327) Val Loss :  0.2069764499173645\n",
      "epoch :  4 Val Accuracy : tensor(0.9325) Val Loss :  0.20820824290579715\n",
      "epoch :  4 Val Accuracy : tensor(0.9326) Val Loss :  0.2087990079967468\n",
      "epoch :  4 Val Accuracy : tensor(0.9324) Val Loss :  0.21039387202704815\n"
     ]
    },
    {
     "name": "stderr",
     "output_type": "stream",
     "text": [
      " 95%|████████████████████████████████████████████████████████████████████████████    | 250/263 [00:14<00:00, 18.29it/s]"
     ]
    },
    {
     "name": "stdout",
     "output_type": "stream",
     "text": [
      "epoch :  4 Val Accuracy : tensor(0.9327) Val Loss :  0.21066113497651123\n",
      "epoch :  4 Val Accuracy : tensor(0.9330) Val Loss :  0.2108186867527182\n",
      "epoch :  4 Val Accuracy : tensor(0.9328) Val Loss :  0.21240831543284225\n",
      "epoch :  4 Val Accuracy : "
     ]
    },
    {
     "name": "stderr",
     "output_type": "stream",
     "text": [
      " 97%|█████████████████████████████████████████████████████████████████████████████▎  | 254/263 [00:14<00:00, 18.20it/s]"
     ]
    },
    {
     "name": "stdout",
     "output_type": "stream",
     "text": [
      "tensor(0.9330) Val Loss :  0.2127095521799512\n",
      "epoch :  4 Val Accuracy : tensor(0.9333) Val Loss :  0.21299200114075223\n",
      "epoch :  4 Val Accuracy : tensor(0.9330) Val Loss :  0.21429336022854759\n",
      "epoch :  4 Val Accuracy : tensor(0.9332) Val Loss :  0.2146958839360752\n"
     ]
    },
    {
     "name": "stderr",
     "output_type": "stream",
     "text": [
      "\r",
      " 97%|█████████████████████████████████████████████████████████████████████████████▊  | 256/263 [00:14<00:00, 17.63it/s]"
     ]
    },
    {
     "name": "stdout",
     "output_type": "stream",
     "text": [
      "epoch :  4 Val Accuracy : tensor(0.9333) Val Loss :  0.21509606796299097\n",
      "epoch :  4 Val Accuracy : tensor(0.9336) Val Loss :  0.21540541895895404\n",
      "epoch :  4 Val Accuracy : tensor(0.9336) Val Loss :  0.2159424516524652\n",
      "epoch :  4 Val Accuracy : "
     ]
    },
    {
     "name": "stderr",
     "output_type": "stream",
     "text": [
      " 99%|███████████████████████████████████████████████████████████████████████████████ | 260/263 [00:14<00:00, 16.97it/s]"
     ]
    },
    {
     "name": "stdout",
     "output_type": "stream",
     "text": [
      "tensor(0.9338) Val Loss :  0.21635511171908434\n",
      "epoch :  4 Val Accuracy : tensor(0.9340) Val Loss :  0.21651867182195866\n",
      "epoch :  4 Val Accuracy : tensor(0.9340) Val Loss :  0.2176053441579351\n",
      "epoch :  4 Val Accuracy : tensor(0.9339) Val Loss :  0.21862921574836447\n"
     ]
    },
    {
     "name": "stderr",
     "output_type": "stream",
     "text": [
      "100%|████████████████████████████████████████████████████████████████████████████████| 263/263 [00:14<00:00, 17.68it/s]\n",
      "  0%|                                                                                 | 1/1225 [00:00<03:16,  6.22it/s]"
     ]
    },
    {
     "name": "stdout",
     "output_type": "stream",
     "text": [
      "epoch :  4 Val Accuracy : tensor(0.9341) Val Loss :  0.22022414584236907\n",
      "epoch :  4 Val Accuracy : tensor(0.9341) Val Loss :  0.22061692758998036\n"
     ]
    },
    {
     "name": "stderr",
     "output_type": "stream",
     "text": [
      "100%|██████████████████████████████████████████████████████████████████████████████| 1225/1225 [01:44<00:00, 11.75it/s]\n",
      "  1%|▌                                                                                 | 2/263 [00:00<00:16, 16.30it/s]"
     ]
    },
    {
     "name": "stdout",
     "output_type": "stream",
     "text": [
      "epoch : 5 Training Accuracy :  tensor(0.8901) Train Loss 0.3256013831070491\n",
      "epoch :  5 Val Accuracy : tensor(0.9444) Val Loss :  0.0008300759833121934\n",
      "epoch :  5 Val Accuracy : tensor(0.9722) Val Loss :  0.001174912139943344\n",
      "epoch :  5 Val Accuracy : "
     ]
    },
    {
     "name": "stderr",
     "output_type": "stream",
     "text": [
      "\r",
      "  2%|█▏                                                                                | 4/263 [00:00<00:16, 16.12it/s]"
     ]
    },
    {
     "name": "stdout",
     "output_type": "stream",
     "text": [
      "tensor(0.9537) Val Loss :  0.00224005099485129\n",
      "epoch :  5 Val Accuracy : tensor(0.9444) Val Loss :  0.004198003064543575\n",
      "epoch :  5 Val Accuracy : tensor(0.9444) Val Loss :  0.005020297525500163\n",
      "epoch :  5 Val Accuracy : "
     ]
    },
    {
     "name": "stderr",
     "output_type": "stream",
     "text": [
      "  3%|██▍                                                                               | 8/263 [00:00<00:16, 15.66it/s]"
     ]
    },
    {
     "name": "stdout",
     "output_type": "stream",
     "text": [
      "tensor(0.9444) Val Loss :  0.005807751258516493\n",
      "epoch :  5 Val Accuracy : tensor(0.9444) Val Loss :  0.006442082698807517\n",
      "epoch :  5 Val Accuracy : tensor(0.9479) Val Loss :  0.00679618751934726\n",
      "epoch :  5 Val Accuracy : "
     ]
    },
    {
     "name": "stderr",
     "output_type": "stream",
     "text": [
      "\r",
      "  4%|███                                                                              | 10/263 [00:00<00:16, 15.34it/s]"
     ]
    },
    {
     "name": "stdout",
     "output_type": "stream",
     "text": [
      "tensor(0.9475) Val Loss :  0.007586712647980157\n",
      "epoch :  5 Val Accuracy : tensor(0.9472) Val Loss :  0.008298894893307197\n",
      "epoch :  5 Val Accuracy : tensor(0.9444) Val Loss :  0.009357636560731967\n",
      "epoch :  5 Val Accuracy : "
     ]
    },
    {
     "name": "stderr",
     "output_type": "stream",
     "text": [
      "  5%|████▎                                                                            | 14/263 [00:00<00:16, 15.39it/s]"
     ]
    },
    {
     "name": "stdout",
     "output_type": "stream",
     "text": [
      "tensor(0.9398) Val Loss :  0.010391822247677429\n",
      "epoch :  5 Val Accuracy : tensor(0.9359) Val Loss :  0.011952333945511866\n",
      "epoch :  5 Val Accuracy : tensor(0.9306) Val Loss :  0.013937691686951163\n",
      "epoch :  5 Val Accuracy : "
     ]
    },
    {
     "name": "stderr",
     "output_type": "stream",
     "text": [
      "\r",
      "  6%|████▉                                                                            | 16/263 [00:01<00:16, 15.35it/s]"
     ]
    },
    {
     "name": "stdout",
     "output_type": "stream",
     "text": [
      "tensor(0.9278) Val Loss :  0.016016037433546307\n",
      "epoch :  5 Val Accuracy : tensor(0.9288) Val Loss :  0.016906764089154654\n",
      "epoch :  5 Val Accuracy : tensor(0.9297) Val Loss :  0.017466055548009764\n",
      "epoch :  5 Val Accuracy : "
     ]
    },
    {
     "name": "stderr",
     "output_type": "stream",
     "text": [
      "  8%|██████▏                                                                          | 20/263 [00:01<00:16, 14.48it/s]"
     ]
    },
    {
     "name": "stdout",
     "output_type": "stream",
     "text": [
      "tensor(0.9321) Val Loss :  0.018151893673514233\n",
      "epoch :  5 Val Accuracy : tensor(0.9284) Val Loss :  0.01919989789280148\n",
      "epoch :  5 Val Accuracy : tensor(0.9278) Val Loss :  0.02022094404176161\n"
     ]
    },
    {
     "name": "stderr",
     "output_type": "stream",
     "text": [
      "\r",
      "  8%|██████▊                                                                          | 22/263 [00:01<00:16, 14.88it/s]"
     ]
    },
    {
     "name": "stdout",
     "output_type": "stream",
     "text": [
      "epoch :  5 Val Accuracy : tensor(0.9312) Val Loss :  0.020716261189473447\n",
      "epoch :  5 Val Accuracy : tensor(0.9306) Val Loss :  0.021475203051993148\n",
      "epoch :  5 Val Accuracy : tensor(0.9324) Val Loss :  0.02200308280639322\n",
      "epoch :  5 Val Accuracy : "
     ]
    },
    {
     "name": "stderr",
     "output_type": "stream",
     "text": [
      "\r",
      "  9%|███████▍                                                                         | 24/263 [00:01<00:15, 15.28it/s]"
     ]
    },
    {
     "name": "stdout",
     "output_type": "stream",
     "text": [
      "tensor(0.9329) Val Loss :  0.02266124278986862\n",
      "epoch :  5 Val Accuracy : tensor(0.9333) Val Loss :  0.023452519435619674\n",
      "epoch :  5 Val Accuracy : "
     ]
    },
    {
     "name": "stderr",
     "output_type": "stream",
     "text": [
      "\r",
      " 10%|████████                                                                         | 26/263 [00:01<00:18, 13.14it/s]"
     ]
    },
    {
     "name": "stdout",
     "output_type": "stream",
     "text": [
      "tensor(0.9327) Val Loss :  0.024528326162140634\n",
      "epoch :  5 Val Accuracy : tensor(0.9331) Val Loss :  0.025133473309953858\n",
      "epoch :  5 Val Accuracy : "
     ]
    },
    {
     "name": "stderr",
     "output_type": "stream",
     "text": [
      "\r",
      " 11%|████████▌                                                                        | 28/263 [00:01<00:19, 12.25it/s]"
     ]
    },
    {
     "name": "stdout",
     "output_type": "stream",
     "text": [
      "tensor(0.9325) Val Loss :  0.02659889270937488\n",
      "epoch :  5 Val Accuracy : tensor(0.9320) Val Loss :  0.027058528714986808\n",
      "epoch :  5 Val Accuracy : "
     ]
    },
    {
     "name": "stderr",
     "output_type": "stream",
     "text": [
      "\r",
      " 11%|█████████▏                                                                       | 30/263 [00:02<00:19, 11.69it/s]"
     ]
    },
    {
     "name": "stdout",
     "output_type": "stream",
     "text": [
      "tensor(0.9315) Val Loss :  0.027771041958730938\n",
      "epoch :  5 Val Accuracy : tensor(0.9319) Val Loss :  0.028156341878633535\n",
      "epoch :  5 Val Accuracy : "
     ]
    },
    {
     "name": "stderr",
     "output_type": "stream",
     "text": [
      " 13%|██████████▍                                                                      | 34/263 [00:02<00:20, 11.36it/s]"
     ]
    },
    {
     "name": "stdout",
     "output_type": "stream",
     "text": [
      "tensor(0.9314) Val Loss :  0.028923434336375828\n",
      "epoch :  5 Val Accuracy : tensor(0.9301) Val Loss :  0.03026469522102704\n",
      "epoch :  5 Val Accuracy : tensor(0.9297) Val Loss :  0.0308266483785535\n"
     ]
    },
    {
     "name": "stderr",
     "output_type": "stream",
     "text": [
      "\r",
      " 14%|███████████                                                                      | 36/263 [00:02<00:19, 11.80it/s]"
     ]
    },
    {
     "name": "stdout",
     "output_type": "stream",
     "text": [
      "epoch :  5 Val Accuracy : tensor(0.9302) Val Loss :  0.031241317778939078\n",
      "epoch :  5 Val Accuracy : tensor(0.9313) Val Loss :  0.031601818455489414\n",
      "epoch :  5 Val Accuracy : tensor(0.9317) Val Loss :  0.032365662856700304\n"
     ]
    },
    {
     "name": "stderr",
     "output_type": "stream",
     "text": [
      "\r",
      " 14%|███████████▋                                                                     | 38/263 [00:02<00:18, 12.14it/s]"
     ]
    },
    {
     "name": "stdout",
     "output_type": "stream",
     "text": [
      "epoch :  5 Val Accuracy : tensor(0.9320) Val Loss :  0.03302528253073021\n",
      "epoch :  5 Val Accuracy : tensor(0.9316) Val Loss :  0.03355159947627397\n",
      "epoch :  5 Val Accuracy : "
     ]
    },
    {
     "name": "stderr",
     "output_type": "stream",
     "text": [
      " 16%|████████████▉                                                                    | 42/263 [00:03<00:17, 12.34it/s]"
     ]
    },
    {
     "name": "stdout",
     "output_type": "stream",
     "text": [
      "tensor(0.9333) Val Loss :  0.033847843371190046\n",
      "epoch :  5 Val Accuracy : tensor(0.9343) Val Loss :  0.03433648258900914\n",
      "epoch :  5 Val Accuracy : tensor(0.9345) Val Loss :  0.034711995307256965\n"
     ]
    },
    {
     "name": "stderr",
     "output_type": "stream",
     "text": [
      "\r",
      " 17%|█████████████▌                                                                   | 44/263 [00:03<00:17, 12.37it/s]"
     ]
    },
    {
     "name": "stdout",
     "output_type": "stream",
     "text": [
      "epoch :  5 Val Accuracy : tensor(0.9341) Val Loss :  0.03557767815349673\n",
      "epoch :  5 Val Accuracy : tensor(0.9331) Val Loss :  0.036950557035864987\n",
      "epoch :  5 Val Accuracy : tensor(0.9327) Val Loss :  0.03826129580971859\n"
     ]
    },
    {
     "name": "stderr",
     "output_type": "stream",
     "text": [
      "\r",
      " 17%|██████████████▏                                                                  | 46/263 [00:03<00:18, 11.94it/s]"
     ]
    },
    {
     "name": "stdout",
     "output_type": "stream",
     "text": [
      "epoch :  5 Val Accuracy : tensor(0.9342) Val Loss :  0.0384683033076076\n",
      "epoch :  5 Val Accuracy : tensor(0.9350) Val Loss :  0.038882399069945624\n",
      "epoch :  5"
     ]
    },
    {
     "name": "stderr",
     "output_type": "stream",
     "text": [
      "\r",
      " 18%|██████████████▊                                                                  | 48/263 [00:03<00:19, 11.15it/s]"
     ]
    },
    {
     "name": "stdout",
     "output_type": "stream",
     "text": [
      " Val Accuracy : tensor(0.9358) Val Loss :  0.039342074368163206\n",
      "epoch :  5 Val Accuracy : tensor(0.9359) Val Loss :  0.04106610121042556\n"
     ]
    },
    {
     "name": "stderr",
     "output_type": "stream",
     "text": [
      " 20%|████████████████                                                                 | 52/263 [00:04<00:19, 11.05it/s]"
     ]
    },
    {
     "name": "stdout",
     "output_type": "stream",
     "text": [
      "epoch :  5 Val Accuracy : tensor(0.9367) Val Loss :  0.04163599419389841\n",
      "epoch :  5 Val Accuracy : tensor(0.9357) Val Loss :  0.0426554137932937\n",
      "epoch :  5 Val Accuracy : tensor(0.9364) Val Loss :  0.04320075153284653\n"
     ]
    },
    {
     "name": "stderr",
     "output_type": "stream",
     "text": [
      "\r",
      " 21%|████████████████▋                                                                | 54/263 [00:04<00:19, 10.73it/s]"
     ]
    },
    {
     "name": "stdout",
     "output_type": "stream",
     "text": [
      "epoch :  5 Val Accuracy : tensor(0.9334) Val Loss :  0.04492625500652726\n",
      "epoch :  5 Val Accuracy : tensor(0.9347) Val Loss :  0.04516713488351256\n",
      "epoch :  "
     ]
    },
    {
     "name": "stderr",
     "output_type": "stream",
     "text": [
      "\r",
      " 21%|█████████████████▏                                                               | 56/263 [00:04<00:19, 10.65it/s]"
     ]
    },
    {
     "name": "stdout",
     "output_type": "stream",
     "text": [
      "5 Val Accuracy : tensor(0.9338) Val Loss :  0.046499740176554415\n",
      "epoch :  5 Val Accuracy : tensor(0.9340) Val Loss :  0.047365058822550245\n",
      "epoch :  5 Val Accuracy : "
     ]
    },
    {
     "name": "stderr",
     "output_type": "stream",
     "text": [
      "\r",
      " 22%|█████████████████▊                                                               | 58/263 [00:04<00:18, 10.89it/s]"
     ]
    },
    {
     "name": "stdout",
     "output_type": "stream",
     "text": [
      "tensor(0.9352) Val Loss :  0.047615092941790026\n",
      "epoch :  5 Val Accuracy : tensor(0.9363) Val Loss :  0.04789861628764482\n",
      "epoch :  5 Val Accuracy : tensor(0.9374) Val Loss :  0.04806680371099552\n"
     ]
    },
    {
     "name": "stderr",
     "output_type": "stream",
     "text": [
      " 24%|███████████████████                                                              | 62/263 [00:04<00:16, 12.01it/s]"
     ]
    },
    {
     "name": "stdout",
     "output_type": "stream",
     "text": [
      "epoch :  5 Val Accuracy : tensor(0.9366) Val Loss :  0.0490140053709197\n",
      "epoch :  5 Val Accuracy : tensor(0.9362) Val Loss :  0.04966184938815157\n",
      "epoch :  5 Val Accuracy : tensor(0.9364) Val Loss :  0.05075145345676988\n",
      "epoch :  5 Val Accuracy : "
     ]
    },
    {
     "name": "stderr",
     "output_type": "stream",
     "text": [
      "\r",
      " 24%|███████████████████▋                                                             | 64/263 [00:05<00:15, 12.93it/s]"
     ]
    },
    {
     "name": "stdout",
     "output_type": "stream",
     "text": [
      "tensor(0.9365) Val Loss :  0.05150622973650581\n",
      "epoch :  5 Val Accuracy : tensor(0.9371) Val Loss :  0.05195485367067867\n",
      "epoch :  5 Val Accuracy : tensor(0.9376) Val Loss :  0.05230929543876829\n"
     ]
    },
    {
     "name": "stderr",
     "output_type": "stream",
     "text": [
      " 26%|████████████████████▉                                                            | 68/263 [00:05<00:15, 12.70it/s]"
     ]
    },
    {
     "name": "stdout",
     "output_type": "stream",
     "text": [
      "epoch :  5 Val Accuracy : tensor(0.9377) Val Loss :  0.05335000545466354\n",
      "epoch :  5 Val Accuracy : tensor(0.9374) Val Loss :  0.05402618632457102\n",
      "epoch :  5 Val Accuracy : tensor(0.9371) Val Loss :  0.05464422898260813\n"
     ]
    },
    {
     "name": "stderr",
     "output_type": "stream",
     "text": [
      "\r",
      " 27%|█████████████████████▌                                                           | 70/263 [00:05<00:16, 11.59it/s]"
     ]
    },
    {
     "name": "stdout",
     "output_type": "stream",
     "text": [
      "epoch :  5 Val Accuracy : tensor(0.9372) Val Loss :  0.055411659124459604\n",
      "epoch :  5 Val Accuracy : tensor(0.9357) Val Loss :  0.057578719925744454\n",
      "epoch :  5 Val Accuracy : tensor(0.9362) Val Loss :  0.05827397887131107\n"
     ]
    },
    {
     "name": "stderr",
     "output_type": "stream",
     "text": [
      "\r",
      " 27%|██████████████████████▏                                                          | 72/263 [00:05<00:16, 11.80it/s]"
     ]
    },
    {
     "name": "stdout",
     "output_type": "stream",
     "text": [
      "epoch :  5 Val Accuracy : tensor(0.9356) Val Loss :  0.05928022618416144\n",
      "epoch :  5 Val Accuracy : tensor(0.9357) Val Loss :  0.059855896285504896\n",
      "epoch :  5 Val Accuracy : "
     ]
    },
    {
     "name": "stderr",
     "output_type": "stream",
     "text": [
      " 29%|███████████████████████▍                                                         | 76/263 [00:06<00:16, 11.46it/s]"
     ]
    },
    {
     "name": "stdout",
     "output_type": "stream",
     "text": [
      "tensor(0.9351) Val Loss :  0.061263714141492155\n",
      "epoch :  5 Val Accuracy : tensor(0.9359) Val Loss :  0.061478676522299366\n",
      "epoch :  5 Val Accuracy : tensor(0.9357) Val Loss :  0.06256842484322338\n"
     ]
    },
    {
     "name": "stderr",
     "output_type": "stream",
     "text": [
      "\r",
      " 30%|████████████████████████                                                         | 78/263 [00:06<00:16, 11.28it/s]"
     ]
    },
    {
     "name": "stdout",
     "output_type": "stream",
     "text": [
      "epoch :  5 Val Accuracy : tensor(0.9343) Val Loss :  0.06376437923584148\n",
      "epoch :  5 Val Accuracy : tensor(0.9338) Val Loss :  0.0647193903507162\n",
      "epoch :  5 Val Accuracy : tensor(0.9339) Val Loss :  0.06558088342103215\n"
     ]
    },
    {
     "name": "stderr",
     "output_type": "stream",
     "text": [
      " 31%|█████████████████████████▎                                                       | 82/263 [00:06<00:14, 12.69it/s]"
     ]
    },
    {
     "name": "stdout",
     "output_type": "stream",
     "text": [
      "epoch :  5 Val Accuracy : tensor(0.9340) Val Loss :  0.06659835181818716\n",
      "epoch :  5 Val Accuracy : tensor(0.9331) Val Loss :  0.06771559351807312\n",
      "epoch :  5 Val Accuracy : tensor(0.9326) Val Loss :  0.06923245625860791\n"
     ]
    },
    {
     "name": "stderr",
     "output_type": "stream",
     "text": [
      "\r",
      " 32%|█████████████████████████▊                                                       | 84/263 [00:06<00:13, 13.06it/s]"
     ]
    },
    {
     "name": "stdout",
     "output_type": "stream",
     "text": [
      "epoch :  5 Val Accuracy : tensor(0.9324) Val Loss :  0.07027641937363284\n",
      "epoch :  5 Val Accuracy : tensor(0.9329) Val Loss :  0.07073588129628747\n",
      "epoch :  5 Val Accuracy : tensor(0.9337) Val Loss :  0.07108408800492722\n"
     ]
    },
    {
     "name": "stderr",
     "output_type": "stream",
     "text": [
      " 33%|███████████████████████████                                                      | 88/263 [00:07<00:13, 12.94it/s]"
     ]
    },
    {
     "name": "stdout",
     "output_type": "stream",
     "text": [
      "epoch :  5 Val Accuracy : tensor(0.9341) Val Loss :  0.07167625006557417\n",
      "epoch :  5 Val Accuracy : tensor(0.9342) Val Loss :  0.07214353028189094\n",
      "epoch :  5 Val Accuracy : tensor(0.9347) Val Loss :  0.07265768504698014\n"
     ]
    },
    {
     "name": "stderr",
     "output_type": "stream",
     "text": [
      "\r",
      " 34%|███████████████████████████▋                                                     | 90/263 [00:07<00:12, 13.65it/s]"
     ]
    },
    {
     "name": "stdout",
     "output_type": "stream",
     "text": [
      "epoch :  5 Val Accuracy : tensor(0.9354) Val Loss :  0.07302442214278214\n",
      "epoch :  5 Val Accuracy : tensor(0.9355) Val Loss :  0.0736454748920388\n",
      "epoch :  5 Val Accuracy : tensor(0.9359) Val Loss :  0.07401919862106726\n",
      "epoch :  "
     ]
    },
    {
     "name": "stderr",
     "output_type": "stream",
     "text": [
      " 36%|████████████████████████████▉                                                    | 94/263 [00:07<00:11, 14.87it/s]"
     ]
    },
    {
     "name": "stdout",
     "output_type": "stream",
     "text": [
      "5 Val Accuracy : tensor(0.9363) Val Loss :  0.07431337388919333\n",
      "epoch :  5 Val Accuracy : tensor(0.9358) Val Loss :  0.07498665005251935\n",
      "epoch :  5 Val Accuracy : tensor(0.9359) Val Loss :  0.07561498612675377\n",
      "epoch :  5"
     ]
    },
    {
     "name": "stderr",
     "output_type": "stream",
     "text": [
      " 37%|██████████████████████████████▏                                                  | 98/263 [00:07<00:10, 15.58it/s]"
     ]
    },
    {
     "name": "stdout",
     "output_type": "stream",
     "text": [
      " Val Accuracy : tensor(0.9360) Val Loss :  0.07634286830350473\n",
      "epoch :  5 Val Accuracy : tensor(0.9361) Val Loss :  0.0775773568723365\n",
      "epoch :  5 Val Accuracy : tensor(0.9359) Val Loss :  0.07826060678512424\n",
      "epoch :  5 Val Accuracy : tensor(0.9354) Val Loss :  0.07933656388305893\n"
     ]
    },
    {
     "name": "stderr",
     "output_type": "stream",
     "text": [
      " 39%|███████████████████████████████                                                 | 102/263 [00:07<00:09, 16.56it/s]"
     ]
    },
    {
     "name": "stdout",
     "output_type": "stream",
     "text": [
      "epoch :  5 Val Accuracy : tensor(0.9352) Val Loss :  0.08066963762781466\n",
      "epoch :  5 Val Accuracy : tensor(0.9353) Val Loss :  0.08121498715231627\n",
      "epoch :  5 Val Accuracy : tensor(0.9356) Val Loss :  0.08192428559801425\n",
      "epoch :  5 Val Accuracy : tensor(0.9363) Val Loss :  0.08223096903116077\n"
     ]
    },
    {
     "name": "stderr",
     "output_type": "stream",
     "text": [
      "\r",
      " 40%|███████████████████████████████▋                                                | 104/263 [00:07<00:09, 16.73it/s]"
     ]
    },
    {
     "name": "stdout",
     "output_type": "stream",
     "text": [
      "epoch :  5 Val Accuracy : tensor(0.9364) Val Loss :  0.08313668444186109\n",
      "epoch :  5 Val Accuracy : tensor(0.9359) Val Loss :  0.08404986465441863\n",
      "epoch :  5 Val Accuracy : tensor(0.9360) Val Loss :  0.08497421099262546\n",
      "epoch :  5 Val Accuracy : "
     ]
    },
    {
     "name": "stderr",
     "output_type": "stream",
     "text": [
      " 41%|████████████████████████████████▊                                               | 108/263 [00:08<00:09, 15.72it/s]"
     ]
    },
    {
     "name": "stdout",
     "output_type": "stream",
     "text": [
      "tensor(0.9363) Val Loss :  0.0854949809667502\n",
      "epoch :  5 Val Accuracy : tensor(0.9369) Val Loss :  0.08568532937719794\n",
      "epoch :  5 Val Accuracy : tensor(0.9367) Val Loss :  0.08664501084460959\n"
     ]
    },
    {
     "name": "stderr",
     "output_type": "stream",
     "text": [
      "\r",
      " 42%|█████████████████████████████████▍                                              | 110/263 [00:08<00:09, 15.47it/s]"
     ]
    },
    {
     "name": "stdout",
     "output_type": "stream",
     "text": [
      "epoch :  5 Val Accuracy : tensor(0.9371) Val Loss :  0.08709023210145675\n",
      "epoch :  5 Val Accuracy : tensor(0.9369) Val Loss :  0.08830086532767735\n",
      "epoch :  5 Val Accuracy : tensor(0.9369) Val Loss :  0.08897315223520699\n",
      "epoch :  5 Val Accuracy : "
     ]
    },
    {
     "name": "stderr",
     "output_type": "stream",
     "text": [
      " 43%|██████████████████████████████████▋                                             | 114/263 [00:08<00:09, 15.89it/s]"
     ]
    },
    {
     "name": "stdout",
     "output_type": "stream",
     "text": [
      "tensor(0.9373) Val Loss :  0.08954787914403944\n",
      "epoch :  5 Val Accuracy : tensor(0.9378) Val Loss :  0.0898143093848863\n",
      "epoch :  5 Val Accuracy : tensor(0.9381) Val Loss :  0.08997405612196759\n",
      "epoch :  5 Val Accuracy : "
     ]
    },
    {
     "name": "stderr",
     "output_type": "stream",
     "text": [
      " 45%|███████████████████████████████████▉                                            | 118/263 [00:08<00:08, 16.34it/s]"
     ]
    },
    {
     "name": "stdout",
     "output_type": "stream",
     "text": [
      "tensor(0.9386) Val Loss :  0.09016807162036461\n",
      "epoch :  5 Val Accuracy : tensor(0.9382) Val Loss :  0.09129556713222098\n",
      "epoch :  5 Val Accuracy : tensor(0.9380) Val Loss :  0.09253719805991242\n",
      "epoch :  5 Val Accuracy : tensor(0.9386) Val Loss :  0.09271334233506097\n"
     ]
    },
    {
     "name": "stderr",
     "output_type": "stream",
     "text": [
      " 46%|█████████████████████████████████████                                           | 122/263 [00:09<00:08, 17.12it/s]"
     ]
    },
    {
     "name": "stdout",
     "output_type": "stream",
     "text": [
      "epoch :  5 Val Accuracy : tensor(0.9388) Val Loss :  0.09306956906962303\n",
      "epoch :  5 Val Accuracy : tensor(0.9387) Val Loss :  0.093610345864024\n",
      "epoch :  5 Val Accuracy : tensor(0.9387) Val Loss :  0.09430257675765585\n",
      "epoch :  5 Val Accuracy : tensor(0.9385) Val Loss :  0.09506957470917429\n"
     ]
    },
    {
     "name": "stderr",
     "output_type": "stream",
     "text": [
      " 48%|██████████████████████████████████████▎                                         | 126/263 [00:09<00:08, 16.75it/s]"
     ]
    },
    {
     "name": "stdout",
     "output_type": "stream",
     "text": [
      "epoch :  5 Val Accuracy : tensor(0.9388) Val Loss :  0.09534542548679127\n",
      "epoch :  5 Val Accuracy : tensor(0.9393) Val Loss :  0.09592582310900488\n",
      "epoch :  5 Val Accuracy : tensor(0.9389) Val Loss :  0.0967623974150578\n",
      "epoch :  5 Val Accuracy : tensor(0.9394) Val Loss :  0.09709304522992086\n"
     ]
    },
    {
     "name": "stderr",
     "output_type": "stream",
     "text": [
      "\r",
      " 49%|██████████████████████████████████████▉                                         | 128/263 [00:09<00:08, 16.27it/s]"
     ]
    },
    {
     "name": "stdout",
     "output_type": "stream",
     "text": [
      "epoch :  5 Val Accuracy : tensor(0.9396) Val Loss :  0.09755681222835874\n",
      "epoch :  5 Val Accuracy : tensor(0.9395) Val Loss :  0.09826491608819128\n",
      "epoch :  5 Val Accuracy : tensor(0.9395) Val Loss :  0.0989515065240316\n",
      "epoch :  5 Val Accuracy : "
     ]
    },
    {
     "name": "stderr",
     "output_type": "stream",
     "text": [
      " 50%|████████████████████████████████████████▏                                       | 132/263 [00:09<00:07, 16.70it/s]"
     ]
    },
    {
     "name": "stdout",
     "output_type": "stream",
     "text": [
      "tensor(0.9397) Val Loss :  0.0996276141912765\n",
      "epoch :  5 Val Accuracy : tensor(0.9402) Val Loss :  0.09989401819928063\n",
      "epoch :  5 Val Accuracy : tensor(0.9402) Val Loss :  0.10061282018631583\n",
      "epoch :  5 Val Accuracy : tensor(0.9403) Val Loss :  0.10124561068789588\n"
     ]
    },
    {
     "name": "stderr",
     "output_type": "stream",
     "text": [
      " 52%|█████████████████████████████████████████▎                                      | 136/263 [00:09<00:08, 15.83it/s]"
     ]
    },
    {
     "name": "stdout",
     "output_type": "stream",
     "text": [
      "epoch :  5 Val Accuracy : tensor(0.9403) Val Loss :  0.10180231535049446\n",
      "epoch :  5 Val Accuracy : tensor(0.9407) Val Loss :  0.10220848055053573\n",
      "epoch :  5 Val Accuracy : tensor(0.9406) Val Loss :  0.10342601114466163\n",
      "epoch :  5 Val Accuracy : "
     ]
    },
    {
     "name": "stderr",
     "output_type": "stream",
     "text": [
      "\r",
      " 52%|█████████████████████████████████████████▉                                      | 138/263 [00:10<00:07, 15.66it/s]"
     ]
    },
    {
     "name": "stdout",
     "output_type": "stream",
     "text": [
      "tensor(0.9408) Val Loss :  0.10365598298920878\n",
      "epoch :  5 Val Accuracy : tensor(0.9408) Val Loss :  0.10413194024234217\n",
      "epoch :  5 Val Accuracy : tensor(0.9410) Val Loss :  0.10490329307238412\n",
      "epoch :  5 Val Accuracy : "
     ]
    },
    {
     "name": "stderr",
     "output_type": "stream",
     "text": [
      " 54%|███████████████████████████████████████████▏                                    | 142/263 [00:10<00:08, 15.08it/s]"
     ]
    },
    {
     "name": "stdout",
     "output_type": "stream",
     "text": [
      "tensor(0.9411) Val Loss :  0.1056807131113435\n",
      "epoch :  5 Val Accuracy : tensor(0.9407) Val Loss :  0.10665502321300852\n",
      "epoch :  5 Val Accuracy : tensor(0.9407) Val Loss :  0.10738650722138782\n",
      "epoch :  5 Val Accuracy : "
     ]
    },
    {
     "name": "stderr",
     "output_type": "stream",
     "text": [
      "\r",
      " 55%|███████████████████████████████████████████▊                                    | 144/263 [00:10<00:07, 15.97it/s]"
     ]
    },
    {
     "name": "stdout",
     "output_type": "stream",
     "text": [
      "tensor(0.9409) Val Loss :  0.10778935311695015\n",
      "epoch :  5 Val Accuracy : tensor(0.9408) Val Loss :  0.10881517035709588\n",
      "epoch :  5 Val Accuracy : tensor(0.9406) Val Loss :  0.10997136618531249\n"
     ]
    },
    {
     "name": "stderr",
     "output_type": "stream",
     "text": [
      " 56%|█████████████████████████████████████████████                                   | 148/263 [00:10<00:07, 14.69it/s]"
     ]
    },
    {
     "name": "stdout",
     "output_type": "stream",
     "text": [
      "epoch :  5 Val Accuracy : tensor(0.9408) Val Loss :  0.11016623507264449\n",
      "epoch :  5 Val Accuracy : tensor(0.9410) Val Loss :  0.11066494112968898\n",
      "epoch :  5 Val Accuracy : tensor(0.9413) Val Loss :  0.11095355506348972\n"
     ]
    },
    {
     "name": "stderr",
     "output_type": "stream",
     "text": [
      " 58%|██████████████████████████████████████████████▏                                 | 152/263 [00:11<00:07, 15.16it/s]"
     ]
    },
    {
     "name": "stdout",
     "output_type": "stream",
     "text": [
      "epoch :  5 Val Accuracy : tensor(0.9411) Val Loss :  0.1119621042941233\n",
      "epoch :  5 Val Accuracy : tensor(0.9413) Val Loss :  0.11255567658253496\n",
      "epoch :  5 Val Accuracy : tensor(0.9415) Val Loss :  0.11302531715978234\n",
      "epoch :  5 Val Accuracy : tensor(0.9417) Val Loss :  0.11350030745220276\n"
     ]
    },
    {
     "name": "stderr",
     "output_type": "stream",
     "text": [
      "\r",
      " 59%|██████████████████████████████████████████████▊                                 | 154/263 [00:11<00:06, 15.81it/s]"
     ]
    },
    {
     "name": "stdout",
     "output_type": "stream",
     "text": [
      "epoch :  5 Val Accuracy : tensor(0.9417) Val Loss :  0.11411398758283132\n",
      "epoch :  5 Val Accuracy : tensor(0.9419) Val Loss :  0.11477917972456367\n",
      "epoch :  5 Val Accuracy : tensor(0.9419) Val Loss :  0.11546682774623991\n",
      "epoch :  5 Val Accuracy : "
     ]
    },
    {
     "name": "stderr",
     "output_type": "stream",
     "text": [
      " 60%|████████████████████████████████████████████████                                | 158/263 [00:11<00:06, 16.27it/s]"
     ]
    },
    {
     "name": "stdout",
     "output_type": "stream",
     "text": [
      "tensor(0.9423) Val Loss :  0.11577840108325273\n",
      "epoch :  5 Val Accuracy : tensor(0.9420) Val Loss :  0.11661235278493551\n",
      "epoch :  5 Val Accuracy : tensor(0.9418) Val Loss :  0.11743453115281496\n",
      "epoch :  5 Val Accuracy : tensor(0.9418) Val Loss :  0.11838579624041405\n"
     ]
    },
    {
     "name": "stderr",
     "output_type": "stream",
     "text": [
      " 62%|█████████████████████████████████████████████████▎                              | 162/263 [00:11<00:05, 16.90it/s]"
     ]
    },
    {
     "name": "stdout",
     "output_type": "stream",
     "text": [
      "epoch :  5 Val Accuracy : tensor(0.9413) Val Loss :  0.11986807548217901\n",
      "epoch :  5 Val Accuracy : tensor(0.9412) Val Loss :  0.12090841404555415\n",
      "epoch :  5 Val Accuracy : tensor(0.9414) Val Loss :  0.12142923994152718\n",
      "epoch :  5 Val Accuracy : tensor(0.9410) Val Loss :  0.1224854872792166\n"
     ]
    },
    {
     "name": "stderr",
     "output_type": "stream",
     "text": [
      " 63%|██████████████████████████████████████████████████▍                             | 166/263 [00:11<00:05, 16.42it/s]"
     ]
    },
    {
     "name": "stdout",
     "output_type": "stream",
     "text": [
      "epoch :  5 Val Accuracy : tensor(0.9411) Val Loss :  0.12286387915110407\n",
      "epoch :  5 Val Accuracy : tensor(0.9409) Val Loss :  0.1235657299624423\n",
      "epoch :  5 Val Accuracy : tensor(0.9408) Val Loss :  0.1242481259763694\n",
      "epoch :  5 Val Accuracy : "
     ]
    },
    {
     "name": "stderr",
     "output_type": "stream",
     "text": [
      "\r",
      " 64%|███████████████████████████████████████████████████                             | 168/263 [00:12<00:06, 15.83it/s]"
     ]
    },
    {
     "name": "stdout",
     "output_type": "stream",
     "text": [
      "tensor(0.9401) Val Loss :  0.12655908598815988\n",
      "epoch :  5 Val Accuracy : tensor(0.9395) Val Loss :  0.12870555576432793\n",
      "epoch :  5 Val Accuracy : tensor(0.9393) Val Loss :  0.12955467843454146\n",
      "epoch :  5 Val Accuracy : "
     ]
    },
    {
     "name": "stderr",
     "output_type": "stream",
     "text": [
      " 65%|████████████████████████████████████████████████████▎                           | 172/263 [00:12<00:05, 16.96it/s]"
     ]
    },
    {
     "name": "stdout",
     "output_type": "stream",
     "text": [
      "tensor(0.9394) Val Loss :  0.1305976459480284\n",
      "epoch :  5 Val Accuracy : tensor(0.9394) Val Loss :  0.1311537454421756\n",
      "epoch :  5 Val Accuracy : tensor(0.9391) Val Loss :  0.1325441741529753\n",
      "epoch :  5 Val Accuracy : tensor(0.9393) Val Loss :  0.1331017967950935\n"
     ]
    },
    {
     "name": "stderr",
     "output_type": "stream",
     "text": [
      " 67%|█████████████████████████████████████████████████████▌                          | 176/263 [00:12<00:05, 16.78it/s]"
     ]
    },
    {
     "name": "stdout",
     "output_type": "stream",
     "text": [
      "epoch :  5 Val Accuracy : tensor(0.9390) Val Loss :  0.13432141638470693\n",
      "epoch :  5 Val Accuracy : tensor(0.9392) Val Loss :  0.13463876437494962\n",
      "epoch :  5 Val Accuracy : tensor(0.9389) Val Loss :  0.13622962469553765\n",
      "epoch :  5 Val Accuracy : "
     ]
    },
    {
     "name": "stderr",
     "output_type": "stream",
     "text": [
      "\r",
      " 68%|██████████████████████████████████████████████████████▏                         | 178/263 [00:12<00:05, 15.79it/s]"
     ]
    },
    {
     "name": "stdout",
     "output_type": "stream",
     "text": [
      "tensor(0.9391) Val Loss :  0.13660268104518322\n",
      "epoch :  5 Val Accuracy : tensor(0.9393) Val Loss :  0.13745119894355423\n",
      "epoch :  5 Val Accuracy : tensor(0.9392) Val Loss :  0.13803966619612598\n"
     ]
    },
    {
     "name": "stderr",
     "output_type": "stream",
     "text": [
      " 69%|███████████████████████████████████████████████████████▎                        | 182/263 [00:12<00:05, 15.26it/s]"
     ]
    },
    {
     "name": "stdout",
     "output_type": "stream",
     "text": [
      "epoch :  5 Val Accuracy : tensor(0.9392) Val Loss :  0.1388116770569136\n",
      "epoch :  5 Val Accuracy : tensor(0.9394) Val Loss :  0.13909677406170975\n",
      "epoch :  5 Val Accuracy : tensor(0.9397) Val Loss :  0.13937330638331152\n",
      "epoch :  5 Val Accuracy : "
     ]
    },
    {
     "name": "stderr",
     "output_type": "stream",
     "text": [
      "\r",
      " 70%|███████████████████████████████████████████████████████▉                        | 184/263 [00:13<00:05, 15.51it/s]"
     ]
    },
    {
     "name": "stdout",
     "output_type": "stream",
     "text": [
      "tensor(0.9397) Val Loss :  0.1403551083128942\n",
      "epoch :  5 Val Accuracy : tensor(0.9401) Val Loss :  0.14063440678294167\n",
      "epoch :  5 Val Accuracy : tensor(0.9402) Val Loss :  0.1409806679551819\n",
      "epoch :  "
     ]
    },
    {
     "name": "stderr",
     "output_type": "stream",
     "text": [
      " 71%|█████████████████████████████████████████████████████████▏                      | 188/263 [00:13<00:05, 14.51it/s]"
     ]
    },
    {
     "name": "stdout",
     "output_type": "stream",
     "text": [
      "5 Val Accuracy : tensor(0.9401) Val Loss :  0.14204198554044895\n",
      "epoch :  5 Val Accuracy : tensor(0.9401) Val Loss :  0.14252222220310692\n",
      "epoch :  5 Val Accuracy : tensor(0.9402) Val Loss :  0.14301756954975\n"
     ]
    },
    {
     "name": "stderr",
     "output_type": "stream",
     "text": [
      "\r",
      " 72%|█████████████████████████████████████████████████████████▊                      | 190/263 [00:13<00:05, 14.41it/s]"
     ]
    },
    {
     "name": "stdout",
     "output_type": "stream",
     "text": [
      "epoch :  5 Val Accuracy : tensor(0.9396) Val Loss :  0.14508539926926445\n",
      "epoch :  5 Val Accuracy : tensor(0.9393) Val Loss :  0.14588670428318215\n",
      "epoch :  5 Val Accuracy : tensor(0.9392) Val Loss :  0.14663309069924027\n",
      "epoch :  5 Val Accuracy : "
     ]
    },
    {
     "name": "stderr",
     "output_type": "stream",
     "text": [
      " 74%|███████████████████████████████████████████████████████████                     | 194/263 [00:13<00:04, 14.61it/s]"
     ]
    },
    {
     "name": "stdout",
     "output_type": "stream",
     "text": [
      "tensor(0.9391) Val Loss :  0.1476179490099615\n",
      "epoch :  5 Val Accuracy : tensor(0.9391) Val Loss :  0.14796109555622017\n",
      "epoch :  5 Val Accuracy : tensor(0.9394) Val Loss :  0.14844736973879002\n"
     ]
    },
    {
     "name": "stderr",
     "output_type": "stream",
     "text": [
      "\r",
      " 75%|███████████████████████████████████████████████████████████▌                    | 196/263 [00:13<00:04, 14.64it/s]"
     ]
    },
    {
     "name": "stdout",
     "output_type": "stream",
     "text": [
      "epoch :  5 Val Accuracy : tensor(0.9390) Val Loss :  0.1496495023908044\n",
      "epoch :  5 Val Accuracy : tensor(0.9392) Val Loss :  0.15001512688545673\n",
      "epoch :  5 Val Accuracy : tensor(0.9391) Val Loss :  0.1510781815041834\n",
      "epoch :  5 Val Accuracy : "
     ]
    },
    {
     "name": "stderr",
     "output_type": "stream",
     "text": [
      " 76%|████████████████████████████████████████████████████████████▊                   | 200/263 [00:14<00:04, 14.89it/s]"
     ]
    },
    {
     "name": "stdout",
     "output_type": "stream",
     "text": [
      "tensor(0.9388) Val Loss :  0.15240170581429177\n",
      "epoch :  5 Val Accuracy : tensor(0.9391) Val Loss :  0.1529238993875654\n",
      "epoch :  5 Val Accuracy : tensor(0.9393) Val Loss :  0.15359659191263492\n",
      "epoch :  5 Val Accuracy : "
     ]
    },
    {
     "name": "stderr",
     "output_type": "stream",
     "text": [
      " 78%|██████████████████████████████████████████████████████████████                  | 204/263 [00:14<00:03, 16.06it/s]"
     ]
    },
    {
     "name": "stdout",
     "output_type": "stream",
     "text": [
      "tensor(0.9395) Val Loss :  0.1538241462562474\n",
      "epoch :  5 Val Accuracy : tensor(0.9389) Val Loss :  0.1560454640551665\n",
      "epoch :  5 Val Accuracy : tensor(0.9392) Val Loss :  0.15620150373179195\n",
      "epoch :  5 Val Accuracy : tensor(0.9391) Val Loss :  0.15757341409534104\n"
     ]
    },
    {
     "name": "stderr",
     "output_type": "stream",
     "text": [
      "\r",
      " 78%|██████████████████████████████████████████████████████████████▋                 | 206/263 [00:14<00:03, 16.16it/s]"
     ]
    },
    {
     "name": "stdout",
     "output_type": "stream",
     "text": [
      "epoch :  5 Val Accuracy : tensor(0.9394) Val Loss :  0.15783487644202357\n",
      "epoch :  5 Val Accuracy : tensor(0.9395) Val Loss :  0.15889254046653614\n",
      "epoch :  5 Val Accuracy : tensor(0.9393) Val Loss :  0.15985133772283905\n"
     ]
    },
    {
     "name": "stderr",
     "output_type": "stream",
     "text": [
      " 80%|███████████████████████████████████████████████████████████████▉                | 210/263 [00:14<00:03, 14.95it/s]"
     ]
    },
    {
     "name": "stdout",
     "output_type": "stream",
     "text": [
      "epoch :  5 Val Accuracy : tensor(0.9395) Val Loss :  0.16023424204028153\n",
      "epoch :  5 Val Accuracy : tensor(0.9391) Val Loss :  0.16175581955354476\n",
      "epoch :  5 Val Accuracy : tensor(0.9392) Val Loss :  0.16258989834003576\n"
     ]
    },
    {
     "name": "stderr",
     "output_type": "stream",
     "text": [
      "\r",
      " 81%|████████████████████████████████████████████████████████████████▍               | 212/263 [00:14<00:03, 14.84it/s]"
     ]
    },
    {
     "name": "stdout",
     "output_type": "stream",
     "text": [
      "epoch :  5 Val Accuracy : tensor(0.9392) Val Loss :  0.16344686174064083\n",
      "epoch :  5 Val Accuracy : tensor(0.9392) Val Loss :  0.16393699538061826\n",
      "epoch :  5 Val Accuracy : tensor(0.9394) Val Loss :  0.16449869674818143\n"
     ]
    },
    {
     "name": "stderr",
     "output_type": "stream",
     "text": [
      "\r",
      " 81%|█████████████████████████████████████████████████████████████████               | 214/263 [00:15<00:03, 14.45it/s]"
     ]
    },
    {
     "name": "stdout",
     "output_type": "stream",
     "text": [
      "epoch :  5 Val Accuracy : tensor(0.9393) Val Loss :  0.16521817687969698\n",
      "epoch :  5 Val Accuracy : tensor(0.9393) Val Loss :  0.16576123751784913\n",
      "epoch :  5 Val Accuracy : "
     ]
    },
    {
     "name": "stderr",
     "output_type": "stream",
     "text": [
      " 83%|██████████████████████████████████████████████████████████████████▎             | 218/263 [00:15<00:03, 12.37it/s]"
     ]
    },
    {
     "name": "stdout",
     "output_type": "stream",
     "text": [
      "tensor(0.9394) Val Loss :  0.16615820085424435\n",
      "epoch :  5 Val Accuracy : tensor(0.9393) Val Loss :  0.16767641410458223\n",
      "epoch :  5 Val Accuracy : tensor(0.9392) Val Loss :  0.1687069226608757\n"
     ]
    },
    {
     "name": "stderr",
     "output_type": "stream",
     "text": [
      "\r",
      " 84%|██████████████████████████████████████████████████████████████████▉             | 220/263 [00:15<00:03, 12.11it/s]"
     ]
    },
    {
     "name": "stdout",
     "output_type": "stream",
     "text": [
      "epoch :  5 Val Accuracy : tensor(0.9392) Val Loss :  0.16922722401331133\n",
      "epoch :  5 Val Accuracy : tensor(0.9393) Val Loss :  0.16970043809298327\n",
      "epoch :  5 Val Accuracy : tensor(0.9395) Val Loss :  0.16990037707208228\n"
     ]
    },
    {
     "name": "stderr",
     "output_type": "stream",
     "text": [
      " 85%|████████████████████████████████████████████████████████████████████▏           | 224/263 [00:15<00:03, 11.64it/s]"
     ]
    },
    {
     "name": "stdout",
     "output_type": "stream",
     "text": [
      "epoch :  5 Val Accuracy : tensor(0.9394) Val Loss :  0.17085933149880783\n",
      "epoch :  5 Val Accuracy : tensor(0.9393) Val Loss :  0.17164527891140022\n",
      "epoch :  5 Val Accuracy : tensor(0.9394) Val Loss :  0.17224149012180337\n"
     ]
    },
    {
     "name": "stderr",
     "output_type": "stream",
     "text": [
      "\r",
      " 86%|████████████████████████████████████████████████████████████████████▋           | 226/263 [00:16<00:02, 12.39it/s]"
     ]
    },
    {
     "name": "stdout",
     "output_type": "stream",
     "text": [
      "epoch :  5 Val Accuracy : tensor(0.9388) Val Loss :  0.17421821130885823\n",
      "epoch :  5 Val Accuracy : tensor(0.9387) Val Loss :  0.1751630070261629\n",
      "epoch :  5 Val Accuracy : tensor(0.9387) Val Loss :  0.17577251511494923\n",
      "epoch :  5 Val Accuracy : "
     ]
    },
    {
     "name": "stderr",
     "output_type": "stream",
     "text": [
      " 87%|█████████████████████████████████████████████████████████████████████▉          | 230/263 [00:16<00:02, 13.60it/s]"
     ]
    },
    {
     "name": "stdout",
     "output_type": "stream",
     "text": [
      "tensor(0.9386) Val Loss :  0.1766404100187378\n",
      "epoch :  5 Val Accuracy : tensor(0.9386) Val Loss :  0.17757626600251905\n",
      "epoch :  5 Val Accuracy : tensor(0.9388) Val Loss :  0.1781315555647299\n",
      "epoch :  5 Val Accuracy : "
     ]
    },
    {
     "name": "stderr",
     "output_type": "stream",
     "text": [
      " 89%|███████████████████████████████████████████████████████████████████████▏        | 234/263 [00:16<00:01, 14.98it/s]"
     ]
    },
    {
     "name": "stdout",
     "output_type": "stream",
     "text": [
      "tensor(0.9387) Val Loss :  0.17893313605182523\n",
      "epoch :  5 Val Accuracy : tensor(0.9386) Val Loss :  0.17969548965701584\n",
      "epoch :  5 Val Accuracy : tensor(0.9387) Val Loss :  0.1803207252698706\n",
      "epoch :  5 Val Accuracy : tensor(0.9390) Val Loss :  0.18048847799575374\n"
     ]
    },
    {
     "name": "stderr",
     "output_type": "stream",
     "text": [
      " 90%|████████████████████████████████████████████████████████████████████████▍       | 238/263 [00:16<00:01, 15.91it/s]"
     ]
    },
    {
     "name": "stdout",
     "output_type": "stream",
     "text": [
      "epoch :  5 Val Accuracy : tensor(0.9391) Val Loss :  0.18091560397367967\n",
      "epoch :  5 Val Accuracy : tensor(0.9390) Val Loss :  0.18211054984664282\n",
      "epoch :  5 Val Accuracy : tensor(0.9391) Val Loss :  0.1825898342514446\n",
      "epoch :  5 Val Accuracy : tensor(0.9388) Val Loss :  0.18340317815712195\n"
     ]
    },
    {
     "name": "stderr",
     "output_type": "stream",
     "text": [
      " 92%|█████████████████████████████████████████████████████████████████████████▌      | 242/263 [00:17<00:01, 16.21it/s]"
     ]
    },
    {
     "name": "stdout",
     "output_type": "stream",
     "text": [
      "epoch :  5 Val Accuracy : tensor(0.9387) Val Loss :  0.18424559099875928\n",
      "epoch :  5 Val Accuracy : tensor(0.9385) Val Loss :  0.18497342847202666\n",
      "epoch :  5 Val Accuracy : tensor(0.9383) Val Loss :  0.18621530575047426\n",
      "epoch :  5 Val Accuracy : tensor(0.9384) Val Loss :  0.18673590472952495\n"
     ]
    },
    {
     "name": "stderr",
     "output_type": "stream",
     "text": [
      "\r",
      " 93%|██████████████████████████████████████████████████████████████████████████▏     | 244/263 [00:17<00:01, 15.36it/s]"
     ]
    },
    {
     "name": "stdout",
     "output_type": "stream",
     "text": [
      "epoch :  5 Val Accuracy : tensor(0.9385) Val Loss :  0.18702715673544107\n",
      "epoch :  5 Val Accuracy : tensor(0.9382) Val Loss :  0.18828576796125096\n",
      "epoch :  5 Val Accuracy : tensor(0.9383) Val Loss :  0.1887254666097944\n"
     ]
    },
    {
     "name": "stderr",
     "output_type": "stream",
     "text": [
      "\r",
      " 94%|██████████████████████████████████████████████████████████████████████████▊     | 246/263 [00:17<00:01, 14.92it/s]"
     ]
    },
    {
     "name": "stdout",
     "output_type": "stream",
     "text": [
      "epoch :  5 Val Accuracy : tensor(0.9385) Val Loss :  0.18982811197071928\n",
      "epoch :  5 Val Accuracy : tensor(0.9385) Val Loss :  0.19085561729146047\n",
      "epoch :  5 Val Accuracy : "
     ]
    },
    {
     "name": "stderr",
     "output_type": "stream",
     "text": [
      " 95%|████████████████████████████████████████████████████████████████████████████    | 250/263 [00:17<00:00, 14.05it/s]"
     ]
    },
    {
     "name": "stdout",
     "output_type": "stream",
     "text": [
      "tensor(0.9385) Val Loss :  0.19174692718871647\n",
      "epoch :  5 Val Accuracy : tensor(0.9386) Val Loss :  0.19228944843882845\n",
      "epoch :  5 Val Accuracy : tensor(0.9387) Val Loss :  0.19301854588176362\n",
      "epoch :  5 Val Accuracy : "
     ]
    },
    {
     "name": "stderr",
     "output_type": "stream",
     "text": [
      " 97%|█████████████████████████████████████████████████████████████████████████████▎  | 254/263 [00:17<00:00, 15.42it/s]"
     ]
    },
    {
     "name": "stdout",
     "output_type": "stream",
     "text": [
      "tensor(0.9387) Val Loss :  0.1936148365272542\n",
      "epoch :  5 Val Accuracy : tensor(0.9388) Val Loss :  0.19421124983819718\n",
      "epoch :  5 Val Accuracy : tensor(0.9390) Val Loss :  0.19467115735089824\n",
      "epoch :  5 Val Accuracy : tensor(0.9389) Val Loss :  0.19547931797547485\n"
     ]
    },
    {
     "name": "stderr",
     "output_type": "stream",
     "text": [
      "\r",
      " 97%|█████████████████████████████████████████████████████████████████████████████▊  | 256/263 [00:18<00:00, 15.73it/s]"
     ]
    },
    {
     "name": "stdout",
     "output_type": "stream",
     "text": [
      "epoch :  5 Val Accuracy : tensor(0.9389) Val Loss :  0.19573371068436382\n",
      "epoch :  5 Val Accuracy : tensor(0.9388) Val Loss :  0.19664337246646899\n",
      "epoch :  5 Val Accuracy : tensor(0.9388) Val Loss :  0.19714084569322293\n",
      "epoch :  5 Val Accuracy : "
     ]
    },
    {
     "name": "stderr",
     "output_type": "stream",
     "text": [
      " 99%|███████████████████████████████████████████████████████████████████████████████ | 260/263 [00:18<00:00, 14.98it/s]"
     ]
    },
    {
     "name": "stdout",
     "output_type": "stream",
     "text": [
      "tensor(0.9391) Val Loss :  0.19737120433055402\n",
      "epoch :  5 Val Accuracy : tensor(0.9389) Val Loss :  0.19915384690174584\n",
      "epoch :  5 Val Accuracy : tensor(0.9387) Val Loss :  0.200327893527855\n",
      "epoch :  5 Val Accuracy : "
     ]
    },
    {
     "name": "stderr",
     "output_type": "stream",
     "text": [
      "100%|████████████████████████████████████████████████████████████████████████████████| 263/263 [00:18<00:00, 14.23it/s]"
     ]
    },
    {
     "name": "stdout",
     "output_type": "stream",
     "text": [
      "tensor(0.9389) Val Loss :  0.2005291217690185\n",
      "epoch :  5 Val Accuracy : tensor(0.9388) Val Loss :  0.20170185924596207\n",
      "epoch :  5 Val Accuracy : tensor(0.9387) Val Loss :  0.20248533867497862\n"
     ]
    },
    {
     "name": "stderr",
     "output_type": "stream",
     "text": [
      "\n"
     ]
    }
   ],
   "source": [
    "optimizer = optim.SGD(network.parameters(), lr=0.01, momentum=0.9)\n",
    "\n",
    "epoch = 0\n",
    "max_epoch = 5\n",
    "end = False\n",
    "myloss = MyCEL()\n",
    "while epoch < max_epoch and not end:\n",
    "    epoch += 1\n",
    "    total_loss = 0\n",
    "    total_correct = 0\n",
    "    total_val = 0\n",
    "    total_train = 0\n",
    "    \n",
    "    for data in tqdm(train_loader):\n",
    "        \n",
    "        images, labels = data\n",
    "        if use_cuda and torch.cuda.is_available():\n",
    "            images = images.cuda()\n",
    "            labels= labels.cuda()\n",
    "            \n",
    "        pred = network(images)\n",
    "        pred = F.softmax(pred)\n",
    "        \n",
    "        loss = myloss(pred, labels)\n",
    "        total_loss += loss.item()\n",
    "        total_train += len(pred)\n",
    "#         Reset optimizer grads\n",
    "        optimizer.zero_grad()\n",
    "#     Calculate gradients\n",
    "        loss.backward()\n",
    "#     Gradient descent\n",
    "        optimizer.step()\n",
    "    \n",
    "        total_correct += pred.argmax(dim = 1).eq(labels).sum()\n",
    "        \n",
    "    print(\"epoch :\", epoch, \"Training Accuracy : \", total_correct*1.0/total_train, \"Train Loss\", total_loss*1.0/len(train_loader))\n",
    "    \n",
    "    if total_correct*1.0/total_train >= 0.98:\n",
    "        end = True\n",
    "        \n",
    "    total_loss = 0\n",
    "    val_total_correct = 0\n",
    "    \n",
    "    for batch in tqdm(val_loader):\n",
    "        \n",
    "        images, labels = batch\n",
    "        if use_cuda and torch.cuda.is_available():\n",
    "            images = images.cuda()\n",
    "            labels= labels.cuda()  \n",
    "        \n",
    "        pred = network(images)\n",
    "        loss = F.cross_entropy(pred, labels)\n",
    "        total_loss+= loss.item()\n",
    "        total_val += len(pred)\n",
    "        val_total_correct += pred.argmax(dim=1).eq(labels).sum()\n",
    "        print(\"epoch : \", epoch, \"Val Accuracy :\", val_total_correct*1.0/total_val, \"Val Loss : \", total_loss*1.0/len(val_loader))\n",
    "    torch.cuda.empty_cache()"
   ]
  },
  {
   "cell_type": "code",
   "execution_count": 52,
   "id": "marked-creature",
   "metadata": {},
   "outputs": [
    {
     "name": "stderr",
     "output_type": "stream",
     "text": [
      "100%|████████████████████████████████████████████████████████████████████████████████| 263/263 [00:27<00:00,  9.51it/s]"
     ]
    },
    {
     "name": "stdout",
     "output_type": "stream",
     "text": [
      "Test Accuracy :  tensor(0.9381)\n"
     ]
    },
    {
     "name": "stderr",
     "output_type": "stream",
     "text": [
      "\n"
     ]
    }
   ],
   "source": [
    "test_total_correct = 0\n",
    "total_test = 0\n",
    "x = 0\n",
    "\n",
    "for batch in tqdm(test_loader):\n",
    "    images, labels = batch\n",
    "    \n",
    "    if use_cuda and torch.cuda.is_available():\n",
    "            images = images.cuda()\n",
    "            labels= labels.cuda()\n",
    "            \n",
    "    pred = network(images)\n",
    "    total_test += len(pred)\n",
    "    x += 1\n",
    "    test_total_correct+= pred.argmax(dim = 1).eq(labels).sum()\n",
    "\n",
    "print(\"Test Accuracy : \", test_total_correct*1.0/total_test)"
   ]
  },
  {
   "cell_type": "code",
   "execution_count": 53,
   "id": "dominican-angle",
   "metadata": {},
   "outputs": [],
   "source": [
    "PATH = \"entire_model.pt\"\n",
    "\n",
    "torch.save(network, PATH)"
   ]
  },
  {
   "cell_type": "code",
   "execution_count": null,
   "id": "ahead-software",
   "metadata": {},
   "outputs": [],
   "source": []
  },
  {
   "cell_type": "code",
   "execution_count": null,
   "id": "alternate-retreat",
   "metadata": {},
   "outputs": [],
   "source": []
  }
 ],
 "metadata": {
  "kernelspec": {
   "display_name": "Python 3",
   "language": "python",
   "name": "python3"
  },
  "language_info": {
   "codemirror_mode": {
    "name": "ipython",
    "version": 3
   },
   "file_extension": ".py",
   "mimetype": "text/x-python",
   "name": "python",
   "nbconvert_exporter": "python",
   "pygments_lexer": "ipython3",
   "version": "3.8.8"
  }
 },
 "nbformat": 4,
 "nbformat_minor": 5
}
