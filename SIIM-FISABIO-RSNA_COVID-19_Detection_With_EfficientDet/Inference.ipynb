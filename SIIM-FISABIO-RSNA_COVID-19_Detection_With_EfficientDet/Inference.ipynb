{
 "cells": [
  {
   "cell_type": "markdown",
   "id": "noted-reliance",
   "metadata": {
    "execution": {
     "iopub.execute_input": "2021-07-03T10:35:03.427684Z",
     "iopub.status.busy": "2021-07-03T10:35:03.427345Z",
     "iopub.status.idle": "2021-07-03T10:35:03.431325Z",
     "shell.execute_reply": "2021-07-03T10:35:03.430412Z",
     "shell.execute_reply.started": "2021-07-03T10:35:03.427651Z"
    },
    "papermill": {
     "duration": 0.021039,
     "end_time": "2021-11-07T07:20:19.895218",
     "exception": false,
     "start_time": "2021-11-07T07:20:19.874179",
     "status": "completed"
    },
    "tags": []
   },
   "source": [
    "# SIIM-FISABIO-RSNA COVID-19 Detection using EfficientDet (Inference)\n",
    "  \n",
    "## Performance Comparison of Similar Models\n",
    "\n",
    "<figure>\n",
    "<img src=\"https://blog.roboflow.com/content/images/2020/06/yolov5-performance.png\" style=\"width:700px\">\n",
    "</figure>\n",
    "\n",
    "Check out the [EfficientDet Research Paper ](https://arxiv.org/pdf/1911.09070.pdf)  \n"
   ]
  },
  {
   "cell_type": "markdown",
   "id": "0498656f",
   "metadata": {},
   "source": [
    "## EfficientDet Structure\n",
    "![image](https://aihub-storage.s3.ap-northeast-2.amazonaws.com/file/efficientdet.png)"
   ]
  },
  {
   "cell_type": "markdown",
   "id": "9f274dba",
   "metadata": {
    "papermill": {
     "duration": 0.014151,
     "end_time": "2021-11-16T07:22:01.277732",
     "exception": false,
     "start_time": "2021-11-16T07:22:01.263581",
     "status": "completed"
    },
    "tags": []
   },
   "source": [
    "## Install Dependencies"
   ]
  },
  {
   "cell_type": "code",
   "execution_count": 1,
   "id": "1f252347",
   "metadata": {
    "_kg_hide-input": true,
    "_kg_hide-output": true,
    "execution": {
     "iopub.execute_input": "2021-07-28T14:07:39.133858Z",
     "iopub.status.busy": "2021-07-28T14:07:39.133310Z",
     "iopub.status.idle": "2021-07-28T14:08:00.330315Z",
     "shell.execute_reply": "2021-07-28T14:08:00.329731Z",
     "shell.execute_reply.started": "2021-07-25T12:04:43.022698Z"
    },
    "papermill": {
     "duration": 21.22952,
     "end_time": "2021-07-28T14:08:00.330489",
     "exception": false,
     "start_time": "2021-07-28T14:07:39.100969",
     "status": "completed"
    },
    "tags": []
   },
   "outputs": [
    {
     "name": "stdout",
     "output_type": "stream",
     "text": [
      "python setup.py build_ext --inplace\r\n",
      "running build_ext\r\n",
      "cythoning pycocotools/_mask.pyx to pycocotools/_mask.c\r\n",
      "/opt/conda/lib/python3.7/site-packages/Cython/Compiler/Main.py:369: FutureWarning: Cython directive 'language_level' not set, using 2 for now (Py2). This will change in a later release! File: /kaggle/cocoapi/cocoapi/PythonAPI/pycocotools/_mask.pyx\r\n",
      "  tree = Parsing.p_module(s, pxd, full_module_name)\r\n",
      "building 'pycocotools._mask' extension\r\n",
      "creating build\r\n",
      "creating build/common\r\n",
      "creating build/temp.linux-x86_64-3.7\r\n",
      "creating build/temp.linux-x86_64-3.7/pycocotools\r\n",
      "gcc -pthread -B /opt/conda/compiler_compat -Wl,--sysroot=/ -Wsign-compare -DNDEBUG -g -fwrapv -O3 -Wall -Wstrict-prototypes -fPIC -I/opt/conda/lib/python3.7/site-packages/numpy/core/include -I../common -I/opt/conda/include/python3.7m -c ../common/maskApi.c -o build/temp.linux-x86_64-3.7/../common/maskApi.o -Wno-cpp -Wno-unused-function -std=c99\r\n",
      "\u001b[01m\u001b[K../common/maskApi.c:\u001b[m\u001b[K In function ‘\u001b[01m\u001b[KrleDecode\u001b[m\u001b[K’:\r\n",
      "\u001b[01m\u001b[K../common/maskApi.c:46:7:\u001b[m\u001b[K \u001b[01;35m\u001b[Kwarning: \u001b[m\u001b[Kthis ‘\u001b[01m\u001b[Kfor\u001b[m\u001b[K’ clause does not guard... [\u001b[01;35m\u001b[K-Wmisleading-indentation\u001b[m\u001b[K]\r\n",
      "       \u001b[01;35m\u001b[Kfor\u001b[m\u001b[K( k=0; k<R[i].cnts[j]; k++ ) *(M++)=v; v=!v; }}\r\n",
      "       \u001b[01;35m\u001b[K^~~\u001b[m\u001b[K\r\n",
      "\u001b[01m\u001b[K../common/maskApi.c:46:49:\u001b[m\u001b[K \u001b[01;36m\u001b[Knote: \u001b[m\u001b[K...this statement, but the latter is misleadingly indented as if it were guarded by the ‘\u001b[01m\u001b[Kfor\u001b[m\u001b[K’\r\n",
      "       for( k=0; k<R[i].cnts[j]; k++ ) *(M++)=v; \u001b[01;36m\u001b[Kv\u001b[m\u001b[K=!v; }}\r\n",
      "                                                 \u001b[01;36m\u001b[K^\u001b[m\u001b[K\r\n",
      "\u001b[01m\u001b[K../common/maskApi.c:\u001b[m\u001b[K In function ‘\u001b[01m\u001b[KrleFrPoly\u001b[m\u001b[K’:\r\n",
      "\u001b[01m\u001b[K../common/maskApi.c:166:3:\u001b[m\u001b[K \u001b[01;35m\u001b[Kwarning: \u001b[m\u001b[Kthis ‘\u001b[01m\u001b[Kfor\u001b[m\u001b[K’ clause does not guard... [\u001b[01;35m\u001b[K-Wmisleading-indentation\u001b[m\u001b[K]\r\n",
      "   \u001b[01;35m\u001b[Kfor\u001b[m\u001b[K(j=0; j<k; j++) x[j]=(int)(scale*xy[j*2+0]+.5); x[k]=x[0];\r\n",
      "   \u001b[01;35m\u001b[K^~~\u001b[m\u001b[K\r\n",
      "\u001b[01m\u001b[K../common/maskApi.c:166:54:\u001b[m\u001b[K \u001b[01;36m\u001b[Knote: \u001b[m\u001b[K...this statement, but the latter is misleadingly indented as if it were guarded by the ‘\u001b[01m\u001b[Kfor\u001b[m\u001b[K’\r\n",
      "   for(j=0; j<k; j++) x[j]=(int)(scale*xy[j*2+0]+.5); \u001b[01;36m\u001b[Kx\u001b[m\u001b[K[k]=x[0];\r\n",
      "                                                      \u001b[01;36m\u001b[K^\u001b[m\u001b[K\r\n",
      "\u001b[01m\u001b[K../common/maskApi.c:167:3:\u001b[m\u001b[K \u001b[01;35m\u001b[Kwarning: \u001b[m\u001b[Kthis ‘\u001b[01m\u001b[Kfor\u001b[m\u001b[K’ clause does not guard... [\u001b[01;35m\u001b[K-Wmisleading-indentation\u001b[m\u001b[K]\r\n",
      "   \u001b[01;35m\u001b[Kfor\u001b[m\u001b[K(j=0; j<k; j++) y[j]=(int)(scale*xy[j*2+1]+.5); y[k]=y[0];\r\n",
      "   \u001b[01;35m\u001b[K^~~\u001b[m\u001b[K\r\n",
      "\u001b[01m\u001b[K../common/maskApi.c:167:54:\u001b[m\u001b[K \u001b[01;36m\u001b[Knote: \u001b[m\u001b[K...this statement, but the latter is misleadingly indented as if it were guarded by the ‘\u001b[01m\u001b[Kfor\u001b[m\u001b[K’\r\n",
      "   for(j=0; j<k; j++) y[j]=(int)(scale*xy[j*2+1]+.5); \u001b[01;36m\u001b[Ky\u001b[m\u001b[K[k]=y[0];\r\n",
      "                                                      \u001b[01;36m\u001b[K^\u001b[m\u001b[K\r\n",
      "\u001b[01m\u001b[K../common/maskApi.c:\u001b[m\u001b[K In function ‘\u001b[01m\u001b[KrleToString\u001b[m\u001b[K’:\r\n",
      "\u001b[01m\u001b[K../common/maskApi.c:212:7:\u001b[m\u001b[K \u001b[01;35m\u001b[Kwarning: \u001b[m\u001b[Kthis ‘\u001b[01m\u001b[Kif\u001b[m\u001b[K’ clause does not guard... [\u001b[01;35m\u001b[K-Wmisleading-indentation\u001b[m\u001b[K]\r\n",
      "       \u001b[01;35m\u001b[Kif\u001b[m\u001b[K(more) c |= 0x20; c+=48; s[p++]=c;\r\n",
      "       \u001b[01;35m\u001b[K^~\u001b[m\u001b[K\r\n",
      "\u001b[01m\u001b[K../common/maskApi.c:212:27:\u001b[m\u001b[K \u001b[01;36m\u001b[Knote: \u001b[m\u001b[K...this statement, but the latter is misleadingly indented as if it were guarded by the ‘\u001b[01m\u001b[Kif\u001b[m\u001b[K’\r\n",
      "       if(more) c |= 0x20; \u001b[01;36m\u001b[Kc\u001b[m\u001b[K+=48; s[p++]=c;\r\n",
      "                           \u001b[01;36m\u001b[K^\u001b[m\u001b[K\r\n",
      "\u001b[01m\u001b[K../common/maskApi.c:\u001b[m\u001b[K In function ‘\u001b[01m\u001b[KrleFrString\u001b[m\u001b[K’:\r\n",
      "\u001b[01m\u001b[K../common/maskApi.c:220:3:\u001b[m\u001b[K \u001b[01;35m\u001b[Kwarning: \u001b[m\u001b[Kthis ‘\u001b[01m\u001b[Kwhile\u001b[m\u001b[K’ clause does not guard... [\u001b[01;35m\u001b[K-Wmisleading-indentation\u001b[m\u001b[K]\r\n",
      "   \u001b[01;35m\u001b[Kwhile\u001b[m\u001b[K( s[m] ) m++; cnts=malloc(sizeof(uint)*m); m=0;\r\n",
      "   \u001b[01;35m\u001b[K^~~~~\u001b[m\u001b[K\r\n",
      "\u001b[01m\u001b[K../common/maskApi.c:220:22:\u001b[m\u001b[K \u001b[01;36m\u001b[Knote: \u001b[m\u001b[K...this statement, but the latter is misleadingly indented as if it were guarded by the ‘\u001b[01m\u001b[Kwhile\u001b[m\u001b[K’\r\n",
      "   while( s[m] ) m++; \u001b[01;36m\u001b[Kcnts\u001b[m\u001b[K=malloc(sizeof(uint)*m); m=0;\r\n",
      "                      \u001b[01;36m\u001b[K^~~~\u001b[m\u001b[K\r\n",
      "\u001b[01m\u001b[K../common/maskApi.c:228:5:\u001b[m\u001b[K \u001b[01;35m\u001b[Kwarning: \u001b[m\u001b[Kthis ‘\u001b[01m\u001b[Kif\u001b[m\u001b[K’ clause does not guard... [\u001b[01;35m\u001b[K-Wmisleading-indentation\u001b[m\u001b[K]\r\n",
      "     \u001b[01;35m\u001b[Kif\u001b[m\u001b[K(m>2) x+=(long) cnts[m-2]; cnts[m++]=(uint) x;\r\n",
      "     \u001b[01;35m\u001b[K^~\u001b[m\u001b[K\r\n",
      "\u001b[01m\u001b[K../common/maskApi.c:228:34:\u001b[m\u001b[K \u001b[01;36m\u001b[Knote: \u001b[m\u001b[K...this statement, but the latter is misleadingly indented as if it were guarded by the ‘\u001b[01m\u001b[Kif\u001b[m\u001b[K’\r\n",
      "     if(m>2) x+=(long) cnts[m-2]; \u001b[01;36m\u001b[Kcnts\u001b[m\u001b[K[m++]=(uint) x;\r\n",
      "                                  \u001b[01;36m\u001b[K^~~~\u001b[m\u001b[K\r\n",
      "\u001b[01m\u001b[K../common/maskApi.c:\u001b[m\u001b[K In function ‘\u001b[01m\u001b[KrleToBbox\u001b[m\u001b[K’:\r\n",
      "\u001b[01m\u001b[K../common/maskApi.c:141:31:\u001b[m\u001b[K \u001b[01;35m\u001b[Kwarning: \u001b[m\u001b[K‘\u001b[01m\u001b[Kxp\u001b[m\u001b[K’ may be used uninitialized in this function [\u001b[01;35m\u001b[K-Wmaybe-uninitialized\u001b[m\u001b[K]\r\n",
      "       if(j%2==0) xp=x; else if\u001b[01;35m\u001b[K(\u001b[m\u001b[Kxp<x) { ys=0; ye=h-1; }\r\n",
      "                               \u001b[01;35m\u001b[K^\u001b[m\u001b[K\r\n",
      "gcc -pthread -B /opt/conda/compiler_compat -Wl,--sysroot=/ -Wsign-compare -DNDEBUG -g -fwrapv -O3 -Wall -Wstrict-prototypes -fPIC -I/opt/conda/lib/python3.7/site-packages/numpy/core/include -I../common -I/opt/conda/include/python3.7m -c pycocotools/_mask.c -o build/temp.linux-x86_64-3.7/pycocotools/_mask.o -Wno-cpp -Wno-unused-function -std=c99\r\n",
      "creating build/lib.linux-x86_64-3.7\r\n",
      "creating build/lib.linux-x86_64-3.7/pycocotools\r\n",
      "gcc -pthread -shared -B /opt/conda/compiler_compat -L/opt/conda/lib -Wl,-rpath=/opt/conda/lib -Wl,--no-as-needed -Wl,--sysroot=/ build/temp.linux-x86_64-3.7/../common/maskApi.o build/temp.linux-x86_64-3.7/pycocotools/_mask.o -o build/lib.linux-x86_64-3.7/pycocotools/_mask.cpython-37m-x86_64-linux-gnu.so\r\n",
      "copying build/lib.linux-x86_64-3.7/pycocotools/_mask.cpython-37m-x86_64-linux-gnu.so -> pycocotools\r\n",
      "rm -rf build\r\n",
      "# install pycocotools to the Python site-packages\r\n",
      "python setup.py build_ext install\r\n",
      "running build_ext\r\n",
      "skipping 'pycocotools/_mask.c' Cython extension (up-to-date)\r\n",
      "building 'pycocotools._mask' extension\r\n",
      "creating build\r\n",
      "creating build/common\r\n",
      "creating build/temp.linux-x86_64-3.7\r\n",
      "creating build/temp.linux-x86_64-3.7/pycocotools\r\n",
      "gcc -pthread -B /opt/conda/compiler_compat -Wl,--sysroot=/ -Wsign-compare -DNDEBUG -g -fwrapv -O3 -Wall -Wstrict-prototypes -fPIC -I/opt/conda/lib/python3.7/site-packages/numpy/core/include -I../common -I/opt/conda/include/python3.7m -c ../common/maskApi.c -o build/temp.linux-x86_64-3.7/../common/maskApi.o -Wno-cpp -Wno-unused-function -std=c99\r\n",
      "\u001b[01m\u001b[K../common/maskApi.c:\u001b[m\u001b[K In function ‘\u001b[01m\u001b[KrleDecode\u001b[m\u001b[K’:\r\n",
      "\u001b[01m\u001b[K../common/maskApi.c:46:7:\u001b[m\u001b[K \u001b[01;35m\u001b[Kwarning: \u001b[m\u001b[Kthis ‘\u001b[01m\u001b[Kfor\u001b[m\u001b[K’ clause does not guard... [\u001b[01;35m\u001b[K-Wmisleading-indentation\u001b[m\u001b[K]\r\n",
      "       \u001b[01;35m\u001b[Kfor\u001b[m\u001b[K( k=0; k<R[i].cnts[j]; k++ ) *(M++)=v; v=!v; }}\r\n",
      "       \u001b[01;35m\u001b[K^~~\u001b[m\u001b[K\r\n",
      "\u001b[01m\u001b[K../common/maskApi.c:46:49:\u001b[m\u001b[K \u001b[01;36m\u001b[Knote: \u001b[m\u001b[K...this statement, but the latter is misleadingly indented as if it were guarded by the ‘\u001b[01m\u001b[Kfor\u001b[m\u001b[K’\r\n",
      "       for( k=0; k<R[i].cnts[j]; k++ ) *(M++)=v; \u001b[01;36m\u001b[Kv\u001b[m\u001b[K=!v; }}\r\n",
      "                                                 \u001b[01;36m\u001b[K^\u001b[m\u001b[K\r\n",
      "\u001b[01m\u001b[K../common/maskApi.c:\u001b[m\u001b[K In function ‘\u001b[01m\u001b[KrleFrPoly\u001b[m\u001b[K’:\r\n",
      "\u001b[01m\u001b[K../common/maskApi.c:166:3:\u001b[m\u001b[K \u001b[01;35m\u001b[Kwarning: \u001b[m\u001b[Kthis ‘\u001b[01m\u001b[Kfor\u001b[m\u001b[K’ clause does not guard... [\u001b[01;35m\u001b[K-Wmisleading-indentation\u001b[m\u001b[K]\r\n",
      "   \u001b[01;35m\u001b[Kfor\u001b[m\u001b[K(j=0; j<k; j++) x[j]=(int)(scale*xy[j*2+0]+.5); x[k]=x[0];\r\n",
      "   \u001b[01;35m\u001b[K^~~\u001b[m\u001b[K\r\n",
      "\u001b[01m\u001b[K../common/maskApi.c:166:54:\u001b[m\u001b[K \u001b[01;36m\u001b[Knote: \u001b[m\u001b[K...this statement, but the latter is misleadingly indented as if it were guarded by the ‘\u001b[01m\u001b[Kfor\u001b[m\u001b[K’\r\n",
      "   for(j=0; j<k; j++) x[j]=(int)(scale*xy[j*2+0]+.5); \u001b[01;36m\u001b[Kx\u001b[m\u001b[K[k]=x[0];\r\n",
      "                                                      \u001b[01;36m\u001b[K^\u001b[m\u001b[K\r\n",
      "\u001b[01m\u001b[K../common/maskApi.c:167:3:\u001b[m\u001b[K \u001b[01;35m\u001b[Kwarning: \u001b[m\u001b[Kthis ‘\u001b[01m\u001b[Kfor\u001b[m\u001b[K’ clause does not guard... [\u001b[01;35m\u001b[K-Wmisleading-indentation\u001b[m\u001b[K]\r\n",
      "   \u001b[01;35m\u001b[Kfor\u001b[m\u001b[K(j=0; j<k; j++) y[j]=(int)(scale*xy[j*2+1]+.5); y[k]=y[0];\r\n",
      "   \u001b[01;35m\u001b[K^~~\u001b[m\u001b[K\r\n",
      "\u001b[01m\u001b[K../common/maskApi.c:167:54:\u001b[m\u001b[K \u001b[01;36m\u001b[Knote: \u001b[m\u001b[K...this statement, but the latter is misleadingly indented as if it were guarded by the ‘\u001b[01m\u001b[Kfor\u001b[m\u001b[K’\r\n",
      "   for(j=0; j<k; j++) y[j]=(int)(scale*xy[j*2+1]+.5); \u001b[01;36m\u001b[Ky\u001b[m\u001b[K[k]=y[0];\r\n",
      "                                                      \u001b[01;36m\u001b[K^\u001b[m\u001b[K\r\n",
      "\u001b[01m\u001b[K../common/maskApi.c:\u001b[m\u001b[K In function ‘\u001b[01m\u001b[KrleToString\u001b[m\u001b[K’:\r\n",
      "\u001b[01m\u001b[K../common/maskApi.c:212:7:\u001b[m\u001b[K \u001b[01;35m\u001b[Kwarning: \u001b[m\u001b[Kthis ‘\u001b[01m\u001b[Kif\u001b[m\u001b[K’ clause does not guard... [\u001b[01;35m\u001b[K-Wmisleading-indentation\u001b[m\u001b[K]\r\n",
      "       \u001b[01;35m\u001b[Kif\u001b[m\u001b[K(more) c |= 0x20; c+=48; s[p++]=c;\r\n",
      "       \u001b[01;35m\u001b[K^~\u001b[m\u001b[K\r\n",
      "\u001b[01m\u001b[K../common/maskApi.c:212:27:\u001b[m\u001b[K \u001b[01;36m\u001b[Knote: \u001b[m\u001b[K...this statement, but the latter is misleadingly indented as if it were guarded by the ‘\u001b[01m\u001b[Kif\u001b[m\u001b[K’\r\n",
      "       if(more) c |= 0x20; \u001b[01;36m\u001b[Kc\u001b[m\u001b[K+=48; s[p++]=c;\r\n",
      "                           \u001b[01;36m\u001b[K^\u001b[m\u001b[K\r\n",
      "\u001b[01m\u001b[K../common/maskApi.c:\u001b[m\u001b[K In function ‘\u001b[01m\u001b[KrleFrString\u001b[m\u001b[K’:\r\n",
      "\u001b[01m\u001b[K../common/maskApi.c:220:3:\u001b[m\u001b[K \u001b[01;35m\u001b[Kwarning: \u001b[m\u001b[Kthis ‘\u001b[01m\u001b[Kwhile\u001b[m\u001b[K’ clause does not guard... [\u001b[01;35m\u001b[K-Wmisleading-indentation\u001b[m\u001b[K]\r\n",
      "   \u001b[01;35m\u001b[Kwhile\u001b[m\u001b[K( s[m] ) m++; cnts=malloc(sizeof(uint)*m); m=0;\r\n",
      "   \u001b[01;35m\u001b[K^~~~~\u001b[m\u001b[K\r\n",
      "\u001b[01m\u001b[K../common/maskApi.c:220:22:\u001b[m\u001b[K \u001b[01;36m\u001b[Knote: \u001b[m\u001b[K...this statement, but the latter is misleadingly indented as if it were guarded by the ‘\u001b[01m\u001b[Kwhile\u001b[m\u001b[K’\r\n",
      "   while( s[m] ) m++; \u001b[01;36m\u001b[Kcnts\u001b[m\u001b[K=malloc(sizeof(uint)*m); m=0;\r\n",
      "                      \u001b[01;36m\u001b[K^~~~\u001b[m\u001b[K\r\n",
      "\u001b[01m\u001b[K../common/maskApi.c:228:5:\u001b[m\u001b[K \u001b[01;35m\u001b[Kwarning: \u001b[m\u001b[Kthis ‘\u001b[01m\u001b[Kif\u001b[m\u001b[K’ clause does not guard... [\u001b[01;35m\u001b[K-Wmisleading-indentation\u001b[m\u001b[K]\r\n",
      "     \u001b[01;35m\u001b[Kif\u001b[m\u001b[K(m>2) x+=(long) cnts[m-2]; cnts[m++]=(uint) x;\r\n",
      "     \u001b[01;35m\u001b[K^~\u001b[m\u001b[K\r\n",
      "\u001b[01m\u001b[K../common/maskApi.c:228:34:\u001b[m\u001b[K \u001b[01;36m\u001b[Knote: \u001b[m\u001b[K...this statement, but the latter is misleadingly indented as if it were guarded by the ‘\u001b[01m\u001b[Kif\u001b[m\u001b[K’\r\n",
      "     if(m>2) x+=(long) cnts[m-2]; \u001b[01;36m\u001b[Kcnts\u001b[m\u001b[K[m++]=(uint) x;\r\n",
      "                                  \u001b[01;36m\u001b[K^~~~\u001b[m\u001b[K\r\n",
      "\u001b[01m\u001b[K../common/maskApi.c:\u001b[m\u001b[K In function ‘\u001b[01m\u001b[KrleToBbox\u001b[m\u001b[K’:\r\n",
      "\u001b[01m\u001b[K../common/maskApi.c:141:31:\u001b[m\u001b[K \u001b[01;35m\u001b[Kwarning: \u001b[m\u001b[K‘\u001b[01m\u001b[Kxp\u001b[m\u001b[K’ may be used uninitialized in this function [\u001b[01;35m\u001b[K-Wmaybe-uninitialized\u001b[m\u001b[K]\r\n",
      "       if(j%2==0) xp=x; else if\u001b[01;35m\u001b[K(\u001b[m\u001b[Kxp<x) { ys=0; ye=h-1; }\r\n",
      "                               \u001b[01;35m\u001b[K^\u001b[m\u001b[K\r\n",
      "gcc -pthread -B /opt/conda/compiler_compat -Wl,--sysroot=/ -Wsign-compare -DNDEBUG -g -fwrapv -O3 -Wall -Wstrict-prototypes -fPIC -I/opt/conda/lib/python3.7/site-packages/numpy/core/include -I../common -I/opt/conda/include/python3.7m -c pycocotools/_mask.c -o build/temp.linux-x86_64-3.7/pycocotools/_mask.o -Wno-cpp -Wno-unused-function -std=c99\r\n",
      "creating build/lib.linux-x86_64-3.7\r\n",
      "creating build/lib.linux-x86_64-3.7/pycocotools\r\n",
      "gcc -pthread -shared -B /opt/conda/compiler_compat -L/opt/conda/lib -Wl,-rpath=/opt/conda/lib -Wl,--no-as-needed -Wl,--sysroot=/ build/temp.linux-x86_64-3.7/../common/maskApi.o build/temp.linux-x86_64-3.7/pycocotools/_mask.o -o build/lib.linux-x86_64-3.7/pycocotools/_mask.cpython-37m-x86_64-linux-gnu.so\r\n",
      "running install\r\n",
      "running bdist_egg\r\n",
      "running egg_info\r\n",
      "creating pycocotools.egg-info\r\n",
      "writing pycocotools.egg-info/PKG-INFO\r\n",
      "writing dependency_links to pycocotools.egg-info/dependency_links.txt\r\n",
      "writing requirements to pycocotools.egg-info/requires.txt\r\n",
      "writing top-level names to pycocotools.egg-info/top_level.txt\r\n",
      "writing manifest file 'pycocotools.egg-info/SOURCES.txt'\r\n",
      "writing manifest file 'pycocotools.egg-info/SOURCES.txt'\r\n",
      "installing library code to build/bdist.linux-x86_64/egg\r\n",
      "running install_lib\r\n",
      "running build_py\r\n",
      "copying pycocotools/__init__.py -> build/lib.linux-x86_64-3.7/pycocotools\r\n",
      "copying pycocotools/mask.py -> build/lib.linux-x86_64-3.7/pycocotools\r\n",
      "copying pycocotools/coco.py -> build/lib.linux-x86_64-3.7/pycocotools\r\n",
      "copying pycocotools/cocoeval.py -> build/lib.linux-x86_64-3.7/pycocotools\r\n",
      "creating build/bdist.linux-x86_64\r\n",
      "creating build/bdist.linux-x86_64/egg\r\n",
      "creating build/bdist.linux-x86_64/egg/pycocotools\r\n",
      "copying build/lib.linux-x86_64-3.7/pycocotools/__init__.py -> build/bdist.linux-x86_64/egg/pycocotools\r\n",
      "copying build/lib.linux-x86_64-3.7/pycocotools/_mask.cpython-37m-x86_64-linux-gnu.so -> build/bdist.linux-x86_64/egg/pycocotools\r\n",
      "copying build/lib.linux-x86_64-3.7/pycocotools/mask.py -> build/bdist.linux-x86_64/egg/pycocotools\r\n",
      "copying build/lib.linux-x86_64-3.7/pycocotools/coco.py -> build/bdist.linux-x86_64/egg/pycocotools\r\n",
      "copying build/lib.linux-x86_64-3.7/pycocotools/cocoeval.py -> build/bdist.linux-x86_64/egg/pycocotools\r\n",
      "byte-compiling build/bdist.linux-x86_64/egg/pycocotools/__init__.py to __init__.cpython-37.pyc\r\n",
      "byte-compiling build/bdist.linux-x86_64/egg/pycocotools/mask.py to mask.cpython-37.pyc\r\n",
      "byte-compiling build/bdist.linux-x86_64/egg/pycocotools/coco.py to coco.cpython-37.pyc\r\n",
      "byte-compiling build/bdist.linux-x86_64/egg/pycocotools/cocoeval.py to cocoeval.cpython-37.pyc\r\n",
      "creating stub loader for pycocotools/_mask.cpython-37m-x86_64-linux-gnu.so\r\n",
      "byte-compiling build/bdist.linux-x86_64/egg/pycocotools/_mask.py to _mask.cpython-37.pyc\r\n",
      "creating build/bdist.linux-x86_64/egg/EGG-INFO\r\n",
      "copying pycocotools.egg-info/PKG-INFO -> build/bdist.linux-x86_64/egg/EGG-INFO\r\n",
      "copying pycocotools.egg-info/SOURCES.txt -> build/bdist.linux-x86_64/egg/EGG-INFO\r\n",
      "copying pycocotools.egg-info/dependency_links.txt -> build/bdist.linux-x86_64/egg/EGG-INFO\r\n",
      "copying pycocotools.egg-info/requires.txt -> build/bdist.linux-x86_64/egg/EGG-INFO\r\n",
      "copying pycocotools.egg-info/top_level.txt -> build/bdist.linux-x86_64/egg/EGG-INFO\r\n",
      "writing build/bdist.linux-x86_64/egg/EGG-INFO/native_libs.txt\r\n",
      "zip_safe flag not set; analyzing archive contents...\r\n",
      "pycocotools.__pycache__._mask.cpython-37: module references __file__\r\n",
      "creating dist\r\n",
      "creating 'dist/pycocotools-2.0-py3.7-linux-x86_64.egg' and adding 'build/bdist.linux-x86_64/egg' to it\r\n",
      "removing 'build/bdist.linux-x86_64/egg' (and everything under it)\r\n",
      "Processing pycocotools-2.0-py3.7-linux-x86_64.egg\r\n",
      "creating /opt/conda/lib/python3.7/site-packages/pycocotools-2.0-py3.7-linux-x86_64.egg\r\n",
      "Extracting pycocotools-2.0-py3.7-linux-x86_64.egg to /opt/conda/lib/python3.7/site-packages\r\n",
      "Adding pycocotools 2.0 to easy-install.pth file\r\n",
      "\r\n",
      "Installed /opt/conda/lib/python3.7/site-packages/pycocotools-2.0-py3.7-linux-x86_64.egg\r\n",
      "Processing dependencies for pycocotools==2.0\r\n",
      "Searching for matplotlib==3.4.2\r\n",
      "Best match: matplotlib 3.4.2\r\n",
      "Adding matplotlib 3.4.2 to easy-install.pth file\r\n",
      "\r\n",
      "Using /opt/conda/lib/python3.7/site-packages\r\n",
      "Searching for Cython==0.29.23\r\n",
      "Best match: Cython 0.29.23\r\n",
      "Adding Cython 0.29.23 to easy-install.pth file\r\n",
      "Installing cygdb script to /opt/conda/bin\r\n",
      "Installing cython script to /opt/conda/bin\r\n",
      "Installing cythonize script to /opt/conda/bin\r\n",
      "\r\n",
      "Using /opt/conda/lib/python3.7/site-packages\r\n",
      "Searching for setuptools==49.6.0.post20210108\r\n",
      "Best match: setuptools 49.6.0.post20210108\r\n",
      "Adding setuptools 49.6.0.post20210108 to easy-install.pth file\r\n",
      "Installing easy_install script to /opt/conda/bin\r\n",
      "\r\n",
      "Using /opt/conda/lib/python3.7/site-packages\r\n",
      "Searching for python-dateutil==2.8.1\r\n",
      "Best match: python-dateutil 2.8.1\r\n",
      "Adding python-dateutil 2.8.1 to easy-install.pth file\r\n",
      "\r\n",
      "Using /opt/conda/lib/python3.7/site-packages\r\n",
      "Searching for cycler==0.10.0\r\n",
      "Best match: cycler 0.10.0\r\n",
      "Adding cycler 0.10.0 to easy-install.pth file\r\n",
      "\r\n",
      "Using /opt/conda/lib/python3.7/site-packages\r\n",
      "Searching for Pillow==8.2.0\r\n",
      "Best match: Pillow 8.2.0\r\n",
      "Adding Pillow 8.2.0 to easy-install.pth file\r\n",
      "\r\n",
      "Using /opt/conda/lib/python3.7/site-packages\r\n",
      "Searching for kiwisolver==1.3.1\r\n",
      "Best match: kiwisolver 1.3.1\r\n",
      "Adding kiwisolver 1.3.1 to easy-install.pth file\r\n",
      "\r\n",
      "Using /opt/conda/lib/python3.7/site-packages\r\n",
      "Searching for numpy==1.19.5\r\n",
      "Best match: numpy 1.19.5\r\n",
      "Adding numpy 1.19.5 to easy-install.pth file\r\n",
      "Installing f2py script to /opt/conda/bin\r\n",
      "Installing f2py3 script to /opt/conda/bin\r\n",
      "Installing f2py3.7 script to /opt/conda/bin\r\n",
      "\r\n",
      "Using /opt/conda/lib/python3.7/site-packages\r\n",
      "Searching for pyparsing==2.4.7\r\n",
      "Best match: pyparsing 2.4.7\r\n",
      "Adding pyparsing 2.4.7 to easy-install.pth file\r\n",
      "\r\n",
      "Using /opt/conda/lib/python3.7/site-packages\r\n",
      "Searching for six==1.15.0\r\n",
      "Best match: six 1.15.0\r\n",
      "Adding six 1.15.0 to easy-install.pth file\r\n",
      "\r\n",
      "Using /opt/conda/lib/python3.7/site-packages\r\n",
      "Finished processing dependencies for pycocotools==2.0\r\n",
      "rm -rf build\r\n",
      "running install\r\n",
      "running bdist_egg\r\n",
      "running egg_info\r\n",
      "writing pycocotools.egg-info/PKG-INFO\r\n",
      "writing dependency_links to pycocotools.egg-info/dependency_links.txt\r\n",
      "writing requirements to pycocotools.egg-info/requires.txt\r\n",
      "writing top-level names to pycocotools.egg-info/top_level.txt\r\n",
      "writing manifest file 'pycocotools.egg-info/SOURCES.txt'\r\n",
      "installing library code to build/bdist.linux-x86_64/egg\r\n",
      "running install_lib\r\n",
      "running build_py\r\n",
      "creating build\r\n",
      "creating build/lib.linux-x86_64-3.7\r\n",
      "creating build/lib.linux-x86_64-3.7/pycocotools\r\n",
      "copying pycocotools/__init__.py -> build/lib.linux-x86_64-3.7/pycocotools\r\n",
      "copying pycocotools/mask.py -> build/lib.linux-x86_64-3.7/pycocotools\r\n",
      "copying pycocotools/coco.py -> build/lib.linux-x86_64-3.7/pycocotools\r\n",
      "copying pycocotools/cocoeval.py -> build/lib.linux-x86_64-3.7/pycocotools\r\n",
      "running build_ext\r\n",
      "skipping 'pycocotools/_mask.c' Cython extension (up-to-date)\r\n",
      "building 'pycocotools._mask' extension\r\n",
      "creating build/common\r\n",
      "creating build/temp.linux-x86_64-3.7\r\n",
      "creating build/temp.linux-x86_64-3.7/pycocotools\r\n",
      "gcc -pthread -B /opt/conda/compiler_compat -Wl,--sysroot=/ -Wsign-compare -DNDEBUG -g -fwrapv -O3 -Wall -Wstrict-prototypes -fPIC -I/opt/conda/lib/python3.7/site-packages/numpy/core/include -I../common -I/opt/conda/include/python3.7m -c ../common/maskApi.c -o build/temp.linux-x86_64-3.7/../common/maskApi.o -Wno-cpp -Wno-unused-function -std=c99\r\n",
      "\u001b[01m\u001b[K../common/maskApi.c:\u001b[m\u001b[K In function ‘\u001b[01m\u001b[KrleDecode\u001b[m\u001b[K’:\r\n",
      "\u001b[01m\u001b[K../common/maskApi.c:46:7:\u001b[m\u001b[K \u001b[01;35m\u001b[Kwarning: \u001b[m\u001b[Kthis ‘\u001b[01m\u001b[Kfor\u001b[m\u001b[K’ clause does not guard... [\u001b[01;35m\u001b[K-Wmisleading-indentation\u001b[m\u001b[K]\r\n",
      "       \u001b[01;35m\u001b[Kfor\u001b[m\u001b[K( k=0; k<R[i].cnts[j]; k++ ) *(M++)=v; v=!v; }}\r\n",
      "       \u001b[01;35m\u001b[K^~~\u001b[m\u001b[K\r\n",
      "\u001b[01m\u001b[K../common/maskApi.c:46:49:\u001b[m\u001b[K \u001b[01;36m\u001b[Knote: \u001b[m\u001b[K...this statement, but the latter is misleadingly indented as if it were guarded by the ‘\u001b[01m\u001b[Kfor\u001b[m\u001b[K’\r\n",
      "       for( k=0; k<R[i].cnts[j]; k++ ) *(M++)=v; \u001b[01;36m\u001b[Kv\u001b[m\u001b[K=!v; }}\r\n",
      "                                                 \u001b[01;36m\u001b[K^\u001b[m\u001b[K\r\n",
      "\u001b[01m\u001b[K../common/maskApi.c:\u001b[m\u001b[K In function ‘\u001b[01m\u001b[KrleFrPoly\u001b[m\u001b[K’:\r\n",
      "\u001b[01m\u001b[K../common/maskApi.c:166:3:\u001b[m\u001b[K \u001b[01;35m\u001b[Kwarning: \u001b[m\u001b[Kthis ‘\u001b[01m\u001b[Kfor\u001b[m\u001b[K’ clause does not guard... [\u001b[01;35m\u001b[K-Wmisleading-indentation\u001b[m\u001b[K]\r\n",
      "   \u001b[01;35m\u001b[Kfor\u001b[m\u001b[K(j=0; j<k; j++) x[j]=(int)(scale*xy[j*2+0]+.5); x[k]=x[0];\r\n",
      "   \u001b[01;35m\u001b[K^~~\u001b[m\u001b[K\r\n",
      "\u001b[01m\u001b[K../common/maskApi.c:166:54:\u001b[m\u001b[K \u001b[01;36m\u001b[Knote: \u001b[m\u001b[K...this statement, but the latter is misleadingly indented as if it were guarded by the ‘\u001b[01m\u001b[Kfor\u001b[m\u001b[K’\r\n",
      "   for(j=0; j<k; j++) x[j]=(int)(scale*xy[j*2+0]+.5); \u001b[01;36m\u001b[Kx\u001b[m\u001b[K[k]=x[0];\r\n",
      "                                                      \u001b[01;36m\u001b[K^\u001b[m\u001b[K\r\n",
      "\u001b[01m\u001b[K../common/maskApi.c:167:3:\u001b[m\u001b[K \u001b[01;35m\u001b[Kwarning: \u001b[m\u001b[Kthis ‘\u001b[01m\u001b[Kfor\u001b[m\u001b[K’ clause does not guard... [\u001b[01;35m\u001b[K-Wmisleading-indentation\u001b[m\u001b[K]\r\n",
      "   \u001b[01;35m\u001b[Kfor\u001b[m\u001b[K(j=0; j<k; j++) y[j]=(int)(scale*xy[j*2+1]+.5); y[k]=y[0];\r\n",
      "   \u001b[01;35m\u001b[K^~~\u001b[m\u001b[K\r\n",
      "\u001b[01m\u001b[K../common/maskApi.c:167:54:\u001b[m\u001b[K \u001b[01;36m\u001b[Knote: \u001b[m\u001b[K...this statement, but the latter is misleadingly indented as if it were guarded by the ‘\u001b[01m\u001b[Kfor\u001b[m\u001b[K’\r\n",
      "   for(j=0; j<k; j++) y[j]=(int)(scale*xy[j*2+1]+.5); \u001b[01;36m\u001b[Ky\u001b[m\u001b[K[k]=y[0];\r\n",
      "                                                      \u001b[01;36m\u001b[K^\u001b[m\u001b[K\r\n",
      "\u001b[01m\u001b[K../common/maskApi.c:\u001b[m\u001b[K In function ‘\u001b[01m\u001b[KrleToString\u001b[m\u001b[K’:\r\n",
      "\u001b[01m\u001b[K../common/maskApi.c:212:7:\u001b[m\u001b[K \u001b[01;35m\u001b[Kwarning: \u001b[m\u001b[Kthis ‘\u001b[01m\u001b[Kif\u001b[m\u001b[K’ clause does not guard... [\u001b[01;35m\u001b[K-Wmisleading-indentation\u001b[m\u001b[K]\r\n",
      "       \u001b[01;35m\u001b[Kif\u001b[m\u001b[K(more) c |= 0x20; c+=48; s[p++]=c;\r\n",
      "       \u001b[01;35m\u001b[K^~\u001b[m\u001b[K\r\n",
      "\u001b[01m\u001b[K../common/maskApi.c:212:27:\u001b[m\u001b[K \u001b[01;36m\u001b[Knote: \u001b[m\u001b[K...this statement, but the latter is misleadingly indented as if it were guarded by the ‘\u001b[01m\u001b[Kif\u001b[m\u001b[K’\r\n",
      "       if(more) c |= 0x20; \u001b[01;36m\u001b[Kc\u001b[m\u001b[K+=48; s[p++]=c;\r\n",
      "                           \u001b[01;36m\u001b[K^\u001b[m\u001b[K\r\n",
      "\u001b[01m\u001b[K../common/maskApi.c:\u001b[m\u001b[K In function ‘\u001b[01m\u001b[KrleFrString\u001b[m\u001b[K’:\r\n",
      "\u001b[01m\u001b[K../common/maskApi.c:220:3:\u001b[m\u001b[K \u001b[01;35m\u001b[Kwarning: \u001b[m\u001b[Kthis ‘\u001b[01m\u001b[Kwhile\u001b[m\u001b[K’ clause does not guard... [\u001b[01;35m\u001b[K-Wmisleading-indentation\u001b[m\u001b[K]\r\n",
      "   \u001b[01;35m\u001b[Kwhile\u001b[m\u001b[K( s[m] ) m++; cnts=malloc(sizeof(uint)*m); m=0;\r\n",
      "   \u001b[01;35m\u001b[K^~~~~\u001b[m\u001b[K\r\n",
      "\u001b[01m\u001b[K../common/maskApi.c:220:22:\u001b[m\u001b[K \u001b[01;36m\u001b[Knote: \u001b[m\u001b[K...this statement, but the latter is misleadingly indented as if it were guarded by the ‘\u001b[01m\u001b[Kwhile\u001b[m\u001b[K’\r\n",
      "   while( s[m] ) m++; \u001b[01;36m\u001b[Kcnts\u001b[m\u001b[K=malloc(sizeof(uint)*m); m=0;\r\n",
      "                      \u001b[01;36m\u001b[K^~~~\u001b[m\u001b[K\r\n",
      "\u001b[01m\u001b[K../common/maskApi.c:228:5:\u001b[m\u001b[K \u001b[01;35m\u001b[Kwarning: \u001b[m\u001b[Kthis ‘\u001b[01m\u001b[Kif\u001b[m\u001b[K’ clause does not guard... [\u001b[01;35m\u001b[K-Wmisleading-indentation\u001b[m\u001b[K]\r\n",
      "     \u001b[01;35m\u001b[Kif\u001b[m\u001b[K(m>2) x+=(long) cnts[m-2]; cnts[m++]=(uint) x;\r\n",
      "     \u001b[01;35m\u001b[K^~\u001b[m\u001b[K\r\n",
      "\u001b[01m\u001b[K../common/maskApi.c:228:34:\u001b[m\u001b[K \u001b[01;36m\u001b[Knote: \u001b[m\u001b[K...this statement, but the latter is misleadingly indented as if it were guarded by the ‘\u001b[01m\u001b[Kif\u001b[m\u001b[K’\r\n",
      "     if(m>2) x+=(long) cnts[m-2]; \u001b[01;36m\u001b[Kcnts\u001b[m\u001b[K[m++]=(uint) x;\r\n",
      "                                  \u001b[01;36m\u001b[K^~~~\u001b[m\u001b[K\r\n",
      "\u001b[01m\u001b[K../common/maskApi.c:\u001b[m\u001b[K In function ‘\u001b[01m\u001b[KrleToBbox\u001b[m\u001b[K’:\r\n",
      "\u001b[01m\u001b[K../common/maskApi.c:141:31:\u001b[m\u001b[K \u001b[01;35m\u001b[Kwarning: \u001b[m\u001b[K‘\u001b[01m\u001b[Kxp\u001b[m\u001b[K’ may be used uninitialized in this function [\u001b[01;35m\u001b[K-Wmaybe-uninitialized\u001b[m\u001b[K]\r\n",
      "       if(j%2==0) xp=x; else if\u001b[01;35m\u001b[K(\u001b[m\u001b[Kxp<x) { ys=0; ye=h-1; }\r\n",
      "                               \u001b[01;35m\u001b[K^\u001b[m\u001b[K\r\n",
      "gcc -pthread -B /opt/conda/compiler_compat -Wl,--sysroot=/ -Wsign-compare -DNDEBUG -g -fwrapv -O3 -Wall -Wstrict-prototypes -fPIC -I/opt/conda/lib/python3.7/site-packages/numpy/core/include -I../common -I/opt/conda/include/python3.7m -c pycocotools/_mask.c -o build/temp.linux-x86_64-3.7/pycocotools/_mask.o -Wno-cpp -Wno-unused-function -std=c99\r\n",
      "gcc -pthread -shared -B /opt/conda/compiler_compat -L/opt/conda/lib -Wl,-rpath=/opt/conda/lib -Wl,--no-as-needed -Wl,--sysroot=/ build/temp.linux-x86_64-3.7/../common/maskApi.o build/temp.linux-x86_64-3.7/pycocotools/_mask.o -o build/lib.linux-x86_64-3.7/pycocotools/_mask.cpython-37m-x86_64-linux-gnu.so\r\n",
      "creating build/bdist.linux-x86_64\r\n",
      "creating build/bdist.linux-x86_64/egg\r\n",
      "creating build/bdist.linux-x86_64/egg/pycocotools\r\n",
      "copying build/lib.linux-x86_64-3.7/pycocotools/__init__.py -> build/bdist.linux-x86_64/egg/pycocotools\r\n",
      "copying build/lib.linux-x86_64-3.7/pycocotools/_mask.cpython-37m-x86_64-linux-gnu.so -> build/bdist.linux-x86_64/egg/pycocotools\r\n",
      "copying build/lib.linux-x86_64-3.7/pycocotools/mask.py -> build/bdist.linux-x86_64/egg/pycocotools\r\n",
      "copying build/lib.linux-x86_64-3.7/pycocotools/coco.py -> build/bdist.linux-x86_64/egg/pycocotools\r\n",
      "copying build/lib.linux-x86_64-3.7/pycocotools/cocoeval.py -> build/bdist.linux-x86_64/egg/pycocotools\r\n",
      "byte-compiling build/bdist.linux-x86_64/egg/pycocotools/__init__.py to __init__.cpython-37.pyc\r\n",
      "byte-compiling build/bdist.linux-x86_64/egg/pycocotools/mask.py to mask.cpython-37.pyc\r\n",
      "byte-compiling build/bdist.linux-x86_64/egg/pycocotools/coco.py to coco.cpython-37.pyc\r\n",
      "byte-compiling build/bdist.linux-x86_64/egg/pycocotools/cocoeval.py to cocoeval.cpython-37.pyc\r\n",
      "creating stub loader for pycocotools/_mask.cpython-37m-x86_64-linux-gnu.so\r\n",
      "byte-compiling build/bdist.linux-x86_64/egg/pycocotools/_mask.py to _mask.cpython-37.pyc\r\n",
      "creating build/bdist.linux-x86_64/egg/EGG-INFO\r\n",
      "copying pycocotools.egg-info/PKG-INFO -> build/bdist.linux-x86_64/egg/EGG-INFO\r\n",
      "copying pycocotools.egg-info/SOURCES.txt -> build/bdist.linux-x86_64/egg/EGG-INFO\r\n",
      "copying pycocotools.egg-info/dependency_links.txt -> build/bdist.linux-x86_64/egg/EGG-INFO\r\n",
      "copying pycocotools.egg-info/requires.txt -> build/bdist.linux-x86_64/egg/EGG-INFO\r\n",
      "copying pycocotools.egg-info/top_level.txt -> build/bdist.linux-x86_64/egg/EGG-INFO\r\n",
      "writing build/bdist.linux-x86_64/egg/EGG-INFO/native_libs.txt\r\n",
      "zip_safe flag not set; analyzing archive contents...\r\n",
      "pycocotools.__pycache__._mask.cpython-37: module references __file__\r\n",
      "creating 'dist/pycocotools-2.0-py3.7-linux-x86_64.egg' and adding 'build/bdist.linux-x86_64/egg' to it\r\n",
      "removing 'build/bdist.linux-x86_64/egg' (and everything under it)\r\n",
      "Processing pycocotools-2.0-py3.7-linux-x86_64.egg\r\n",
      "removing '/opt/conda/lib/python3.7/site-packages/pycocotools-2.0-py3.7-linux-x86_64.egg' (and everything under it)\r\n",
      "creating /opt/conda/lib/python3.7/site-packages/pycocotools-2.0-py3.7-linux-x86_64.egg\r\n",
      "Extracting pycocotools-2.0-py3.7-linux-x86_64.egg to /opt/conda/lib/python3.7/site-packages\r\n",
      "pycocotools 2.0 is already the active version in easy-install.pth\r\n",
      "\r\n",
      "Installed /opt/conda/lib/python3.7/site-packages/pycocotools-2.0-py3.7-linux-x86_64.egg\r\n",
      "Processing dependencies for pycocotools==2.0\r\n",
      "Searching for matplotlib==3.4.2\r\n",
      "Best match: matplotlib 3.4.2\r\n",
      "Adding matplotlib 3.4.2 to easy-install.pth file\r\n",
      "\r\n",
      "Using /opt/conda/lib/python3.7/site-packages\r\n",
      "Searching for Cython==0.29.23\r\n",
      "Best match: Cython 0.29.23\r\n",
      "Adding Cython 0.29.23 to easy-install.pth file\r\n",
      "Installing cygdb script to /opt/conda/bin\r\n",
      "Installing cython script to /opt/conda/bin\r\n",
      "Installing cythonize script to /opt/conda/bin\r\n",
      "\r\n",
      "Using /opt/conda/lib/python3.7/site-packages\r\n",
      "Searching for setuptools==49.6.0.post20210108\r\n",
      "Best match: setuptools 49.6.0.post20210108\r\n",
      "Adding setuptools 49.6.0.post20210108 to easy-install.pth file\r\n",
      "Installing easy_install script to /opt/conda/bin\r\n",
      "\r\n",
      "Using /opt/conda/lib/python3.7/site-packages\r\n",
      "Searching for kiwisolver==1.3.1\r\n",
      "Best match: kiwisolver 1.3.1\r\n",
      "Adding kiwisolver 1.3.1 to easy-install.pth file\r\n",
      "\r\n",
      "Using /opt/conda/lib/python3.7/site-packages\r\n",
      "Searching for Pillow==8.2.0\r\n",
      "Best match: Pillow 8.2.0\r\n",
      "Adding Pillow 8.2.0 to easy-install.pth file\r\n",
      "\r\n",
      "Using /opt/conda/lib/python3.7/site-packages\r\n",
      "Searching for numpy==1.19.5\r\n",
      "Best match: numpy 1.19.5\r\n",
      "Adding numpy 1.19.5 to easy-install.pth file\r\n",
      "Installing f2py script to /opt/conda/bin\r\n",
      "Installing f2py3 script to /opt/conda/bin\r\n",
      "Installing f2py3.7 script to /opt/conda/bin\r\n",
      "\r\n",
      "Using /opt/conda/lib/python3.7/site-packages\r\n",
      "Searching for pyparsing==2.4.7\r\n",
      "Best match: pyparsing 2.4.7\r\n",
      "Adding pyparsing 2.4.7 to easy-install.pth file\r\n",
      "\r\n",
      "Using /opt/conda/lib/python3.7/site-packages\r\n",
      "Searching for python-dateutil==2.8.1\r\n",
      "Best match: python-dateutil 2.8.1\r\n",
      "Adding python-dateutil 2.8.1 to easy-install.pth file\r\n",
      "\r\n",
      "Using /opt/conda/lib/python3.7/site-packages\r\n",
      "Searching for cycler==0.10.0\r\n",
      "Best match: cycler 0.10.0\r\n",
      "Adding cycler 0.10.0 to easy-install.pth file\r\n",
      "\r\n",
      "Using /opt/conda/lib/python3.7/site-packages\r\n",
      "Searching for six==1.15.0\r\n",
      "Best match: six 1.15.0\r\n",
      "Adding six 1.15.0 to easy-install.pth file\r\n",
      "\r\n",
      "Using /opt/conda/lib/python3.7/site-packages\r\n",
      "Finished processing dependencies for pycocotools==2.0\r\n"
     ]
    }
   ],
   "source": [
    "import os\n",
    "!cp -r '/kaggle/input/cocoapi' '/kaggle/'\n",
    "os.chdir('/kaggle/cocoapi/cocoapi/PythonAPI')\n",
    "!make\n",
    "!make install\n",
    "!python setup.py install"
   ]
  },
  {
   "cell_type": "code",
   "execution_count": 2,
   "id": "425e556c",
   "metadata": {
    "execution": {
     "iopub.execute_input": "2021-07-28T14:08:00.416948Z",
     "iopub.status.busy": "2021-07-28T14:08:00.416075Z",
     "iopub.status.idle": "2021-07-28T14:09:18.856970Z",
     "shell.execute_reply": "2021-07-28T14:09:18.856477Z",
     "shell.execute_reply.started": "2021-07-25T12:05:05.027345Z"
    },
    "papermill": {
     "duration": 78.485964,
     "end_time": "2021-07-28T14:09:18.857113",
     "exception": false,
     "start_time": "2021-07-28T14:08:00.371149",
     "status": "completed"
    },
    "tags": []
   },
   "outputs": [
    {
     "name": "stdout",
     "output_type": "stream",
     "text": [
      "\r\n",
      "Downloading and Extracting Packages\r\n",
      "######################################################################## | 100% \r\n",
      "Preparing transaction: - \b\bdone\r\n",
      "Verifying transaction: | \b\bdone\r\n",
      "Executing transaction: - \b\b\\ \b\bdone\r\n",
      "\r\n",
      "Downloading and Extracting Packages\r\n",
      "######################################################################## | 100% \r\n",
      "Preparing transaction: - \b\bdone\r\n",
      "Verifying transaction: | \b\bdone\r\n",
      "Executing transaction: - \b\b\\ \b\b| \b\bdone\r\n",
      "\r\n",
      "Downloading and Extracting Packages\r\n",
      "######################################################################## | 100% \r\n",
      "Preparing transaction: - \b\bdone\r\n",
      "Verifying transaction: | \b\bdone\r\n",
      "Executing transaction: - \b\bdone\r\n",
      "\r\n",
      "Downloading and Extracting Packages\r\n",
      "######################################################################## | 100% \r\n",
      "Preparing transaction: - \b\bdone\r\n",
      "Verifying transaction: | \b\bdone\r\n",
      "Executing transaction: - \b\b\\ \b\b| \b\b/ \b\b- \b\b\\ \b\b| \b\b/ \b\b- \b\b\\ \b\b| \b\b/ \b\b- \b\b\\ \b\b| \b\b/ \b\b- \b\b\\ \b\b| \b\b/ \b\bdone\r\n",
      "\r\n",
      "Downloading and Extracting Packages\r\n",
      "######################################################################## | 100% \r\n",
      "Preparing transaction: - \b\bdone\r\n",
      "Verifying transaction: | \b\bdone\r\n",
      "Executing transaction: - \b\bdone\r\n",
      "\r\n",
      "Downloading and Extracting Packages\r\n",
      "######################################################################## | 100% \r\n",
      "Preparing transaction: - \b\bdone\r\n",
      "Verifying transaction: | \b\bdone\r\n",
      "Executing transaction: - \b\b\\ \b\b| \b\b/ \b\b- \b\b\\ \b\b| \b\bdone\r\n",
      "\r\n",
      "Downloading and Extracting Packages\r\n",
      "######################################################################## | 100% \r\n",
      "Preparing transaction: - \b\bdone\r\n",
      "Verifying transaction: | \b\bdone\r\n",
      "Executing transaction: - \b\b\\ \b\b| \b\b/ \b\b- \b\b\\ \b\b| \b\b/ \b\bdone\r\n"
     ]
    }
   ],
   "source": [
    "!conda install '/kaggle/input/pydicom-conda-helper/libjpeg-turbo-2.1.0-h7f98852_0.tar.bz2' -c conda-forge -y\n",
    "!conda install '/kaggle/input/pydicom-conda-helper/libgcc-ng-9.3.0-h2828fa1_19.tar.bz2' -c conda-forge -y\n",
    "!conda install '/kaggle/input/pydicom-conda-helper/gdcm-2.8.9-py37h500ead1_1.tar.bz2' -c conda-forge -y\n",
    "!conda install '/kaggle/input/pydicom-conda-helper/conda-4.10.1-py37h89c1867_0.tar.bz2' -c conda-forge -y\n",
    "!conda install '/kaggle/input/pydicom-conda-helper/certifi-2020.12.5-py37h89c1867_1.tar.bz2' -c conda-forge -y\n",
    "!conda install '/kaggle/input/pydicom-conda-helper/openssl-1.1.1k-h7f98852_0.tar.bz2' -c conda-forge -y\n",
    "!conda install '/kaggle/input/notebook6765ef7aa0/webcolors-1.11.1-pyhd8ed1ab_0.tar.bz2' -c conda-forge -y"
   ]
  },
  {
   "cell_type": "markdown",
   "id": "7d8f3a5d",
   "metadata": {
    "papermill": {
     "duration": 0.046634,
     "end_time": "2021-07-28T14:09:18.953268",
     "exception": false,
     "start_time": "2021-07-28T14:09:18.906634",
     "status": "completed"
    },
    "tags": []
   },
   "source": [
    "## Move Directory"
   ]
  },
  {
   "cell_type": "code",
   "execution_count": 3,
   "id": "06c9d3a3",
   "metadata": {
    "execution": {
     "iopub.execute_input": "2021-07-28T14:09:19.056421Z",
     "iopub.status.busy": "2021-07-28T14:09:19.051999Z",
     "iopub.status.idle": "2021-07-28T14:10:40.533417Z",
     "shell.execute_reply": "2021-07-28T14:10:40.532864Z",
     "shell.execute_reply.started": "2021-07-25T12:06:23.21709Z"
    },
    "papermill": {
     "duration": 81.533404,
     "end_time": "2021-07-28T14:10:40.533589",
     "exception": false,
     "start_time": "2021-07-28T14:09:19.000185",
     "status": "completed"
    },
    "tags": []
   },
   "outputs": [],
   "source": [
    "!cp -r /kaggle/input/efficientdet-training-better-than-yolov5/Yet-Another-EfficientDet-Pytorch /kaggle/"
   ]
  },
  {
   "cell_type": "code",
   "execution_count": 4,
   "id": "651eb0a5",
   "metadata": {
    "execution": {
     "iopub.execute_input": "2021-07-28T14:10:40.644593Z",
     "iopub.status.busy": "2021-07-28T14:10:40.643719Z",
     "iopub.status.idle": "2021-07-28T14:10:40.647528Z",
     "shell.execute_reply": "2021-07-28T14:10:40.646220Z",
     "shell.execute_reply.started": "2021-07-25T12:07:45.512187Z"
    },
    "papermill": {
     "duration": 0.06087,
     "end_time": "2021-07-28T14:10:40.647647",
     "exception": false,
     "start_time": "2021-07-28T14:10:40.586777",
     "status": "completed"
    },
    "tags": []
   },
   "outputs": [],
   "source": [
    "os.chdir('/kaggle/Yet-Another-EfficientDet-Pytorch/')"
   ]
  },
  {
   "cell_type": "markdown",
   "id": "f7f87a37",
   "metadata": {
    "papermill": {
     "duration": 0.079714,
     "end_time": "2021-07-28T14:10:40.802559",
     "exception": false,
     "start_time": "2021-07-28T14:10:40.722845",
     "status": "completed"
    },
    "tags": []
   },
   "source": [
    "## Preprocessing Test Image"
   ]
  },
  {
   "cell_type": "code",
   "execution_count": 5,
   "id": "f122aa8e",
   "metadata": {
    "execution": {
     "iopub.execute_input": "2021-07-28T14:10:40.973140Z",
     "iopub.status.busy": "2021-07-28T14:10:40.972206Z",
     "iopub.status.idle": "2021-07-28T14:10:44.814547Z",
     "shell.execute_reply": "2021-07-28T14:10:44.814047Z",
     "shell.execute_reply.started": "2021-07-25T12:07:45.522313Z"
    },
    "papermill": {
     "duration": 3.931666,
     "end_time": "2021-07-28T14:10:44.814749",
     "exception": false,
     "start_time": "2021-07-28T14:10:40.883083",
     "status": "completed"
    },
    "tags": []
   },
   "outputs": [],
   "source": [
    "import pandas as pd\n",
    "from glob import glob\n",
    "\n",
    "if pd.read_csv('/kaggle/input/siim-covid19-detection/sample_submission.csv').shape[0] == 2477:\n",
    "    fast_sub = True\n",
    "    \n",
    "    INPUT_PATH = 'datasets/siim/tmp/'\n",
    "    \n",
    "    # move just 5 folders\n",
    "    sample = os.listdir('/kaggle/input/siim-covid19-detection/test/')[:5]\n",
    "    os.makedirs(INPUT_PATH, exist_ok=True)\n",
    "    for i in sample:\n",
    "        !cp -r '/kaggle/input/siim-covid19-detection/test/'{i} {INPUT_PATH}\n",
    "    \n",
    "    tmp = []\n",
    "    for path in glob(INPUT_PATH + '*'):\n",
    "        study_name = path.split('/')[-1][:-4]\n",
    "        tmp.append([f'{study_name}_study', 'negative 1 0 0 1 1'])\n",
    "\n",
    "    for path in glob(INPUT_PATH + '*/*/*'):\n",
    "        image_name = path.split('/')[-1][:-4]\n",
    "        tmp.append([f'{image_name}_image', 'none 1 0 0 1 1'])\n",
    "\n",
    "    submission = pd.DataFrame(tmp, columns=['id', 'PredictionString'])\n",
    "\n",
    "else:\n",
    "    fast_sub = False\n",
    "    INPUT_PATH = '/kaggle/input/siim-covid19-detection/test/'\n",
    "    submission = pd.read_csv('/kaggle/input/siim-covid19-detection/sample_submission.csv')"
   ]
  },
  {
   "cell_type": "code",
   "execution_count": 6,
   "id": "21fb4c6f",
   "metadata": {
    "execution": {
     "iopub.execute_input": "2021-07-28T14:10:44.918097Z",
     "iopub.status.busy": "2021-07-28T14:10:44.917577Z",
     "iopub.status.idle": "2021-07-28T14:10:46.082901Z",
     "shell.execute_reply": "2021-07-28T14:10:46.082385Z",
     "shell.execute_reply.started": "2021-07-24T11:20:16.59143Z"
    },
    "papermill": {
     "duration": 1.220799,
     "end_time": "2021-07-28T14:10:46.083044",
     "exception": false,
     "start_time": "2021-07-28T14:10:44.862245",
     "status": "completed"
    },
    "tags": []
   },
   "outputs": [],
   "source": [
    "import os\n",
    "from PIL import Image\n",
    "import pandas as pd\n",
    "from tqdm.auto import tqdm\n",
    "import numpy as np\n",
    "import pydicom\n",
    "from pydicom.pixel_data_handlers.util import apply_voi_lut\n",
    "\n",
    "import torch\n",
    "\n",
    "def read_xray(path, voi_lut=False, fix_monochrome=True):\n",
    "    # Original from: https://www.kaggle.com/raddar/convert-dicom-to-np-array-the-correct-way\n",
    "    dicom = pydicom.read_file(path)\n",
    "    # VOI LUT (if available by DICOM device) is used to transform raw DICOM data to\n",
    "    # \"human-friendly\" view\n",
    "    if voi_lut:\n",
    "        data = apply_voi_lut(dicom.pixel_array, dicom)\n",
    "    else:\n",
    "        data = dicom.pixel_array\n",
    "\n",
    "    # depending on this value, X-ray may look inverted - fix that:\n",
    "    if fix_monochrome and dicom.PhotometricInterpretation == \"MONOCHROME1\":\n",
    "        data = np.amax(data) - data\n",
    "\n",
    "    data = data - np.min(data)\n",
    "    data = data / np.max(data)\n",
    "    data = (data * 255).astype(np.uint8)\n",
    "\n",
    "    return data\n",
    "\n",
    "    \n",
    "def resize(array, size, keep_ratio=False, resample=Image.LANCZOS):\n",
    "    # Original from: https://www.kaggle.com/xhlulu/vinbigdata-process-and-resize-to-image\n",
    "    im = Image.fromarray(array)\n",
    "\n",
    "    if keep_ratio:\n",
    "        im.thumbnail((size, size), resample)\n",
    "    else:\n",
    "        im = im.resize((size, size), resample)\n",
    "\n",
    "    return im"
   ]
  },
  {
   "cell_type": "code",
   "execution_count": 7,
   "id": "f8248294",
   "metadata": {
    "execution": {
     "iopub.execute_input": "2021-07-28T14:10:46.208735Z",
     "iopub.status.busy": "2021-07-28T14:10:46.203776Z",
     "iopub.status.idle": "2021-07-28T14:10:49.360146Z",
     "shell.execute_reply": "2021-07-28T14:10:49.359008Z",
     "shell.execute_reply.started": "2021-07-24T11:20:17.989977Z"
    },
    "papermill": {
     "duration": 3.222982,
     "end_time": "2021-07-28T14:10:49.360305",
     "exception": false,
     "start_time": "2021-07-28T14:10:46.137323",
     "status": "completed"
    },
    "tags": []
   },
   "outputs": [
    {
     "data": {
      "application/vnd.jupyter.widget-view+json": {
       "model_id": "fd94d96e0e134c6bb161e02c13658ed1",
       "version_major": 2,
       "version_minor": 0
      },
      "text/plain": [
       "  0%|          | 0/5 [00:00<?, ?it/s]"
      ]
     },
     "metadata": {},
     "output_type": "display_data"
    }
   ],
   "source": [
    "from glob import glob\n",
    "\n",
    "save_dir = \"datasets/siim/test\"\n",
    "!rm -rf {save_dir}\n",
    "os.makedirs(save_dir, exist_ok=True)\n",
    "\n",
    "image_size_dict = {}\n",
    "for path in tqdm(glob(INPUT_PATH + '*/*/*')):\n",
    "    # set keep_ratio=True to have original aspect ratio\n",
    "    xray = read_xray(path)\n",
    "    image_size_dict[path.split('/')[-1][:-4]] = xray.shape\n",
    "    im = resize(xray, size=256)\n",
    "    im.save(os.path.join(save_dir, path.split('/')[-1][:-3]+'jpg'))"
   ]
  },
  {
   "cell_type": "code",
   "execution_count": 8,
   "id": "4595ef63",
   "metadata": {
    "execution": {
     "iopub.execute_input": "2021-07-28T14:10:49.550680Z",
     "iopub.status.busy": "2021-07-28T14:10:49.548921Z",
     "iopub.status.idle": "2021-07-28T14:10:49.572254Z",
     "shell.execute_reply": "2021-07-28T14:10:49.573634Z",
     "shell.execute_reply.started": "2021-07-24T11:20:21.035646Z"
    },
    "papermill": {
     "duration": 0.126101,
     "end_time": "2021-07-28T14:10:49.573856",
     "exception": false,
     "start_time": "2021-07-28T14:10:49.447755",
     "status": "completed"
    },
    "tags": []
   },
   "outputs": [
    {
     "data": {
      "text/html": [
       "<div>\n",
       "<style scoped>\n",
       "    .dataframe tbody tr th:only-of-type {\n",
       "        vertical-align: middle;\n",
       "    }\n",
       "\n",
       "    .dataframe tbody tr th {\n",
       "        vertical-align: top;\n",
       "    }\n",
       "\n",
       "    .dataframe thead th {\n",
       "        text-align: right;\n",
       "    }\n",
       "</style>\n",
       "<table border=\"1\" class=\"dataframe\">\n",
       "  <thead>\n",
       "    <tr style=\"text-align: right;\">\n",
       "      <th></th>\n",
       "      <th>id</th>\n",
       "      <th>PredictionString</th>\n",
       "    </tr>\n",
       "  </thead>\n",
       "  <tbody>\n",
       "    <tr>\n",
       "      <th>5</th>\n",
       "      <td>9850b5470fd6_image</td>\n",
       "      <td>none 1 0 0 1 1</td>\n",
       "    </tr>\n",
       "    <tr>\n",
       "      <th>6</th>\n",
       "      <td>7230234e120a_image</td>\n",
       "      <td>none 1 0 0 1 1</td>\n",
       "    </tr>\n",
       "    <tr>\n",
       "      <th>7</th>\n",
       "      <td>dfc5c09a50bc_image</td>\n",
       "      <td>none 1 0 0 1 1</td>\n",
       "    </tr>\n",
       "    <tr>\n",
       "      <th>8</th>\n",
       "      <td>a29c5a68b07b_image</td>\n",
       "      <td>none 1 0 0 1 1</td>\n",
       "    </tr>\n",
       "    <tr>\n",
       "      <th>9</th>\n",
       "      <td>8d6dea06a032_image</td>\n",
       "      <td>none 1 0 0 1 1</td>\n",
       "    </tr>\n",
       "  </tbody>\n",
       "</table>\n",
       "</div>"
      ],
      "text/plain": [
       "                   id PredictionString\n",
       "5  9850b5470fd6_image   none 1 0 0 1 1\n",
       "6  7230234e120a_image   none 1 0 0 1 1\n",
       "7  dfc5c09a50bc_image   none 1 0 0 1 1\n",
       "8  a29c5a68b07b_image   none 1 0 0 1 1\n",
       "9  8d6dea06a032_image   none 1 0 0 1 1"
      ]
     },
     "execution_count": 8,
     "metadata": {},
     "output_type": "execute_result"
    }
   ],
   "source": [
    "submission[submission.id.str.contains('image')]"
   ]
  },
  {
   "cell_type": "markdown",
   "id": "41d47f11",
   "metadata": {
    "execution": {
     "iopub.execute_input": "2021-07-24T09:21:08.861965Z",
     "iopub.status.busy": "2021-07-24T09:21:08.861635Z",
     "iopub.status.idle": "2021-07-24T09:21:08.882134Z",
     "shell.execute_reply": "2021-07-24T09:21:08.88119Z",
     "shell.execute_reply.started": "2021-07-24T09:21:08.861931Z"
    },
    "papermill": {
     "duration": 0.091917,
     "end_time": "2021-07-28T14:10:49.761936",
     "exception": false,
     "start_time": "2021-07-28T14:10:49.670019",
     "status": "completed"
    },
    "tags": []
   },
   "source": [
    "## Evaluation"
   ]
  },
  {
   "cell_type": "code",
   "execution_count": 9,
   "id": "3604d964",
   "metadata": {
    "execution": {
     "iopub.execute_input": "2021-07-28T14:10:49.933488Z",
     "iopub.status.busy": "2021-07-28T14:10:49.932699Z",
     "iopub.status.idle": "2021-07-28T14:12:42.420126Z",
     "shell.execute_reply": "2021-07-28T14:12:42.419447Z",
     "shell.execute_reply.started": "2021-07-24T09:21:11.032043Z"
    },
    "papermill": {
     "duration": 112.573929,
     "end_time": "2021-07-28T14:12:42.420271",
     "exception": false,
     "start_time": "2021-07-28T14:10:49.846342",
     "status": "completed"
    },
    "tags": []
   },
   "outputs": [
    {
     "name": "stdout",
     "output_type": "stream",
     "text": [
      "running coco-style evaluation on project siim, weights logs/siim/efficientdet-d0_9_3160.pth...\r\n",
      "loading annotations into memory...\r\n",
      "Done (t=0.03s)\r\n",
      "creating index...\r\n",
      "index created!\r\n",
      "100%|███████████████████████████████████████| 1267/1267 [01:41<00:00, 12.49it/s]\r\n",
      "Loading and preparing results...\r\n",
      "DONE (t=0.16s)\r\n",
      "creating index...\r\n",
      "index created!\r\n",
      "BBox\r\n",
      "Running per image evaluation...\r\n",
      "Evaluate annotation type *bbox*\r\n",
      "DONE (t=2.58s).\r\n",
      "Accumulating evaluation results...\r\n",
      "DONE (t=0.63s).\r\n",
      " Average Precision  (AP) @[ IoU=0.50:0.95 | area=   all | maxDets=100 ] = 0.035\r\n",
      " Average Precision  (AP) @[ IoU=0.50      | area=   all | maxDets=100 ] = 0.114\r\n",
      " Average Precision  (AP) @[ IoU=0.75      | area=   all | maxDets=100 ] = 0.008\r\n",
      " Average Precision  (AP) @[ IoU=0.50:0.95 | area= small | maxDets=100 ] = 0.004\r\n",
      " Average Precision  (AP) @[ IoU=0.50:0.95 | area=medium | maxDets=100 ] = 0.034\r\n",
      " Average Precision  (AP) @[ IoU=0.50:0.95 | area= large | maxDets=100 ] = 0.051\r\n",
      " Average Recall     (AR) @[ IoU=0.50:0.95 | area=   all | maxDets=  1 ] = 0.047\r\n",
      " Average Recall     (AR) @[ IoU=0.50:0.95 | area=   all | maxDets= 10 ] = 0.125\r\n",
      " Average Recall     (AR) @[ IoU=0.50:0.95 | area=   all | maxDets=100 ] = 0.135\r\n",
      " Average Recall     (AR) @[ IoU=0.50:0.95 | area= small | maxDets=100 ] = 0.030\r\n",
      " Average Recall     (AR) @[ IoU=0.50:0.95 | area=medium | maxDets=100 ] = 0.127\r\n",
      " Average Recall     (AR) @[ IoU=0.50:0.95 | area= large | maxDets=100 ] = 0.167\r\n"
     ]
    }
   ],
   "source": [
    "weight_file = !ls logs/siim/\n",
    "! python coco_eval.py -c 0 -p siim -w \"logs/siim/{weight_file[-2]}\""
   ]
  },
  {
   "cell_type": "markdown",
   "id": "a511a183",
   "metadata": {
    "execution": {
     "iopub.execute_input": "2021-07-24T09:37:27.26742Z",
     "iopub.status.busy": "2021-07-24T09:37:27.267059Z",
     "iopub.status.idle": "2021-07-24T09:37:27.944411Z",
     "shell.execute_reply": "2021-07-24T09:37:27.943457Z",
     "shell.execute_reply.started": "2021-07-24T09:37:27.267383Z"
    },
    "papermill": {
     "duration": 0.226002,
     "end_time": "2021-07-28T14:12:42.876315",
     "exception": false,
     "start_time": "2021-07-28T14:12:42.650313",
     "status": "completed"
    },
    "tags": []
   },
   "source": [
    "## Test"
   ]
  },
  {
   "cell_type": "code",
   "execution_count": 10,
   "id": "82241b47",
   "metadata": {
    "execution": {
     "iopub.execute_input": "2021-07-28T14:12:43.350313Z",
     "iopub.status.busy": "2021-07-28T14:12:43.349718Z",
     "iopub.status.idle": "2021-07-28T14:12:43.416739Z",
     "shell.execute_reply": "2021-07-28T14:12:43.415738Z",
     "shell.execute_reply.started": "2021-07-24T11:20:21.064894Z"
    },
    "papermill": {
     "duration": 0.312585,
     "end_time": "2021-07-28T14:12:43.416864",
     "exception": false,
     "start_time": "2021-07-28T14:12:43.104279",
     "status": "completed"
    },
    "tags": []
   },
   "outputs": [],
   "source": [
    "name2color = {\n",
    "    'Negative' : [0, 0, 0], # Typical Appearance\n",
    "    'Typical': [66,9,255], # Typical Appearance\n",
    "    'Indeterminate': [255,186,8], # Indeterminate Appearance\n",
    "    'Atypical': [247,37,69], # Atypical Appearance\n",
    "}\n",
    "\n",
    "\"\"\"\n",
    "Simple Inference Script of EfficientDet-Pytorch\n",
    "\"\"\"\n",
    "import time\n",
    "import torch\n",
    "from torch.backends import cudnn\n",
    "from matplotlib import colors\n",
    "\n",
    "from backbone import EfficientDetBackbone\n",
    "import cv2\n",
    "import numpy as np\n",
    "import matplotlib.pyplot as plt\n",
    "\n",
    "from efficientdet.utils import BBoxTransform, ClipBoxes\n",
    "from utils.utils import preprocess, invert_affine, postprocess, STANDARD_COLORS, standard_to_bgr, get_index_label, plot_one_box\n"
   ]
  },
  {
   "cell_type": "markdown",
   "id": "862c10ff",
   "metadata": {
    "papermill": {
     "duration": 0.232377,
     "end_time": "2021-07-28T14:12:43.880568",
     "exception": false,
     "start_time": "2021-07-28T14:12:43.648191",
     "status": "completed"
    },
    "tags": []
   },
   "source": [
    "## Model Upload"
   ]
  },
  {
   "cell_type": "code",
   "execution_count": 11,
   "id": "5f193488",
   "metadata": {
    "execution": {
     "iopub.execute_input": "2021-07-28T14:12:44.354207Z",
     "iopub.status.busy": "2021-07-28T14:12:44.352436Z",
     "iopub.status.idle": "2021-07-28T14:12:46.617984Z",
     "shell.execute_reply": "2021-07-28T14:12:46.617102Z",
     "shell.execute_reply.started": "2021-07-24T11:24:37.61777Z"
    },
    "papermill": {
     "duration": 2.50355,
     "end_time": "2021-07-28T14:12:46.618123",
     "exception": false,
     "start_time": "2021-07-28T14:12:44.114573",
     "status": "completed"
    },
    "tags": []
   },
   "outputs": [],
   "source": [
    "compound_coef = 0\n",
    "force_input_size = None  # set None to use default size\n",
    "img_path = 'datasets/siim/test/'\n",
    "img_list = glob(img_path + '*')\n",
    "\n",
    "# replace this part with your project's anchor config\n",
    "anchor_ratios = [(1.0, 1.0), (1.4, 0.7), (0.7, 1.4)]\n",
    "anchor_scales = [2 ** 0, 2 ** (1.0 / 3.0), 2 ** (2.0 / 3.0)]\n",
    "\n",
    "threshold = 0.2\n",
    "iou_threshold = 0.2\n",
    "\n",
    "use_cuda = True\n",
    "use_float16 = False\n",
    "cudnn.fastest = True\n",
    "cudnn.benchmark = True\n",
    "\n",
    "obj_list = ['Typical', 'Indeterminate', 'Atypical']\n",
    "\n",
    "\n",
    "color_list = standard_to_bgr(STANDARD_COLORS)\n",
    "# tf bilinear interpolation is different from any other's, just make do\n",
    "input_sizes = [512, 640, 768, 896, 1024, 1280, 1280, 1536, 1536]\n",
    "input_size = input_sizes[compound_coef] if force_input_size is None else force_input_size\n",
    "\n",
    "model = EfficientDetBackbone(compound_coef=compound_coef, num_classes=len(obj_list),\n",
    "                             ratios=anchor_ratios, scales=anchor_scales)\n",
    "model.load_state_dict(torch.load('logs/siim/efficientdet-d0_39_12600.pth', map_location='cpu'))\n",
    "model.requires_grad_(False)\n",
    "model.eval()\n",
    "\n",
    "if use_cuda:\n",
    "    model = model.cuda()\n",
    "if use_float16:\n",
    "    model = model.half()"
   ]
  },
  {
   "cell_type": "markdown",
   "id": "68ece3a5",
   "metadata": {
    "papermill": {
     "duration": 0.227941,
     "end_time": "2021-07-28T14:12:47.073822",
     "exception": false,
     "start_time": "2021-07-28T14:12:46.845881",
     "status": "completed"
    },
    "tags": []
   },
   "source": [
    "## Display"
   ]
  },
  {
   "cell_type": "code",
   "execution_count": 12,
   "id": "07c30fa4",
   "metadata": {
    "execution": {
     "iopub.execute_input": "2021-07-28T14:12:47.548600Z",
     "iopub.status.busy": "2021-07-28T14:12:47.547498Z",
     "iopub.status.idle": "2021-07-28T14:12:48.886939Z",
     "shell.execute_reply": "2021-07-28T14:12:48.887433Z",
     "shell.execute_reply.started": "2021-07-24T11:24:51.332079Z"
    },
    "papermill": {
     "duration": 1.58441,
     "end_time": "2021-07-28T14:12:48.887620",
     "exception": false,
     "start_time": "2021-07-28T14:12:47.303210",
     "status": "completed"
    },
    "tags": []
   },
   "outputs": [
    {
     "data": {
      "image/png": "[encoded data removed]",
      "text/plain": [
       "<Figure size 360x1800 with 5 Axes>"
      ]
     },
     "metadata": {
      "needs_background": "light"
     },
     "output_type": "display_data"
    }
   ],
   "source": [
    "def display(preds, imgs):\n",
    "    for i in range(len(imgs)):\n",
    "        if len(preds[i]['rois']) == 0:\n",
    "            continue\n",
    "\n",
    "        imgs[i] = imgs[i].copy()\n",
    "\n",
    "        for j in range(len(preds[i]['rois'])):\n",
    "            x1, y1, x2, y2 = preds[i]['rois'][j].astype(np.int)\n",
    "            obj = obj_list[preds[i]['class_ids'][j]]\n",
    "            cv2.rectangle(ori_imgs[i], (x1, y1), (x2, y2), name2color[obj], 2)\n",
    "            score = float(out[i]['scores'][j])\n",
    "\n",
    "            cv2.putText(ori_imgs[i], '{:.3f}'.format(score),\n",
    "                        (x1, y1 + 10), cv2.FONT_HERSHEY_SIMPLEX, 0.5,\n",
    "                        (255,255,255), 1)\n",
    "        return imgs[i]\n",
    "    \n",
    "imgs = []\n",
    "for k, img_path in enumerate(img_list[:5]):\n",
    "    ori_imgs, framed_imgs, framed_metas = preprocess(img_path, max_size=input_size)\n",
    "\n",
    "    if use_cuda:\n",
    "        x = torch.stack([torch.from_numpy(fi).cuda() for fi in framed_imgs], 0)\n",
    "    else:\n",
    "        x = torch.stack([torch.from_numpy(fi) for fi in framed_imgs], 0)\n",
    "\n",
    "    x = x.to(torch.float32 if not use_float16 else torch.float16).permute(0, 3, 1, 2)\n",
    "\n",
    "    with torch.no_grad():\n",
    "        features, regression, classification, anchors = model(x)\n",
    "\n",
    "        regressBoxes = BBoxTransform()\n",
    "        clipBoxes = ClipBoxes()\n",
    "\n",
    "        out = postprocess(x,\n",
    "                          anchors, regression, classification,\n",
    "                          regressBoxes, clipBoxes,\n",
    "                          threshold, iou_threshold)\n",
    "\n",
    "    out = invert_affine(framed_metas, out)\n",
    "    imgs.append(display(out, ori_imgs))\n",
    "    \n",
    "fig = plt.figure(figsize=(5, len(imgs)*5))\n",
    "for i, img in enumerate(imgs[:30]):\n",
    "    img = cv2.resize(img, (300,300))\n",
    "    ax = fig.add_subplot(len(imgs), 1, i+1)\n",
    "    ax.get_xaxis().set_visible(False)\n",
    "    ax.get_yaxis().set_visible(False)\n",
    "    plt.imshow(img)"
   ]
  },
  {
   "cell_type": "markdown",
   "id": "da681abd",
   "metadata": {
    "papermill": {
     "duration": 0.237709,
     "end_time": "2021-07-28T14:12:49.363567",
     "exception": false,
     "start_time": "2021-07-28T14:12:49.125858",
     "status": "completed"
    },
    "tags": []
   },
   "source": [
    "blue box : typical  \n",
    "yellow box : indeterminate  \n",
    "red box : atypical  "
   ]
  },
  {
   "cell_type": "markdown",
   "id": "55a00b24",
   "metadata": {
    "execution": {
     "iopub.execute_input": "2021-07-24T11:23:27.966097Z",
     "iopub.status.busy": "2021-07-24T11:23:27.965725Z",
     "iopub.status.idle": "2021-07-24T11:23:28.633718Z",
     "shell.execute_reply": "2021-07-24T11:23:28.632758Z",
     "shell.execute_reply.started": "2021-07-24T11:23:27.966066Z"
    },
    "papermill": {
     "duration": 0.233524,
     "end_time": "2021-07-28T14:12:49.834291",
     "exception": false,
     "start_time": "2021-07-28T14:12:49.600767",
     "status": "completed"
    },
    "tags": []
   },
   "source": [
    "![image](https://aihub-storage.s3.ap-northeast-2.amazonaws.com/file/%E1%84%89%E1%85%B3%E1%84%8F%E1%85%B3%E1%84%85%E1%85%B5%E1%86%AB%E1%84%89%E1%85%A3%E1%86%BA_2021-07-18_%E1%84%8B%E1%85%A9%E1%84%92%E1%85%AE_10.53.32.png)"
   ]
  },
  {
   "cell_type": "markdown",
   "id": "5e7bfc0d",
   "metadata": {
    "papermill": {
     "duration": 0.247689,
     "end_time": "2021-07-28T14:12:50.361787",
     "exception": false,
     "start_time": "2021-07-28T14:12:50.114098",
     "status": "completed"
    },
    "tags": []
   },
   "source": [
    "## Inference"
   ]
  },
  {
   "cell_type": "code",
   "execution_count": 13,
   "id": "881a34c1",
   "metadata": {
    "execution": {
     "iopub.execute_input": "2021-07-28T14:12:51.093964Z",
     "iopub.status.busy": "2021-07-28T14:12:51.092988Z",
     "iopub.status.idle": "2021-07-28T14:12:51.361845Z",
     "shell.execute_reply": "2021-07-28T14:12:51.360930Z",
     "shell.execute_reply.started": "2021-07-24T11:38:02.148111Z"
    },
    "papermill": {
     "duration": 0.601391,
     "end_time": "2021-07-28T14:12:51.361988",
     "exception": false,
     "start_time": "2021-07-28T14:12:50.760597",
     "status": "completed"
    },
    "tags": []
   },
   "outputs": [],
   "source": [
    "pcs_imgs = []\n",
    "for k, img_path in enumerate(img_list):\n",
    "    ori_imgs, framed_imgs, framed_metas = preprocess(img_path, max_size=input_size)\n",
    "\n",
    "    if use_cuda:\n",
    "        x = torch.stack([torch.from_numpy(fi).cuda() for fi in framed_imgs], 0)\n",
    "    else:\n",
    "        x = torch.stack([torch.from_numpy(fi) for fi in framed_imgs], 0)\n",
    "\n",
    "    x = x.to(torch.float32 if not use_float16 else torch.float16).permute(0, 3, 1, 2)\n",
    "    \n",
    "    pcs_imgs.append(x)\n",
    "    with torch.no_grad():\n",
    "        features, regression, classification, anchors = model(x)\n",
    "\n",
    "        regressBoxes = BBoxTransform()\n",
    "        clipBoxes = ClipBoxes()\n",
    "\n",
    "        out = postprocess(x,\n",
    "                          anchors, regression, classification,\n",
    "                          regressBoxes, clipBoxes,\n",
    "                          threshold, iou_threshold)\n",
    "\n",
    "    out = invert_affine(framed_metas, out)\n",
    "    imgs.append(display(out, ori_imgs))"
   ]
  },
  {
   "cell_type": "markdown",
   "id": "ab6f6157",
   "metadata": {
    "papermill": {
     "duration": 0.235011,
     "end_time": "2021-07-28T14:12:51.849149",
     "exception": false,
     "start_time": "2021-07-28T14:12:51.614138",
     "status": "completed"
    },
    "tags": []
   },
   "source": [
    "batch size is 32."
   ]
  },
  {
   "cell_type": "code",
   "execution_count": 14,
   "id": "d33558b5",
   "metadata": {
    "execution": {
     "iopub.execute_input": "2021-07-28T14:12:52.328401Z",
     "iopub.status.busy": "2021-07-28T14:12:52.327415Z",
     "iopub.status.idle": "2021-07-28T14:12:52.758314Z",
     "shell.execute_reply": "2021-07-28T14:12:52.757540Z",
     "shell.execute_reply.started": "2021-07-24T11:40:24.946493Z"
    },
    "papermill": {
     "duration": 0.671606,
     "end_time": "2021-07-28T14:12:52.758459",
     "exception": false,
     "start_time": "2021-07-28T14:12:52.086853",
     "status": "completed"
    },
    "tags": []
   },
   "outputs": [],
   "source": [
    "outs = []\n",
    "batch = 32\n",
    "with torch.no_grad():\n",
    "    for i in range(len(pcs_imgs)//batch + 1):\n",
    "        features, regression, classification, anchors = model(torch.cat(pcs_imgs[batch*i:batch*(i+1)]))\n",
    "\n",
    "        regressBoxes = BBoxTransform()\n",
    "        clipBoxes = ClipBoxes()\n",
    "\n",
    "        out = postprocess(torch.cat(pcs_imgs[batch*i:batch*(i+1)]),\n",
    "                          anchors, regression, classification,\n",
    "                          regressBoxes, clipBoxes,\n",
    "                          threshold, iou_threshold)\n",
    "        outs += out"
   ]
  },
  {
   "cell_type": "code",
   "execution_count": 15,
   "id": "19f820ad",
   "metadata": {
    "execution": {
     "iopub.execute_input": "2021-07-28T14:12:53.232246Z",
     "iopub.status.busy": "2021-07-28T14:12:53.231689Z",
     "iopub.status.idle": "2021-07-28T14:12:53.237468Z",
     "shell.execute_reply": "2021-07-28T14:12:53.237043Z",
     "shell.execute_reply.started": "2021-07-24T11:56:34.778634Z"
    },
    "papermill": {
     "duration": 0.245862,
     "end_time": "2021-07-28T14:12:53.237601",
     "exception": false,
     "start_time": "2021-07-28T14:12:52.991739",
     "status": "completed"
    },
    "tags": []
   },
   "outputs": [
    {
     "data": {
      "text/plain": [
       "{'rois': array([[108.11608, 116.73778, 270.56287, 428.57104],\n",
       "        [355.1469 , 133.98311, 476.58972, 344.52795]], dtype=float32),\n",
       " 'class_ids': array([0, 0]),\n",
       " 'scores': array([0.35103002, 0.2056604 ], dtype=float32)}"
      ]
     },
     "execution_count": 15,
     "metadata": {},
     "output_type": "execute_result"
    }
   ],
   "source": [
    "outs[0]"
   ]
  },
  {
   "cell_type": "markdown",
   "id": "8d1c94bc",
   "metadata": {
    "execution": {
     "iopub.execute_input": "2021-07-24T11:57:35.83132Z",
     "iopub.status.busy": "2021-07-24T11:57:35.831004Z",
     "iopub.status.idle": "2021-07-24T11:57:35.837491Z",
     "shell.execute_reply": "2021-07-24T11:57:35.836076Z",
     "shell.execute_reply.started": "2021-07-24T11:57:35.831293Z"
    },
    "papermill": {
     "duration": 0.233824,
     "end_time": "2021-07-28T14:12:53.724358",
     "exception": false,
     "start_time": "2021-07-28T14:12:53.490534",
     "status": "completed"
    },
    "tags": []
   },
   "source": [
    "Result looks like this. \n",
    "  \n",
    "**rois** : box position  \n",
    "**class_ids** : 0 => typical, 1 => indeterminate, 2=> atypical  \n",
    "**scores** : confidence  "
   ]
  }
 ],
 "metadata": {
  "kernelspec": {
   "display_name": "Python 3.10.4 64-bit",
   "language": "python",
   "name": "python3"
  },
  "language_info": {
   "codemirror_mode": {
    "name": "ipython",
    "version": 3
   },
   "file_extension": ".py",
   "mimetype": "text/x-python",
   "name": "python",
   "nbconvert_exporter": "python",
   "pygments_lexer": "ipython3",
   "version": "3.10.4"
  },
  "papermill": {
   "default_parameters": {},
   "duration": 323.748201,
   "end_time": "2021-07-28T14:12:56.268281",
   "environment_variables": {},
   "exception": null,
   "input_path": "__notebook__.ipynb",
   "output_path": "__notebook__.ipynb",
   "parameters": {},
   "start_time": "2021-07-28T14:07:32.520080",
   "version": "2.3.3"
  },
  "vscode": {
   "interpreter": {
    "hash": "afb734500600fd355917ca529030176ea0ca205570884b88f2f6f7d791fd3fbe"
   }
  },
  "widgets": {
   "application/vnd.jupyter.widget-state+json": {
    "state": {
     "0bac5f897dd14e27af1f65022ed06758": {
      "model_module": "@jupyter-widgets/controls",
      "model_module_version": "1.5.0",
      "model_name": "DescriptionStyleModel",
      "state": {
       "_model_module": "@jupyter-widgets/controls",
       "_model_module_version": "1.5.0",
       "_model_name": "DescriptionStyleModel",
       "_view_count": null,
       "_view_module": "@jupyter-widgets/base",
       "_view_module_version": "1.2.0",
       "_view_name": "StyleView",
       "description_width": ""
      }
     },
     "0c46442a87b2466eb0755740a22f195d": {
      "model_module": "@jupyter-widgets/base",
      "model_module_version": "1.2.0",
      "model_name": "LayoutModel",
      "state": {
       "_model_module": "@jupyter-widgets/base",
       "_model_module_version": "1.2.0",
       "_model_name": "LayoutModel",
       "_view_count": null,
       "_view_module": "@jupyter-widgets/base",
       "_view_module_version": "1.2.0",
       "_view_name": "LayoutView",
       "align_content": null,
       "align_items": null,
       "align_self": null,
       "border": null,
       "bottom": null,
       "display": null,
       "flex": null,
       "flex_flow": null,
       "grid_area": null,
       "grid_auto_columns": null,
       "grid_auto_flow": null,
       "grid_auto_rows": null,
       "grid_column": null,
       "grid_gap": null,
       "grid_row": null,
       "grid_template_areas": null,
       "grid_template_columns": null,
       "grid_template_rows": null,
       "height": null,
       "justify_content": null,
       "justify_items": null,
       "left": null,
       "margin": null,
       "max_height": null,
       "max_width": null,
       "min_height": null,
       "min_width": null,
       "object_fit": null,
       "object_position": null,
       "order": null,
       "overflow": null,
       "overflow_x": null,
       "overflow_y": null,
       "padding": null,
       "right": null,
       "top": null,
       "visibility": null,
       "width": null
      }
     },
     "1d776ccf56aa4c38928bafa555e82354": {
      "model_module": "@jupyter-widgets/controls",
      "model_module_version": "1.5.0",
      "model_name": "HTMLModel",
      "state": {
       "_dom_classes": [],
       "_model_module": "@jupyter-widgets/controls",
       "_model_module_version": "1.5.0",
       "_model_name": "HTMLModel",
       "_view_count": null,
       "_view_module": "@jupyter-widgets/controls",
       "_view_module_version": "1.5.0",
       "_view_name": "HTMLView",
       "description": "",
       "description_tooltip": null,
       "layout": "IPY_MODEL_ff621905eb8f4b4090275bc293020c76",
       "placeholder": "​",
       "style": "IPY_MODEL_0bac5f897dd14e27af1f65022ed06758",
       "value": "100%"
      }
     },
     "1e13573571604654963c2165437d98cf": {
      "model_module": "@jupyter-widgets/base",
      "model_module_version": "1.2.0",
      "model_name": "LayoutModel",
      "state": {
       "_model_module": "@jupyter-widgets/base",
       "_model_module_version": "1.2.0",
       "_model_name": "LayoutModel",
       "_view_count": null,
       "_view_module": "@jupyter-widgets/base",
       "_view_module_version": "1.2.0",
       "_view_name": "LayoutView",
       "align_content": null,
       "align_items": null,
       "align_self": null,
       "border": null,
       "bottom": null,
       "display": null,
       "flex": null,
       "flex_flow": null,
       "grid_area": null,
       "grid_auto_columns": null,
       "grid_auto_flow": null,
       "grid_auto_rows": null,
       "grid_column": null,
       "grid_gap": null,
       "grid_row": null,
       "grid_template_areas": null,
       "grid_template_columns": null,
       "grid_template_rows": null,
       "height": null,
       "justify_content": null,
       "justify_items": null,
       "left": null,
       "margin": null,
       "max_height": null,
       "max_width": null,
       "min_height": null,
       "min_width": null,
       "object_fit": null,
       "object_position": null,
       "order": null,
       "overflow": null,
       "overflow_x": null,
       "overflow_y": null,
       "padding": null,
       "right": null,
       "top": null,
       "visibility": null,
       "width": null
      }
     },
     "34d9fe2298eb4088a3e4a602dee31432": {
      "model_module": "@jupyter-widgets/controls",
      "model_module_version": "1.5.0",
      "model_name": "HTMLModel",
      "state": {
       "_dom_classes": [],
       "_model_module": "@jupyter-widgets/controls",
       "_model_module_version": "1.5.0",
       "_model_name": "HTMLModel",
       "_view_count": null,
       "_view_module": "@jupyter-widgets/controls",
       "_view_module_version": "1.5.0",
       "_view_name": "HTMLView",
       "description": "",
       "description_tooltip": null,
       "layout": "IPY_MODEL_5dd381554e0e4fcc97469cec0fd7343d",
       "placeholder": "​",
       "style": "IPY_MODEL_999ae92fd97f4c84bb3b28f08983b703",
       "value": " 5/5 [00:02&lt;00:00,  1.82it/s]"
      }
     },
     "5dd381554e0e4fcc97469cec0fd7343d": {
      "model_module": "@jupyter-widgets/base",
      "model_module_version": "1.2.0",
      "model_name": "LayoutModel",
      "state": {
       "_model_module": "@jupyter-widgets/base",
       "_model_module_version": "1.2.0",
       "_model_name": "LayoutModel",
       "_view_count": null,
       "_view_module": "@jupyter-widgets/base",
       "_view_module_version": "1.2.0",
       "_view_name": "LayoutView",
       "align_content": null,
       "align_items": null,
       "align_self": null,
       "border": null,
       "bottom": null,
       "display": null,
       "flex": null,
       "flex_flow": null,
       "grid_area": null,
       "grid_auto_columns": null,
       "grid_auto_flow": null,
       "grid_auto_rows": null,
       "grid_column": null,
       "grid_gap": null,
       "grid_row": null,
       "grid_template_areas": null,
       "grid_template_columns": null,
       "grid_template_rows": null,
       "height": null,
       "justify_content": null,
       "justify_items": null,
       "left": null,
       "margin": null,
       "max_height": null,
       "max_width": null,
       "min_height": null,
       "min_width": null,
       "object_fit": null,
       "object_position": null,
       "order": null,
       "overflow": null,
       "overflow_x": null,
       "overflow_y": null,
       "padding": null,
       "right": null,
       "top": null,
       "visibility": null,
       "width": null
      }
     },
     "9811042996f54a8580425e411f75acfd": {
      "model_module": "@jupyter-widgets/controls",
      "model_module_version": "1.5.0",
      "model_name": "ProgressStyleModel",
      "state": {
       "_model_module": "@jupyter-widgets/controls",
       "_model_module_version": "1.5.0",
       "_model_name": "ProgressStyleModel",
       "_view_count": null,
       "_view_module": "@jupyter-widgets/base",
       "_view_module_version": "1.2.0",
       "_view_name": "StyleView",
       "bar_color": null,
       "description_width": ""
      }
     },
     "999ae92fd97f4c84bb3b28f08983b703": {
      "model_module": "@jupyter-widgets/controls",
      "model_module_version": "1.5.0",
      "model_name": "DescriptionStyleModel",
      "state": {
       "_model_module": "@jupyter-widgets/controls",
       "_model_module_version": "1.5.0",
       "_model_name": "DescriptionStyleModel",
       "_view_count": null,
       "_view_module": "@jupyter-widgets/base",
       "_view_module_version": "1.2.0",
       "_view_name": "StyleView",
       "description_width": ""
      }
     },
     "9c94d7322fa94badac0b180e02f9c36a": {
      "model_module": "@jupyter-widgets/controls",
      "model_module_version": "1.5.0",
      "model_name": "FloatProgressModel",
      "state": {
       "_dom_classes": [],
       "_model_module": "@jupyter-widgets/controls",
       "_model_module_version": "1.5.0",
       "_model_name": "FloatProgressModel",
       "_view_count": null,
       "_view_module": "@jupyter-widgets/controls",
       "_view_module_version": "1.5.0",
       "_view_name": "ProgressView",
       "bar_style": "success",
       "description": "",
       "description_tooltip": null,
       "layout": "IPY_MODEL_1e13573571604654963c2165437d98cf",
       "max": 5,
       "min": 0,
       "orientation": "horizontal",
       "style": "IPY_MODEL_9811042996f54a8580425e411f75acfd",
       "value": 5
      }
     },
     "fd94d96e0e134c6bb161e02c13658ed1": {
      "model_module": "@jupyter-widgets/controls",
      "model_module_version": "1.5.0",
      "model_name": "HBoxModel",
      "state": {
       "_dom_classes": [],
       "_model_module": "@jupyter-widgets/controls",
       "_model_module_version": "1.5.0",
       "_model_name": "HBoxModel",
       "_view_count": null,
       "_view_module": "@jupyter-widgets/controls",
       "_view_module_version": "1.5.0",
       "_view_name": "HBoxView",
       "box_style": "",
       "children": [
        "IPY_MODEL_1d776ccf56aa4c38928bafa555e82354",
        "IPY_MODEL_9c94d7322fa94badac0b180e02f9c36a",
        "IPY_MODEL_34d9fe2298eb4088a3e4a602dee31432"
       ],
       "layout": "IPY_MODEL_0c46442a87b2466eb0755740a22f195d"
      }
     },
     "ff621905eb8f4b4090275bc293020c76": {
      "model_module": "@jupyter-widgets/base",
      "model_module_version": "1.2.0",
      "model_name": "LayoutModel",
      "state": {
       "_model_module": "@jupyter-widgets/base",
       "_model_module_version": "1.2.0",
       "_model_name": "LayoutModel",
       "_view_count": null,
       "_view_module": "@jupyter-widgets/base",
       "_view_module_version": "1.2.0",
       "_view_name": "LayoutView",
       "align_content": null,
       "align_items": null,
       "align_self": null,
       "border": null,
       "bottom": null,
       "display": null,
       "flex": null,
       "flex_flow": null,
       "grid_area": null,
       "grid_auto_columns": null,
       "grid_auto_flow": null,
       "grid_auto_rows": null,
       "grid_column": null,
       "grid_gap": null,
       "grid_row": null,
       "grid_template_areas": null,
       "grid_template_columns": null,
       "grid_template_rows": null,
       "height": null,
       "justify_content": null,
       "justify_items": null,
       "left": null,
       "margin": null,
       "max_height": null,
       "max_width": null,
       "min_height": null,
       "min_width": null,
       "object_fit": null,
       "object_position": null,
       "order": null,
       "overflow": null,
       "overflow_x": null,
       "overflow_y": null,
       "padding": null,
       "right": null,
       "top": null,
       "visibility": null,
       "width": null
      }
     }
    },
    "version_major": 2,
    "version_minor": 0
   }
  }
 },
 "nbformat": 4,
 "nbformat_minor": 5
}
